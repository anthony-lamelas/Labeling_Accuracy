{
 "cells": [
  {
   "cell_type": "code",
   "execution_count": null,
   "metadata": {},
   "outputs": [],
   "source": [
    "import pandas as pd\n",
    "import matplotlib.pyplot as plt"
   ]
  },
  {
   "cell_type": "code",
   "execution_count": null,
   "metadata": {},
   "outputs": [],
   "source": [
    "def dict_size(dict):\n",
    "    total_count = sum(len(values) for values in dict.values())\n",
    "    print(total_count)"
   ]
  },
  {
   "cell_type": "code",
   "execution_count": null,
   "metadata": {},
   "outputs": [],
   "source": [
    "def check_accuracy(csv_path, dict):\n",
    "\n",
    "    dict = {key.lower(): [vehicle.lower() for vehicle in vehicles] for key, vehicles in dict.items()}\n",
    "    data = pd.read_csv(csv_path, header=None, names=['file_path', 'label'])\n",
    "    data['label'] = data['label'].str.strip().str.lower()\n",
    "\n",
    "    count = 0\n",
    "    total = 0\n",
    "\n",
    "    for index, row in data.iterrows():\n",
    "\n",
    "        path_parts = row['file_path'].split('/')\n",
    "        if len(path_parts) > 2:\n",
    "            name = path_parts[-2].strip().lower()  \n",
    "\n",
    "            # Check if the label and vehicle name match in the dictionary\n",
    "            if row['label'] in dict and name in dict[row['label']]:\n",
    "                count += 1\n",
    "        total += 1\n",
    "\n",
    "    accuracy = count / total if total > 0 else 0\n",
    "    return round(accuracy * 100, 2)"
   ]
  },
  {
   "cell_type": "code",
   "execution_count": null,
   "metadata": {},
   "outputs": [],
   "source": [
    "def base_accuracy(csv_path):\n",
    "    vehicles = [\n",
    "   \"Auto Rickshaw\", \"Bike\", \"Car\", \"Motorcycle\", \"Plane\", \"Ship\", \"Train\"\n",
    "]\n",
    "\n",
    "    data = pd.read_csv(csv_path, header=None, names=['file_path', 'label'])\n",
    "\n",
    "    # Strip and convert labels to lowercase\n",
    "    data['label'] = data['label'].str.strip().str.lower()\n",
    "\n",
    "    count = 0\n",
    "    total = 0\n",
    "\n",
    "    for index, row in data.iterrows():\n",
    "\n",
    "        path_parts = row['file_path'].split('/')\n",
    "        if len(path_parts) > 2:\n",
    "            vehicle_name = path_parts[-2].strip().lower()  \n",
    "\n",
    "            # Check if the label and vehicle name match in the dictionary\n",
    "            if row['label'] == vehicle_name:\n",
    "                count += 1\n",
    "        total += 1\n",
    "\n",
    "    accuracy = count / total if total > 0 else 0\n",
    "    return round(accuracy * 100, 2)"
   ]
  },
  {
   "cell_type": "code",
   "execution_count": null,
   "metadata": {},
   "outputs": [],
   "source": [
    "print(base_accuracy(\"v7base.csv\"))"
   ]
  },
  {
   "cell_type": "markdown",
   "metadata": {},
   "source": [
    "# Air,land,ground"
   ]
  },
  {
   "cell_type": "code",
   "execution_count": null,
   "metadata": {},
   "outputs": [],
   "source": [
    "ALG_dict = {\"Air Vehicle\": [\"plane\"], \n",
    "               \"Land Vehicle\": [\"auto rickshaw\", \"bike\", \"car\", \"motorcycle\", \"train\"], \n",
    "               \"Water Vehicle\": [\"ship\"]}\n",
    "\n",
    "print(check_accuracy(\"ALG.csv\", ALG_dict))"
   ]
  },
  {
   "cell_type": "markdown",
   "metadata": {},
   "source": [
    "# Wheels or not"
   ]
  },
  {
   "cell_type": "code",
   "execution_count": null,
   "metadata": {},
   "outputs": [],
   "source": [
    "wheels_dict = {\"Vehicle with Wheels\" : [\"auto rickshaw\", \"bike\", \"car\", \"motorcycle\", \"train\", \"plane\"],\n",
    "               \"Vehicle without Wheels\" : [\"ship\"]}\n",
    "\n",
    "print(check_accuracy(\"wheels.csv\", wheels_dict))"
   ]
  },
  {
   "cell_type": "markdown",
   "metadata": {},
   "source": [
    "# Amount of Wheels"
   ]
  },
  {
   "cell_type": "code",
   "execution_count": null,
   "metadata": {},
   "outputs": [],
   "source": [
    "amount_wheels_dict = {\"Vehicle with 2 Wheels\" : [\"bike\", \"motorcycle\"],\n",
    "                      \"Vehicle with 3 Wheels\" : [\"auto rickshaw\"],\n",
    "                      \"Vehicle with 4 Wheels\" : [\"car\"],\n",
    "                      \"Vehicle with more than 4 Wheels\" : [\"train\", \"plane\"],\n",
    "                      \"Vehicle with 0 Wheels\" : [\"ship\"]}\n",
    "\n",
    "print(check_accuracy(\"amount_wheels.csv\", amount_wheels_dict))"
   ]
  },
  {
   "cell_type": "code",
   "execution_count": null,
   "metadata": {},
   "outputs": [],
   "source": [
    "category_counts = {\n",
    "    7: base_accuracy(\"v7base.csv\"),\n",
    "    3: check_accuracy(\"ALG.csv\", ALG_dict),\n",
    "    2: check_accuracy(\"wheels.csv\", wheels_dict)\n",
    "}\n",
    "\n",
    "amount_categories = []\n",
    "accuracies = []"
   ]
  },
  {
   "cell_type": "code",
   "execution_count": null,
   "metadata": {},
   "outputs": [],
   "source": [
    "#Calculate accuracy for each category count\n",
    "for count, accuracy in category_counts.items():\n",
    "\n",
    "        if isinstance(accuracy, list):\n",
    "                for each in accuracy:\n",
    "                    amount_categories.append(count)\n",
    "                    accuracies.append(each)\n",
    "        else:\n",
    "                amount_categories.append(count)\n",
    "                accuracies.append(accuracy)"
   ]
  },
  {
   "cell_type": "code",
   "execution_count": null,
   "metadata": {},
   "outputs": [],
   "source": [
    "plt.figure(figsize=(10, 6))\n",
    "plt.plot(amount_categories, accuracies, marker='o', linestyle='None', color='blue')\n",
    "plt.xlabel('Number of Categories')\n",
    "plt.ylabel('Accuracy (%)')\n",
    "plt.title('Accuracy vs. Number of Categories')\n",
    "plt.grid()\n",
    "plt.show()"
   ]
  }
 ],
 "metadata": {
  "kernelspec": {
   "display_name": "NBAML",
   "language": "python",
   "name": "python3"
  },
  "language_info": {
   "name": "python",
   "version": "3.10.13"
  }
 },
 "nbformat": 4,
 "nbformat_minor": 2
}
