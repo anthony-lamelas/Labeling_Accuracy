{
 "cells": [
  {
   "cell_type": "code",
   "execution_count": 1,
   "metadata": {},
   "outputs": [],
   "source": [
    "import pandas as pd\n",
    "import matplotlib.pyplot as plt"
   ]
  },
  {
   "cell_type": "code",
   "execution_count": 2,
   "metadata": {},
   "outputs": [],
   "source": [
    "def dict_size(dict):\n",
    "    total_count = sum(len(values) for values in dict.values())\n",
    "    print(total_count)"
   ]
  },
  {
   "cell_type": "code",
   "execution_count": 3,
   "metadata": {},
   "outputs": [],
   "source": [
    "def base_accuracy(csv_path):\n",
    "    bases = [ \"Bikes\", \"Ships\", \"Cars\", \"Motorcycles\", \"Planes\", \n",
    "                \"Trains\", \"Auto Rickshaws\" ]\n",
    "\n",
    "    data = pd.read_csv(csv_path, header=None, names=['file_path', 'label'])\n",
    "\n",
    "    # Strip and convert labels to lowercase\n",
    "    data['label'] = data['label'].str.strip().str.lower()\n",
    "\n",
    "    count = 0\n",
    "    total = 0\n",
    "\n",
    "    for index, row in data.iterrows():\n",
    "\n",
    "        path_parts = row['file_path'].split('/')\n",
    "        if len(path_parts) > 2:\n",
    "            vehicle_name = path_parts[-2].strip().lower()  \n",
    "\n",
    "            # Check if the label and vehicle name match in the dictionary\n",
    "            if row['label'] in vehicle_name:\n",
    "                count += 1\n",
    "        total += 1\n",
    "\n",
    "    accuracy = count / total if total > 0 else 0\n",
    "    return round(accuracy * 100, 2)"
   ]
  },
  {
   "cell_type": "code",
   "execution_count": 4,
   "metadata": {},
   "outputs": [],
   "source": [
    "def check_accuracy(csv_path, dictionary):\n",
    "    # Normalize the dictionary\n",
    "    normalized_dict = {key.lower(): [value.lower() for value in values] for key, values in dictionary.items()}\n",
    "\n",
    "    \n",
    "    # Read the CSV file and normalize labels\n",
    "    data = pd.read_csv(csv_path, header=None, names=['file_path', 'label'])\n",
    "    data['label'] = data['label'].str.strip().str.lower()\n",
    "\n",
    "    count = 0\n",
    "    total = 0\n",
    "\n",
    "    # Check accuracy\n",
    "    for _, row in data.iterrows():\n",
    "        path_parts = row['file_path'].split('/')\n",
    "\n",
    "        if len(path_parts) > 2:\n",
    "            name = path_parts[-2].strip().lower()  # Extract folder name\n",
    "            \n",
    "            if row['label'] in normalized_dict.get(name, []):\n",
    "                count += 1\n",
    "        total += 1\n",
    "\n",
    "    accuracy = count / total if total > 0 else 0\n",
    "    return round(accuracy * 100, 2)\n"
   ]
  },
  {
   "cell_type": "code",
   "execution_count": 5,
   "metadata": {},
   "outputs": [
    {
     "name": "stdout",
     "output_type": "stream",
     "text": [
      "7\n",
      "96.73\n"
     ]
    }
   ],
   "source": [
    "dict_7 = {\n",
    "    \"Bikes\": [\"Bike\"],\n",
    "    \"Cars\" : [\"Car\"],\n",
    "    \"Motorcycles\": [\"Motorcycle\"],\n",
    "    \"Planes\": [\"Airplane\"],\n",
    "    \"Ships\": [\"Ship\"],\n",
    "    \"Trains\": [\"Train\"],\n",
    "    \"Auto Rickshaws\": [\"Auto Rickshaw\"],\n",
    "}\n",
    "\n",
    "\n",
    "# Bikes, Cars, Motorcycles, Planes, Ships, Trains, Auto Rickshaws\n",
    "\n",
    "dict_size(dict_7)\n",
    "print(base_accuracy(\"v7base.csv\"))"
   ]
  },
  {
   "cell_type": "code",
   "execution_count": 6,
   "metadata": {},
   "outputs": [
    {
     "name": "stdout",
     "output_type": "stream",
     "text": [
      "14\n",
      "84.45\n"
     ]
    }
   ],
   "source": [
    "dict_14 = {\n",
    "    \"Bikes\": [\"Bike\", \"Picture of Bike\"],\n",
    "    \"Cars\": [\"Car\", \"Picture of Car\"],\n",
    "    \"Motorcycles\": [\"Motorcycle\", \"Picture of Motorcycle\"],\n",
    "    \"Planes\": [\"Airplane\", \"Picture of Airplane\"],\n",
    "    \"Ships\": [\"Ship\", \"Picture of Ship\"],\n",
    "    \"Trains\": [\"Train\", \"Picture of Train\"],\n",
    "    \"Auto Rickshaws\": [\"Auto Rickshaw\", \"Picture of Auto Rickshaw\"],\n",
    "}\n",
    "\n",
    "# Bikes, Picture of Bike, Cars, Picture of Car, Motorcycles, Picture of Motorcycle, Planes, Picture of Airplane, Ships, Picture of Ship, Trains, Picture of Train, Auto Rickshaws, Picture of Auto Rickshaw\n",
    "\n",
    "dict_size(dict_14)\n",
    "print(check_accuracy(\"v14base.csv\", dict_14))\n"
   ]
  },
  {
   "cell_type": "code",
   "execution_count": 7,
   "metadata": {},
   "outputs": [
    {
     "name": "stdout",
     "output_type": "stream",
     "text": [
      "21\n",
      "88.35\n"
     ]
    }
   ],
   "source": [
    "dict_21 = {\n",
    "    \"Bikes\": [\"Bike\", \"Picture of Bike\", \"Image of Bike\"],\n",
    "    \"Cars\": [\"Car\", \"Picture of Car\", \"Image of Car\"],\n",
    "    \"Motorcycles\": [\"Motorcycle\", \"Picture of Motorcycle\", \"Image of Motorcycle\"],\n",
    "    \"Planes\": [\"Airplane\", \"Picture of Airplane\", \"Image of Airplane\"],\n",
    "    \"Ships\": [\"Ship\", \"Picture of Ship\", \"Image of Ship\"],\n",
    "    \"Trains\": [\"Train\", \"Picture of Train\", \"Image of Train\"],\n",
    "    \"Auto Rickshaws\": [\"Auto Rickshaw\", \"Picture of Auto Rickshaw\", \"Image of Auto Rickshaw\"],\n",
    "}\n",
    "\n",
    "# Bikes, Picture of Bike, Image of Bike, Cars, Picture of Car, Image of Car, Motorcycles, Picture of Motorcycle, Image of Motorcycle, Planes, Picture of Airplane, Image of Airplane, Ships, Picture of Ship, Image of Ship, Trains, Picture of Train, Image of Train, Auto Rickshaws, Picture of Auto Rickshaw, Image of Auto Rickshaw\n",
    "\n",
    "dict_size(dict_21)\n",
    "print(check_accuracy(\"v21base.csv\", dict_21))\n"
   ]
  },
  {
   "cell_type": "code",
   "execution_count": 8,
   "metadata": {},
   "outputs": [
    {
     "name": "stdout",
     "output_type": "stream",
     "text": [
      "42\n",
      "93.47\n"
     ]
    }
   ],
   "source": [
    "dict_42 = {\n",
    "    \"Bikes\": [\"Bike\", \"Picture of Bike\", \"Image of Bike\", \"Mountain Bike\", \"Road Bike\", \"Bikes\"],\n",
    "    \"Cars\": [\"Car\", \"Picture of Car\", \"Image of Car\", \"Electric Car\", \"Luxury Car\", \"Cars\"],\n",
    "    \"Motorcycles\": [\"Motorcycle\", \"Picture of Motorcycle\", \"Image of Motorcycle\", \"Sports Motorcycle\", \"Touring Motorcycle\", \"Motorcycles\"],\n",
    "    \"Planes\": [\"Airplane\", \"Picture of Airplane\", \"Image of Airplane\", \"Private Jet\", \"Helicopter\", \"Planes\"],\n",
    "    \"Ships\": [\"Ship\", \"Picture of Ship\", \"Image of Ship\", \"Cargo Ship\", \"Cruise Ship\", \"Ships\"],\n",
    "    \"Trains\": [\"Train\", \"Picture of Train\", \"Image of Train\", \"Passenger Train\", \"Freight Train\", \"Trains\"],\n",
    "    \"Auto Rickshaws\": [\"Auto Rickshaw\", \"Picture of Auto Rickshaw\", \"Image of Auto Rickshaw\", \"Electric Rickshaw\", \"Luxury Rickshaw\", \"Auto Rickshaws\"],\n",
    "}\n",
    "\n",
    "# Bikes, Picture of Bike, Image of Bike, Mountain Bike, Road Bike, Bikes, Cars, Picture of Car, Image of Car, Electric Car, Luxury Car, Cars, Motorcycles, Picture of Motorcycle, Image of Motorcycle, Sports Motorcycle, Touring Motorcycle, Motorcycles, Planes, Picture of Airplane, Image of Airplane, Private Jet, Helicopter, Planes, Ships, Picture of Ship, Image of Ship, Cargo Ship, Cruise Ship, Ships, Trains, Picture of Train, Image of Train, Passenger Train, Freight Train, Trains, Auto Rickshaws, Picture of Auto Rickshaw, Image of Auto Rickshaw, Electric Rickshaw, Luxury Rickshaw, Auto Rickshaws\n",
    "\n",
    "dict_size(dict_42)\n",
    "print(check_accuracy(\"v42base.csv\", dict_42))\n"
   ]
  },
  {
   "cell_type": "code",
   "execution_count": 9,
   "metadata": {},
   "outputs": [
    {
     "name": "stdout",
     "output_type": "stream",
     "text": [
      "49\n"
     ]
    },
    {
     "data": {
      "text/plain": [
       "93.5"
      ]
     },
     "execution_count": 9,
     "metadata": {},
     "output_type": "execute_result"
    }
   ],
   "source": [
    "dict_49 = {\n",
    "    \"Bikes\": [\"Bike\", \"Picture of Bike\", \"Image of Bike\", \"Mountain Bike\", \"Road Bike\", \"Bikes\", \"Human Bike\"],\n",
    "    \"Cars\": [\"Car\", \"Picture of Car\", \"Image of Car\", \"Electric Car\", \"Luxury Car\", \"Cars\", \"Human Car\"],\n",
    "    \"Motorcycles\": [\"Motorcycle\", \"Picture of Motorcycle\", \"Image of Motorcycle\", \"Sports Motorcycle\", \"Touring Motorcycle\", \"Motorcycles\", \"Human Motorcycle\"],\n",
    "    \"Planes\": [\"Airplane\", \"Picture of Airplane\", \"Image of Airplane\", \"Private Jet\", \"Helicopter\", \"Planes\", \"Human Plane\"],\n",
    "    \"Ships\": [\"Ship\", \"Picture of Ship\", \"Image of Ship\", \"Cargo Ship\", \"Cruise Ship\", \"Ships\", \"Human Ship\"],\n",
    "    \"Trains\": [\"Train\", \"Picture of Train\", \"Image of Train\", \"Passenger Train\", \"Freight Train\", \"Trains\", \"Human Train\"],\n",
    "    \"Auto Rickshaws\": [\"Auto Rickshaw\", \"Picture of Auto Rickshaw\", \"Image of Auto Rickshaw\", \"Electric Rickshaw\", \"Luxury Rickshaw\", \"Auto Rickshaws\", \"Human Auto Rickshaw\"],\n",
    "}\n",
    "\n",
    "# Bikes, Picture of Bike, Image of Bike, Mountain Bike, Road Bike, Bikes, Human Bike, Cars, Picture of Car, Image of Car, Electric Car, Luxury Car, Cars, Human Car, Motorcycles, Picture of Motorcycle, Image of Motorcycle, Sports Motorcycle, Touring Motorcycle, Motorcycles, Human Motorcycle, Planes, Picture of Airplane, Image of Airplane, Private Jet, Helicopter, Planes, Human Plane, Ships, Picture of Ship, Image of Ship, Cargo Ship, Cruise Ship, Ships, Human Ship, Trains, Picture of Train, Image of Train, Passenger Train, Freight Train, Trains, Human Train, Auto Rickshaws, Picture of Auto Rickshaw, Image of Auto Rickshaw, Electric Rickshaw, Luxury Rickshaw, Auto Rickshaws, Human Auto Rickshaw\n",
    "\n",
    "dict_size(dict_49)\n",
    "check_accuracy(\"v49base.csv\", dict_49)\n"
   ]
  },
  {
   "cell_type": "code",
   "execution_count": 10,
   "metadata": {},
   "outputs": [
    {
     "name": "stdout",
     "output_type": "stream",
     "text": [
      "56\n",
      "95.17\n"
     ]
    }
   ],
   "source": [
    "dict_56 = {\n",
    "    \"Bikes\": [\"Bike\", \"Picture of Bike\", \"Image of Bike\", \"Mountain Bike\", \"Road Bike\", \"Bikes\", \"Human Bike\", \"Bike that Transports\"],\n",
    "    \"Cars\": [\"Car\", \"Picture of Car\", \"Image of Car\", \"Electric Car\", \"Luxury Car\", \"Cars\", \"Human Car\", \"Car that Transports\"],\n",
    "    \"Motorcycles\": [\"Motorcycle\", \"Picture of Motorcycle\", \"Image of Motorcycle\", \"Sports Motorcycle\", \"Touring Motorcycle\", \"Motorcycles\", \"Human Motorcycle\", \"Motorcycle that Transports\"],\n",
    "    \"Planes\": [\"Airplane\", \"Picture of Airplane\", \"Image of Airplane\", \"Private Jet\", \"Helicopter\", \"Planes\", \"Human Plane\", \"Plane that Transports\"],\n",
    "    \"Ships\": [\"Ship\", \"Picture of Ship\", \"Image of Ship\", \"Cargo Ship\", \"Cruise Ship\", \"Ships\", \"Human Ship\", \"Ship that Transports\"],\n",
    "    \"Trains\": [\"Train\", \"Picture of Train\", \"Image of Train\", \"Passenger Train\", \"Freight Train\", \"Trains\", \"Human Train\", \"Train that Transports\"],\n",
    "    \"Auto Rickshaws\": [\"Auto Rickshaw\", \"Picture of Auto Rickshaw\", \"Image of Auto Rickshaw\", \"Electric Rickshaw\", \"Luxury Rickshaw\", \"Auto Rickshaws\", \"Human Auto Rickshaw\", \"Auto Rickshaw that Transports\"],\n",
    "}\n",
    "\n",
    "# Bikes, Picture of Bike, Image of Bike, Mountain Bike, Road Bike, Bikes, Human Bike, Bike that Transports, Cars, Picture of Car, Image of Car, Electric Car, Luxury Car, Cars, Human Car, Car that Transports, Motorcycles, Picture of Motorcycle, Image of Motorcycle, Sports Motorcycle, Touring Motorcycle, Motorcycles, Human Motorcycle, Motorcycle that Transports, Planes, Picture of Airplane, Image of Airplane, Private Jet, Helicopter, Planes, Human Plane, Plane that Transports, Ships, Picture of Ship, Image of Ship, Cargo Ship, Cruise Ship, Ships, Human Ship, Ship that Transports, Trains, Picture of Train, Image of Train, Passenger Train, Freight Train, Trains, Human Train, Train that Transports, Auto Rickshaws, Picture of Auto Rickshaw, Image of Auto Rickshaw, Electric Rickshaw, Luxury Rickshaw, Auto Rickshaws, Human Auto Rickshaw, Auto Rickshaw that Transports\n",
    "\n",
    "dict_size(dict_56)\n",
    "print(check_accuracy(\"v56base.csv\", dict_56))\n"
   ]
  },
  {
   "cell_type": "code",
   "execution_count": 11,
   "metadata": {},
   "outputs": [
    {
     "name": "stdout",
     "output_type": "stream",
     "text": [
      "63\n",
      "93.74\n"
     ]
    }
   ],
   "source": [
    "dict_63 = {\n",
    "    \"Bikes\": [\n",
    "        \"Bike\", \"Picture of Bike\", \"Image of Bike\", \"Mountain Bike\", \"Road Bike\", \"Bikes\",\n",
    "        \"Human Bike\", \"Bike that Transports\", \"Manual Bike\", \n",
    "    ],\n",
    "    \"Cars\": [\n",
    "        \"Car\", \"Picture of Car\", \"Image of Car\", \"Electric Car\", \"Luxury Car\", \"Cars\",\n",
    "        \"Human Car\", \"Car that Transports\", \"Classic Car\", \n",
    "    ],\n",
    "    \"Motorcycles\": [\n",
    "        \"Motorcycle\", \"Picture of Motorcycle\", \"Image of Motorcycle\", \"Sports Motorcycle\",\n",
    "        \"Touring Motorcycle\", \"Motorcycles\", \"Human Motorcycle\", \"Motorcycle that Transports\",\n",
    "        \"Cruising Motorcycle\", \n",
    "    ],\n",
    "    \"Planes\": [\n",
    "        \"Airplane\", \"Picture of Airplane\", \"Image of Airplane\", \"Private Jet\", \"Moving Plane\", \"Planes\",\n",
    "        \"Human Plane\", \"Plane that Transports\", \"Flying Plane\", \n",
    "    ],\n",
    "    \"Ships\": [\n",
    "        \"Ship\", \"Picture of Ship\", \"Image of Ship\", \"Cargo Ship\", \"Cruise Ship\", \"Ships\",\n",
    "        \"Human Ship\", \"Ship that Transports\", \"Sailing Ship\", \n",
    "    ],\n",
    "    \"Trains\": [\n",
    "        \"Train\", \"Picture of Train\", \"Image of Train\", \"Passenger Train\", \"Freight Train\", \"Trains\",\n",
    "        \"Human Train\", \"Train that Transports\", \"Locomotive Train\", \n",
    "    ],\n",
    "    \"Auto Rickshaws\": [\n",
    "        \"Auto Rickshaw\", \"Picture of Auto Rickshaw\", \"Image of Auto Rickshaw\", \"Electric Rickshaw\",\n",
    "        \"Luxury Rickshaw\", \"Auto Rickshaws\", \"Human Auto Rickshaw\", \"Auto Rickshaw that Transports\",\n",
    "        \"Motorized Auto Rickshaw\", \n",
    "    ],\n",
    "}\n",
    "\n",
    "# Bikes, Picture of Bike, Image of Bike, Mountain Bike, Road Bike, Bikes, Human Bike, Bike that Transports, Manual Bike, Cars, Picture of Car, Image of Car, Electric Car, Luxury Car, Cars, Human Car, Car that Transports, Classic Car,  Motorcycles, Picture of Motorcycle, Image of Motorcycle, Sports Motorcycle, Touring Motorcycle, Motorcycles, Human Motorcycle, Motorcycle that Transports, Cruising Motorcycle, Planes, Picture of Airplane, Image of Airplane, Private Jet, Moving Plane, Planes, Human Plane, Plane that Transports, Flying Plane, Air Plane, Ships, Picture of Ship, Image of Ship, Cargo Ship, Cruise Ship, Ships, Human Ship, Ship that Transports, Sailing Ship, Trains, Picture of Train, Image of Train, Passenger Train, Freight Train, Trains, Human Train, Train that Transports, Locomotive Train,  Auto Rickshaws, Picture of Auto Rickshaw, Image of Auto Rickshaw, Electric Rickshaw, Luxury Rickshaw, Auto Rickshaws, Human Auto Rickshaw, Auto Rickshaw that Transports, Motorized Auto Rickshaw\n",
    "\n",
    "dict_size(dict_63)\n",
    "print(check_accuracy(\"v63base.csv\", dict_63))\n"
   ]
  },
  {
   "cell_type": "code",
   "execution_count": 12,
   "metadata": {},
   "outputs": [
    {
     "name": "stdout",
     "output_type": "stream",
     "text": [
      "70\n",
      "95.08\n"
     ]
    }
   ],
   "source": [
    "dict_70 = {\n",
    "    \"Bikes\": [\n",
    "        \"Bike\", \"Picture of Bike\", \"Image of Bike\", \"Mountain Bike\", \"Road Bike\", \"Bikes\",\n",
    "        \"Human Bike\", \"Bike that Transports\", \"Manual Bike\", \"Moving Bike\"\n",
    "    ],\n",
    "    \"Cars\": [\n",
    "        \"Car\", \"Picture of Car\", \"Image of Car\", \"Electric Car\", \"Luxury Car\", \"Cars\",\n",
    "        \"Human Car\", \"Car that Transports\", \"Classic Car\", \"Moving Car\"\n",
    "    ],\n",
    "    \"Motorcycles\": [\n",
    "        \"Motorcycle\", \"Picture of Motorcycle\", \"Image of Motorcycle\", \"Sports Motorcycle\",\n",
    "        \"Touring Motorcycle\", \"Motorcycles\", \"Human Motorcycle\", \"Motorcycle that Transports\",\n",
    "        \"Cruising Motorcycle\", \"Moving Motorcycle\"\n",
    "    ],\n",
    "    \"Planes\": [\n",
    "        \"Airplane\", \"Picture of Airplane\", \"Image of Airplane\", \"Private Jet\", \"Moving Plane\", \"Planes\",\n",
    "        \"Human Plane\", \"Plane that Transports\", \"Flying Plane\", \"Air Plane\"\n",
    "    ],\n",
    "    \"Ships\": [\n",
    "        \"Ship\", \"Picture of Ship\", \"Image of Ship\", \"Cargo Ship\", \"Cruise Ship\", \"Ships\",\n",
    "        \"Human Ship\", \"Ship that Transports\", \"Sailing Ship\", \"Moving Ship\"\n",
    "    ],\n",
    "    \"Trains\": [\n",
    "        \"Train\", \"Picture of Train\", \"Image of Train\", \"Passenger Train\", \"Freight Train\", \"Trains\",\n",
    "        \"Human Train\", \"Train that Transports\", \"Locomotive Train\", \"Moving Train\"\n",
    "    ],\n",
    "    \"Auto Rickshaws\": [\n",
    "        \"Auto Rickshaw\", \"Picture of Auto Rickshaw\", \"Image of Auto Rickshaw\", \"Electric Rickshaw\",\n",
    "        \"Luxury Rickshaw\", \"Auto Rickshaws\", \"Human Auto Rickshaw\", \"Auto Rickshaw that Transports\",\n",
    "        \"Motorized Auto Rickshaw\", \"Moving Auto Rickshaw\"\n",
    "    ],\n",
    "}\n",
    "\n",
    "# Bikes, Picture of Bike, Image of Bike, Mountain Bike, Road Bike, Bikes, Human Bike, Bike that Transports, Manual Bike, Moving Bike, Cars, Picture of Car, Image of Car, Electric Car, Luxury Car, Cars, Human Car, Car that Transports, Classic Car, Moving Car, Motorcycles, Picture of Motorcycle, Image of Motorcycle, Sports Motorcycle, Touring Motorcycle, Motorcycles, Human Motorcycle, Motorcycle that Transports, Cruising Motorcycle, Moving Motorcycle, Planes, Picture of Airplane, Image of Airplane, Private Jet, Moving Plane, Planes, Human Plane, Plane that Transports, Flying Plane, Air Plane, Ships, Picture of Ship, Image of Ship, Cargo Ship, Cruise Ship, Ships, Human Ship, Ship that Transports, Sailing Ship, Moving Ship, Trains, Picture of Train, Image of Train, Passenger Train, Freight Train, Trains, Human Train, Train that Transports, Locomotive Train, Moving Train, Auto Rickshaws, Picture of Auto Rickshaw, Image of Auto Rickshaw, Electric Rickshaw, Luxury Rickshaw, Auto Rickshaws, Human Auto Rickshaw, Auto Rickshaw that Transports, Motorized Auto Rickshaw, Moving Auto Rickshaw\n",
    "\n",
    "dict_size(dict_70)\n",
    "print(check_accuracy(\"v70base.csv\", dict_70))\n"
   ]
  },
  {
   "cell_type": "markdown",
   "metadata": {},
   "source": [
    "# Graphing"
   ]
  },
  {
   "cell_type": "code",
   "execution_count": 13,
   "metadata": {},
   "outputs": [
    {
     "name": "stdout",
     "output_type": "stream",
     "text": [
      "8 8\n"
     ]
    }
   ],
   "source": [
    "category_counts = {\n",
    "       7: [base_accuracy(\"v7base.csv\")],\n",
    "       14: [check_accuracy(\"v14base.csv\", dict_14)],\n",
    "        21: [check_accuracy(\"v21base.csv\", dict_21)],\n",
    "        42: [check_accuracy(\"v42base.csv\", dict_42)],\n",
    "        49: [check_accuracy(\"v49base.csv\", dict_49)],\n",
    "        56: [check_accuracy(\"v56base.csv\", dict_56)],\n",
    "        63: [check_accuracy(\"v63base.csv\", dict_63)],\n",
    "        70: [check_accuracy(\"v70base.csv\", dict_70)]\n",
    "}\n",
    "\n",
    "amount_categories = []\n",
    "accuracies = []\n",
    "\n",
    "#Calculate accuracy for each category count\n",
    "for count, accuracy in category_counts.items():\n",
    "\n",
    "        if isinstance(accuracy, list):\n",
    "                for each in accuracy:\n",
    "                    amount_categories.append(count)\n",
    "                    accuracies.append(each)\n",
    "        else:\n",
    "                amount_categories.append(count)\n",
    "                accuracies.append(accuracy)\n",
    "\n",
    "print(len(amount_categories), len(accuracies))\n",
    "        "
   ]
  },
  {
   "cell_type": "code",
   "execution_count": 14,
   "metadata": {},
   "outputs": [
    {
     "data": {
      "image/png": "[encoded data removed]",
      "text/plain": [
       "<Figure size 1000x600 with 1 Axes>"
      ]
     },
     "metadata": {},
     "output_type": "display_data"
    }
   ],
   "source": [
    "plt.figure(figsize=(10, 6))\n",
    "plt.plot(amount_categories, accuracies, marker='o', linestyle='None', color='blue')\n",
    "plt.xlabel('Number of Categories')\n",
    "plt.ylabel('Accuracy (%)')\n",
    "plt.title('Accuracy vs. Number of Categories')\n",
    "plt.grid()\n",
    "plt.show()"
   ]
  }
 ],
 "metadata": {
  "kernelspec": {
   "display_name": ".venv",
   "language": "python",
   "name": "python3"
  },
  "language_info": {
   "codemirror_mode": {
    "name": "ipython",
    "version": 3
   },
   "file_extension": ".py",
   "mimetype": "text/x-python",
   "name": "python",
   "nbconvert_exporter": "python",
   "pygments_lexer": "ipython3",
   "version": "3.12.3"
  }
 },
 "nbformat": 4,
 "nbformat_minor": 2
}
