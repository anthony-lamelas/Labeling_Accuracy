{
 "cells": [
  {
   "cell_type": "code",
   "execution_count": 2,
   "metadata": {},
   "outputs": [],
   "source": [
    "#pip install pandas"
   ]
  },
  {
   "cell_type": "code",
   "execution_count": 3,
   "metadata": {},
   "outputs": [],
   "source": [
    "#pip install matplotlib"
   ]
  },
  {
   "cell_type": "code",
   "execution_count": 4,
   "metadata": {},
   "outputs": [],
   "source": [
    "import pandas as pd\n",
    "import matplotlib.pyplot as plt"
   ]
  },
  {
   "cell_type": "markdown",
   "metadata": {},
   "source": [
    "## Functions"
   ]
  },
  {
   "cell_type": "code",
   "execution_count": 5,
   "metadata": {},
   "outputs": [],
   "source": [
    "def dict_size(dict):\n",
    "    total_count = sum(len(values) for values in dict.values())\n",
    "    print(total_count)"
   ]
  },
  {
   "cell_type": "code",
   "execution_count": null,
   "metadata": {},
   "outputs": [],
   "source": [
    "\n",
    "def check_accuracy(csv_path, animals_dict):\n",
    "\n",
    "    animals_dict = {key.lower(): [animal.lower() for animal in animals] for key, animals in animals_dict.items()}\n",
    "    data = pd.read_csv(csv_path, header=None, names=[file_path, label])\n",
    "    data['label'] = data['label'].str.strip().str.lower()\n",
    "\n",
    "    count = 0\n",
    "    total = 0\n",
    "\n",
    "    for index, row in data.iterrows():\n",
    "\n",
    "        path_parts = row['file_path'].split('/')\n",
    "        if len(path_parts) > 2:\n",
    "            animal_name = path_parts[-2].strip().lower()  \n",
    "\n",
    "            # Check if the label and animal name match in the dictionary\n",
    "            if row['label'] in animals_dict and animal_name in animals_dict[row['label']]:\n",
    "                count += 1\n",
    "        total += 1\n",
    "\n",
    "    accuracy = count / total if total > 0 else 0\n",
    "    return round(accuracy * 100, 2)"
   ]
  },
  {
   "cell_type": "code",
   "execution_count": null,
   "metadata": {},
   "outputs": [
    {
     "name": "stdout",
     "output_type": "stream",
     "text": [
      "80\n",
      "dict_keys(['Bear', 'Brown Bear', 'Bull', 'Butterfly', 'Camel', 'Canary', 'Caterpillar', 'Cattle', 'Centipede', 'Cheetah', 'Chicken', 'Crab', 'Crocodile', 'Deer', 'Duck', 'Eagle', 'Elephant', 'Fish', 'Fox', 'Frog', 'Giraffe', 'Goat', 'Goldfish', 'Goose', 'Hamster', 'Harbor Seal', 'Hedgehog', 'Hippopotamus', 'Horse', 'Jaguar', 'Jellyfish', 'Kangaroo', 'Koala', 'Ladybug', 'Leopard', 'Lion', 'Lizard', 'Lynx', 'Magpie', 'Monkey', 'Moths and butterflies', 'Mouse', 'Mule', 'Ostrich', 'Otter', 'Owl', 'Panda', 'Parrot', 'Penguin', 'Pig', 'Polar Bear', 'Rabbit', 'Raccoon', 'Raven', 'Red panda', 'Rhinoceros', 'Scorpion', 'Seahorse', 'Sea Lion', 'Sea Turtle', 'Shark', 'Sheep', 'Shrimp', 'Snail', 'Snake', 'Sparrow', 'Spider', 'Squid', 'Squirrel', 'Starfish', 'Swan', 'Tick', 'Tiger', 'Tortoise', 'Turkey', 'Turtle', 'Whale', 'Woodpecker', 'Worm', 'Zebra'])\n",
      "77.35\n"
     ]
    }
   ],
   "source": [
    "a80 = {\n",
    "    \"Bear\": [\"Bear\"],\n",
    "    \"Brown Bear\": [\"Brown Bear\"],\n",
    "    \"Bull\": [\"Bull\"],\n",
    "    \"Butterfly\": [\"Butterfly\"],\n",
    "    \"Camel\": [\"Camel\"],\n",
    "    \"Canary\": [\"Canary\"],\n",
    "    \"Caterpillar\": [\"Caterpillar\"],\n",
    "    \"Cattle\": [\"Cattle\"],\n",
    "    \"Centipede\": [\"Centipede\"],\n",
    "    \"Cheetah\": [\"Cheetah\"],\n",
    "    \"Chicken\": [\"Chicken\"],\n",
    "    \"Crab\": [\"Crab\"],\n",
    "    \"Crocodile\": [\"Crocodile\"],\n",
    "    \"Deer\": [\"Deer\"],\n",
    "    \"Duck\": [\"Duck\"],\n",
    "    \"Eagle\": [\"Eagle\"],\n",
    "    \"Elephant\": [\"Elephant\"],\n",
    "    \"Fish\": [\"Fish\"],\n",
    "    \"Fox\": [\"Fox\"],\n",
    "    \"Frog\": [\"Frog\"],\n",
    "    \"Giraffe\": [\"Giraffe\"],\n",
    "    \"Goat\": [\"Goat\"],\n",
    "    \"Goldfish\": [\"Goldfish\"],\n",
    "    \"Goose\": [\"Goose\"],\n",
    "    \"Hamster\": [\"Hamster\"],\n",
    "    \"Harbor Seal\": [\"Harbor Seal\"],\n",
    "    \"Hedgehog\": [\"Hedgehog\"],\n",
    "    \"Hippopotamus\": [\"Hippopotamus\"],\n",
    "    \"Horse\": [\"Horse\"],\n",
    "    \"Jaguar\": [\"Jaguar\"],\n",
    "    \"Jellyfish\": [\"Jellyfish\"],\n",
    "    \"Kangaroo\": [\"Kangaroo\"],\n",
    "    \"Koala\": [\"Koala\"],\n",
    "    \"Ladybug\": [\"Ladybug\"],\n",
    "    \"Leopard\": [\"Leopard\"],\n",
    "    \"Lion\": [\"Lion\"],\n",
    "    \"Lizard\": [\"Lizard\"],\n",
    "    \"Lynx\": [\"Lynx\"],\n",
    "    \"Magpie\": [\"Magpie\"],\n",
    "    \"Monkey\": [\"Monkey\"],\n",
    "    \"Moths and butterflies\": [\"Moths and butterflies\"],\n",
    "    \"Mouse\": [\"Mouse\"],\n",
    "    \"Mule\": [\"Mule\"],\n",
    "    \"Ostrich\": [\"Ostrich\"],\n",
    "    \"Otter\": [\"Otter\"],\n",
    "    \"Owl\": [\"Owl\"],\n",
    "    \"Panda\": [\"Panda\"],\n",
    "    \"Parrot\": [\"Parrot\"],\n",
    "    \"Penguin\": [\"Penguin\"],\n",
    "    \"Pig\": [\"Pig\"],\n",
    "    \"Polar Bear\": [\"Polar Bear\"],\n",
    "    \"Rabbit\": [\"Rabbit\"],\n",
    "    \"Raccoon\": [\"Raccoon\"],\n",
    "    \"Raven\": [\"Raven\"],\n",
    "    \"Red panda\": [\"Red panda\"],\n",
    "    \"Rhinoceros\": [\"Rhinoceros\"],\n",
    "    \"Scorpion\": [\"Scorpion\"],\n",
    "    \"Seahorse\": [\"Seahorse\"],\n",
    "    \"Sea Lion\": [\"Sea Lion\"],\n",
    "    \"Sea Turtle\": [\"Sea Turtle\"],\n",
    "    \"Shark\": [\"Shark\"],\n",
    "    \"Sheep\": [\"Sheep\"],\n",
    "    \"Shrimp\": [\"Shrimp\"],\n",
    "    \"Snail\": [\"Snail\"],\n",
    "    \"Snake\": [\"Snake\"],\n",
    "    \"Sparrow\": [\"Sparrow\"],\n",
    "    \"Spider\": [\"Spider\"],\n",
    "    \"Squid\": [\"Squid\"],\n",
    "    \"Squirrel\": [\"Squirrel\"],\n",
    "    \"Starfish\": [\"Starfish\"],\n",
    "    \"Swan\": [\"Swan\"],\n",
    "    \"Tick\": [\"Tick\"],\n",
    "    \"Tiger\": [\"Tiger\"],\n",
    "    \"Tortoise\": [\"Tortoise\"],\n",
    "    \"Turkey\": [\"Turkey\"],\n",
    "    \"Turtle\": [\"Turtle\"],\n",
    "    \"Whale\": [\"Whale\"],\n",
    "    \"Woodpecker\": [\"Woodpecker\"],\n",
    "    \"Worm\": [\"Worm\"],\n",
    "    \"Zebra\": [\"Zebra\"]\n",
    "}\n",
    "\n",
    "\n",
    "# Bear, Brown Bear, Bull, Butterfly, Camel, Canary, Caterpillar, Cattle, Centipede, Cheetah, Chicken, Crab, Crocodile, Deer, Duck, Eagle, Elephant, Fish, Fox, Frog, Giraffe, Goat, Goldfish, Goose, Hamster, Harbor Seal, Hedgehog, Hippopotamus, Horse, Jaguar, Jellyfish, Kangaroo, Koala, Ladybug, Leopard, Lion, Lizard, Lynx, Magpie, Monkey, Moths and butterflies, Mouse, Mule, Ostrich, Otter, Owl, Panda, Parrot, Penguin, Pig, Polar Bear, Rabbit, Raccoon, Raven, Red panda, Rhinoceros, Scorpion, Seahorse, Sea Lion, Sea Turtle, Shark, Sheep, Shrimp, Snail, Snake, Sparrow, Spider, Squid, Squirrel, Starfish, Swan, Tick, Tiger, Tortoise, Turkey, Turtle, Whale, Woodpecker, Worm, Zebra\n",
    "\n",
    "\n",
    "\n",
    "dict_size(a80)\n",
    "print(a80.keys())\n",
    "print(check_accuracy('base.csv', a80))\n"
   ]
  }
 ],
 "metadata": {
  "kernelspec": {
   "display_name": ".venv",
   "language": "python",
   "name": "python3"
  },
  "language_info": {
   "codemirror_mode": {
    "name": "ipython",
    "version": 3
   },
   "file_extension": ".py",
   "mimetype": "text/x-python",
   "name": "python",
   "nbconvert_exporter": "python",
   "pygments_lexer": "ipython3",
   "version": "3.12.3"
  }
 },
 "nbformat": 4,
 "nbformat_minor": 2
}
