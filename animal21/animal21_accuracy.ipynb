{
 "cells": [
  {
   "cell_type": "code",
   "execution_count": 24,
   "metadata": {},
   "outputs": [],
   "source": [
    "#pip install pandas"
   ]
  },
  {
   "cell_type": "code",
   "execution_count": 25,
   "metadata": {},
   "outputs": [],
   "source": [
    "#pip install matplotlib"
   ]
  },
  {
   "cell_type": "code",
   "execution_count": 26,
   "metadata": {},
   "outputs": [],
   "source": [
    "import pandas as pd\n",
    "import matplotlib.pyplot as plt"
   ]
  },
  {
   "cell_type": "markdown",
   "metadata": {},
   "source": [
    "## Functions"
   ]
  },
  {
   "cell_type": "code",
   "execution_count": null,
   "metadata": {},
   "outputs": [],
   "source": [
    "def count_all_animals(animals_dict):\n",
    "    total_count = sum(len(values) for values in animals_dict.values())\n",
    "    print(total_count)"
   ]
  },
  {
   "cell_type": "code",
   "execution_count": 28,
   "metadata": {},
   "outputs": [],
   "source": [
    "\n",
    "def check_accuracy(csv_path, animals_dict):\n",
    "\n",
    "    animals_dict = {key.lower(): [animal.lower() for animal in animals] for key, animals in animals_dict.items()}\n",
    "    data = pd.read_csv(csv_path, header=None, names=['file_path', 'label'])\n",
    "    data['label'] = data['label'].str.strip().str.lower()\n",
    "\n",
    "    count = 0\n",
    "    total = 0\n",
    "\n",
    "    for index, row in data.iterrows():\n",
    "\n",
    "        path_parts = row['file_path'].split('/')\n",
    "        if len(path_parts) > 2:\n",
    "            animal_name = path_parts[-2].strip().lower()  \n",
    "\n",
    "            # Check if the label and animal name match in the dictionary\n",
    "            if row['label'] in animals_dict and animal_name in animals_dict[row['label']]:\n",
    "                count += 1\n",
    "        total += 1\n",
    "\n",
    "    accuracy = count / total if total > 0 else 0\n",
    "    return round(accuracy * 100, 2)"
   ]
  },
  {
   "cell_type": "markdown",
   "metadata": {},
   "source": [
    "## Base 80 Animals"
   ]
  },
  {
   "cell_type": "code",
   "execution_count": 29,
   "metadata": {},
   "outputs": [],
   "source": [
    "\n",
    "def base_accuracy(csv_path):\n",
    "    animals_list = [\n",
    "    \"Bear\", \"Brown Bear\", \"Bull\", \"Butterfly\", \"Camel\", \"Canary\", \"Caterpillar\", \n",
    "    \"Cattle\", \"Centipede\", \"Cheetah\", \"Chicken\", \"Crab\", \"Crocodile\", \"Deer\", \n",
    "    \"Duck\", \"Eagle\", \"Elephant\", \"Fish\", \"Fox\", \"Frog\", \"Giraffe\", \"Goat\", \n",
    "    \"Goldfish\", \"Goose\", \"Hamster\", \"Harbor Seal\", \"Hedgehog\", \"Hippopotamus\", \n",
    "    \"Horse\", \"Jaguar\", \"Jellyfish\", \"Kangaroo\", \"Koala\", \"Ladybug\", \"Leopard\", \n",
    "    \"Lion\", \"Lizard\", \"Lynx\", \"Magpie\", \"Monkey\", \"Moths and butterflies\", \n",
    "    \"Mouse\", \"Mule\", \"Ostrich\", \"Otter\", \"Owl\", \"Panda\", \"Parrot\", \"Penguin\", \n",
    "    \"Pig\", \"Polar Bear\", \"Rabbit\", \"Raccoon\", \"Raven\", \"Red panda\", \"Rhinoceros\", \n",
    "    \"Scorpion\", \"Seahorse\", \"Sea Lion\", \"Sea Turtle\", \"Shark\", \"Sheep\", \"Shrimp\", \n",
    "    \"Snail\", \"Snake\", \"Sparrow\", \"Spider\", \"Squid\", \"Squirrel\", \"Starfish\", \n",
    "    \"Swan\", \"Tick\", \"Tiger\", \"Tortoise\", \"Turkey\", \"Turtle\", \"Whale\", \n",
    "    \"Woodpecker\", \"Worm\", \"Zebra\"\n",
    "]\n",
    "\n",
    "    data = pd.read_csv(csv_path, header=None, names=['file_path', 'label'])\n",
    "\n",
    "    # Strip and convert labels to lowercase\n",
    "    data['label'] = data['label'].str.strip().str.lower()\n",
    "\n",
    "    count = 0\n",
    "    total = 0\n",
    "\n",
    "    for index, row in data.iterrows():\n",
    "\n",
    "        path_parts = row['file_path'].split('/')\n",
    "        if len(path_parts) > 2:\n",
    "            animal_name = path_parts[-2].strip().lower()  \n",
    "\n",
    "            # Check if the label and animal name match in the dictionary\n",
    "            if row['label'] == animal_name:\n",
    "                count += 1\n",
    "        total += 1\n",
    "\n",
    "    accuracy = count / total if total > 0 else 0\n",
    "    return round(accuracy * 100, 2)"
   ]
  },
  {
   "cell_type": "code",
   "execution_count": 30,
   "metadata": {},
   "outputs": [
    {
     "name": "stdout",
     "output_type": "stream",
     "text": [
      "77.35\n"
     ]
    }
   ],
   "source": [
    "print(base_accuracy('base.csv'))"
   ]
  },
  {
   "cell_type": "markdown",
   "metadata": {},
   "source": [
    "## Classification"
   ]
  },
  {
   "cell_type": "code",
   "execution_count": 31,
   "metadata": {},
   "outputs": [
    {
     "name": "stdout",
     "output_type": "stream",
     "text": [
      "86.82\n"
     ]
    }
   ],
   "source": [
    "class_dict = {\n",
    "    \"Mammals\": [\n",
    "        \"Bear\", \"Brown Bear\", \"Bull\", \"Camel\", \"Cattle\",\"Cheetah\", \"Deer\", \"Elephant\",\n",
    "        \"Fox\", \"Giraffe\", \"Goat\", \"Hamster\",\"Harbor Seal\", \"Hedgehog\", \"Hippopotamus\",\n",
    "        \"Horse\", \"Jaguar\", \"Kangaroo\", \"Koala\", \"Leopard\", \"Lion\", \"Lynx\",\n",
    "        \"Monkey\", \"Mouse\", \"Mule\", \"Otter\", \"Panda\", \"Pig\", \"Polar Bear\",\n",
    "        \"Rabbit\", \"Raccoon\", \"Red Panda\", \"Rhinoceros\", \"Sea Lion\", \"Sheep\",\"Squirrel\", \"Tiger\",\n",
    "        \"Whale\", \"Zebra\"\n",
    "    ],\n",
    "\n",
    "    \"Birds\": [\n",
    "        \"Canary\", \"Chicken\", \"Duck\", \"Eagle\", \"Goose\", \"Magpie\", \"Ostrich\",\n",
    "        \"Owl\", \"Parrot\", \"Penguin\", \"Raven\", \"Sparrow\", \"Swan\", \"Turkey\", \n",
    "        \"Woodpecker\"],\n",
    "        \n",
    "    \"Reptiles\": [\n",
    "        \"Crocodile\", \"Lizard\", \"Sea Turtle\", \"Snake\", \"Tortoise\", \"Turtle\"],\n",
    "\n",
    "    \"Amphibians\": [\"Frog\"],\n",
    "\n",
    "    \"Fish\": [\"Fish\", \"Goldfish\", \"Seahorse\", \"Shark\"],\n",
    "\n",
    "    \"Invertebrates\": [\n",
    "        \"Butterfly\", \"Caterpillar\", \"Centipede\", \"Jellyfish\", \"Ladybug\", \"Moths and Butterflies\", \n",
    "        \"Tick\", \"Crab\", \"Scorpion\", \"Shrimp\", \"Snail\", \"Spider\", \"Squid\", \n",
    "        \"Starfish\", \"Worm\"\n",
    "    ]\n",
    "}\n",
    "print(check_accuracy('classification.csv', class_dict))"
   ]
  },
  {
   "cell_type": "markdown",
   "metadata": {},
   "source": [
    "## Aquatic or Not"
   ]
  },
  {
   "cell_type": "code",
   "execution_count": 32,
   "metadata": {},
   "outputs": [
    {
     "name": "stdout",
     "output_type": "stream",
     "text": [
      "76.97\n"
     ]
    }
   ],
   "source": [
    "aquatic_dict = {\n",
    "    \"Not Aquatic Animal\" : [\"Bear\", \"Brown Bear\", \"Bull\", \"Butterfly\", \"Camel\", \"Canary\", \"Caterpillar\", \n",
    "    \"Cattle\", \"Centipede\", \"Cheetah\", \"Chicken\", \"Deer\", \n",
    "     \"Eagle\", \"Elephant\",  \"Fox\",  \"Giraffe\", \"Goat\", \n",
    "     \"Goose\", \"Hamster\",  \"Hedgehog\", \n",
    "    \"Horse\", \"Jaguar\",  \"Kangaroo\", \"Koala\", \"Ladybug\", \"Leopard\", \n",
    "    \"Lion\", \"Lizard\", \"Lynx\", \"Magpie\", \"Monkey\", \"Moths and butterflies\", \n",
    "    \"Mouse\", \"Mule\", \"Ostrich\", \"Owl\", \"Panda\", \"Parrot\", \n",
    "    \"Pig\",  \"Rabbit\", \"Raccoon\", \"Raven\", \"Red panda\", \"Rhinoceros\", \n",
    "    \"Scorpion\", \"Sheep\", \n",
    "    \"Snail\", \"Snake\", \"Sparrow\", \"Spider\", \"Squirrel\", \n",
    "     \"Tick\", \"Tiger\", \"Tortoise\", \"Turkey\", \n",
    "    \"Woodpecker\", \"Worm\", \"Zebra\"],\n",
    "\n",
    "    \"Aquatic Animal\" : [\"Crab\", \"Crocodile\",\"Duck\",\"Fish\",\"Goldfish\",\"Frog\",\"Harbor Seal\",\n",
    "                     \"Hippopotamus\", \"Jellyfish\", \"Otter\", \"Penguin\", \"Polar Bear\",\n",
    "                      \"Seahorse\", \"Sea Lion\", \"Sea Turtle\", \"Shark\", \"Shrimp\", \"Squid\",\n",
    "                        \"Starfish\", \"Swan\", \"Turtle\", \"Whale\"]\n",
    "}\n",
    "print(check_accuracy('aquatic.csv', aquatic_dict))"
   ]
  },
  {
   "cell_type": "markdown",
   "metadata": {},
   "source": [
    "## Diet"
   ]
  },
  {
   "cell_type": "code",
   "execution_count": 33,
   "metadata": {},
   "outputs": [
    {
     "name": "stdout",
     "output_type": "stream",
     "text": [
      "36.21\n"
     ]
    }
   ],
   "source": [
    "diet_dict = {\n",
    "    \"Carnivore\": [\n",
    "        \"Bear\", \"Brown Bear\", \"Bull\", \"Centipede\", \"Cheetah\", \"Crab\", \"Crocodile\", \"Eagle\", \"Fox\", \n",
    "        \"Harbor Seal\", \"Jaguar\", \"Jellyfish\", \"Leopard\", \"Lion\", \"Lizard\", \"Lynx\", \"Magpie\", \n",
    "        \"Otter\", \"Penguin\", \"Polar Bear\", \"Scorpion\", \"Shark\", \"Snake\", \"Spider\", \"Whale\"\n",
    "    ],\n",
    "    \n",
    "    \"Herbivore\": [\n",
    "        \"Butterfly\", \"Camel\", \"Canary\", \"Caterpillar\", \"Cattle\", \"Deer\", \"Duck\", \n",
    "        \"Elephant\", \"Giraffe\", \"Goat\", \"Goldfish\", \"Goose\", \"Horse\", \"Kangaroo\", \n",
    "        \"Koala\", \"Ladybug\", \"Moths and butterflies\", \"Mule\", \"Ostrich\", \"Panda\", \"Rabbit\", \"Rhinoceros\", \n",
    "        \"Seahorse\", \"Sheep\", \"Snail\", \"Sparrow\", \"Squirrel\", \"Starfish\", \"Swan\", \n",
    "        \"Tortoise\", \"Turtle\", \"Zebra\"\n",
    "    ],\n",
    "\n",
    "    \"Omnivore\": [\n",
    "        \"Bear\", \"Brown Bear\", \"Chicken\", \"Duck\", \"Fish\", \"Frog\", \"Hamster\", \"Hedgehog\", \n",
    "        \"Monkey\", \"Mouse\", \"Parrot\", \"Pig\", \"Raccoon\", \"Raven\", \"Red panda\", \"Sea Lion\", \n",
    "        \"Sea Turtle\", \"Shrimp\", \"Squirrel\", \"Turkey\", \"Whale\", \"Worm\"\n",
    "    ],\n",
    "\n",
    "    \"Other Diet\": [\"Tick\"]\n",
    "}\n",
    "\n",
    "print(check_accuracy('diet.csv', diet_dict))"
   ]
  },
  {
   "cell_type": "markdown",
   "metadata": {},
   "source": [
    "## Fish, Bird, Other"
   ]
  },
  {
   "cell_type": "code",
   "execution_count": 34,
   "metadata": {},
   "outputs": [
    {
     "name": "stdout",
     "output_type": "stream",
     "text": [
      "89.22\n"
     ]
    }
   ],
   "source": [
    "birdFish_dict = {\"Fish\" : [\"Fish\", \"Goldfish\", \"Seahorse\", \"Shark\"],\n",
    "                \n",
    "                \"Bird\" :  [\n",
    "        \"Canary\", \"Chicken\", \"Duck\", \"Eagle\", \"Goose\", \"Magpie\", \"Ostrich\",\n",
    "        \"Owl\", \"Parrot\", \"Penguin\", \"Raven\", \"Sparrow\", \"Swan\", \"Turkey\", \n",
    "        \"Woodpecker\"],\n",
    "        \n",
    "                \"Other Animal\" : [\n",
    "        \"Bear\", \"Brown Bear\", \"Bull\", \"Camel\", \"Cattle\",\"Cheetah\", \"Deer\", \"Elephant\",\n",
    "        \"Fox\", \"Giraffe\", \"Goat\", \"Hamster\",\"Harbor Seal\", \"Hedgehog\", \"Hippopotamus\",\n",
    "        \"Horse\", \"Jaguar\", \"Kangaroo\", \"Koala\", \"Leopard\", \"Lion\", \"Lynx\",\n",
    "        \"Monkey\", \"Mouse\", \"Mule\", \"Otter\", \"Panda\", \"Pig\", \"Polar Bear\",\n",
    "        \"Rabbit\", \"Raccoon\", \"Red Panda\", \"Rhinoceros\", \"Sea Lion\", \"Sheep\",\"Squirrel\", \"Tiger\",\n",
    "        \"Whale\", \"Zebra\",\"Crocodile\", \"Lizard\", \"Sea Turtle\", \"Snake\", \"Tortoise\", \"Turtle\",\n",
    "        \"Butterfly\", \"Caterpillar\", \"Centipede\", \"Jellyfish\", \"Ladybug\", \"Moths and Butterflies\", \n",
    "        \"Tick\", \"Crab\", \"Scorpion\", \"Shrimp\", \"Snail\", \"Spider\", \"Squid\", \n",
    "        \"Starfish\", \"Worm\", \"Frog\"]}\n",
    "\n",
    "# count_all_animals(animals_dict)\n",
    "\n",
    "\n",
    "print(check_accuracy('birdFish.csv', birdFish_dict))\n"
   ]
  },
  {
   "cell_type": "markdown",
   "metadata": {},
   "source": [
    "## Legs or no Legs"
   ]
  },
  {
   "cell_type": "code",
   "execution_count": 35,
   "metadata": {},
   "outputs": [
    {
     "name": "stdout",
     "output_type": "stream",
     "text": [
      "35.35\n"
     ]
    }
   ],
   "source": [
    "legs_dict = {\n",
    "    \"Animals with Four Legs\": [\n",
    "        \"Bear\", \"Brown Bear\", \"Bull\", \"Camel\", \"Cattle\", \"Cheetah\", \"Deer\", \"Elephant\",\n",
    "        \"Fox\", \"Giraffe\", \"Goat\", \"Hamster\", \"Harbor Seal\", \"Hedgehog\", \"Hippopotamus\",\n",
    "        \"Horse\", \"Jaguar\", \"Kangaroo\", \"Koala\", \"Leopard\", \"Lion\", \"Lynx\", \"Monkey\", \n",
    "        \"Mouse\", \"Mule\", \"Otter\", \"Panda\", \"Pig\", \"Polar Bear\", \"Rabbit\", \"Raccoon\", \n",
    "        \"Red Panda\", \"Rhinoceros\", \"Sea Lion\", \"Sheep\", \"Squirrel\", \"Tiger\", \"Zebra\", \n",
    "        \"Dog\", \"Cat\", \"Toroise\", \"Turtle\", \"Sea Turtle\", \"Frog\"\n",
    "    ],\n",
    "    \n",
    "    \"Animals with Two Legs\": [\n",
    "        \"Canary\", \"Chicken\", \"Duck\", \"Eagle\", \"Goose\", \"Magpie\", \"Ostrich\",\n",
    "        \"Owl\", \"Parrot\", \"Penguin\", \"Raven\", \"Sparrow\", \"Swan\", \"Turkey\", \"Human\"\n",
    "    ],\n",
    "    \n",
    "    \"Animals with Other Amount of Legs\": [\n",
    "        \"Caterpillar\", \"Centipede\", \"Crab\", \"Scorpion\", \"Shrimp\", \"Spider\", \"Squid\", \"Starfish\",\n",
    "        \"Octopus\", \"Jellyfish\", \"Ladybug\"\n",
    "    ],\n",
    "    \n",
    "    \"Animals with no Legs\": [\n",
    "        \"Snake\",  \"Fish\", \"Goldfish\", \"Seahorse\", \"Shark\", \n",
    "        \"Worm\", \"Butterfly\", \"Moths and Butterflies\", \"Tick\", \"Snail\"\n",
    "    ]\n",
    "}\n",
    "\n",
    "#count_all_animals(legs_dict)\n",
    "print(check_accuracy('legs.csv', legs_dict))"
   ]
  },
  {
   "cell_type": "markdown",
   "metadata": {},
   "source": [
    "## Mobility"
   ]
  },
  {
   "cell_type": "code",
   "execution_count": 36,
   "metadata": {},
   "outputs": [
    {
     "name": "stdout",
     "output_type": "stream",
     "text": [
      "52.44\n"
     ]
    }
   ],
   "source": [
    "mobility_dict = {\n",
    "    \"Animals that Fly\": [\n",
    "        \"Butterfly\", \"Canary\", \"Eagle\", \"Goose\", \"Magpie\", \"Moths and butterflies\", \n",
    "        \"Ostrich\", \"Owl\", \"Parrot\", \"Penguin\", \"Raven\", \"Sparrow\", \"Swan\", \n",
    "        \"Turkey\", \"Woodpecker\"\n",
    "    ],\n",
    "    \"Water-dwelling Animals\": [\n",
    "        \"Crab\", \"Crocodile\", \"Duck\", \"Fish\", \"Frog\", \"Goldfish\", \"Harbor Seal\", \n",
    "        \"Jellyfish\", \"Otter\", \"Seahorse\", \"Sea Lion\", \"Sea Turtle\", \"Shark\", \n",
    "        \"Shrimp\", \"Squid\", \"Starfish\", \"Turtle\", \"Whale\"\n",
    "    ],\n",
    "    \"Animals that Walk or Run\": [\n",
    "        \"Bear\", \"Brown Bear\", \"Bull\", \"Camel\", \"Cat\",\"Cattle\", \"Cheetah\", \"Deer\", \n",
    "        \"Elephant\", \"Fox\", \"Giraffe\", \"Goat\", \"Hamster\", \"Hedgehog\", \"Hippopotamus\", \n",
    "        \"Horse\", \"Jaguar\", \"Kangaroo\", \"Leopard\", \"Lion\", \"Lynx\", \"Mule\", \"Panda\", \n",
    "        \"Pig\", \"Polar Bear\", \"Rabbit\", \"Raccoon\", \"Red panda\", \"Rhinoceros\", \"Sheep\", \n",
    "        \"Snake\", \"Tiger\", \"Tortoise\", \"Whale\", \"Zebra\"\n",
    "    ],\n",
    "    \"Animals that Climb\": [\n",
    "        \"Caterpillar\", \"Centipede\", \"Koala\", \"Ladybug\", \"Lizard\", \"Monkey\", \"Mouse\", \n",
    "        \"Scorpion\", \"Spider\", \"Squirrel\", \"Tick\", \"Worm\"\n",
    "    ]\n",
    "}\n",
    "\n",
    "\n",
    "#count_all_animals(mobility_dict)\n",
    "print(check_accuracy('mobility.csv', mobility_dict))"
   ]
  },
  {
   "cell_type": "markdown",
   "metadata": {},
   "source": [
    "## Domestic vs Wild"
   ]
  },
  {
   "cell_type": "code",
   "execution_count": 37,
   "metadata": {},
   "outputs": [
    {
     "name": "stdout",
     "output_type": "stream",
     "text": [
      "72.81\n"
     ]
    }
   ],
   "source": [
    "domestic_dict = {\n",
    "    \"Domestic Animals\": [\n",
    "        \"Bull\", \"Camel\", \"Canary\", \"Chicken\", \"Cattle\", \"Duck\", \"Fish\", \"Goat\",\n",
    "        \"Goldfish\", \"Goose\", \"Hamster\", \"Horse\", \"Mule\", \"Pig\", \"Rabbit\", \"Sheep\",\n",
    "        \"Turkey\", \"Dog\", \"Cat\"\n",
    "    ],\n",
    "    \"Wild Animals\": [\n",
    "        \"Bear\", \"Brown Bear\", \"Butterfly\", \"Caterpillar\", \"Centipede\", \"Cheetah\",\n",
    "        \"Crab\", \"Crocodile\", \"Deer\", \"Eagle\", \"Elephant\", \"Fox\", \"Frog\", \"Giraffe\",\n",
    "        \"Hedgehog\", \"Hippopotamus\", \"Jaguar\", \"Jellyfish\", \"Kangaroo\", \"Koala\",\n",
    "        \"Ladybug\", \"Leopard\", \"Lion\", \"Lizard\", \"Lynx\", \"Magpie\", \"Monkey\", \n",
    "        \"Moths and butterflies\", \"Mouse\", \"Ostrich\", \"Otter\", \"Owl\", \"Panda\", \n",
    "        \"Parrot\", \"Penguin\", \"Polar Bear\", \"Raccoon\", \"Raven\", \"Red panda\",\n",
    "        \"Rhinoceros\", \"Scorpion\", \"Seahorse\", \"Sea Lion\", \"Sea Turtle\", \"Shark\", \n",
    "        \"Shrimp\", \"Snail\", \"Snake\", \"Sparrow\", \"Spider\", \"Squid\", \"Squirrel\", \n",
    "        \"Starfish\", \"Swan\", \"Tick\", \"Tiger\", \"Tortoise\", \"Turtle\", \"Whale\", \n",
    "        \"Woodpecker\", \"Worm\", \"Zebra\"\n",
    "    ]\n",
    "}\n",
    "\n",
    "#count_all_animals(domestic_dict)\n",
    "print(check_accuracy('domestic.csv', domestic_dict))"
   ]
  },
  {
   "cell_type": "markdown",
   "metadata": {},
   "source": [
    "## Size"
   ]
  },
  {
   "cell_type": "code",
   "execution_count": 38,
   "metadata": {},
   "outputs": [
    {
     "name": "stdout",
     "output_type": "stream",
     "text": [
      "55.83\n"
     ]
    }
   ],
   "source": [
    "size_dict = {\n",
    "    \"Large Animals\": [\n",
    "        \"Bear\", \"Brown Bear\", \"Bull\", \"Camel\", \"Cattle\", \"Cheetah\", \"Crocodile\", \n",
    "        \"Deer\", \"Elephant\", \"Giraffe\", \"Hippopotamus\", \"Horse\", \"Jaguar\", \n",
    "        \"Kangaroo\", \"Leopard\", \"Lion\", \"Ostrich\", \"Polar Bear\", \"Rhinoceros\", \n",
    "        \"Sea Lion\", \"Shark\", \"Tiger\", \"Whale\", \"Zebra\"\n",
    "    ],\n",
    "    \"Tiny Animals\": [\n",
    "        \"Butterfly\", \"Caterpillar\", \"Centipede\", \"Ladybug\", \"Moths and butterflies\", \n",
    "        \"Snail\", \"Spider\", \"Tick\", \"Scorpion\"\n",
    "    ],\n",
    "    \"Small Animals\": [\n",
    "        \"Canary\", \"Chicken\", \"Crab\", \"Duck\", \"Eagle\", \"Fish\", \"Fox\", \"Frog\", \"Goat\", \n",
    "        \"Goldfish\", \"Goose\", \"Hamster\", \"Harbor Seal\", \"Hedgehog\", \"Koala\", \"Lizard\", \n",
    "        \"Lynx\", \"Magpie\", \"Monkey\", \"Mouse\", \"Mule\", \"Otter\", \"Owl\", \"Panda\", \"Parrot\", \n",
    "        \"Penguin\", \"Pig\", \"Rabbit\", \"Raccoon\", \"Raven\", \"Red panda\", \"Seahorse\", \n",
    "        \"Sea Turtle\", \"Sheep\", \"Shrimp\", \"Sparrow\", \"Squid\", \"Squirrel\", \"Starfish\", \n",
    "        \"Swan\", \"Tortoise\", \"Turkey\", \"Turtle\", \"Woodpecker\", \"Worm\", \"Jellyfish\", \"Snake\"\n",
    "    ]\n",
    "}\n",
    "\n",
    "#count_all_animals(size_dict)\n",
    "\n",
    "print(check_accuracy('size.csv', size_dict))"
   ]
  },
  {
   "cell_type": "code",
   "execution_count": 39,
   "metadata": {},
   "outputs": [
    {
     "name": "stdout",
     "output_type": "stream",
     "text": [
      "24.69\n"
     ]
    }
   ],
   "source": [
    "size_dict2 = {\n",
    "    \"Large Animals\": [\n",
    "        \"Bear\", \"Brown Bear\", \"Bull\", \"Camel\", \"Cattle\", \"Cheetah\", \"Crocodile\", \n",
    "        \"Deer\", \"Elephant\", \"Giraffe\", \"Hippopotamus\", \"Horse\", \"Jaguar\", \n",
    "        \"Kangaroo\", \"Leopard\", \"Lion\", \"Ostrich\", \"Polar Bear\", \"Rhinoceros\", \n",
    "        \"Sea Lion\", \"Shark\", \"Tiger\", \"Whale\", \"Zebra\"\n",
    "    ],\n",
    "    \"Tiny Animals\": [\n",
    "        \"Butterfly\", \"Caterpillar\", \"Centipede\", \"Ladybug\", \"Moths and butterflies\", \n",
    "        \"Snail\", \"Spider\", \"Tick\", \"Scorpion\"\n",
    "    ],\n",
    "    \"Medium Sized Animals\": [\n",
    "        \"Canary\", \"Chicken\", \"Crab\", \"Duck\", \"Eagle\", \"Fish\", \"Fox\", \"Frog\", \"Goat\", \n",
    "        \"Goldfish\", \"Goose\", \"Hamster\", \"Harbor Seal\", \"Hedgehog\", \"Koala\", \"Lizard\", \n",
    "        \"Lynx\", \"Magpie\", \"Monkey\", \"Mouse\", \"Mule\", \"Otter\", \"Owl\", \"Panda\", \"Parrot\", \n",
    "        \"Penguin\", \"Pig\", \"Rabbit\", \"Raccoon\", \"Raven\", \"Red panda\", \"Seahorse\", \n",
    "        \"Sea Turtle\", \"Sheep\", \"Shrimp\", \"Sparrow\", \"Squid\", \"Squirrel\", \"Starfish\", \n",
    "        \"Swan\", \"Tortoise\", \"Turkey\", \"Turtle\", \"Woodpecker\", \"Worm\", \"Jellyfish\", \"Snake\"\n",
    "    ]\n",
    "}\n",
    "\n",
    "#count_all_animals(size_dict)\n",
    "\n",
    "print(check_accuracy('size2.csv', size_dict))"
   ]
  },
  {
   "cell_type": "markdown",
   "metadata": {},
   "source": [
    "# Graphing"
   ]
  },
  {
   "cell_type": "code",
   "execution_count": 40,
   "metadata": {},
   "outputs": [],
   "source": [
    "category_counts = {\n",
    "    2: [check_accuracy('aquatic.csv', aquatic_dict), check_accuracy('domestic.csv', domestic_dict)],\n",
    "    4: [check_accuracy('diet.csv', diet_dict), check_accuracy('mobility.csv', mobility_dict),\n",
    "        check_accuracy('legs.csv', legs_dict)],\n",
    "    6: check_accuracy('classification.csv', class_dict),\n",
    "    80:base_accuracy('base.csv'),\n",
    "    3: [check_accuracy('birdFish.csv', \n",
    "        birdFish_dict),check_accuracy('size2.csv', size_dict2),\n",
    "        check_accuracy('size.csv', size_dict)]\n",
    "}\n",
    "\n",
    "amount_categories = []\n",
    "accuracies = []"
   ]
  },
  {
   "cell_type": "code",
   "execution_count": 41,
   "metadata": {},
   "outputs": [],
   "source": [
    "#Calculate accuracy for each category count\n",
    "for count, accuracy in category_counts.items():\n",
    "\n",
    "        if isinstance(accuracy, list):\n",
    "                for each in accuracy:\n",
    "                    amount_categories.append(count)\n",
    "                    accuracies.append(each)\n",
    "        else:\n",
    "                amount_categories.append(count)\n",
    "                accuracies.append(accuracy)\n",
    "        "
   ]
  },
  {
   "cell_type": "code",
   "execution_count": 42,
   "metadata": {},
   "outputs": [
    {
     "name": "stdout",
     "output_type": "stream",
     "text": [
      "10 10\n"
     ]
    }
   ],
   "source": [
    "print(len(amount_categories), len(accuracies))"
   ]
  },
  {
   "cell_type": "code",
   "execution_count": 43,
   "metadata": {},
   "outputs": [
    {
     "data": {
      "image/png": "[encoded data removed]",
      "text/plain": [
       "<Figure size 1000x600 with 1 Axes>"
      ]
     },
     "metadata": {},
     "output_type": "display_data"
    }
   ],
   "source": [
    "plt.figure(figsize=(10, 6))\n",
    "plt.plot(amount_categories, accuracies, marker='o', linestyle='None', color='blue')\n",
    "plt.xlabel('Number of Categories')\n",
    "plt.ylabel('Accuracy (%)')\n",
    "plt.title('Accuracy vs. Number of Categories')\n",
    "plt.grid()\n",
    "plt.show()"
   ]
  }
 ],
 "metadata": {
  "kernelspec": {
   "display_name": "NBAML",
   "language": "python",
   "name": "python3"
  },
  "language_info": {
   "codemirror_mode": {
    "name": "ipython",
    "version": 3
   },
   "file_extension": ".py",
   "mimetype": "text/x-python",
   "name": "python",
   "nbconvert_exporter": "python",
   "pygments_lexer": "ipython3",
   "version": "3.10.13"
  }
 },
 "nbformat": 4,
 "nbformat_minor": 2
}
