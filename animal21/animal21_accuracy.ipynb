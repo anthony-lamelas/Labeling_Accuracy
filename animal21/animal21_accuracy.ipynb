{
 "cells": [
  {
   "cell_type": "code",
   "execution_count": 1,
   "metadata": {},
   "outputs": [],
   "source": [
    "#pip install pandas"
   ]
  },
  {
   "cell_type": "code",
   "execution_count": 2,
   "metadata": {},
   "outputs": [],
   "source": [
    "#pip install matplotlib"
   ]
  },
  {
   "cell_type": "code",
   "execution_count": 3,
   "metadata": {},
   "outputs": [],
   "source": [
    "import pandas as pd\n",
    "import matplotlib.pyplot as plt"
   ]
  },
  {
   "cell_type": "code",
   "execution_count": 4,
   "metadata": {},
   "outputs": [],
   "source": [
    "\n",
    "def calculate_accuracy(csv_path):\n",
    "    animals_list = [\n",
    "    \"Bear\", \"Brown Bear\", \"Bull\", \"Butterfly\", \"Camel\", \"Canary\", \"Caterpillar\", \n",
    "    \"Cattle\", \"Centipede\", \"Cheetah\", \"Chicken\", \"Crab\", \"Crocodile\", \"Deer\", \n",
    "    \"Duck\", \"Eagle\", \"Elephant\", \"Fish\", \"Fox\", \"Frog\", \"Giraffe\", \"Goat\", \n",
    "    \"Goldfish\", \"Goose\", \"Hamster\", \"Harbor Seal\", \"Hedgehog\", \"Hippopotamus\", \n",
    "    \"Horse\", \"Jaguar\", \"Jellyfish\", \"Kangaroo\", \"Koala\", \"Ladybug\", \"Leopard\", \n",
    "    \"Lion\", \"Lizard\", \"Lynx\", \"Magpie\", \"Monkey\", \"Moths and butterflies\", \n",
    "    \"Mouse\", \"Mule\", \"Ostrich\", \"Otter\", \"Owl\", \"Panda\", \"Parrot\", \"Penguin\", \n",
    "    \"Pig\", \"Polar Bear\", \"Rabbit\", \"Raccoon\", \"Raven\", \"Red panda\", \"Rhinoceros\", \n",
    "    \"Scorpion\", \"Seahorse\", \"Sea Lion\", \"Sea Turtle\", \"Shark\", \"Sheep\", \"Shrimp\", \n",
    "    \"Snail\", \"Snake\", \"Sparrow\", \"Spider\", \"Squid\", \"Squirrel\", \"Starfish\", \n",
    "    \"Swan\", \"Tick\", \"Tiger\", \"Tortoise\", \"Turkey\", \"Turtle\", \"Whale\", \n",
    "    \"Woodpecker\", \"Worm\", \"Zebra\"\n",
    "]\n",
    "\n",
    "    data = pd.read_csv(csv_path, header=None, names=['file_path', 'label'])\n",
    "\n",
    "    # Strip and convert labels to lowercase\n",
    "    data['label'] = data['label'].str.strip().str.lower()\n",
    "\n",
    "    count = 0\n",
    "    total = 0\n",
    "\n",
    "    for index, row in data.iterrows():\n",
    "        # Extract the animal name, strip whitespace, convert to lowercase\n",
    "        animal_name = row['file_path'].split('/')[-2].split('.')[0].strip().lower()\n",
    "\n",
    "        if row['label'] == animal_name:\n",
    "            count += 1\n",
    "        total += 1\n",
    "\n",
    "    accuracy = count / total if total > 0 else 0\n",
    "\n",
    "    return round(accuracy * 100, 2)"
   ]
  },
  {
   "cell_type": "code",
   "execution_count": 5,
   "metadata": {},
   "outputs": [],
   "source": [
    "# print(calculate_accuracy('base.csv'))"
   ]
  },
  {
   "cell_type": "code",
   "execution_count": 6,
   "metadata": {},
   "outputs": [],
   "source": [
    "import pandas as pd\n",
    "\n",
    "def classification_acc(csv_path):\n",
    "    animals_dict = {\n",
    "    \"Mammals\": [\n",
    "        \"Bear\", \"Brown Bear\", \"Bull\", \"Camel\", \"Cattle\",\"Cheetah\", \"Deer\", \"Elephant\",\n",
    "        \"Fox\", \"Giraffe\", \"Goat\", \"Hamster\",\"Harbor Seal\", \"Hedgehog\", \"Hippopotamus\",\n",
    "        \"Horse\", \"Jaguar\", \"Kangaroo\", \"Koala\", \"Leopard\", \"Lion\", \"Lynx\",\n",
    "        \"Monkey\", \"Mouse\", \"Mule\", \"Otter\", \"Panda\", \"Pig\", \"Polar Bear\",\n",
    "        \"Rabbit\", \"Raccoon\", \"Red Panda\", \"Rhinoceros\", \"Sea Lion\", \"Sheep\",\"Squirrel\", \"Tiger\",\n",
    "        \"Whale\", \"Zebra\"\n",
    "    ],\n",
    "    \"Birds\": [\n",
    "        \"Canary\", \"Chicken\", \"Duck\", \"Eagle\", \"Goose\", \"Magpie\", \"Ostrich\",\n",
    "        \"Owl\", \"Parrot\", \"Penguin\", \"Raven\", \"Sparrow\", \"Swan\", \"Turkey\", \n",
    "        \"Woodpecker\"\n",
    "    ],\n",
    "    \"Reptiles\": [\n",
    "        \"Crocodile\", \"Lizard\", \"Sea Turtle\", \"Snake\", \"Tortoise\", \"Turtle\"\n",
    "    ],\n",
    "    \"Amphibians\": [\n",
    "        \"Frog\"\n",
    "    ],\n",
    "    \"Fish\": [\n",
    "        \"Fish\", \"Goldfish\", \"Seahorse\", \"Shark\"\n",
    "    ],\n",
    "    \"Invertebrates\": [\n",
    "        \"Butterfly\", \"Caterpillar\", \"Centipede\", \"Jellyfish\", \"Ladybug\", \"Moths and Butterflies\", \n",
    "        \"Tick\", \"Crab\", \"Scorpion\", \"Shrimp\", \"Snail\", \"Spider\", \"Squid\", \n",
    "        \"Starfish\", \"Worm\"\n",
    "    ]\n",
    "}\n",
    "\n",
    "\n",
    "    animals_dict = {key.lower(): [animal.lower() for animal in animals] for key, animals in animals_dict.items()}\n",
    "\n",
    "    data = pd.read_csv(csv_path, header=None, names=['file_path', 'label'])\n",
    "\n",
    "    # Strip and convert labels to lowercase\n",
    "    data['label'] = data['label'].str.strip().str.lower()\n",
    "\n",
    "    count = 0\n",
    "    total = 0\n",
    "\n",
    "    for index, row in data.iterrows():\n",
    "        # Extract the animal name, strip whitespace, convert to lowercase\n",
    "        animal_name = row['file_path'].split('/')[-2].split('.')[0].strip().lower()\n",
    "\n",
    "        if row['label'] in animals_dict and animal_name in animals_dict[row['label']]:\n",
    "            count += 1\n",
    "        total += 1\n",
    "\n",
    "    accuracy = count / total if total > 0 else 0\n",
    "\n",
    "    return round(accuracy * 100, 2)"
   ]
  },
  {
   "cell_type": "code",
   "execution_count": 7,
   "metadata": {},
   "outputs": [
    {
     "ename": "IndexError",
     "evalue": "list index out of range",
     "output_type": "error",
     "traceback": [
      "\u001b[0;31m---------------------------------------------------------------------------\u001b[0m",
      "\u001b[0;31mIndexError\u001b[0m                                Traceback (most recent call last)",
      "Cell \u001b[0;32mIn[7], line 1\u001b[0m\n\u001b[0;32m----> 1\u001b[0m \u001b[38;5;28mprint\u001b[39m(\u001b[43mclassification_acc\u001b[49m\u001b[43m(\u001b[49m\u001b[38;5;124;43m'\u001b[39;49m\u001b[38;5;124;43mclassification.csv\u001b[39;49m\u001b[38;5;124;43m'\u001b[39;49m\u001b[43m)\u001b[49m)\n",
      "Cell \u001b[0;32mIn[6], line 47\u001b[0m, in \u001b[0;36mclassification_acc\u001b[0;34m(csv_path)\u001b[0m\n\u001b[1;32m     43\u001b[0m total \u001b[38;5;241m=\u001b[39m \u001b[38;5;241m0\u001b[39m\n\u001b[1;32m     45\u001b[0m \u001b[38;5;28;01mfor\u001b[39;00m index, row \u001b[38;5;129;01min\u001b[39;00m data\u001b[38;5;241m.\u001b[39miterrows():\n\u001b[1;32m     46\u001b[0m     \u001b[38;5;66;03m# Extract the animal name, strip whitespace, convert to lowercase\u001b[39;00m\n\u001b[0;32m---> 47\u001b[0m     animal_name \u001b[38;5;241m=\u001b[39m \u001b[43mrow\u001b[49m\u001b[43m[\u001b[49m\u001b[38;5;124;43m'\u001b[39;49m\u001b[38;5;124;43mfile_path\u001b[39;49m\u001b[38;5;124;43m'\u001b[39;49m\u001b[43m]\u001b[49m\u001b[38;5;241;43m.\u001b[39;49m\u001b[43msplit\u001b[49m\u001b[43m(\u001b[49m\u001b[38;5;124;43m'\u001b[39;49m\u001b[38;5;124;43m/\u001b[39;49m\u001b[38;5;124;43m'\u001b[39;49m\u001b[43m)\u001b[49m\u001b[43m[\u001b[49m\u001b[38;5;241;43m-\u001b[39;49m\u001b[38;5;241;43m2\u001b[39;49m\u001b[43m]\u001b[49m\u001b[38;5;241m.\u001b[39msplit(\u001b[38;5;124m'\u001b[39m\u001b[38;5;124m.\u001b[39m\u001b[38;5;124m'\u001b[39m)[\u001b[38;5;241m0\u001b[39m]\u001b[38;5;241m.\u001b[39mstrip()\u001b[38;5;241m.\u001b[39mlower()\n\u001b[1;32m     49\u001b[0m     \u001b[38;5;28;01mif\u001b[39;00m row[\u001b[38;5;124m'\u001b[39m\u001b[38;5;124mlabel\u001b[39m\u001b[38;5;124m'\u001b[39m] \u001b[38;5;129;01min\u001b[39;00m animals_dict \u001b[38;5;129;01mand\u001b[39;00m animal_name \u001b[38;5;129;01min\u001b[39;00m animals_dict[row[\u001b[38;5;124m'\u001b[39m\u001b[38;5;124mlabel\u001b[39m\u001b[38;5;124m'\u001b[39m]]:\n\u001b[1;32m     50\u001b[0m         count \u001b[38;5;241m+\u001b[39m\u001b[38;5;241m=\u001b[39m \u001b[38;5;241m1\u001b[39m\n",
      "\u001b[0;31mIndexError\u001b[0m: list index out of range"
     ]
    }
   ],
   "source": [
    "print(classification_acc('classification.csv'))"
   ]
  },
  {
   "cell_type": "code",
   "execution_count": null,
   "metadata": {},
   "outputs": [],
   "source": [
    "import pandas as pd\n",
    "\n",
    "def aquatic_acc(csv_path):\n",
    "    animals_dict = {\n",
    "    \"Aquatic Animal\" : [\"Bear\", \"Brown Bear\", \"Bull\", \"Butterfly\", \"Camel\", \"Canary\", \"Caterpillar\", \n",
    "    \"Cattle\", \"Centipede\", \"Cheetah\", \"Chicken\", \"Deer\", \n",
    "     \"Eagle\", \"Elephant\",  \"Fox\",  \"Giraffe\", \"Goat\", \n",
    "     \"Goose\", \"Hamster\",  \"Hedgehog\", \n",
    "    \"Horse\", \"Jaguar\",  \"Kangaroo\", \"Koala\", \"Ladybug\", \"Leopard\", \n",
    "    \"Lion\", \"Lizard\", \"Lynx\", \"Magpie\", \"Monkey\", \"Moths and butterflies\", \n",
    "    \"Mouse\", \"Mule\", \"Ostrich\", \"Owl\", \"Panda\", \"Parrot\", \n",
    "    \"Pig\",  \"Rabbit\", \"Raccoon\", \"Raven\", \"Red panda\", \"Rhinoceros\", \n",
    "    \"Scorpion\", \"Sheep\", \n",
    "    \"Snail\", \"Snake\", \"Sparrow\", \"Spider\", \"Squirrel\", \n",
    "     \"Tick\", \"Tiger\", \"Tortoise\", \"Turkey\", \n",
    "    \"Woodpecker\", \"Worm\", \"Zebra\"],\n",
    "\n",
    "    \"Not Aquatic Animal\" : [\"Crab\", \"Crocodile\",\"Duck\",\"Fish\",\"Goldfish\",\"Frog\",\"Harbor Seal\",\n",
    "                     \"Hippopotamus\", \"Jellyfish\", \"Otter\", \"Penguin\", \"Polar Bear\",\n",
    "                      \"Seahorse\", \"Sea Lion\", \"Sea Turtle\", \"Shark\", \"Shrimp\", \"Squid\",\n",
    "                        \"Starfish\", \"Swan\", \"Turtle\", \"Whale\"]\n",
    "}\n",
    "\n",
    "\n",
    "    animals_dict = {key.lower(): [animal.lower() for animal in animals] for key, animals in animals_dict.items()}\n",
    "\n",
    "    data = pd.read_csv(csv_path, header=None, names=['file_path', 'label'])\n",
    "\n",
    "    # Strip and convert labels to lowercase\n",
    "    data['label'] = data['label'].str.strip().str.lower()\n",
    "\n",
    "    count = 0\n",
    "    total = 0\n",
    "\n",
    "    for index, row in data.iterrows():\n",
    "        # Extract the animal name, strip whitespace, convert to lowercase\n",
    "        animal_name = row['file_path'].split('/')[-2].split('.')[0].strip().lower()\n",
    "\n",
    "        if row['label'] in animals_dict and animal_name in animals_dict[row['label']]:\n",
    "            count += 1\n",
    "        total += 1\n",
    "\n",
    "    accuracy = count / total if total > 0 else 0\n",
    "\n",
    "    return round(accuracy * 100, 2) "
   ]
  }
 ],
 "metadata": {
  "kernelspec": {
   "display_name": ".venv",
   "language": "python",
   "name": "python3"
  },
  "language_info": {
   "codemirror_mode": {
    "name": "ipython",
    "version": 3
   },
   "file_extension": ".py",
   "mimetype": "text/x-python",
   "name": "python",
   "nbconvert_exporter": "python",
   "pygments_lexer": "ipython3",
   "version": "3.12.3"
  }
 },
 "nbformat": 4,
 "nbformat_minor": 2
}
