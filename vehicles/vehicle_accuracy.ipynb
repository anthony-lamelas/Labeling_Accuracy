{
 "cells": [
  {
   "cell_type": "code",
   "execution_count": 1,
   "metadata": {},
   "outputs": [],
   "source": [
    "#pip install pandas\n",
    "#pip install matplotlib"
   ]
  },
  {
   "cell_type": "code",
   "execution_count": 2,
   "metadata": {},
   "outputs": [],
   "source": [
    "import pandas as pd\n",
    "import matplotlib.pyplot as plt"
   ]
  },
  {
   "cell_type": "code",
   "execution_count": 3,
   "metadata": {},
   "outputs": [],
   "source": [
    "def dict_size(dict):\n",
    "    total_count = sum(len(values) for values in dict.values())\n",
    "    print(total_count)"
   ]
  },
  {
   "cell_type": "code",
   "execution_count": 4,
   "metadata": {},
   "outputs": [],
   "source": [
    "def check_accuracy(csv_path, dict):\n",
    "\n",
    "    dict = {key.lower(): [vehicle.lower() for vehicle in vehicles] for key, vehicles in dict.items()}\n",
    "    data = pd.read_csv(csv_path, header=None, names=['file_path', 'label'])\n",
    "    data['label'] = data['label'].str.strip().str.lower()\n",
    "\n",
    "    count = 0\n",
    "    total = 0\n",
    "\n",
    "    for index, row in data.iterrows():\n",
    "\n",
    "        path_parts = row['file_path'].split('/')\n",
    "        if len(path_parts) > 2:\n",
    "            name = path_parts[-2].strip().lower()  \n",
    "\n",
    "            # Check if the label and vehicle name match in the dictionary\n",
    "            if row['label'] in dict and name in dict[row['label']]:\n",
    "                count += 1\n",
    "        total += 1\n",
    "\n",
    "    accuracy = count / total if total > 0 else 0\n",
    "    return round(accuracy * 100, 2)"
   ]
  },
  {
   "cell_type": "code",
   "execution_count": 5,
   "metadata": {},
   "outputs": [],
   "source": [
    "\n",
    "def base_accuracy(csv_path):\n",
    "    vehicles = [\n",
    "    \"car\",\"motorcycle\", \"bicycle\",\"truck\",\"bus\",\"van\",\"rickshaw\",\"scooter\",\"skateboard\",\n",
    "    \"ambulance\",\"fire truck\",\"tractor\",\n",
    "    \"segway\",\"unicycle\",\"jet ski\",\"helicopter\",\"airplane\",\"boat\",\"kayak\"\n",
    "]\n",
    "\n",
    "\n",
    "    data = pd.read_csv(csv_path, header=None, names=['file_path', 'label'])\n",
    "\n",
    "    # Strip and convert labels to lowercase\n",
    "    data['label'] = data['label'].str.strip().str.lower()\n",
    "\n",
    "    count = 0\n",
    "    total = 0\n",
    "\n",
    "    for index, row in data.iterrows():\n",
    "\n",
    "        path_parts = row['file_path'].split('/')\n",
    "        if len(path_parts) > 2:\n",
    "            vehicle_name = path_parts[-2].strip().lower()  \n",
    "\n",
    "            # Check if the label and vehicle name match in the dictionary\n",
    "            if row['label'] == vehicle_name:\n",
    "                count += 1\n",
    "        total += 1\n",
    "\n",
    "    accuracy = count / total if total > 0 else 0\n",
    "    return round(accuracy * 100, 2)"
   ]
  },
  {
   "cell_type": "markdown",
   "metadata": {},
   "source": [
    "## Base 20 Vehicles"
   ]
  },
  {
   "cell_type": "code",
   "execution_count": 6,
   "metadata": {},
   "outputs": [
    {
     "name": "stdout",
     "output_type": "stream",
     "text": [
      "70.8\n"
     ]
    }
   ],
   "source": [
    "print(base_accuracy('base20.csv'))"
   ]
  },
  {
   "cell_type": "markdown",
   "metadata": {},
   "source": [
    "## Amount of Wheels"
   ]
  },
  {
   "cell_type": "code",
   "execution_count": 7,
   "metadata": {},
   "outputs": [
    {
     "name": "stdout",
     "output_type": "stream",
     "text": [
      "28.77\n"
     ]
    }
   ],
   "source": [
    "wheels_dict = {\n",
    "    \"vehicle with two wheels\": [\"motorcycle\", \"bicycle\", \"scooter\", \"segway\"],\n",
    "    \"vehicle with three wheels\": [\"rickshaw\"],\n",
    "    \"vehicle with four wheels\": [\"car\", \"van\", \"ambulance\", \"tractor\",\"skateboard\"],\n",
    "    \"vehicle with more than four wheels\": [\"truck\", \"bus\", \"fire truck\", \"airplane\"],\n",
    "    \"vehicle with no wheels\": [\"jet ski\", \"helicopter\", \"boat\", \"kayak\"],\n",
    "    \"vehicle with one wheel\": [\"unicycle\"]\n",
    "}\n",
    "\n",
    "# dict_size(wheels_dict)\n",
    "print(check_accuracy('wheel.csv', wheels_dict)) \n"
   ]
  },
  {
   "cell_type": "markdown",
   "metadata": {},
   "source": [
    "## Domain (land, air, watter)"
   ]
  },
  {
   "cell_type": "code",
   "execution_count": 8,
   "metadata": {},
   "outputs": [
    {
     "name": "stdout",
     "output_type": "stream",
     "text": [
      "65.34\n"
     ]
    }
   ],
   "source": [
    "domain_dict = {\"land vehicle\": [\"car\", \"motorcycle\", \"bicycle\", \"truck\", \"bus\", \"van\", \"rickshaw\", \"scooter\", \"skateboard\", \"ambulance\", \"fire truck\", \"tractor\", \"segway\", \"unicycle\"],\n",
    "               \"water vehicle\": [\"boat\", \"kayak\", \"jet ski\"],   \n",
    "               \"air vehicle\": [\"helicopter\", \"airplane\"]}\n",
    "\n",
    "#dict_size(domain_dict)\n",
    "print(check_accuracy('domain.csv', domain_dict))"
   ]
  },
  {
   "cell_type": "code",
   "execution_count": 9,
   "metadata": {},
   "outputs": [
    {
     "name": "stdout",
     "output_type": "stream",
     "text": [
      "75.06\n"
     ]
    }
   ],
   "source": [
    "domain2_dict = {\"landborne vehicle\": [\"car\", \"motorcycle\", \"bicycle\", \"truck\", \"bus\", \"van\", \"rickshaw\", \"scooter\", \"skateboard\", \"ambulance\", \"fire truck\", \"tractor\", \"segway\", \"unicycle\"],\n",
    "               \"aquatic vehicle\": [\"boat\", \"kayak\", \"jet ski\"],   \n",
    "               \"airborne vehicle\": [\"helicopter\", \"airplane\"]}\n",
    "\n",
    "#dict_size(domain_dict)\n",
    "print(check_accuracy('domain2.csv', domain2_dict))"
   ]
  },
  {
   "cell_type": "markdown",
   "metadata": {},
   "source": [
    "## Fly or Not"
   ]
  },
  {
   "cell_type": "code",
   "execution_count": 10,
   "metadata": {},
   "outputs": [
    {
     "name": "stdout",
     "output_type": "stream",
     "text": [
      "73.35\n"
     ]
    }
   ],
   "source": [
    "fly_dict = {\"Airborne Vehicle\": [\"helicopter\", \"airplane\"],\n",
    "            \"Not Airborne Vehicle\": [\"car\", \"motorcycle\", \"bicycle\", \"truck\", \"bus\", \"van\", \n",
    "                \"rickshaw\", \"scooter\", \"skateboard\", \"ambulance\", \"fire truck\", \n",
    "                \"tractor\", \"segway\", \"unicycle\", \"boat\", \"kayak\", \"jet ski\"]}\n",
    "\n",
    "# dict_size(fly_dict)\n",
    "print(check_accuracy('airborne.csv', fly_dict))"
   ]
  },
  {
   "cell_type": "markdown",
   "metadata": {},
   "source": [
    "## Aquatic or Not"
   ]
  },
  {
   "cell_type": "code",
   "execution_count": 11,
   "metadata": {},
   "outputs": [
    {
     "name": "stdout",
     "output_type": "stream",
     "text": [
      "40.42\n"
     ]
    }
   ],
   "source": [
    "aquatic_dict = {\"Aquatic Vehicle\": [\"boat\", \"kayak\", \"jet ski\"],    \n",
    "                \"Not Aquatic Vehicle\": [\"car\", \"motorcycle\", \"bicycle\", \"truck\", \"bus\", \"van\",\"rickshaw\", \n",
    "                    \"scooter\", \"skateboard\", \"ambulance\", \"fire truck\", \"tractor\", \"segway\", \"unicycle\",\"helicopter\", \"airplane\"]}\n",
    "\n",
    "# dict_size(aquatic_dict)\n",
    "print(check_accuracy('aquatic.csv', aquatic_dict))"
   ]
  },
  {
   "cell_type": "code",
   "execution_count": 12,
   "metadata": {},
   "outputs": [
    {
     "name": "stdout",
     "output_type": "stream",
     "text": [
      "51.51\n"
     ]
    }
   ],
   "source": [
    "waterborne_dict = {\"Waterborne Vehicle\": [\"boat\", \"kayak\", \"jet ski\"],    \n",
    "                \"Not Waterborne Vehicle\": [\"car\", \"motorcycle\", \"bicycle\", \"truck\", \"bus\", \"van\",\"rickshaw\", \n",
    "                    \"scooter\", \"skateboard\", \"ambulance\", \"fire truck\", \"tractor\", \"segway\", \"unicycle\",\"helicopter\", \"airplane\"]}\n",
    "\n",
    "# dict_size(aquatic_dict)\n",
    "print(check_accuracy('waterborne.csv', waterborne_dict))"
   ]
  },
  {
   "cell_type": "markdown",
   "metadata": {},
   "source": [
    "## Powered Vehicle"
   ]
  },
  {
   "cell_type": "code",
   "execution_count": 13,
   "metadata": {},
   "outputs": [
    {
     "name": "stdout",
     "output_type": "stream",
     "text": [
      "53.06\n"
     ]
    }
   ],
   "source": [
    "powered_dict = {\"Powered Vehicle\": [\"car\", \"motorcycle\", \"truck\", \"bus\", \"van\", \"rickshaw\", \"scooter\",  \"ambulance\", \"fire truck\", \"tractor\", \"segway\", \"helicopter\", \"airplane\", \"boat\", \"jet ski\"],\n",
    "                \"Non-Powered Vehicle\": [\"bicycle\", \"skateboard\", \"unicycle\",\"kayak\"]}\n",
    "\n",
    "# dict_size(powered_dict)\n",
    "print(check_accuracy('powered.csv', powered_dict))\n"
   ]
  },
  {
   "cell_type": "markdown",
   "metadata": {},
   "source": [
    "## 5 Categories"
   ]
  },
  {
   "cell_type": "code",
   "execution_count": 14,
   "metadata": {},
   "outputs": [
    {
     "name": "stdout",
     "output_type": "stream",
     "text": [
      "60.23\n"
     ]
    }
   ],
   "source": [
    "vehicle_groups = {\n",
    "    \"car motorcycle bicycle truck\": [\"car\", \"motorcycle\", \"bicycle\", \"truck\"],\n",
    "    \"bus van rickshaw scooter\": [\"bus\", \"van\", \"rickshaw\", \"scooter\"],\n",
    "    \"skateboard ambulance fire-truck tractor\": [\"skateboard\", \"ambulance\", \"fire truck\", \"tractor\"],\n",
    "    \"segway unicycle jet-ski helicopter\": [\"segway\", \"unicycle\", \"jet ski\", \"helicopter\"],\n",
    "    \"airplane boat kayak\": [\"airplane\", \"boat\", \"kayak\"]\n",
    "}\n",
    "\n",
    "print(check_accuracy('5groups.csv', vehicle_groups))\n"
   ]
  },
  {
   "cell_type": "markdown",
   "metadata": {},
   "source": [
    "## Graphing"
   ]
  },
  {
   "cell_type": "code",
   "execution_count": 15,
   "metadata": {},
   "outputs": [
    {
     "name": "stdout",
     "output_type": "stream",
     "text": [
      "51.51\n"
     ]
    }
   ],
   "source": [
    "category_counts = {\n",
    "    2: [check_accuracy('aquatic.csv', aquatic_dict), check_accuracy('airborne.csv', fly_dict), check_accuracy('powered.csv', powered_dict),print(check_accuracy('waterborne.csv', waterborne_dict))],\n",
    "    3: [check_accuracy('domain.csv', domain_dict), check_accuracy('domain2.csv', domain2_dict)],  \n",
    "    5: [check_accuracy('5groups.csv', vehicle_groups)],  \n",
    "    20: [base_accuracy('base20.csv')]\n",
    "}\n",
    "\n",
    "amount_categories = []\n",
    "accuracies = []"
   ]
  },
  {
   "cell_type": "code",
   "execution_count": 16,
   "metadata": {},
   "outputs": [],
   "source": [
    "#Calculate accuracy for each category count\n",
    "for count, accuracy in category_counts.items():\n",
    "\n",
    "        if isinstance(accuracy, list):\n",
    "                for each in accuracy:\n",
    "                    amount_categories.append(count)\n",
    "                    accuracies.append(each)\n",
    "        else:\n",
    "                amount_categories.append(count)\n",
    "                accuracies.append(accuracy)\n",
    "        "
   ]
  },
  {
   "cell_type": "code",
   "execution_count": 17,
   "metadata": {},
   "outputs": [
    {
     "name": "stdout",
     "output_type": "stream",
     "text": [
      "8 8\n"
     ]
    }
   ],
   "source": [
    "print(len(amount_categories), len(accuracies))"
   ]
  },
  {
   "cell_type": "code",
   "execution_count": 18,
   "metadata": {},
   "outputs": [
    {
     "data": {
      "image/png": "[encoded data removed]",
      "text/plain": [
       "<Figure size 1000x600 with 1 Axes>"
      ]
     },
     "metadata": {},
     "output_type": "display_data"
    }
   ],
   "source": [
    "plt.figure(figsize=(10, 6))\n",
    "plt.plot(amount_categories, accuracies, marker='o', linestyle='None', color='blue')\n",
    "plt.xlabel('Number of Categories')\n",
    "plt.ylabel('Accuracy (%)')\n",
    "plt.title('Accuracy vs. Number of Categories')\n",
    "plt.grid()\n",
    "plt.show()"
   ]
  }
 ],
 "metadata": {
  "kernelspec": {
   "display_name": "NBAML",
   "language": "python",
   "name": "python3"
  },
  "language_info": {
   "codemirror_mode": {
    "name": "ipython",
    "version": 3
   },
   "file_extension": ".py",
   "mimetype": "text/x-python",
   "name": "python",
   "nbconvert_exporter": "python",
   "pygments_lexer": "ipython3",
   "version": "3.10.13"
  }
 },
 "nbformat": 4,
 "nbformat_minor": 2
}
