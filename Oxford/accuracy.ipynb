{
 "cells": [
  {
   "cell_type": "code",
   "execution_count": 65,
   "metadata": {},
   "outputs": [],
   "source": [
    "#pip install pandas"
   ]
  },
  {
   "cell_type": "code",
   "execution_count": 66,
   "metadata": {},
   "outputs": [],
   "source": [
    "#pip install matplotlib"
   ]
  },
  {
   "cell_type": "code",
   "execution_count": 67,
   "metadata": {},
   "outputs": [],
   "source": [
    "import pandas as pd\n",
    "import matplotlib.pyplot as plt"
   ]
  },
  {
   "cell_type": "code",
   "execution_count": null,
   "metadata": {},
   "outputs": [],
   "source": [
    "def CDdictsize(dict):\n",
    "    total_count = sum(len(values) for values in dict.values())\n",
    "    print(total_count)"
   ]
  },
  {
   "cell_type": "code",
   "execution_count": 69,
   "metadata": {},
   "outputs": [],
   "source": [
    "def check_accuracy(csv_path, dictionary):\n",
    "\n",
    "    normalized_dict = {key.lower(): [value.lower() for value in values] for key, values in dictionary.items()}\n",
    "\n",
    "    # Create a reverse lookup dictionary\n",
    "    reverse_dict = {}\n",
    "    for key, values in normalized_dict.items():\n",
    "        for value in values:\n",
    "            reverse_dict[value] = key  # Map all variations to the primary key\n",
    "\n",
    "    data = pd.read_csv(csv_path, header=None, names=['file_path', 'label'])\n",
    "\n",
    "    data['label'] = data['label'].str.strip().str.lower()\n",
    "\n",
    "    count = 0\n",
    "    total = 0\n",
    "\n",
    "    for index, row in data.iterrows():\n",
    "\n",
    "        path_parts = row['file_path'].split('/')\n",
    "        if len(path_parts) > 2:\n",
    "            if any(char.isupper() for char in path_parts[-1]):\n",
    "                name = 'cat'\n",
    "            else:\n",
    "                name = 'dog'\n",
    "\n",
    "            # Find the primary key for the label using the reverse lookup dictionary\n",
    "            primary_key = reverse_dict.get(row['label'], None)\n",
    "\n",
    "            if primary_key and name in normalized_dict[primary_key]:\n",
    "                count += 1\n",
    "        total += 1\n",
    "\n",
    "    accuracy = count / total if total > 0 else 0\n",
    "    return round(accuracy * 100, 2)"
   ]
  },
  {
   "cell_type": "code",
   "execution_count": null,
   "metadata": {},
   "outputs": [
    {
     "name": "stdout",
     "output_type": "stream",
     "text": [
      "2\n",
      "82.25\n"
     ]
    }
   ],
   "source": [
    "CDdict2 = {\n",
    "        'cat': ['cat'],\n",
    "        'dog': ['dog']\n",
    "    }\n",
    "\n",
    "#cat, dog\n",
    "\n",
    "CDdictsize(CDdict2)\n",
    "print(check_accuracy('cats_vs_dogs_base.csv', CDdict2))"
   ]
  },
  {
   "cell_type": "code",
   "execution_count": null,
   "metadata": {},
   "outputs": [
    {
     "name": "stdout",
     "output_type": "stream",
     "text": [
      "4\n",
      "85.43\n"
     ]
    }
   ],
   "source": [
    "CDdict4 = { \n",
    "    'cat': ['cat', 'picture of cat'],\n",
    "    'dog': ['dog', 'picture of dog']\n",
    "}\n",
    "# cat, picture of cat, dog, picture of dog\n",
    "\n",
    "CDdictsize(CDdict4)\n",
    "print(check_accuracy('cd4.csv', CDdict4))"
   ]
  },
  {
   "cell_type": "code",
   "execution_count": null,
   "metadata": {},
   "outputs": [
    {
     "name": "stdout",
     "output_type": "stream",
     "text": [
      "6\n",
      "85.43\n"
     ]
    }
   ],
   "source": [
    "CDdict6 = { \n",
    "    'cat': ['cat', 'picture of cat', 'cats'],\n",
    "    'dog': ['dog', 'picture of dog', 'dogs']\n",
    "}\n",
    "\n",
    "# cat, picture of cat, cats, dog, picture of dog, dogs\n",
    "\n",
    "CDdictsize(CDdict6)\n",
    "print(check_accuracy('cd6.csv', CDdict6))\n"
   ]
  },
  {
   "cell_type": "code",
   "execution_count": null,
   "metadata": {},
   "outputs": [
    {
     "name": "stdout",
     "output_type": "stream",
     "text": [
      "8\n",
      "85.66\n"
     ]
    }
   ],
   "source": [
    "CDdict8 = { \n",
    "    'cat': ['cat', 'picture of cat', 'cats', 'image of cats'],\n",
    "    'dog': ['dog', 'picture of dog', 'dogs', 'image of dogs']\n",
    "}\n",
    "\n",
    "# cat, picture of cat, cats, image of cats, dog, picture of dog, dogs, image of dogs\n",
    "\n",
    "CDdictsize(CDdict8)\n",
    "print(check_accuracy('cd8.csv', CDdict8))\n"
   ]
  },
  {
   "cell_type": "code",
   "execution_count": null,
   "metadata": {},
   "outputs": [
    {
     "name": "stdout",
     "output_type": "stream",
     "text": [
      "10\n",
      "85.66\n"
     ]
    }
   ],
   "source": [
    "CDdict10 = { \n",
    "    'cat': ['cat', 'picture of cat', 'cats', 'image of cats', 'moving cat'],\n",
    "    'dog': ['dog', 'picture of dog', 'dogs', 'image of dogs', 'moving dog']\n",
    "}\n",
    "\n",
    "# cat, picture of cat, cats, image of cats, moving cat, dog, picture of dog, dogs, image of dogs, moving dog\n",
    "\n",
    "CDdictsize(CDdict10)\n",
    "print(check_accuracy('cd10.csv', CDdict10))\n"
   ]
  },
  {
   "cell_type": "code",
   "execution_count": null,
   "metadata": {},
   "outputs": [
    {
     "name": "stdout",
     "output_type": "stream",
     "text": [
      "12\n",
      "85.66\n"
     ]
    }
   ],
   "source": [
    "CDdict12 = { \n",
    "    'cat': ['cat', 'picture of cat', 'cats', 'image of cats', 'moving cat', 'cat picture'],\n",
    "    'dog': ['dog', 'picture of dog', 'dogs', 'image of dogs', 'moving dog', 'dog picture']\n",
    "}\n",
    "\n",
    "# cat, picture of cat, cats, image of cats, moving cat, cat picture, dog, picture of dog, dogs, image of dogs, moving dog, dog picture\n",
    "\n",
    "CDdictsize(CDdict12)\n",
    "print(check_accuracy('cd12.csv', CDdict12))\n"
   ]
  },
  {
   "cell_type": "code",
   "execution_count": null,
   "metadata": {},
   "outputs": [
    {
     "name": "stdout",
     "output_type": "stream",
     "text": [
      "14\n",
      "85.65\n"
     ]
    }
   ],
   "source": [
    "CDdict14 = { \n",
    "    'cat': ['cat', 'picture of cat', 'cats', 'image of cats', 'moving cat', 'cat picture', 'cat image'],\n",
    "    'dog': ['dog', 'picture of dog', 'dogs', 'image of dogs', 'moving dog', 'dog picture', 'dog image']\n",
    "}\n",
    "\n",
    "# cat, picture of cat, cats, image of cats, moving cat, cat picture, cat image, dog, picture of dog, dogs, image of dogs, moving dog, dog picture, dog image\n",
    "\n",
    "CDdictsize(CDdict14)\n",
    "print(check_accuracy('cd14.csv', CDdict14))\n"
   ]
  },
  {
   "cell_type": "code",
   "execution_count": null,
   "metadata": {},
   "outputs": [
    {
     "name": "stdout",
     "output_type": "stream",
     "text": [
      "16\n",
      "69.57\n"
     ]
    }
   ],
   "source": [
    "CDdict16 = { \n",
    "    'cat': ['cat', 'picture of cat', 'cats', 'image of cats', 'moving cat', 'cat picture', 'cat image', 'cool cat'],\n",
    "    'dog': ['dog', 'picture of dog', 'dogs', 'image of dogs', 'moving dog', 'dog picture', 'dog image', 'cool dog']\n",
    "}\n",
    "\n",
    "# cat, picture of cat, cats, image of cats, moving cat, cat picture, cat image, cool cat, dog, picture of dog, dogs, image of dogs, moving dog, dog picture, dog image, cool dog\n",
    "\n",
    "CDdictsize(CDdict16)\n",
    "print(check_accuracy('cd16.csv', CDdict16))\n"
   ]
  },
  {
   "cell_type": "code",
   "execution_count": null,
   "metadata": {},
   "outputs": [
    {
     "name": "stdout",
     "output_type": "stream",
     "text": [
      "18\n",
      "85.66\n"
     ]
    }
   ],
   "source": [
    "CDdict18 = { \n",
    "    'cat': ['cat', 'picture of cat', 'cats', 'image of cats', 'moving cat', 'cat picture', 'cat image', 'cool cat', 'sitting cat'],\n",
    "    'dog': ['dog', 'picture of dog', 'dogs', 'image of dogs', 'moving dog', 'dog picture', 'dog image', 'cool dog', 'sitting dog']\n",
    "}\n",
    "\n",
    "# cat, picture of cat, cats, image of cats, moving cat, cat picture, cat image, cool cat, sitting cat, dog, picture of dog, dogs, image of dogs, moving dog, dog picture, dog image, cool dog, sitting dog\n",
    "\n",
    "CDdictsize(CDdict18)\n",
    "print(check_accuracy('cd18.csv', CDdict18))\n"
   ]
  },
  {
   "cell_type": "code",
   "execution_count": null,
   "metadata": {},
   "outputs": [
    {
     "name": "stdout",
     "output_type": "stream",
     "text": [
      "20\n",
      "85.64\n"
     ]
    }
   ],
   "source": [
    "CDdict20 = { \n",
    "    'cat': ['cat', 'picture of cat', 'cats', 'image of cats', 'moving cat', 'cat picture', 'cat image', 'cool cat', 'sitting cat', 'nice cat'],\n",
    "    'dog': ['dog', 'picture of dog', 'dogs', 'image of dogs', 'moving dog', 'dog picture', 'dog image', 'cool dog', 'sitting dog', 'nice dog']\n",
    "}\n",
    "\n",
    "# cat, picture of cat, cats, image of cats, moving cat, cat picture, cat image, cool cat, sitting cat, nice cat, dog, picture of dog, dogs, image of dogs, moving dog, dog picture, dog image, cool dog, sitting dog, nice dog\n",
    "\n",
    "CDdictsize(CDdict20)\n",
    "print(check_accuracy('cd20.csv', CDdict20))\n"
   ]
  },
  {
   "cell_type": "code",
   "execution_count": null,
   "metadata": {},
   "outputs": [
    {
     "name": "stdout",
     "output_type": "stream",
     "text": [
      "22\n",
      "85.64\n"
     ]
    }
   ],
   "source": [
    "CDdict22 = { \n",
    "    'cat': ['cat', 'picture of cat', 'cats', 'image of cats', 'moving cat', 'cat picture', 'cat image', 'cool cat', 'sitting cat', 'nice cat', 'image of nice cat'],\n",
    "    'dog': ['dog', 'picture of dog', 'dogs', 'image of dogs', 'moving dog', 'dog picture', 'dog image', 'cool dog', 'sitting dog', 'nice dog', 'image of nice dog']\n",
    "}\n",
    "\n",
    "# cat, picture of cat, cats, image of cats, moving cat, cat picture, cat image, cool cat, sitting cat, nice cat, image of nice cat, dog, picture of dog, dogs, image of dogs, moving dog, dog picture, dog image, cool dog, sitting dog, nice dog, image of nice dog\n",
    "\n",
    "CDdictsize(CDdict22)\n",
    "print(check_accuracy('cd22.csv', CDdict22))\n"
   ]
  },
  {
   "cell_type": "code",
   "execution_count": null,
   "metadata": {},
   "outputs": [
    {
     "name": "stdout",
     "output_type": "stream",
     "text": [
      "24\n",
      "85.65\n"
     ]
    }
   ],
   "source": [
    "CDdict24 = { \n",
    "    'cat': ['cat', 'picture of cat', 'cats', 'image of cats', 'moving cat', 'cat picture', 'cat image', 'cool cat', 'sitting cat', 'nice cat', 'image of nice cat', 'image of cool cat'],\n",
    "    'dog': ['dog', 'picture of dog', 'dogs', 'image of dogs', 'moving dog', 'dog picture', 'dog image', 'cool dog', 'sitting dog', 'nice dog', 'image of nice dog', 'image of cool dog']\n",
    "}\n",
    "\n",
    "# cat, picture of cat, cats, image of cats, moving cat, cat picture, cat image, cool cat, sitting cat, nice cat, image of nice cat, image of cool cat, dog, picture of dog, dogs, image of dogs, moving dog, dog picture, dog image, cool dog, sitting dog, nice dog, image of nice dog, image of cool dog\n",
    "\n",
    "CDdictsize(CDdict24)\n",
    "print(check_accuracy('cd24.csv', CDdict24))\n"
   ]
  },
  {
   "cell_type": "code",
   "execution_count": null,
   "metadata": {},
   "outputs": [
    {
     "name": "stdout",
     "output_type": "stream",
     "text": [
      "26\n",
      "85.28\n"
     ]
    }
   ],
   "source": [
    "CDdict26 = { \n",
    "    'cat': [\n",
    "        'cat', 'picture of cat', 'cats', 'image of cats', 'moving cat', 'cat picture', 'cat image',\n",
    "        'cool cat', 'sitting cat', 'nice cat', 'image of nice cat', 'image of cool cat', 'image of cat'\n",
    "    ],\n",
    "    'dog': [\n",
    "        'dog', 'picture of dog', 'dogs', 'image of dogs', 'moving dog', 'dog picture', 'dog image',\n",
    "        'cool dog', 'sitting dog', 'nice dog', 'image of nice dog', 'image of cool dog', 'image of dog'\n",
    "    ]\n",
    "}\n",
    "\n",
    "# cat, picture of cat, cats, image of cats, moving cat, cat picture, cat image, cool cat, sitting cat, nice cat, image of nice cat, image of cool cat, image of cat, dog, picture of dog, dogs, image of dogs, moving dog, dog picture, dog image, cool dog, sitting dog, nice dog, image of nice dog, image of cool dog, image of dog\n",
    "\n",
    "CDdictsize(CDdict26)\n",
    "print(check_accuracy('cd26.csv', CDdict26))\n"
   ]
  },
  {
   "cell_type": "code",
   "execution_count": null,
   "metadata": {},
   "outputs": [
    {
     "name": "stdout",
     "output_type": "stream",
     "text": [
      "28\n",
      "85.28\n"
     ]
    }
   ],
   "source": [
    "CDdict28 = { \n",
    "    'cat': [\n",
    "        'cat', 'picture of cat', 'cats', 'image of cats', 'moving cat', 'cat picture', 'cat image',\n",
    "        'cool cat', 'sitting cat', 'nice cat', 'image of nice cat', 'image of cool cat', 'image of cat', 'picture of cats'\n",
    "    ],\n",
    "    'dog': [\n",
    "        'dog', 'picture of dog', 'dogs', 'image of dogs', 'moving dog', 'dog picture', 'dog image',\n",
    "        'cool dog', 'sitting dog', 'nice dog', 'image of nice dog', 'image of cool dog', 'image of dog', 'picture of dogs'\n",
    "    ]\n",
    "}\n",
    "\n",
    "# cat, picture of cat, cats, image of cats, moving cat, cat picture, cat image, cool cat, sitting cat, nice cat, image of nice cat, image of cool cat, image of cat, picture of cats, dog, picture of dog, dogs, image of dogs, moving dog, dog picture, dog image, cool dog, sitting dog, nice dog, image of nice dog, image of cool dog, image of dog, picture of dogs\n",
    "\n",
    "CDdictsize(CDdict28)\n",
    "print(check_accuracy('cd28.csv', CDdict28))\n"
   ]
  },
  {
   "cell_type": "code",
   "execution_count": null,
   "metadata": {},
   "outputs": [
    {
     "name": "stdout",
     "output_type": "stream",
     "text": [
      "30\n",
      "85.28\n"
     ]
    }
   ],
   "source": [
    "CDdict30 = { \n",
    "    'cat': [\n",
    "        'cat', 'picture of cat', 'cats', 'image of cats', 'moving cat', 'cat picture', 'cat image',\n",
    "        'cool cat', 'sitting cat', 'nice cat', 'image of nice cat', 'image of cool cat', 'image of cat',\n",
    "        'picture of cats', 'moving picture of cat'\n",
    "    ],\n",
    "    'dog': [\n",
    "        'dog', 'picture of dog', 'dogs', 'image of dogs', 'moving dog', 'dog picture', 'dog image',\n",
    "        'cool dog', 'sitting dog', 'nice dog', 'image of nice dog', 'image of cool dog', 'image of dog',\n",
    "        'picture of dogs', 'moving picture of dog'\n",
    "    ]\n",
    "}\n",
    "\n",
    "# cat, picture of cat, cats, image of cats, moving cat, cat picture, cat image, cool cat, sitting cat, nice cat, image of nice cat, image of cool cat, image of cat, picture of cats, moving picture of cat, dog, picture of dog, dogs, image of dogs, moving dog, dog picture, dog image, cool dog, sitting dog, nice dog, image of nice dog, image of cool dog, image of dog, picture of dogs, moving picture of dog\n",
    "\n",
    "CDdictsize(CDdict30)\n",
    "print(check_accuracy('cd30.csv', CDdict30))\n"
   ]
  },
  {
   "cell_type": "code",
   "execution_count": null,
   "metadata": {},
   "outputs": [
    {
     "name": "stdout",
     "output_type": "stream",
     "text": [
      "32\n",
      "85.28\n"
     ]
    }
   ],
   "source": [
    "CDdict32 = { \n",
    "    'cat': [\n",
    "        'cat', 'picture of cat', 'cats', 'image of cats', 'moving cat', 'cat picture', 'cat image',\n",
    "        'cool cat', 'sitting cat', 'nice cat', 'image of nice cat', 'image of cool cat', 'image of cat',\n",
    "        'picture of cats', 'moving picture of cat', 'cool picture of cat'\n",
    "    ],\n",
    "    'dog': [\n",
    "        'dog', 'picture of dog', 'dogs', 'image of dogs', 'moving dog', 'dog picture', 'dog image',\n",
    "        'cool dog', 'sitting dog', 'nice dog', 'image of nice dog', 'image of cool dog', 'image of dog',\n",
    "        'picture of dogs', 'moving picture of dog', 'cool picture of dog'\n",
    "    ]\n",
    "}\n",
    "\n",
    "# cat, picture of cat, cats, image of cats, moving cat, cat picture, cat image, cool cat, sitting cat, nice cat, image of nice cat, image of cool cat, image of cat, picture of cats, moving picture of cat, cool picture of cat, dog, picture of dog, dogs, image of dogs, moving dog, dog picture, dog image, cool dog, sitting dog, nice dog, image of nice dog, image of cool dog, image of dog, picture of dogs, moving picture of dog, cool picture of dog\n",
    "\n",
    "CDdictsize(CDdict32)\n",
    "print(check_accuracy('cd32.csv', CDdict32))\n"
   ]
  },
  {
   "cell_type": "code",
   "execution_count": null,
   "metadata": {},
   "outputs": [
    {
     "name": "stdout",
     "output_type": "stream",
     "text": [
      "36\n",
      "85.29\n"
     ]
    }
   ],
   "source": [
    "CDdict36 = { \n",
    "    'cat': [\n",
    "        'cat', 'picture of cat', 'cats', 'image of cats', 'moving cat', 'cat picture', 'cat image',\n",
    "        'cool cat', 'sitting cat', 'nice cat', 'image of nice cat', 'image of cool cat', 'image of cat',\n",
    "        'picture of cats', 'moving picture of cat', 'cool picture of cat',\n",
    "        'funny cat', 'funny image of cat'\n",
    "    ],\n",
    "    'dog': [\n",
    "        'dog', 'picture of dog', 'dogs', 'image of dogs', 'moving dog', 'dog picture', 'dog image',\n",
    "        'cool dog', 'sitting dog', 'nice dog', 'image of nice dog', 'image of cool dog', 'image of dog',\n",
    "        'picture of dogs', 'moving picture of dog', 'cool picture of dog',\n",
    "        'funny dog', 'funny image of dog'\n",
    "    ]\n",
    "}\n",
    "\n",
    "# cat, picture of cat, cats, image of cats, moving cat, cat picture, cat image, cool cat, sitting cat, nice cat, image of nice cat, image of cool cat, image of cat, picture of cats, moving picture of cat, cool picture of cat, funny cat, funny image of cat, dog, picture of dog, dogs, image of dogs, moving dog, dog picture, dog image, cool dog, sitting dog, nice dog, image of nice dog, image of cool dog, image of dog, picture of dogs, moving picture of dog, cool picture of dog, funny dog, funny image of dog\n",
    "\n",
    "CDdictsize(CDdict36)\n",
    "print(check_accuracy('cd36.csv', CDdict36))\n"
   ]
  },
  {
   "cell_type": "code",
   "execution_count": null,
   "metadata": {},
   "outputs": [
    {
     "name": "stdout",
     "output_type": "stream",
     "text": [
      "38\n",
      "85.29\n"
     ]
    }
   ],
   "source": [
    "CDdict38 = { \n",
    "    'cat': [\n",
    "        'cat', 'picture of cat', 'cats', 'image of cats', 'moving cat', 'cat picture', 'cat image',\n",
    "        'cool cat', 'sitting cat', 'nice cat', 'image of nice cat', 'image of cool cat', 'image of cat',\n",
    "        'picture of cats', 'moving picture of cat', 'cool picture of cat',\n",
    "        'funny cat', 'funny image of cat', 'funny picture of cat'\n",
    "    ],\n",
    "    'dog': [\n",
    "        'dog', 'picture of dog', 'dogs', 'image of dogs', 'moving dog', 'dog picture', 'dog image',\n",
    "        'cool dog', 'sitting dog', 'nice dog', 'image of nice dog', 'image of cool dog', 'image of dog',\n",
    "        'picture of dogs', 'moving picture of dog', 'cool picture of dog',\n",
    "        'funny dog', 'funny image of dog', 'funny picture of dog'\n",
    "    ]\n",
    "}\n",
    "\n",
    "# cat, picture of cat, cats, image of cats, moving cat, cat picture, cat image, cool cat, sitting cat, nice cat, image of nice cat, image of cool cat, image of cat, picture of cats, moving picture of cat, cool picture of cat, funny cat, funny image of cat, funny picture of cat, dog, picture of dog, dogs, image of dogs, moving dog, dog picture, dog image, cool dog, sitting dog, nice dog, image of nice dog, image of cool dog, image of dog, picture of dogs, moving picture of dog, cool picture of dog, funny dog, funny image of dog, funny picture of dog\n",
    "\n",
    "CDdictsize(CDdict38)\n",
    "print(check_accuracy('cd38.csv', CDdict38))\n"
   ]
  },
  {
   "cell_type": "code",
   "execution_count": null,
   "metadata": {},
   "outputs": [
    {
     "name": "stdout",
     "output_type": "stream",
     "text": [
      "42\n",
      "85.29\n"
     ]
    }
   ],
   "source": [
    "CDdict42 = { \n",
    "    'cat': [\n",
    "        'cat', 'picture of cat', 'cats', 'image of cats', 'moving cat', 'cat picture', 'cat image',\n",
    "        'cool cat', 'sitting cat', 'nice cat', 'image of nice cat', 'image of cool cat', 'image of cat',\n",
    "        'picture of cats', 'moving picture of cat', 'cool picture of cat',\n",
    "        'funny cat', 'funny image of cat', 'funny picture of cat',\n",
    "        'cute cat', 'cute image of cat'\n",
    "    ],\n",
    "    'dog': [\n",
    "        'dog', 'picture of dog', 'dogs', 'image of dogs', 'moving dog', 'dog picture', 'dog image',\n",
    "        'cool dog', 'sitting dog', 'nice dog', 'image of nice dog', 'image of cool dog', 'image of dog',\n",
    "        'picture of dogs', 'moving picture of dog', 'cool picture of dog',\n",
    "        'funny dog', 'funny image of dog', 'funny picture of dog',\n",
    "        'cute dog', 'cute image of dog'\n",
    "    ]\n",
    "}\n",
    "\n",
    "# cat, picture of cat, cats, image of cats, moving cat, cat picture, cat image, cool cat, sitting cat, nice cat, image of nice cat, image of cool cat, image of cat, picture of cats, moving picture of cat, cool picture of cat, funny cat, funny image of cat, funny picture of cat, cute cat, cute image of cat, dog, picture of dog, dogs, image of dogs, moving dog, dog picture, dog image, cool dog, sitting dog, nice dog, image of nice dog, image of cool dog, image of dog, picture of dogs, moving picture of dog, cool picture of dog, funny dog, funny image of dog, funny picture of dog, cute dog, cute image of dog\n",
    "\n",
    "CDdictsize(CDdict42)\n",
    "print(check_accuracy('cd42.csv', CDdict42))\n"
   ]
  },
  {
   "cell_type": "code",
   "execution_count": null,
   "metadata": {},
   "outputs": [
    {
     "name": "stdout",
     "output_type": "stream",
     "text": [
      "44\n",
      "85.29\n"
     ]
    }
   ],
   "source": [
    "CDdict44 = { \n",
    "    'cat': [\n",
    "        'cat', 'picture of cat', 'cats', 'image of cats', 'moving cat', 'cat picture', 'cat image',\n",
    "        'cool cat', 'sitting cat', 'nice cat', 'image of nice cat', 'image of cool cat', 'image of cat',\n",
    "        'picture of cats', 'moving picture of cat', 'cool picture of cat',\n",
    "        'funny cat', 'funny image of cat', 'funny picture of cat',\n",
    "        'cute cat', 'cute image of cat', 'cute picture of cat'\n",
    "    ],\n",
    "    'dog': [\n",
    "        'dog', 'picture of dog', 'dogs', 'image of dogs', 'moving dog', 'dog picture', 'dog image',\n",
    "        'cool dog', 'sitting dog', 'nice dog', 'image of nice dog', 'image of cool dog', 'image of dog',\n",
    "        'picture of dogs', 'moving picture of dog', 'cool picture of dog',\n",
    "        'funny dog', 'funny image of dog', 'funny picture of dog',\n",
    "        'cute dog', 'cute image of dog', 'cute picture of dog'\n",
    "    ]\n",
    "}\n",
    "\n",
    "# cat, picture of cat, cats, image of cats, moving cat, cat picture, cat image, cool cat, sitting cat, nice cat, image of nice cat, image of cool cat, image of cat, picture of cats, moving picture of cat, cool picture of cat, funny cat, funny image of cat, funny picture of cat, cute cat, cute image of cat, cute picture of cat, dog, picture of dog, dogs, image of dogs, moving dog, dog picture, dog image, cool dog, sitting dog, nice dog, image of nice dog, image of cool dog, image of dog, picture of dogs, moving picture of dog, cool picture of dog, funny dog, funny image of dog, funny picture of dog, cute dog, cute image of dog, cute picture of dog\n",
    "\n",
    "CDdictsize(CDdict44)\n",
    "print(check_accuracy('cd44.csv', CDdict44))\n"
   ]
  },
  {
   "cell_type": "code",
   "execution_count": null,
   "metadata": {},
   "outputs": [
    {
     "name": "stdout",
     "output_type": "stream",
     "text": [
      "48\n",
      "85.29\n"
     ]
    }
   ],
   "source": [
    "CDdict48 = { \n",
    "    'cat': [\n",
    "        'cat', 'picture of cat', 'cats', 'image of cats', 'moving cat', 'cat picture', 'cat image',\n",
    "        'cool cat', 'sitting cat', 'nice cat', 'image of nice cat', 'image of cool cat', 'image of cat',\n",
    "        'picture of cats', 'moving picture of cat', 'cool picture of cat',\n",
    "        'funny cat', 'funny image of cat', 'funny picture of cat',\n",
    "        'cute cat', 'cute image of cat', 'cute picture of cat',\n",
    "        'amazing cat', 'amazing image of cat'\n",
    "    ],\n",
    "    'dog': [\n",
    "        'dog', 'picture of dog', 'dogs', 'image of dogs', 'moving dog', 'dog picture', 'dog image',\n",
    "        'cool dog', 'sitting dog', 'nice dog', 'image of nice dog', 'image of cool dog', 'image of dog',\n",
    "        'picture of dogs', 'moving picture of dog', 'cool picture of dog',\n",
    "        'funny dog', 'funny image of dog', 'funny picture of dog',\n",
    "        'cute dog', 'cute image of dog', 'cute picture of dog',\n",
    "        'amazing dog', 'amazing image of dog'\n",
    "    ]\n",
    "}\n",
    "\n",
    "# cat, picture of cat, cats, image of cats, moving cat, cat picture, cat image, cool cat, sitting cat, nice cat, image of nice cat, image of cool cat, image of cat, picture of cats, moving picture of cat, cool picture of cat, funny cat, funny image of cat, funny picture of cat, cute cat, cute image of cat, cute picture of cat, amazing cat, amazing image of cat, dog, picture of dog, dogs, image of dogs, moving dog, dog picture, dog image, cool dog, sitting dog, nice dog, image of nice dog, image of cool dog, image of dog, picture of dogs, moving picture of dog, cool picture of dog, funny dog, funny image of dog, funny picture of dog, cute dog, cute image of dog, cute picture of dog, amazing dog, amazing image of dog\n",
    "\n",
    "CDdictsize(CDdict48)\n",
    "print(check_accuracy('cd48.csv', CDdict48))\n"
   ]
  },
  {
   "cell_type": "code",
   "execution_count": null,
   "metadata": {},
   "outputs": [
    {
     "name": "stdout",
     "output_type": "stream",
     "text": [
      "50\n",
      "85.29\n"
     ]
    }
   ],
   "source": [
    "CDdict50 = { \n",
    "    'cat': [\n",
    "        'cat', 'picture of cat', 'cats', 'image of cats', 'moving cat', 'cat picture', 'cat image',\n",
    "        'cool cat', 'sitting cat', 'nice cat', 'image of nice cat', 'image of cool cat', 'image of cat',\n",
    "        'picture of cats', 'moving picture of cat', 'cool picture of cat',\n",
    "        'funny cat', 'funny image of cat', 'funny picture of cat',\n",
    "        'cute cat', 'cute image of cat', 'cute picture of cat',\n",
    "        'amazing cat', 'amazing image of cat', 'amazing picture of cat'\n",
    "    ],\n",
    "    'dog': [\n",
    "        'dog', 'picture of dog', 'dogs', 'image of dogs', 'moving dog', 'dog picture', 'dog image',\n",
    "        'cool dog', 'sitting dog', 'nice dog', 'image of nice dog', 'image of cool dog', 'image of dog',\n",
    "        'picture of dogs', 'moving picture of dog', 'cool picture of dog',\n",
    "        'funny dog', 'funny image of dog', 'funny picture of dog',\n",
    "        'cute dog', 'cute image of dog', 'cute picture of dog',\n",
    "        'amazing dog', 'amazing image of dog', 'amazing picture of dog'\n",
    "    ]\n",
    "}\n",
    "\n",
    "# cat, picture of cat, cats, image of cats, moving cat, cat picture, cat image, cool cat, sitting cat, nice cat, image of nice cat, image of cool cat, image of cat, picture of cats, moving picture of cat, cool picture of cat, funny cat, funny image of cat, funny picture of cat, cute cat, cute image of cat, cute picture of cat, amazing cat, amazing image of cat, amazing picture of cat, dog, picture of dog, dogs, image of dogs, moving dog, dog picture, dog image, cool dog, sitting dog, nice dog, image of nice dog, image of cool dog, image of dog, picture of dogs, moving picture of dog, cool picture of dog, funny dog, funny image of dog, funny picture of dog, cute dog, cute image of dog, cute picture of dog, amazing dog, amazing image of dog, amazing picture of dog\n",
    "\n",
    "CDdictsize(CDdict50)\n",
    "print(check_accuracy('cd50.csv', CDdict50))\n"
   ]
  },
  {
   "cell_type": "code",
   "execution_count": null,
   "metadata": {},
   "outputs": [
    {
     "name": "stdout",
     "output_type": "stream",
     "text": [
      "52\n",
      "85.29\n"
     ]
    }
   ],
   "source": [
    "CDdict52 = { \n",
    "    'cat': [\n",
    "        'cat', 'picture of cat', 'cats', 'image of cats', 'moving cat', 'cat picture', 'cat image',\n",
    "        'cool cat', 'sitting cat', 'nice cat', 'image of nice cat', 'image of cool cat', 'image of cat',\n",
    "        'picture of cats', 'moving picture of cat', 'cool picture of cat',\n",
    "        'funny cat', 'funny image of cat', 'funny picture of cat',\n",
    "        'cute cat', 'cute image of cat', 'cute picture of cat',\n",
    "        'amazing cat', 'amazing image of cat', 'amazing picture of cat',\n",
    "        'adorable cat'\n",
    "    ],\n",
    "    'dog': [\n",
    "        'dog', 'picture of dog', 'dogs', 'image of dogs', 'moving dog', 'dog picture', 'dog image',\n",
    "        'cool dog', 'sitting dog', 'nice dog', 'image of nice dog', 'image of cool dog', 'image of dog',\n",
    "        'picture of dogs', 'moving picture of dog', 'cool picture of dog',\n",
    "        'funny dog', 'funny image of dog', 'funny picture of dog',\n",
    "        'cute dog', 'cute image of dog', 'cute picture of dog',\n",
    "        'amazing dog', 'amazing image of dog', 'amazing picture of dog',\n",
    "        'adorable dog'\n",
    "    ]\n",
    "}\n",
    "\n",
    "# cat, picture of cat, cats, image of cats, moving cat, cat picture, cat image, cool cat, sitting cat, nice cat, image of nice cat, image of cool cat, image of cat, picture of cats, moving picture of cat, cool picture of cat, funny cat, funny image of cat, funny picture of cat, cute cat, cute image of cat, cute picture of cat, amazing cat, amazing image of cat, amazing picture of cat, adorable cat, dog, picture of dog, dogs, image of dogs, moving dog, dog picture, dog image, cool dog, sitting dog, nice dog, image of nice dog, image of cool dog, image of dog, picture of dogs, moving picture of dog, cool picture of dog, funny dog, funny image of dog, funny picture of dog, cute dog, cute image of dog, cute picture of dog, amazing dog, amazing image of dog, amazing picture of dog, adorable dog\n",
    "\n",
    "CDdictsize(CDdict52)\n",
    "print(check_accuracy('cd52.csv', CDdict52))\n"
   ]
  },
  {
   "cell_type": "code",
   "execution_count": null,
   "metadata": {},
   "outputs": [
    {
     "name": "stdout",
     "output_type": "stream",
     "text": [
      "54\n",
      "85.29\n"
     ]
    }
   ],
   "source": [
    "CDdict54 = { \n",
    "    'cat': [\n",
    "        'cat', 'picture of cat', 'cats', 'image of cats', 'moving cat', 'cat picture', 'cat image',\n",
    "        'cool cat', 'sitting cat', 'nice cat', 'image of nice cat', 'image of cool cat', 'image of cat',\n",
    "        'picture of cats', 'moving picture of cat', 'cool picture of cat',\n",
    "        'funny cat', 'funny image of cat', 'funny picture of cat',\n",
    "        'cute cat', 'cute image of cat', 'cute picture of cat',\n",
    "        'amazing cat', 'amazing image of cat', 'amazing picture of cat',\n",
    "        'adorable cat', 'adorable image of cat'\n",
    "    ],\n",
    "    'dog': [\n",
    "        'dog', 'picture of dog', 'dogs', 'image of dogs', 'moving dog', 'dog picture', 'dog image',\n",
    "        'cool dog', 'sitting dog', 'nice dog', 'image of nice dog', 'image of cool dog', 'image of dog',\n",
    "        'picture of dogs', 'moving picture of dog', 'cool picture of dog',\n",
    "        'funny dog', 'funny image of dog', 'funny picture of dog',\n",
    "        'cute dog', 'cute image of dog', 'cute picture of dog',\n",
    "        'amazing dog', 'amazing image of dog', 'amazing picture of dog',\n",
    "        'adorable dog', 'adorable image of dog'\n",
    "    ]\n",
    "}\n",
    "\n",
    "# cat, picture of cat, cats, image of cats, moving cat, cat picture, cat image, cool cat, sitting cat, nice cat, image of nice cat, image of cool cat, image of cat, picture of cats, moving picture of cat, cool picture of cat, funny cat, funny image of cat, funny picture of cat, cute cat, cute image of cat, cute picture of cat, amazing cat, amazing image of cat, amazing picture of cat, adorable cat, adorable image of cat, dog, picture of dog, dogs, image of dogs, moving dog, dog picture, dog image, cool dog, sitting dog, nice dog, image of nice dog, image of cool dog, image of dog, picture of dogs, moving picture of dog, cool picture of dog, funny dog, funny image of dog, funny picture of dog, cute dog, cute image of dog, cute picture of dog, amazing dog, amazing image of dog, amazing picture of dog, adorable dog, adorable image of dog\n",
    "\n",
    "CDdictsize(CDdict54)\n",
    "print(check_accuracy('cd54.csv', CDdict54))\n"
   ]
  },
  {
   "cell_type": "code",
   "execution_count": null,
   "metadata": {},
   "outputs": [
    {
     "name": "stdout",
     "output_type": "stream",
     "text": [
      "56\n",
      "85.29\n"
     ]
    }
   ],
   "source": [
    "CDdict56 = { \n",
    "    'cat': [\n",
    "        'cat', 'picture of cat', 'cats', 'image of cats', 'moving cat', 'cat picture', 'cat image',\n",
    "        'cool cat', 'sitting cat', 'nice cat', 'image of nice cat', 'image of cool cat', 'image of cat',\n",
    "        'picture of cats', 'moving picture of cat', 'cool picture of cat',\n",
    "        'funny cat', 'funny image of cat', 'funny picture of cat',\n",
    "        'cute cat', 'cute image of cat', 'cute picture of cat',\n",
    "        'amazing cat', 'amazing image of cat', 'amazing picture of cat',\n",
    "        'adorable cat', 'adorable image of cat', 'adorable picture of cat'\n",
    "    ],\n",
    "    'dog': [\n",
    "        'dog', 'picture of dog', 'dogs', 'image of dogs', 'moving dog', 'dog picture', 'dog image',\n",
    "        'cool dog', 'sitting dog', 'nice dog', 'image of nice dog', 'image of cool dog', 'image of dog',\n",
    "        'picture of dogs', 'moving picture of dog', 'cool picture of dog',\n",
    "        'funny dog', 'funny image of dog', 'funny picture of dog',\n",
    "        'cute dog', 'cute image of dog', 'cute picture of dog',\n",
    "        'amazing dog', 'amazing image of dog', 'amazing picture of dog',\n",
    "        'adorable dog', 'adorable image of dog', 'adorable picture of dog'\n",
    "    ]\n",
    "}\n",
    "\n",
    "# cat, picture of cat, cats, image of cats, moving cat, cat picture, cat image, cool cat, sitting cat, nice cat, image of nice cat, image of cool cat, image of cat, picture of cats, moving picture of cat, cool picture of cat, funny cat, funny image of cat, funny picture of cat, cute cat, cute image of cat, cute picture of cat, amazing cat, amazing image of cat, amazing picture of cat, adorable cat, adorable image of cat, adorable picture of cat, dog, picture of dog, dogs, image of dogs, moving dog, dog picture, dog image, cool dog, sitting dog, nice dog, image of nice dog, image of cool dog, image of dog, picture of dogs, moving picture of dog, cool picture of dog, funny dog, funny image of dog, funny picture of dog, cute dog, cute image of dog, cute picture of dog, amazing dog, amazing image of dog, amazing picture of dog, adorable dog, adorable image of dog, adorable picture of dog\n",
    "\n",
    "CDdictsize(CDdict56)\n",
    "print(check_accuracy('cd56.csv', CDdict56))\n"
   ]
  },
  {
   "cell_type": "markdown",
   "metadata": {},
   "source": [
    "# Graphing"
   ]
  },
  {
   "cell_type": "code",
   "execution_count": null,
   "metadata": {},
   "outputs": [],
   "source": [
    "category_counts = {\n",
    "    2: [check_accuracy('cats_vs_dogs_base.csv', CDdict2)],\n",
    "    4: [check_accuracy('cd4.csv', CDdict4)],\n",
    "    6: [check_accuracy('cd6.csv', CDdict6)],\n",
    "    8: [check_accuracy('cd8.csv', CDdict8)],\n",
    "    10: [check_accuracy('cd10.csv', CDdict10)],\n",
    "    12: [check_accuracy('cd12.csv', CDdict12)],\n",
    "    14: [check_accuracy('cd14.csv', CDdict14)],\n",
    "    16: [check_accuracy('cd16.csv', CDdict16)],\n",
    "    18: [check_accuracy('cd18.csv', CDdict18)],\n",
    "    20: [check_accuracy('cd20.csv', CDdict20)],\n",
    "    22: [check_accuracy('cd22.csv', CDdict22)],\n",
    "    24: [check_accuracy('cd24.csv', CDdict24)],\n",
    "    26: [check_accuracy('cd26.csv', CDdict26)],\n",
    "    28: [check_accuracy('cd28.csv', CDdict28)],\n",
    "    30: [check_accuracy('cd30.csv', CDdict30)],\n",
    "    32: [check_accuracy('cd32.csv', CDdict32)],\n",
    "    36: [check_accuracy('cd36.csv', CDdict36)],\n",
    "    38: [check_accuracy('cd38.csv', CDdict38)],\n",
    "    42: [check_accuracy('cd42.csv', CDdict42)],\n",
    "    44: [check_accuracy('cd44.csv', CDdict44)],\n",
    "    48: [check_accuracy('cd48.csv', CDdict48)],\n",
    "    50: [check_accuracy('cd50.csv', CDdict50)],\n",
    "    52: [check_accuracy('cd52.csv', CDdict52)],\n",
    "    54: [check_accuracy('cd54.csv', CDdict54)],\n",
    "    56: [check_accuracy('cd56.csv', CDdict56)]\n",
    "}\n"
   ]
  },
  {
   "cell_type": "code",
   "execution_count": null,
   "metadata": {},
   "outputs": [
    {
     "data": {
      "image/png": "[encoded data removed]",
      "text/plain": [
       "<Figure size 1000x600 with 1 Axes>"
      ]
     },
     "metadata": {},
     "output_type": "display_data"
    }
   ],
   "source": [
    "plt.figure(figsize=(10, 6))\n",
    "plt.plot(amount_categories, accuracies, marker='o', linestyle='-', color='blue')\n",
    "plt.xlabel('Number of Categories')\n",
    "plt.ylabel('Accuracy (%)')\n",
    "plt.title('Accuracy vs. Number of Categories')\n",
    "plt.ylim(80,90)\n",
    "plt.grid()\n",
    "plt.show()"
   ]
  }
 ],
 "metadata": {
  "kernelspec": {
   "display_name": ".venv",
   "language": "python",
   "name": "python3"
  },
  "language_info": {
   "codemirror_mode": {
    "name": "ipython",
    "version": 3
   },
   "file_extension": ".py",
   "mimetype": "text/x-python",
   "name": "python",
   "nbconvert_exporter": "python",
   "pygments_lexer": "ipython3",
   "version": "3.12.3"
  }
 },
 "nbformat": 4,
 "nbformat_minor": 2
}
