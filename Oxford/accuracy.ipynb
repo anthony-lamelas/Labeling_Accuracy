{
 "cells": [
  {
   "cell_type": "code",
   "execution_count": 1,
   "metadata": {},
   "outputs": [],
   "source": [
    "#pip install pandas"
   ]
  },
  {
   "cell_type": "code",
   "execution_count": 2,
   "metadata": {},
   "outputs": [],
   "source": [
    "#pip install matplotlib"
   ]
  },
  {
   "cell_type": "code",
   "execution_count": null,
   "metadata": {},
   "outputs": [],
   "source": [
    "import pandas as pd\n",
    "import matplotlib.pyplot as plt\n",
    "import matplotlib.patches as mpatches"
   ]
  },
  {
   "cell_type": "code",
   "execution_count": 4,
   "metadata": {},
   "outputs": [],
   "source": [
    "def dict_size(dict):\n",
    "    total_count = sum(len(values) for values in dict.values())\n",
    "    print(total_count)"
   ]
  },
  {
   "cell_type": "code",
   "execution_count": 5,
   "metadata": {},
   "outputs": [],
   "source": [
    "def check_accuracy(csv_path, dictionary):\n",
    "\n",
    "    normalized_dict = {key.lower(): [value.lower() for value in values] for key, values in dictionary.items()}\n",
    "\n",
    "    # Create a reverse lookup dictionary\n",
    "    reverse_dict = {}\n",
    "    for key, values in normalized_dict.items():\n",
    "        for value in values:\n",
    "            reverse_dict[value] = key  # Map all variations to the primary key\n",
    "\n",
    "    data = pd.read_csv(csv_path, header=None, names=['file_path', 'label'])\n",
    "\n",
    "    data['label'] = data['label'].str.strip().str.lower()\n",
    "\n",
    "    count = 0\n",
    "    total = 0\n",
    "\n",
    "    for index, row in data.iterrows():\n",
    "\n",
    "        path_parts = row['file_path'].split('/')\n",
    "        if len(path_parts) > 2:\n",
    "            if any(char.isupper() for char in path_parts[-1]):\n",
    "                name = 'cat'\n",
    "            else:\n",
    "                name = 'dog'\n",
    "\n",
    "            # Find the primary key for the label using the reverse lookup dictionary\n",
    "            primary_key = reverse_dict.get(row['label'], None)\n",
    "\n",
    "            if primary_key and name in normalized_dict[primary_key]:\n",
    "                count += 1\n",
    "        total += 1\n",
    "\n",
    "    accuracy = count / total if total > 0 else 0\n",
    "    return round(accuracy * 100, 2)"
   ]
  },
  {
   "cell_type": "code",
   "execution_count": 6,
   "metadata": {},
   "outputs": [
    {
     "name": "stdout",
     "output_type": "stream",
     "text": [
      "2\n",
      "82.25\n"
     ]
    }
   ],
   "source": [
    "dict_2 = {\n",
    "        'cat': ['cat'],\n",
    "        'dog': ['dog']\n",
    "    }\n",
    "\n",
    "#cat, dog\n",
    "\n",
    "dict_size(dict_2)\n",
    "print(check_accuracy('cats_vs_dogs_base.csv', dict_2))"
   ]
  },
  {
   "cell_type": "code",
   "execution_count": 7,
   "metadata": {},
   "outputs": [
    {
     "name": "stdout",
     "output_type": "stream",
     "text": [
      "4\n",
      "85.43\n"
     ]
    }
   ],
   "source": [
    "dict_4 = { \n",
    "    'cat': ['cat', 'picture of cat'],\n",
    "    'dog': ['dog', 'picture of dog']\n",
    "}\n",
    "# cat, picture of cat, dog, picture of dog\n",
    "\n",
    "dict_size(dict_4)\n",
    "print(check_accuracy('cd4.csv', dict_4))"
   ]
  },
  {
   "cell_type": "code",
   "execution_count": 8,
   "metadata": {},
   "outputs": [
    {
     "name": "stdout",
     "output_type": "stream",
     "text": [
      "6\n",
      "85.43\n"
     ]
    }
   ],
   "source": [
    "dict_6 = { \n",
    "    'cat': ['cat', 'picture of cat', 'cats'],\n",
    "    'dog': ['dog', 'picture of dog', 'dogs']\n",
    "}\n",
    "\n",
    "# cat, picture of cat, cats, dog, picture of dog, dogs\n",
    "\n",
    "dict_size(dict_6)\n",
    "print(check_accuracy('cd6.csv', dict_6))\n"
   ]
  },
  {
   "cell_type": "code",
   "execution_count": 9,
   "metadata": {},
   "outputs": [
    {
     "name": "stdout",
     "output_type": "stream",
     "text": [
      "8\n",
      "85.66\n"
     ]
    }
   ],
   "source": [
    "dict_8 = { \n",
    "    'cat': ['cat', 'picture of cat', 'cats', 'image of cats'],\n",
    "    'dog': ['dog', 'picture of dog', 'dogs', 'image of dogs']\n",
    "}\n",
    "\n",
    "# cat, picture of cat, cats, image of cats, dog, picture of dog, dogs, image of dogs\n",
    "\n",
    "dict_size(dict_8)\n",
    "print(check_accuracy('cd8.csv', dict_8))\n"
   ]
  },
  {
   "cell_type": "code",
   "execution_count": 10,
   "metadata": {},
   "outputs": [
    {
     "name": "stdout",
     "output_type": "stream",
     "text": [
      "10\n",
      "85.66\n"
     ]
    }
   ],
   "source": [
    "dict_10 = { \n",
    "    'cat': ['cat', 'picture of cat', 'cats', 'image of cats', 'moving cat'],\n",
    "    'dog': ['dog', 'picture of dog', 'dogs', 'image of dogs', 'moving dog']\n",
    "}\n",
    "\n",
    "# cat, picture of cat, cats, image of cats, moving cat, dog, picture of dog, dogs, image of dogs, moving dog\n",
    "\n",
    "dict_size(dict_10)\n",
    "print(check_accuracy('cd10.csv', dict_10))\n"
   ]
  },
  {
   "cell_type": "code",
   "execution_count": 11,
   "metadata": {},
   "outputs": [
    {
     "name": "stdout",
     "output_type": "stream",
     "text": [
      "12\n",
      "85.66\n"
     ]
    }
   ],
   "source": [
    "dict_12 = { \n",
    "    'cat': ['cat', 'picture of cat', 'cats', 'image of cats', 'moving cat', 'cat picture'],\n",
    "    'dog': ['dog', 'picture of dog', 'dogs', 'image of dogs', 'moving dog', 'dog picture']\n",
    "}\n",
    "\n",
    "# cat, picture of cat, cats, image of cats, moving cat, cat picture, dog, picture of dog, dogs, image of dogs, moving dog, dog picture\n",
    "\n",
    "dict_size(dict_12)\n",
    "print(check_accuracy('cd12.csv', dict_12))\n"
   ]
  },
  {
   "cell_type": "code",
   "execution_count": 12,
   "metadata": {},
   "outputs": [
    {
     "name": "stdout",
     "output_type": "stream",
     "text": [
      "14\n",
      "85.65\n"
     ]
    }
   ],
   "source": [
    "dict_14 = { \n",
    "    'cat': ['cat', 'picture of cat', 'cats', 'image of cats', 'moving cat', 'cat picture', 'cat image'],\n",
    "    'dog': ['dog', 'picture of dog', 'dogs', 'image of dogs', 'moving dog', 'dog picture', 'dog image']\n",
    "}\n",
    "\n",
    "# cat, picture of cat, cats, image of cats, moving cat, cat picture, cat image, dog, picture of dog, dogs, image of dogs, moving dog, dog picture, dog image\n",
    "\n",
    "dict_size(dict_14)\n",
    "print(check_accuracy('cd14.csv', dict_14))\n"
   ]
  },
  {
   "cell_type": "code",
   "execution_count": 13,
   "metadata": {},
   "outputs": [
    {
     "name": "stdout",
     "output_type": "stream",
     "text": [
      "16\n"
     ]
    },
    {
     "ename": "FileNotFoundError",
     "evalue": "[Errno 2] No such file or directory: 'cd16.csv'",
     "output_type": "error",
     "traceback": [
      "\u001b[1;31m---------------------------------------------------------------------------\u001b[0m",
      "\u001b[1;31mFileNotFoundError\u001b[0m                         Traceback (most recent call last)",
      "Cell \u001b[1;32mIn[13], line 9\u001b[0m\n\u001b[0;32m      6\u001b[0m \u001b[38;5;66;03m# cat, picture of cat, cats, image of cats, moving cat, cat picture, cat image, cool cat, dog, picture of dog, dogs, image of dogs, moving dog, dog picture, dog image, cool dog\u001b[39;00m\n\u001b[0;32m      8\u001b[0m dict_size(dict_16)\n\u001b[1;32m----> 9\u001b[0m \u001b[38;5;28mprint\u001b[39m(\u001b[43mcheck_accuracy\u001b[49m\u001b[43m(\u001b[49m\u001b[38;5;124;43m'\u001b[39;49m\u001b[38;5;124;43mcd16.csv\u001b[39;49m\u001b[38;5;124;43m'\u001b[39;49m\u001b[43m,\u001b[49m\u001b[43m \u001b[49m\u001b[43mdict_16\u001b[49m\u001b[43m)\u001b[49m)\n",
      "Cell \u001b[1;32mIn[5], line 11\u001b[0m, in \u001b[0;36mcheck_accuracy\u001b[1;34m(csv_path, dictionary)\u001b[0m\n\u001b[0;32m      8\u001b[0m     \u001b[38;5;28;01mfor\u001b[39;00m value \u001b[38;5;129;01min\u001b[39;00m values:\n\u001b[0;32m      9\u001b[0m         reverse_dict[value] \u001b[38;5;241m=\u001b[39m key  \u001b[38;5;66;03m# Map all variations to the primary key\u001b[39;00m\n\u001b[1;32m---> 11\u001b[0m data \u001b[38;5;241m=\u001b[39m \u001b[43mpd\u001b[49m\u001b[38;5;241;43m.\u001b[39;49m\u001b[43mread_csv\u001b[49m\u001b[43m(\u001b[49m\u001b[43mcsv_path\u001b[49m\u001b[43m,\u001b[49m\u001b[43m \u001b[49m\u001b[43mheader\u001b[49m\u001b[38;5;241;43m=\u001b[39;49m\u001b[38;5;28;43;01mNone\u001b[39;49;00m\u001b[43m,\u001b[49m\u001b[43m \u001b[49m\u001b[43mnames\u001b[49m\u001b[38;5;241;43m=\u001b[39;49m\u001b[43m[\u001b[49m\u001b[38;5;124;43m'\u001b[39;49m\u001b[38;5;124;43mfile_path\u001b[39;49m\u001b[38;5;124;43m'\u001b[39;49m\u001b[43m,\u001b[49m\u001b[43m \u001b[49m\u001b[38;5;124;43m'\u001b[39;49m\u001b[38;5;124;43mlabel\u001b[39;49m\u001b[38;5;124;43m'\u001b[39;49m\u001b[43m]\u001b[49m\u001b[43m)\u001b[49m\n\u001b[0;32m     13\u001b[0m data[\u001b[38;5;124m'\u001b[39m\u001b[38;5;124mlabel\u001b[39m\u001b[38;5;124m'\u001b[39m] \u001b[38;5;241m=\u001b[39m data[\u001b[38;5;124m'\u001b[39m\u001b[38;5;124mlabel\u001b[39m\u001b[38;5;124m'\u001b[39m]\u001b[38;5;241m.\u001b[39mstr\u001b[38;5;241m.\u001b[39mstrip()\u001b[38;5;241m.\u001b[39mstr\u001b[38;5;241m.\u001b[39mlower()\n\u001b[0;32m     15\u001b[0m count \u001b[38;5;241m=\u001b[39m \u001b[38;5;241m0\u001b[39m\n",
      "File \u001b[1;32mc:\\Users\\antho\\anaconda3\\envs\\NBAML\\lib\\site-packages\\pandas\\io\\parsers\\readers.py:1026\u001b[0m, in \u001b[0;36mread_csv\u001b[1;34m(filepath_or_buffer, sep, delimiter, header, names, index_col, usecols, dtype, engine, converters, true_values, false_values, skipinitialspace, skiprows, skipfooter, nrows, na_values, keep_default_na, na_filter, verbose, skip_blank_lines, parse_dates, infer_datetime_format, keep_date_col, date_parser, date_format, dayfirst, cache_dates, iterator, chunksize, compression, thousands, decimal, lineterminator, quotechar, quoting, doublequote, escapechar, comment, encoding, encoding_errors, dialect, on_bad_lines, delim_whitespace, low_memory, memory_map, float_precision, storage_options, dtype_backend)\u001b[0m\n\u001b[0;32m   1013\u001b[0m kwds_defaults \u001b[38;5;241m=\u001b[39m _refine_defaults_read(\n\u001b[0;32m   1014\u001b[0m     dialect,\n\u001b[0;32m   1015\u001b[0m     delimiter,\n\u001b[1;32m   (...)\u001b[0m\n\u001b[0;32m   1022\u001b[0m     dtype_backend\u001b[38;5;241m=\u001b[39mdtype_backend,\n\u001b[0;32m   1023\u001b[0m )\n\u001b[0;32m   1024\u001b[0m kwds\u001b[38;5;241m.\u001b[39mupdate(kwds_defaults)\n\u001b[1;32m-> 1026\u001b[0m \u001b[38;5;28;01mreturn\u001b[39;00m \u001b[43m_read\u001b[49m\u001b[43m(\u001b[49m\u001b[43mfilepath_or_buffer\u001b[49m\u001b[43m,\u001b[49m\u001b[43m \u001b[49m\u001b[43mkwds\u001b[49m\u001b[43m)\u001b[49m\n",
      "File \u001b[1;32mc:\\Users\\antho\\anaconda3\\envs\\NBAML\\lib\\site-packages\\pandas\\io\\parsers\\readers.py:620\u001b[0m, in \u001b[0;36m_read\u001b[1;34m(filepath_or_buffer, kwds)\u001b[0m\n\u001b[0;32m    617\u001b[0m _validate_names(kwds\u001b[38;5;241m.\u001b[39mget(\u001b[38;5;124m\"\u001b[39m\u001b[38;5;124mnames\u001b[39m\u001b[38;5;124m\"\u001b[39m, \u001b[38;5;28;01mNone\u001b[39;00m))\n\u001b[0;32m    619\u001b[0m \u001b[38;5;66;03m# Create the parser.\u001b[39;00m\n\u001b[1;32m--> 620\u001b[0m parser \u001b[38;5;241m=\u001b[39m TextFileReader(filepath_or_buffer, \u001b[38;5;241m*\u001b[39m\u001b[38;5;241m*\u001b[39mkwds)\n\u001b[0;32m    622\u001b[0m \u001b[38;5;28;01mif\u001b[39;00m chunksize \u001b[38;5;129;01mor\u001b[39;00m iterator:\n\u001b[0;32m    623\u001b[0m     \u001b[38;5;28;01mreturn\u001b[39;00m parser\n",
      "File \u001b[1;32mc:\\Users\\antho\\anaconda3\\envs\\NBAML\\lib\\site-packages\\pandas\\io\\parsers\\readers.py:1620\u001b[0m, in \u001b[0;36mTextFileReader.__init__\u001b[1;34m(self, f, engine, **kwds)\u001b[0m\n\u001b[0;32m   1617\u001b[0m     \u001b[38;5;28mself\u001b[39m\u001b[38;5;241m.\u001b[39moptions[\u001b[38;5;124m\"\u001b[39m\u001b[38;5;124mhas_index_names\u001b[39m\u001b[38;5;124m\"\u001b[39m] \u001b[38;5;241m=\u001b[39m kwds[\u001b[38;5;124m\"\u001b[39m\u001b[38;5;124mhas_index_names\u001b[39m\u001b[38;5;124m\"\u001b[39m]\n\u001b[0;32m   1619\u001b[0m \u001b[38;5;28mself\u001b[39m\u001b[38;5;241m.\u001b[39mhandles: IOHandles \u001b[38;5;241m|\u001b[39m \u001b[38;5;28;01mNone\u001b[39;00m \u001b[38;5;241m=\u001b[39m \u001b[38;5;28;01mNone\u001b[39;00m\n\u001b[1;32m-> 1620\u001b[0m \u001b[38;5;28mself\u001b[39m\u001b[38;5;241m.\u001b[39m_engine \u001b[38;5;241m=\u001b[39m \u001b[38;5;28;43mself\u001b[39;49m\u001b[38;5;241;43m.\u001b[39;49m\u001b[43m_make_engine\u001b[49m\u001b[43m(\u001b[49m\u001b[43mf\u001b[49m\u001b[43m,\u001b[49m\u001b[43m \u001b[49m\u001b[38;5;28;43mself\u001b[39;49m\u001b[38;5;241;43m.\u001b[39;49m\u001b[43mengine\u001b[49m\u001b[43m)\u001b[49m\n",
      "File \u001b[1;32mc:\\Users\\antho\\anaconda3\\envs\\NBAML\\lib\\site-packages\\pandas\\io\\parsers\\readers.py:1880\u001b[0m, in \u001b[0;36mTextFileReader._make_engine\u001b[1;34m(self, f, engine)\u001b[0m\n\u001b[0;32m   1878\u001b[0m     \u001b[38;5;28;01mif\u001b[39;00m \u001b[38;5;124m\"\u001b[39m\u001b[38;5;124mb\u001b[39m\u001b[38;5;124m\"\u001b[39m \u001b[38;5;129;01mnot\u001b[39;00m \u001b[38;5;129;01min\u001b[39;00m mode:\n\u001b[0;32m   1879\u001b[0m         mode \u001b[38;5;241m+\u001b[39m\u001b[38;5;241m=\u001b[39m \u001b[38;5;124m\"\u001b[39m\u001b[38;5;124mb\u001b[39m\u001b[38;5;124m\"\u001b[39m\n\u001b[1;32m-> 1880\u001b[0m \u001b[38;5;28mself\u001b[39m\u001b[38;5;241m.\u001b[39mhandles \u001b[38;5;241m=\u001b[39m \u001b[43mget_handle\u001b[49m\u001b[43m(\u001b[49m\n\u001b[0;32m   1881\u001b[0m \u001b[43m    \u001b[49m\u001b[43mf\u001b[49m\u001b[43m,\u001b[49m\n\u001b[0;32m   1882\u001b[0m \u001b[43m    \u001b[49m\u001b[43mmode\u001b[49m\u001b[43m,\u001b[49m\n\u001b[0;32m   1883\u001b[0m \u001b[43m    \u001b[49m\u001b[43mencoding\u001b[49m\u001b[38;5;241;43m=\u001b[39;49m\u001b[38;5;28;43mself\u001b[39;49m\u001b[38;5;241;43m.\u001b[39;49m\u001b[43moptions\u001b[49m\u001b[38;5;241;43m.\u001b[39;49m\u001b[43mget\u001b[49m\u001b[43m(\u001b[49m\u001b[38;5;124;43m\"\u001b[39;49m\u001b[38;5;124;43mencoding\u001b[39;49m\u001b[38;5;124;43m\"\u001b[39;49m\u001b[43m,\u001b[49m\u001b[43m \u001b[49m\u001b[38;5;28;43;01mNone\u001b[39;49;00m\u001b[43m)\u001b[49m\u001b[43m,\u001b[49m\n\u001b[0;32m   1884\u001b[0m \u001b[43m    \u001b[49m\u001b[43mcompression\u001b[49m\u001b[38;5;241;43m=\u001b[39;49m\u001b[38;5;28;43mself\u001b[39;49m\u001b[38;5;241;43m.\u001b[39;49m\u001b[43moptions\u001b[49m\u001b[38;5;241;43m.\u001b[39;49m\u001b[43mget\u001b[49m\u001b[43m(\u001b[49m\u001b[38;5;124;43m\"\u001b[39;49m\u001b[38;5;124;43mcompression\u001b[39;49m\u001b[38;5;124;43m\"\u001b[39;49m\u001b[43m,\u001b[49m\u001b[43m \u001b[49m\u001b[38;5;28;43;01mNone\u001b[39;49;00m\u001b[43m)\u001b[49m\u001b[43m,\u001b[49m\n\u001b[0;32m   1885\u001b[0m \u001b[43m    \u001b[49m\u001b[43mmemory_map\u001b[49m\u001b[38;5;241;43m=\u001b[39;49m\u001b[38;5;28;43mself\u001b[39;49m\u001b[38;5;241;43m.\u001b[39;49m\u001b[43moptions\u001b[49m\u001b[38;5;241;43m.\u001b[39;49m\u001b[43mget\u001b[49m\u001b[43m(\u001b[49m\u001b[38;5;124;43m\"\u001b[39;49m\u001b[38;5;124;43mmemory_map\u001b[39;49m\u001b[38;5;124;43m\"\u001b[39;49m\u001b[43m,\u001b[49m\u001b[43m \u001b[49m\u001b[38;5;28;43;01mFalse\u001b[39;49;00m\u001b[43m)\u001b[49m\u001b[43m,\u001b[49m\n\u001b[0;32m   1886\u001b[0m \u001b[43m    \u001b[49m\u001b[43mis_text\u001b[49m\u001b[38;5;241;43m=\u001b[39;49m\u001b[43mis_text\u001b[49m\u001b[43m,\u001b[49m\n\u001b[0;32m   1887\u001b[0m \u001b[43m    \u001b[49m\u001b[43merrors\u001b[49m\u001b[38;5;241;43m=\u001b[39;49m\u001b[38;5;28;43mself\u001b[39;49m\u001b[38;5;241;43m.\u001b[39;49m\u001b[43moptions\u001b[49m\u001b[38;5;241;43m.\u001b[39;49m\u001b[43mget\u001b[49m\u001b[43m(\u001b[49m\u001b[38;5;124;43m\"\u001b[39;49m\u001b[38;5;124;43mencoding_errors\u001b[39;49m\u001b[38;5;124;43m\"\u001b[39;49m\u001b[43m,\u001b[49m\u001b[43m \u001b[49m\u001b[38;5;124;43m\"\u001b[39;49m\u001b[38;5;124;43mstrict\u001b[39;49m\u001b[38;5;124;43m\"\u001b[39;49m\u001b[43m)\u001b[49m\u001b[43m,\u001b[49m\n\u001b[0;32m   1888\u001b[0m \u001b[43m    \u001b[49m\u001b[43mstorage_options\u001b[49m\u001b[38;5;241;43m=\u001b[39;49m\u001b[38;5;28;43mself\u001b[39;49m\u001b[38;5;241;43m.\u001b[39;49m\u001b[43moptions\u001b[49m\u001b[38;5;241;43m.\u001b[39;49m\u001b[43mget\u001b[49m\u001b[43m(\u001b[49m\u001b[38;5;124;43m\"\u001b[39;49m\u001b[38;5;124;43mstorage_options\u001b[39;49m\u001b[38;5;124;43m\"\u001b[39;49m\u001b[43m,\u001b[49m\u001b[43m \u001b[49m\u001b[38;5;28;43;01mNone\u001b[39;49;00m\u001b[43m)\u001b[49m\u001b[43m,\u001b[49m\n\u001b[0;32m   1889\u001b[0m \u001b[43m\u001b[49m\u001b[43m)\u001b[49m\n\u001b[0;32m   1890\u001b[0m \u001b[38;5;28;01massert\u001b[39;00m \u001b[38;5;28mself\u001b[39m\u001b[38;5;241m.\u001b[39mhandles \u001b[38;5;129;01mis\u001b[39;00m \u001b[38;5;129;01mnot\u001b[39;00m \u001b[38;5;28;01mNone\u001b[39;00m\n\u001b[0;32m   1891\u001b[0m f \u001b[38;5;241m=\u001b[39m \u001b[38;5;28mself\u001b[39m\u001b[38;5;241m.\u001b[39mhandles\u001b[38;5;241m.\u001b[39mhandle\n",
      "File \u001b[1;32mc:\\Users\\antho\\anaconda3\\envs\\NBAML\\lib\\site-packages\\pandas\\io\\common.py:873\u001b[0m, in \u001b[0;36mget_handle\u001b[1;34m(path_or_buf, mode, encoding, compression, memory_map, is_text, errors, storage_options)\u001b[0m\n\u001b[0;32m    868\u001b[0m \u001b[38;5;28;01melif\u001b[39;00m \u001b[38;5;28misinstance\u001b[39m(handle, \u001b[38;5;28mstr\u001b[39m):\n\u001b[0;32m    869\u001b[0m     \u001b[38;5;66;03m# Check whether the filename is to be opened in binary mode.\u001b[39;00m\n\u001b[0;32m    870\u001b[0m     \u001b[38;5;66;03m# Binary mode does not support 'encoding' and 'newline'.\u001b[39;00m\n\u001b[0;32m    871\u001b[0m     \u001b[38;5;28;01mif\u001b[39;00m ioargs\u001b[38;5;241m.\u001b[39mencoding \u001b[38;5;129;01mand\u001b[39;00m \u001b[38;5;124m\"\u001b[39m\u001b[38;5;124mb\u001b[39m\u001b[38;5;124m\"\u001b[39m \u001b[38;5;129;01mnot\u001b[39;00m \u001b[38;5;129;01min\u001b[39;00m ioargs\u001b[38;5;241m.\u001b[39mmode:\n\u001b[0;32m    872\u001b[0m         \u001b[38;5;66;03m# Encoding\u001b[39;00m\n\u001b[1;32m--> 873\u001b[0m         handle \u001b[38;5;241m=\u001b[39m \u001b[38;5;28;43mopen\u001b[39;49m\u001b[43m(\u001b[49m\n\u001b[0;32m    874\u001b[0m \u001b[43m            \u001b[49m\u001b[43mhandle\u001b[49m\u001b[43m,\u001b[49m\n\u001b[0;32m    875\u001b[0m \u001b[43m            \u001b[49m\u001b[43mioargs\u001b[49m\u001b[38;5;241;43m.\u001b[39;49m\u001b[43mmode\u001b[49m\u001b[43m,\u001b[49m\n\u001b[0;32m    876\u001b[0m \u001b[43m            \u001b[49m\u001b[43mencoding\u001b[49m\u001b[38;5;241;43m=\u001b[39;49m\u001b[43mioargs\u001b[49m\u001b[38;5;241;43m.\u001b[39;49m\u001b[43mencoding\u001b[49m\u001b[43m,\u001b[49m\n\u001b[0;32m    877\u001b[0m \u001b[43m            \u001b[49m\u001b[43merrors\u001b[49m\u001b[38;5;241;43m=\u001b[39;49m\u001b[43merrors\u001b[49m\u001b[43m,\u001b[49m\n\u001b[0;32m    878\u001b[0m \u001b[43m            \u001b[49m\u001b[43mnewline\u001b[49m\u001b[38;5;241;43m=\u001b[39;49m\u001b[38;5;124;43m\"\u001b[39;49m\u001b[38;5;124;43m\"\u001b[39;49m\u001b[43m,\u001b[49m\n\u001b[0;32m    879\u001b[0m \u001b[43m        \u001b[49m\u001b[43m)\u001b[49m\n\u001b[0;32m    880\u001b[0m     \u001b[38;5;28;01melse\u001b[39;00m:\n\u001b[0;32m    881\u001b[0m         \u001b[38;5;66;03m# Binary mode\u001b[39;00m\n\u001b[0;32m    882\u001b[0m         handle \u001b[38;5;241m=\u001b[39m \u001b[38;5;28mopen\u001b[39m(handle, ioargs\u001b[38;5;241m.\u001b[39mmode)\n",
      "\u001b[1;31mFileNotFoundError\u001b[0m: [Errno 2] No such file or directory: 'cd16.csv'"
     ]
    }
   ],
   "source": [
    "dict_16 = { \n",
    "    'cat': ['cat', 'picture of cat', 'cats', 'image of cats', 'moving cat', 'cat picture', 'cat image', 'cool cat'],\n",
    "    'dog': ['dog', 'picture of dog', 'dogs', 'image of dogs', 'moving dog', 'dog picture', 'dog image', 'cool dog']\n",
    "}\n",
    "\n",
    "# cat, picture of cat, cats, image of cats, moving cat, cat picture, cat image, cool cat, dog, picture of dog, dogs, image of dogs, moving dog, dog picture, dog image, cool dog\n",
    "\n",
    "dict_size(dict_16)\n",
    "print(check_accuracy('cd16.csv', dict_16))\n"
   ]
  },
  {
   "cell_type": "code",
   "execution_count": null,
   "metadata": {},
   "outputs": [],
   "source": [
    "dict_18 = { \n",
    "    'cat': ['cat', 'picture of cat', 'cats', 'image of cats', 'moving cat', 'cat picture', 'cat image', 'cool cat', 'sitting cat'],\n",
    "    'dog': ['dog', 'picture of dog', 'dogs', 'image of dogs', 'moving dog', 'dog picture', 'dog image', 'cool dog', 'sitting dog']\n",
    "}\n",
    "\n",
    "# cat, picture of cat, cats, image of cats, moving cat, cat picture, cat image, cool cat, sitting cat, dog, picture of dog, dogs, image of dogs, moving dog, dog picture, dog image, cool dog, sitting dog\n",
    "\n",
    "dict_size(dict_18)\n",
    "print(check_accuracy('cd18.csv', dict_18))\n"
   ]
  },
  {
   "cell_type": "code",
   "execution_count": null,
   "metadata": {},
   "outputs": [],
   "source": [
    "dict_20 = { \n",
    "    'cat': ['cat', 'picture of cat', 'cats', 'image of cats', 'moving cat', 'cat picture', 'cat image', 'cool cat', 'sitting cat', 'nice cat'],\n",
    "    'dog': ['dog', 'picture of dog', 'dogs', 'image of dogs', 'moving dog', 'dog picture', 'dog image', 'cool dog', 'sitting dog', 'nice dog']\n",
    "}\n",
    "\n",
    "# cat, picture of cat, cats, image of cats, moving cat, cat picture, cat image, cool cat, sitting cat, nice cat, dog, picture of dog, dogs, image of dogs, moving dog, dog picture, dog image, cool dog, sitting dog, nice dog\n",
    "\n",
    "dict_size(dict_20)\n",
    "print(check_accuracy('cd20.csv', dict_20))\n"
   ]
  },
  {
   "cell_type": "code",
   "execution_count": null,
   "metadata": {},
   "outputs": [],
   "source": [
    "dict_22 = { \n",
    "    'cat': ['cat', 'picture of cat', 'cats', 'image of cats', 'moving cat', 'cat picture', 'cat image', 'cool cat', 'sitting cat', 'nice cat', 'image of nice cat'],\n",
    "    'dog': ['dog', 'picture of dog', 'dogs', 'image of dogs', 'moving dog', 'dog picture', 'dog image', 'cool dog', 'sitting dog', 'nice dog', 'image of nice dog']\n",
    "}\n",
    "\n",
    "# cat, picture of cat, cats, image of cats, moving cat, cat picture, cat image, cool cat, sitting cat, nice cat, image of nice cat, dog, picture of dog, dogs, image of dogs, moving dog, dog picture, dog image, cool dog, sitting dog, nice dog, image of nice dog\n",
    "\n",
    "dict_size(dict_22)\n",
    "print(check_accuracy('cd22.csv', dict_22))\n"
   ]
  },
  {
   "cell_type": "code",
   "execution_count": null,
   "metadata": {},
   "outputs": [],
   "source": [
    "dict_24 = { \n",
    "    'cat': ['cat', 'picture of cat', 'cats', 'image of cats', 'moving cat', 'cat picture', 'cat image', 'cool cat', 'sitting cat', 'nice cat', 'image of nice cat', 'image of cool cat'],\n",
    "    'dog': ['dog', 'picture of dog', 'dogs', 'image of dogs', 'moving dog', 'dog picture', 'dog image', 'cool dog', 'sitting dog', 'nice dog', 'image of nice dog', 'image of cool dog']\n",
    "}\n",
    "\n",
    "# cat, picture of cat, cats, image of cats, moving cat, cat picture, cat image, cool cat, sitting cat, nice cat, image of nice cat, image of cool cat, dog, picture of dog, dogs, image of dogs, moving dog, dog picture, dog image, cool dog, sitting dog, nice dog, image of nice dog, image of cool dog\n",
    "\n",
    "dict_size(dict_24)\n",
    "print(check_accuracy('cd24.csv', dict_24))\n"
   ]
  },
  {
   "cell_type": "code",
   "execution_count": null,
   "metadata": {},
   "outputs": [],
   "source": [
    "dict_26 = { \n",
    "    'cat': [\n",
    "        'cat', 'picture of cat', 'cats', 'image of cats', 'moving cat', 'cat picture', 'cat image',\n",
    "        'cool cat', 'sitting cat', 'nice cat', 'image of nice cat', 'image of cool cat', 'image of cat'\n",
    "    ],\n",
    "    'dog': [\n",
    "        'dog', 'picture of dog', 'dogs', 'image of dogs', 'moving dog', 'dog picture', 'dog image',\n",
    "        'cool dog', 'sitting dog', 'nice dog', 'image of nice dog', 'image of cool dog', 'image of dog'\n",
    "    ]\n",
    "}\n",
    "\n",
    "# cat, picture of cat, cats, image of cats, moving cat, cat picture, cat image, cool cat, sitting cat, nice cat, image of nice cat, image of cool cat, image of cat, dog, picture of dog, dogs, image of dogs, moving dog, dog picture, dog image, cool dog, sitting dog, nice dog, image of nice dog, image of cool dog, image of dog\n",
    "\n",
    "dict_size(dict_26)\n",
    "print(check_accuracy('cd26.csv', dict_26))\n"
   ]
  },
  {
   "cell_type": "code",
   "execution_count": null,
   "metadata": {},
   "outputs": [],
   "source": [
    "dict_28 = { \n",
    "    'cat': [\n",
    "        'cat', 'picture of cat', 'cats', 'image of cats', 'moving cat', 'cat picture', 'cat image',\n",
    "        'cool cat', 'sitting cat', 'nice cat', 'image of nice cat', 'image of cool cat', 'image of cat', 'picture of cats'\n",
    "    ],\n",
    "    'dog': [\n",
    "        'dog', 'picture of dog', 'dogs', 'image of dogs', 'moving dog', 'dog picture', 'dog image',\n",
    "        'cool dog', 'sitting dog', 'nice dog', 'image of nice dog', 'image of cool dog', 'image of dog', 'picture of dogs'\n",
    "    ]\n",
    "}\n",
    "\n",
    "# cat, picture of cat, cats, image of cats, moving cat, cat picture, cat image, cool cat, sitting cat, nice cat, image of nice cat, image of cool cat, image of cat, picture of cats, dog, picture of dog, dogs, image of dogs, moving dog, dog picture, dog image, cool dog, sitting dog, nice dog, image of nice dog, image of cool dog, image of dog, picture of dogs\n",
    "\n",
    "dict_size(dict_28)\n",
    "print(check_accuracy('cd28.csv', dict_28))\n"
   ]
  },
  {
   "cell_type": "code",
   "execution_count": null,
   "metadata": {},
   "outputs": [],
   "source": [
    "dict_30 = { \n",
    "    'cat': [\n",
    "        'cat', 'picture of cat', 'cats', 'image of cats', 'moving cat', 'cat picture', 'cat image',\n",
    "        'cool cat', 'sitting cat', 'nice cat', 'image of nice cat', 'image of cool cat', 'image of cat',\n",
    "        'picture of cats', 'moving picture of cat'\n",
    "    ],\n",
    "    'dog': [\n",
    "        'dog', 'picture of dog', 'dogs', 'image of dogs', 'moving dog', 'dog picture', 'dog image',\n",
    "        'cool dog', 'sitting dog', 'nice dog', 'image of nice dog', 'image of cool dog', 'image of dog',\n",
    "        'picture of dogs', 'moving picture of dog'\n",
    "    ]\n",
    "}\n",
    "\n",
    "# cat, picture of cat, cats, image of cats, moving cat, cat picture, cat image, cool cat, sitting cat, nice cat, image of nice cat, image of cool cat, image of cat, picture of cats, moving picture of cat, dog, picture of dog, dogs, image of dogs, moving dog, dog picture, dog image, cool dog, sitting dog, nice dog, image of nice dog, image of cool dog, image of dog, picture of dogs, moving picture of dog\n",
    "\n",
    "dict_size(dict_30)\n",
    "print(check_accuracy('cd30.csv', dict_30))\n"
   ]
  },
  {
   "cell_type": "code",
   "execution_count": null,
   "metadata": {},
   "outputs": [],
   "source": [
    "dict_32 = { \n",
    "    'cat': [\n",
    "        'cat', 'picture of cat', 'cats', 'image of cats', 'moving cat', 'cat picture', 'cat image',\n",
    "        'cool cat', 'sitting cat', 'nice cat', 'image of nice cat', 'image of cool cat', 'image of cat',\n",
    "        'picture of cats', 'moving picture of cat', 'cool picture of cat'\n",
    "    ],\n",
    "    'dog': [\n",
    "        'dog', 'picture of dog', 'dogs', 'image of dogs', 'moving dog', 'dog picture', 'dog image',\n",
    "        'cool dog', 'sitting dog', 'nice dog', 'image of nice dog', 'image of cool dog', 'image of dog',\n",
    "        'picture of dogs', 'moving picture of dog', 'cool picture of dog'\n",
    "    ]\n",
    "}\n",
    "\n",
    "# cat, picture of cat, cats, image of cats, moving cat, cat picture, cat image, cool cat, sitting cat, nice cat, image of nice cat, image of cool cat, image of cat, picture of cats, moving picture of cat, cool picture of cat, dog, picture of dog, dogs, image of dogs, moving dog, dog picture, dog image, cool dog, sitting dog, nice dog, image of nice dog, image of cool dog, image of dog, picture of dogs, moving picture of dog, cool picture of dog\n",
    "\n",
    "dict_size(dict_32)\n",
    "print(check_accuracy('cd32.csv', dict_32))\n"
   ]
  },
  {
   "cell_type": "code",
   "execution_count": null,
   "metadata": {},
   "outputs": [],
   "source": [
    "dict_36 = { \n",
    "    'cat': [\n",
    "        'cat', 'picture of cat', 'cats', 'image of cats', 'moving cat', 'cat picture', 'cat image',\n",
    "        'cool cat', 'sitting cat', 'nice cat', 'image of nice cat', 'image of cool cat', 'image of cat',\n",
    "        'picture of cats', 'moving picture of cat', 'cool picture of cat',\n",
    "        'funny cat', 'funny image of cat'\n",
    "    ],\n",
    "    'dog': [\n",
    "        'dog', 'picture of dog', 'dogs', 'image of dogs', 'moving dog', 'dog picture', 'dog image',\n",
    "        'cool dog', 'sitting dog', 'nice dog', 'image of nice dog', 'image of cool dog', 'image of dog',\n",
    "        'picture of dogs', 'moving picture of dog', 'cool picture of dog',\n",
    "        'funny dog', 'funny image of dog'\n",
    "    ]\n",
    "}\n",
    "\n",
    "# cat, picture of cat, cats, image of cats, moving cat, cat picture, cat image, cool cat, sitting cat, nice cat, image of nice cat, image of cool cat, image of cat, picture of cats, moving picture of cat, cool picture of cat, funny cat, funny image of cat, dog, picture of dog, dogs, image of dogs, moving dog, dog picture, dog image, cool dog, sitting dog, nice dog, image of nice dog, image of cool dog, image of dog, picture of dogs, moving picture of dog, cool picture of dog, funny dog, funny image of dog\n",
    "\n",
    "dict_size(dict_36)\n",
    "print(check_accuracy('cd36.csv', dict_36))\n"
   ]
  },
  {
   "cell_type": "code",
   "execution_count": null,
   "metadata": {},
   "outputs": [],
   "source": [
    "dict_38 = { \n",
    "    'cat': [\n",
    "        'cat', 'picture of cat', 'cats', 'image of cats', 'moving cat', 'cat picture', 'cat image',\n",
    "        'cool cat', 'sitting cat', 'nice cat', 'image of nice cat', 'image of cool cat', 'image of cat',\n",
    "        'picture of cats', 'moving picture of cat', 'cool picture of cat',\n",
    "        'funny cat', 'funny image of cat', 'funny picture of cat'\n",
    "    ],\n",
    "    'dog': [\n",
    "        'dog', 'picture of dog', 'dogs', 'image of dogs', 'moving dog', 'dog picture', 'dog image',\n",
    "        'cool dog', 'sitting dog', 'nice dog', 'image of nice dog', 'image of cool dog', 'image of dog',\n",
    "        'picture of dogs', 'moving picture of dog', 'cool picture of dog',\n",
    "        'funny dog', 'funny image of dog', 'funny picture of dog'\n",
    "    ]\n",
    "}\n",
    "\n",
    "# cat, picture of cat, cats, image of cats, moving cat, cat picture, cat image, cool cat, sitting cat, nice cat, image of nice cat, image of cool cat, image of cat, picture of cats, moving picture of cat, cool picture of cat, funny cat, funny image of cat, funny picture of cat, dog, picture of dog, dogs, image of dogs, moving dog, dog picture, dog image, cool dog, sitting dog, nice dog, image of nice dog, image of cool dog, image of dog, picture of dogs, moving picture of dog, cool picture of dog, funny dog, funny image of dog, funny picture of dog\n",
    "\n",
    "dict_size(dict_38)\n",
    "print(check_accuracy('cd38.csv', dict_38))\n"
   ]
  },
  {
   "cell_type": "code",
   "execution_count": null,
   "metadata": {},
   "outputs": [],
   "source": [
    "dict_42 = { \n",
    "    'cat': [\n",
    "        'cat', 'picture of cat', 'cats', 'image of cats', 'moving cat', 'cat picture', 'cat image',\n",
    "        'cool cat', 'sitting cat', 'nice cat', 'image of nice cat', 'image of cool cat', 'image of cat',\n",
    "        'picture of cats', 'moving picture of cat', 'cool picture of cat',\n",
    "        'funny cat', 'funny image of cat', 'funny picture of cat',\n",
    "        'cute cat', 'cute image of cat'\n",
    "    ],\n",
    "    'dog': [\n",
    "        'dog', 'picture of dog', 'dogs', 'image of dogs', 'moving dog', 'dog picture', 'dog image',\n",
    "        'cool dog', 'sitting dog', 'nice dog', 'image of nice dog', 'image of cool dog', 'image of dog',\n",
    "        'picture of dogs', 'moving picture of dog', 'cool picture of dog',\n",
    "        'funny dog', 'funny image of dog', 'funny picture of dog',\n",
    "        'cute dog', 'cute image of dog'\n",
    "    ]\n",
    "}\n",
    "\n",
    "# cat, picture of cat, cats, image of cats, moving cat, cat picture, cat image, cool cat, sitting cat, nice cat, image of nice cat, image of cool cat, image of cat, picture of cats, moving picture of cat, cool picture of cat, funny cat, funny image of cat, funny picture of cat, cute cat, cute image of cat, dog, picture of dog, dogs, image of dogs, moving dog, dog picture, dog image, cool dog, sitting dog, nice dog, image of nice dog, image of cool dog, image of dog, picture of dogs, moving picture of dog, cool picture of dog, funny dog, funny image of dog, funny picture of dog, cute dog, cute image of dog\n",
    "\n",
    "dict_size(dict_42)\n",
    "print(check_accuracy('cd42.csv', dict_42))\n"
   ]
  },
  {
   "cell_type": "code",
   "execution_count": null,
   "metadata": {},
   "outputs": [],
   "source": [
    "dict_44 = { \n",
    "    'cat': [\n",
    "        'cat', 'picture of cat', 'cats', 'image of cats', 'moving cat', 'cat picture', 'cat image',\n",
    "        'cool cat', 'sitting cat', 'nice cat', 'image of nice cat', 'image of cool cat', 'image of cat',\n",
    "        'picture of cats', 'moving picture of cat', 'cool picture of cat',\n",
    "        'funny cat', 'funny image of cat', 'funny picture of cat',\n",
    "        'cute cat', 'cute image of cat', 'cute picture of cat'\n",
    "    ],\n",
    "    'dog': [\n",
    "        'dog', 'picture of dog', 'dogs', 'image of dogs', 'moving dog', 'dog picture', 'dog image',\n",
    "        'cool dog', 'sitting dog', 'nice dog', 'image of nice dog', 'image of cool dog', 'image of dog',\n",
    "        'picture of dogs', 'moving picture of dog', 'cool picture of dog',\n",
    "        'funny dog', 'funny image of dog', 'funny picture of dog',\n",
    "        'cute dog', 'cute image of dog', 'cute picture of dog'\n",
    "    ]\n",
    "}\n",
    "\n",
    "# cat, picture of cat, cats, image of cats, moving cat, cat picture, cat image, cool cat, sitting cat, nice cat, image of nice cat, image of cool cat, image of cat, picture of cats, moving picture of cat, cool picture of cat, funny cat, funny image of cat, funny picture of cat, cute cat, cute image of cat, cute picture of cat, dog, picture of dog, dogs, image of dogs, moving dog, dog picture, dog image, cool dog, sitting dog, nice dog, image of nice dog, image of cool dog, image of dog, picture of dogs, moving picture of dog, cool picture of dog, funny dog, funny image of dog, funny picture of dog, cute dog, cute image of dog, cute picture of dog\n",
    "\n",
    "dict_size(dict_44)\n",
    "print(check_accuracy('cd44.csv', dict_44))\n"
   ]
  },
  {
   "cell_type": "code",
   "execution_count": null,
   "metadata": {},
   "outputs": [],
   "source": [
    "dict_48 = { \n",
    "    'cat': [\n",
    "        'cat', 'picture of cat', 'cats', 'image of cats', 'moving cat', 'cat picture', 'cat image',\n",
    "        'cool cat', 'sitting cat', 'nice cat', 'image of nice cat', 'image of cool cat', 'image of cat',\n",
    "        'picture of cats', 'moving picture of cat', 'cool picture of cat',\n",
    "        'funny cat', 'funny image of cat', 'funny picture of cat',\n",
    "        'cute cat', 'cute image of cat', 'cute picture of cat',\n",
    "        'amazing cat', 'amazing image of cat'\n",
    "    ],\n",
    "    'dog': [\n",
    "        'dog', 'picture of dog', 'dogs', 'image of dogs', 'moving dog', 'dog picture', 'dog image',\n",
    "        'cool dog', 'sitting dog', 'nice dog', 'image of nice dog', 'image of cool dog', 'image of dog',\n",
    "        'picture of dogs', 'moving picture of dog', 'cool picture of dog',\n",
    "        'funny dog', 'funny image of dog', 'funny picture of dog',\n",
    "        'cute dog', 'cute image of dog', 'cute picture of dog',\n",
    "        'amazing dog', 'amazing image of dog'\n",
    "    ]\n",
    "}\n",
    "\n",
    "# cat, picture of cat, cats, image of cats, moving cat, cat picture, cat image, cool cat, sitting cat, nice cat, image of nice cat, image of cool cat, image of cat, picture of cats, moving picture of cat, cool picture of cat, funny cat, funny image of cat, funny picture of cat, cute cat, cute image of cat, cute picture of cat, amazing cat, amazing image of cat, dog, picture of dog, dogs, image of dogs, moving dog, dog picture, dog image, cool dog, sitting dog, nice dog, image of nice dog, image of cool dog, image of dog, picture of dogs, moving picture of dog, cool picture of dog, funny dog, funny image of dog, funny picture of dog, cute dog, cute image of dog, cute picture of dog, amazing dog, amazing image of dog\n",
    "\n",
    "dict_size(dict_48)\n",
    "print(check_accuracy('cd48.csv', dict_48))\n"
   ]
  },
  {
   "cell_type": "code",
   "execution_count": null,
   "metadata": {},
   "outputs": [],
   "source": [
    "dict_50 = { \n",
    "    'cat': [\n",
    "        'cat', 'picture of cat', 'cats', 'image of cats', 'moving cat', 'cat picture', 'cat image',\n",
    "        'cool cat', 'sitting cat', 'nice cat', 'image of nice cat', 'image of cool cat', 'image of cat',\n",
    "        'picture of cats', 'moving picture of cat', 'cool picture of cat',\n",
    "        'funny cat', 'funny image of cat', 'funny picture of cat',\n",
    "        'cute cat', 'cute image of cat', 'cute picture of cat',\n",
    "        'amazing cat', 'amazing image of cat', 'amazing picture of cat'\n",
    "    ],\n",
    "    'dog': [\n",
    "        'dog', 'picture of dog', 'dogs', 'image of dogs', 'moving dog', 'dog picture', 'dog image',\n",
    "        'cool dog', 'sitting dog', 'nice dog', 'image of nice dog', 'image of cool dog', 'image of dog',\n",
    "        'picture of dogs', 'moving picture of dog', 'cool picture of dog',\n",
    "        'funny dog', 'funny image of dog', 'funny picture of dog',\n",
    "        'cute dog', 'cute image of dog', 'cute picture of dog',\n",
    "        'amazing dog', 'amazing image of dog', 'amazing picture of dog'\n",
    "    ]\n",
    "}\n",
    "\n",
    "# cat, picture of cat, cats, image of cats, moving cat, cat picture, cat image, cool cat, sitting cat, nice cat, image of nice cat, image of cool cat, image of cat, picture of cats, moving picture of cat, cool picture of cat, funny cat, funny image of cat, funny picture of cat, cute cat, cute image of cat, cute picture of cat, amazing cat, amazing image of cat, amazing picture of cat, dog, picture of dog, dogs, image of dogs, moving dog, dog picture, dog image, cool dog, sitting dog, nice dog, image of nice dog, image of cool dog, image of dog, picture of dogs, moving picture of dog, cool picture of dog, funny dog, funny image of dog, funny picture of dog, cute dog, cute image of dog, cute picture of dog, amazing dog, amazing image of dog, amazing picture of dog\n",
    "\n",
    "dict_size(dict_50)\n",
    "print(check_accuracy('cd50.csv', dict_50))\n"
   ]
  },
  {
   "cell_type": "code",
   "execution_count": null,
   "metadata": {},
   "outputs": [],
   "source": [
    "dict_52 = { \n",
    "    'cat': [\n",
    "        'cat', 'picture of cat', 'cats', 'image of cats', 'moving cat', 'cat picture', 'cat image',\n",
    "        'cool cat', 'sitting cat', 'nice cat', 'image of nice cat', 'image of cool cat', 'image of cat',\n",
    "        'picture of cats', 'moving picture of cat', 'cool picture of cat',\n",
    "        'funny cat', 'funny image of cat', 'funny picture of cat',\n",
    "        'cute cat', 'cute image of cat', 'cute picture of cat',\n",
    "        'amazing cat', 'amazing image of cat', 'amazing picture of cat',\n",
    "        'adorable cat'\n",
    "    ],\n",
    "    'dog': [\n",
    "        'dog', 'picture of dog', 'dogs', 'image of dogs', 'moving dog', 'dog picture', 'dog image',\n",
    "        'cool dog', 'sitting dog', 'nice dog', 'image of nice dog', 'image of cool dog', 'image of dog',\n",
    "        'picture of dogs', 'moving picture of dog', 'cool picture of dog',\n",
    "        'funny dog', 'funny image of dog', 'funny picture of dog',\n",
    "        'cute dog', 'cute image of dog', 'cute picture of dog',\n",
    "        'amazing dog', 'amazing image of dog', 'amazing picture of dog',\n",
    "        'adorable dog'\n",
    "    ]\n",
    "}\n",
    "\n",
    "# cat, picture of cat, cats, image of cats, moving cat, cat picture, cat image, cool cat, sitting cat, nice cat, image of nice cat, image of cool cat, image of cat, picture of cats, moving picture of cat, cool picture of cat, funny cat, funny image of cat, funny picture of cat, cute cat, cute image of cat, cute picture of cat, amazing cat, amazing image of cat, amazing picture of cat, adorable cat, dog, picture of dog, dogs, image of dogs, moving dog, dog picture, dog image, cool dog, sitting dog, nice dog, image of nice dog, image of cool dog, image of dog, picture of dogs, moving picture of dog, cool picture of dog, funny dog, funny image of dog, funny picture of dog, cute dog, cute image of dog, cute picture of dog, amazing dog, amazing image of dog, amazing picture of dog, adorable dog\n",
    "\n",
    "dict_size(dict_52)\n",
    "print(check_accuracy('cd52.csv', dict_52))\n"
   ]
  },
  {
   "cell_type": "code",
   "execution_count": null,
   "metadata": {},
   "outputs": [],
   "source": [
    "dict_54 = { \n",
    "    'cat': [\n",
    "        'cat', 'picture of cat', 'cats', 'image of cats', 'moving cat', 'cat picture', 'cat image',\n",
    "        'cool cat', 'sitting cat', 'nice cat', 'image of nice cat', 'image of cool cat', 'image of cat',\n",
    "        'picture of cats', 'moving picture of cat', 'cool picture of cat',\n",
    "        'funny cat', 'funny image of cat', 'funny picture of cat',\n",
    "        'cute cat', 'cute image of cat', 'cute picture of cat',\n",
    "        'amazing cat', 'amazing image of cat', 'amazing picture of cat',\n",
    "        'adorable cat', 'adorable image of cat'\n",
    "    ],\n",
    "    'dog': [\n",
    "        'dog', 'picture of dog', 'dogs', 'image of dogs', 'moving dog', 'dog picture', 'dog image',\n",
    "        'cool dog', 'sitting dog', 'nice dog', 'image of nice dog', 'image of cool dog', 'image of dog',\n",
    "        'picture of dogs', 'moving picture of dog', 'cool picture of dog',\n",
    "        'funny dog', 'funny image of dog', 'funny picture of dog',\n",
    "        'cute dog', 'cute image of dog', 'cute picture of dog',\n",
    "        'amazing dog', 'amazing image of dog', 'amazing picture of dog',\n",
    "        'adorable dog', 'adorable image of dog'\n",
    "    ]\n",
    "}\n",
    "\n",
    "# cat, picture of cat, cats, image of cats, moving cat, cat picture, cat image, cool cat, sitting cat, nice cat, image of nice cat, image of cool cat, image of cat, picture of cats, moving picture of cat, cool picture of cat, funny cat, funny image of cat, funny picture of cat, cute cat, cute image of cat, cute picture of cat, amazing cat, amazing image of cat, amazing picture of cat, adorable cat, adorable image of cat, dog, picture of dog, dogs, image of dogs, moving dog, dog picture, dog image, cool dog, sitting dog, nice dog, image of nice dog, image of cool dog, image of dog, picture of dogs, moving picture of dog, cool picture of dog, funny dog, funny image of dog, funny picture of dog, cute dog, cute image of dog, cute picture of dog, amazing dog, amazing image of dog, amazing picture of dog, adorable dog, adorable image of dog\n",
    "\n",
    "dict_size(dict_54)\n",
    "print(check_accuracy('cd54.csv', dict_54))\n"
   ]
  },
  {
   "cell_type": "code",
   "execution_count": null,
   "metadata": {},
   "outputs": [],
   "source": [
    "dict_56 = { \n",
    "    'cat': [\n",
    "        'cat', 'picture of cat', 'cats', 'image of cats', 'moving cat', 'cat picture', 'cat image',\n",
    "        'cool cat', 'sitting cat', 'nice cat', 'image of nice cat', 'image of cool cat', 'image of cat',\n",
    "        'picture of cats', 'moving picture of cat', 'cool picture of cat',\n",
    "        'funny cat', 'funny image of cat', 'funny picture of cat',\n",
    "        'cute cat', 'cute image of cat', 'cute picture of cat',\n",
    "        'amazing cat', 'amazing image of cat', 'amazing picture of cat',\n",
    "        'adorable cat', 'adorable image of cat', 'adorable picture of cat'\n",
    "    ],\n",
    "    'dog': [\n",
    "        'dog', 'picture of dog', 'dogs', 'image of dogs', 'moving dog', 'dog picture', 'dog image',\n",
    "        'cool dog', 'sitting dog', 'nice dog', 'image of nice dog', 'image of cool dog', 'image of dog',\n",
    "        'picture of dogs', 'moving picture of dog', 'cool picture of dog',\n",
    "        'funny dog', 'funny image of dog', 'funny picture of dog',\n",
    "        'cute dog', 'cute image of dog', 'cute picture of dog',\n",
    "        'amazing dog', 'amazing image of dog', 'amazing picture of dog',\n",
    "        'adorable dog', 'adorable image of dog', 'adorable picture of dog'\n",
    "    ]\n",
    "}\n",
    "\n",
    "# cat, picture of cat, cats, image of cats, moving cat, cat picture, cat image, cool cat, sitting cat, nice cat, image of nice cat, image of cool cat, image of cat, picture of cats, moving picture of cat, cool picture of cat, funny cat, funny image of cat, funny picture of cat, cute cat, cute image of cat, cute picture of cat, amazing cat, amazing image of cat, amazing picture of cat, adorable cat, adorable image of cat, adorable picture of cat, dog, picture of dog, dogs, image of dogs, moving dog, dog picture, dog image, cool dog, sitting dog, nice dog, image of nice dog, image of cool dog, image of dog, picture of dogs, moving picture of dog, cool picture of dog, funny dog, funny image of dog, funny picture of dog, cute dog, cute image of dog, cute picture of dog, amazing dog, amazing image of dog, amazing picture of dog, adorable dog, adorable image of dog, adorable picture of dog\n",
    "\n",
    "dict_size(dict_56)\n",
    "print(check_accuracy('cd56.csv', dict_56))\n"
   ]
  },
  {
   "cell_type": "markdown",
   "metadata": {},
   "source": [
    "# Graphing"
   ]
  },
  {
   "cell_type": "code",
   "execution_count": null,
   "metadata": {},
   "outputs": [],
   "source": [
    "def append_accuracies(category_counts, label, color, marker):\n",
    "    amount_categories = []\n",
    "    accuracies = []\n",
    "\n",
    "    # Calculate accuracy for each category count\n",
    "    for count, accuracy in category_counts.items():\n",
    "        if isinstance(accuracy, list):\n",
    "            for each in accuracy:\n",
    "                amount_categories.append(count)\n",
    "                accuracies.append(each)\n",
    "        else:\n",
    "            amount_categories.append(count)\n",
    "            accuracies.append(accuracy)\n",
    "\n",
    "    # Debug print\n",
    "    print(len(amount_categories), len(accuracies))\n",
    "    \n",
    "    # Plot data with the specified label and color\n",
    "    plt.plot(amount_categories, accuracies, marker= marker, linestyle='None', color=color, label=label)"
   ]
  },
  {
   "cell_type": "code",
   "execution_count": null,
   "metadata": {},
   "outputs": [],
   "source": [
    "category_counts = {\n",
    "    2: [check_accuracy('cats_vs_dogs_base.csv', dict_2)],\n",
    "    4: [check_accuracy('cd4.csv', dict_4)],\n",
    "    6: [check_accuracy('cd6.csv', dict_6)],\n",
    "    8: [check_accuracy('cd8.csv', dict_8)],\n",
    "    10: [check_accuracy('cd10.csv', dict_10)],\n",
    "    12: [check_accuracy('cd12.csv', dict_12)],\n",
    "    14: [check_accuracy('cd14.csv', dict_14)],\n",
    "    16: [check_accuracy('cd16.csv', dict_16)],\n",
    "    18: [check_accuracy('cd18.csv', dict_18)],\n",
    "    20: [check_accuracy('cd20.csv', dict_20)],\n",
    "    22: [check_accuracy('cd22.csv', dict_22)],\n",
    "    24: [check_accuracy('cd24.csv', dict_24)],\n",
    "    26: [check_accuracy('cd26.csv', dict_26)],\n",
    "    28: [check_accuracy('cd28.csv', dict_28)],\n",
    "    30: [check_accuracy('cd30.csv', dict_30)],\n",
    "    32: [check_accuracy('cd32.csv', dict_32)],\n",
    "    36: [check_accuracy('cd36.csv', dict_36)],\n",
    "    38: [check_accuracy('cd38.csv', dict_38)],\n",
    "    42: [check_accuracy('cd42.csv', dict_42)],\n",
    "    44: [check_accuracy('cd44.csv', dict_44)],\n",
    "    48: [check_accuracy('cd48.csv', dict_48)],\n",
    "    50: [check_accuracy('cd50.csv', dict_50)],\n",
    "    52: [check_accuracy('cd52.csv', dict_52)],\n",
    "    54: [check_accuracy('cd54.csv', dict_54)],\n",
    "    56: [check_accuracy('cd56.csv', dict_56)]\n",
    "}\n",
    "\n",
    "amount_categories = []\n",
    "accuracies = []"
   ]
  },
  {
   "cell_type": "code",
   "execution_count": null,
   "metadata": {},
   "outputs": [
    {
     "ename": "NameError",
     "evalue": "name 'calculate_accuracy' is not defined",
     "output_type": "error",
     "traceback": [
      "\u001b[1;31m---------------------------------------------------------------------------\u001b[0m",
      "\u001b[1;31mNameError\u001b[0m                                 Traceback (most recent call last)",
      "Cell \u001b[1;32mIn[35], line 5\u001b[0m\n\u001b[0;32m      3\u001b[0m \u001b[38;5;28;01mfor\u001b[39;00m count, files \u001b[38;5;129;01min\u001b[39;00m category_counts\u001b[38;5;241m.\u001b[39mitems():\n\u001b[0;32m      4\u001b[0m         \u001b[38;5;28;01mfor\u001b[39;00m file \u001b[38;5;129;01min\u001b[39;00m files:\n\u001b[1;32m----> 5\u001b[0m             accuracy_percent \u001b[38;5;241m=\u001b[39m \u001b[43mcalculate_accuracy\u001b[49m(file)\n\u001b[0;32m      6\u001b[0m             amount_categories\u001b[38;5;241m.\u001b[39mappend(count)\n\u001b[0;32m      7\u001b[0m             accuracies\u001b[38;5;241m.\u001b[39mappend((count, accuracy_percent))\n",
      "\u001b[1;31mNameError\u001b[0m: name 'calculate_accuracy' is not defined"
     ]
    }
   ],
   "source": [
    "plt.figure(figsize=(10, 6))\n",
    "plt.xlabel('Number of Categories', fontsize=14)\n",
    "plt.ylabel('Accuracy (%)', fontsize=14)\n",
    "plt.title('Accuracy vs. Number of Categories', fontsize=16, pad=15)\n",
    "plt.grid()\n",
    "\n",
    "#Calling function\n",
    "append_accuracies(category_counts,\"Vehicles7\", \"green\", '^')\n",
    "\n",
    "blue_patch = mpatches.Patch(color='blue', label='Animals4')\n",
    "red_patch = mpatches.Patch(color='green', label='Vehicles7')\n",
    "plt.legend(handles=[blue_patch, red_patch], fontsize=14)\n",
    "\n",
    "#Axis ranges\n",
    "\n",
    "plt.xlim(0, 80)  \n",
    "plt.ylim(0, 100)\n",
    "\n",
    "plt.show()"
   ]
  }
 ],
 "metadata": {
  "kernelspec": {
   "display_name": "NBAML",
   "language": "python",
   "name": "python3"
  },
  "language_info": {
   "codemirror_mode": {
    "name": "ipython",
    "version": 3
   },
   "file_extension": ".py",
   "mimetype": "text/x-python",
   "name": "python",
   "nbconvert_exporter": "python",
   "pygments_lexer": "ipython3",
   "version": "3.10.13"
  }
 },
 "nbformat": 4,
 "nbformat_minor": 2
}
