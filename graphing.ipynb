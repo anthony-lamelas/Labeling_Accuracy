{
 "cells": [
  {
   "cell_type": "code",
   "execution_count": 1,
   "metadata": {},
   "outputs": [],
   "source": [
    "import pandas as pd\n",
    "import matplotlib.pyplot as plt\n",
    "import matplotlib.patches as mpatches"
   ]
  },
  {
   "cell_type": "code",
   "execution_count": 2,
   "metadata": {},
   "outputs": [],
   "source": [
    "def dict_size(dict):\n",
    "    total_count = sum(len(values) for values in dict.values())\n",
    "    print(total_count)"
   ]
  },
  {
   "cell_type": "markdown",
   "metadata": {},
   "source": [
    "# Accuracy Functions"
   ]
  },
  {
   "cell_type": "code",
   "execution_count": 3,
   "metadata": {},
   "outputs": [],
   "source": [
    "def CDcheck_accuracy(csv_path, dictionary):\n",
    "\n",
    "    normalized_dict = {key.lower(): [value.lower() for value in values] for key, values in dictionary.items()}\n",
    "\n",
    "    # Create a reverse lookup dictionary\n",
    "    reverse_dict = {}\n",
    "    for key, values in normalized_dict.items():\n",
    "        for value in values:\n",
    "            reverse_dict[value] = key  # Map all variations to the primary key\n",
    "\n",
    "    data = pd.read_csv(csv_path, header=None, names=['file_path', 'label'])\n",
    "\n",
    "    data['label'] = data['label'].str.strip().str.lower()\n",
    "\n",
    "    count = 0\n",
    "    total = 0\n",
    "\n",
    "    for index, row in data.iterrows():\n",
    "\n",
    "        path_parts = row['file_path'].split('/')\n",
    "        if len(path_parts) > 2:\n",
    "            if any(char.isupper() for char in path_parts[-1]):\n",
    "                name = 'cat'\n",
    "            else:\n",
    "                name = 'dog'\n",
    "\n",
    "            # Find the primary key for the label using the reverse lookup dictionary\n",
    "            primary_key = reverse_dict.get(row['label'], None)\n",
    "\n",
    "            if primary_key and name in normalized_dict[primary_key]:\n",
    "                count += 1\n",
    "        total += 1\n",
    "\n",
    "    accuracy = count / total if total > 0 else 0\n",
    "    return round(accuracy * 100, 2)"
   ]
  },
  {
   "cell_type": "code",
   "execution_count": 4,
   "metadata": {},
   "outputs": [],
   "source": [
    "def aObase_accuracy(csv_path):\n",
    "\n",
    "    data = pd.read_csv(csv_path, header=None, names=['file_path', 'label'])\n",
    "\n",
    "    # Strip and convert labels to lowercase\n",
    "    data['label'] = data['label'].str.strip().str.lower()\n",
    "\n",
    "    count = 0\n",
    "    total = 0\n",
    "\n",
    "    for index, row in data.iterrows():\n",
    "\n",
    "        path_parts = row['file_path'].split('/')\n",
    "        if len(path_parts) > 2:\n",
    "            vehicle_name = path_parts[-2].strip().lower()  \n",
    "\n",
    "            # Check if the label and vehicle name match in the dictionary\n",
    "            if row['label'] == vehicle_name:\n",
    "                count += 1\n",
    "        total += 1\n",
    "\n",
    "    accuracy = count / total if total > 0 else 0\n",
    "    return round(accuracy * 100, 2)"
   ]
  },
  {
   "cell_type": "code",
   "execution_count": 5,
   "metadata": {},
   "outputs": [],
   "source": [
    "def card_accuracy(csv_path, acc_dict):\n",
    "    data = pd.read_csv(csv_path, header=None, names=['file_path', 'label'])\n",
    "\n",
    "    # Normalize labels\n",
    "    data['label'] = data['label'].str.strip().str.lower()\n",
    "\n",
    "    # Normalize the dictionary keys and values\n",
    "    normalized_dict = {key.lower(): [v.lower() for v in values] for key, values in acc_dict.items()}\n",
    "\n",
    "    count = 0\n",
    "    total = 0\n",
    "\n",
    "    for index, row in data.iterrows():\n",
    "        path_parts = row['file_path'].split('/')\n",
    "\n",
    "        if len(path_parts) > 2:\n",
    "            vehicle_key = path_parts[-2].strip().lower()  # Extract key from [-2]\n",
    "            label = row['label']\n",
    "\n",
    "            # Find a matching key in the dictionary\n",
    "            matched_key = next((key for key in normalized_dict if key in vehicle_key), None)\n",
    "\n",
    "            if matched_key:\n",
    "                # Check if the label matches any of the values for the matched key\n",
    "                if any(value in label for value in normalized_dict[matched_key]):\n",
    "                    count += 1\n",
    "        total += 1\n",
    "\n",
    "    accuracy = count / total if total > 0 else 0\n",
    "    return round(accuracy * 100, 2)\n"
   ]
  },
  {
   "cell_type": "code",
   "execution_count": 6,
   "metadata": {},
   "outputs": [],
   "source": [
    "def aOcheck_accuracy(csv_path, dictionary):\n",
    "\n",
    "    normalized_dict = {key.lower(): [value.lower() for value in values] for key, values in dictionary.items()}\n",
    "\n",
    "    # Create a reverse lookup dictionary\n",
    "    reverse_dict = {}\n",
    "    for key, values in normalized_dict.items():\n",
    "        for value in values:\n",
    "            reverse_dict[value] = key  # Map all variations to the primary key\n",
    "\n",
    "    data = pd.read_csv(csv_path, header=None, names=['file_path', 'label'])\n",
    "\n",
    "    data['label'] = data['label'].str.strip().str.lower()\n",
    "\n",
    "    count = 0\n",
    "    total = 0\n",
    "\n",
    "    for index, row in data.iterrows():\n",
    "\n",
    "        path_parts = row['file_path'].split('/')\n",
    "        if len(path_parts) > 2:\n",
    "            name = path_parts[-2].strip().lower()  # Normalize name\n",
    "\n",
    "            # Find the primary key for the label using the reverse lookup dictionary\n",
    "            primary_key = reverse_dict.get(row['label'], None)\n",
    "\n",
    "            if primary_key and name in normalized_dict[primary_key]:\n",
    "                count += 1\n",
    "        total += 1\n",
    "\n",
    "    accuracy = count / total if total > 0 else 0\n",
    "    return round(accuracy * 100, 2)"
   ]
  },
  {
   "cell_type": "markdown",
   "metadata": {},
   "source": [
    "# Dictionaries"
   ]
  },
  {
   "cell_type": "markdown",
   "metadata": {},
   "source": [
    "## Animal 80"
   ]
  },
  {
   "cell_type": "code",
   "execution_count": 8,
   "metadata": {},
   "outputs": [
    {
     "name": "stdout",
     "output_type": "stream",
     "text": [
      "80\n",
      "77.35\n"
     ]
    }
   ],
   "source": [
    "a80 = {\n",
    "    \"Bear\": [\"Bear\"],\n",
    "    \"Brown Bear\": [\"Brown Bear\"],\n",
    "    \"Bull\": [\"Bull\"],\n",
    "    \"Butterfly\": [\"Butterfly\"],\n",
    "    \"Camel\": [\"Camel\"],\n",
    "    \"Canary\": [\"Canary\"],\n",
    "    \"Caterpillar\": [\"Caterpillar\"],\n",
    "    \"Cattle\": [\"Cattle\"],\n",
    "    \"Centipede\": [\"Centipede\"],\n",
    "    \"Cheetah\": [\"Cheetah\"],\n",
    "    \"Chicken\": [\"Chicken\"],\n",
    "    \"Crab\": [\"Crab\"],\n",
    "    \"Crocodile\": [\"Crocodile\"],\n",
    "    \"Deer\": [\"Deer\"],\n",
    "    \"Duck\": [\"Duck\"],\n",
    "    \"Eagle\": [\"Eagle\"],\n",
    "    \"Elephant\": [\"Elephant\"],\n",
    "    \"Fish\": [\"Fish\"],\n",
    "    \"Fox\": [\"Fox\"],\n",
    "    \"Frog\": [\"Frog\"],\n",
    "    \"Giraffe\": [\"Giraffe\"],\n",
    "    \"Goat\": [\"Goat\"],\n",
    "    \"Goldfish\": [\"Goldfish\"],\n",
    "    \"Goose\": [\"Goose\"],\n",
    "    \"Hamster\": [\"Hamster\"],\n",
    "    \"Harbor Seal\": [\"Harbor Seal\"],\n",
    "    \"Hedgehog\": [\"Hedgehog\"],\n",
    "    \"Hippopotamus\": [\"Hippopotamus\"],\n",
    "    \"Horse\": [\"Horse\"],\n",
    "    \"Jaguar\": [\"Jaguar\"],\n",
    "    \"Jellyfish\": [\"Jellyfish\"],\n",
    "    \"Kangaroo\": [\"Kangaroo\"],\n",
    "    \"Koala\": [\"Koala\"],\n",
    "    \"Ladybug\": [\"Ladybug\"],\n",
    "    \"Leopard\": [\"Leopard\"],\n",
    "    \"Lion\": [\"Lion\"],\n",
    "    \"Lizard\": [\"Lizard\"],\n",
    "    \"Lynx\": [\"Lynx\"],\n",
    "    \"Magpie\": [\"Magpie\"],\n",
    "    \"Monkey\": [\"Monkey\"],\n",
    "    \"Moths and butterflies\": [\"Moths and butterflies\"],\n",
    "    \"Mouse\": [\"Mouse\"],\n",
    "    \"Mule\": [\"Mule\"],\n",
    "    \"Ostrich\": [\"Ostrich\"],\n",
    "    \"Otter\": [\"Otter\"],\n",
    "    \"Owl\": [\"Owl\"],\n",
    "    \"Panda\": [\"Panda\"],\n",
    "    \"Parrot\": [\"Parrot\"],\n",
    "    \"Penguin\": [\"Penguin\"],\n",
    "    \"Pig\": [\"Pig\"],\n",
    "    \"Polar Bear\": [\"Polar Bear\"],\n",
    "    \"Rabbit\": [\"Rabbit\"],\n",
    "    \"Raccoon\": [\"Raccoon\"],\n",
    "    \"Raven\": [\"Raven\"],\n",
    "    \"Red panda\": [\"Red panda\"],\n",
    "    \"Rhinoceros\": [\"Rhinoceros\"],\n",
    "    \"Scorpion\": [\"Scorpion\"],\n",
    "    \"Seahorse\": [\"Seahorse\"],\n",
    "    \"Sea Lion\": [\"Sea Lion\"],\n",
    "    \"Sea Turtle\": [\"Sea Turtle\"],\n",
    "    \"Shark\": [\"Shark\"],\n",
    "    \"Sheep\": [\"Sheep\"],\n",
    "    \"Shrimp\": [\"Shrimp\"],\n",
    "    \"Snail\": [\"Snail\"],\n",
    "    \"Snake\": [\"Snake\"],\n",
    "    \"Sparrow\": [\"Sparrow\"],\n",
    "    \"Spider\": [\"Spider\"],\n",
    "    \"Squid\": [\"Squid\"],\n",
    "    \"Squirrel\": [\"Squirrel\"],\n",
    "    \"Starfish\": [\"Starfish\"],\n",
    "    \"Swan\": [\"Swan\"],\n",
    "    \"Tick\": [\"Tick\"],\n",
    "    \"Tiger\": [\"Tiger\"],\n",
    "    \"Tortoise\": [\"Tortoise\"],\n",
    "    \"Turkey\": [\"Turkey\"],\n",
    "    \"Turtle\": [\"Turtle\"],\n",
    "    \"Whale\": [\"Whale\"],\n",
    "    \"Woodpecker\": [\"Woodpecker\"],\n",
    "    \"Worm\": [\"Worm\"],\n",
    "    \"Zebra\": [\"Zebra\"]\n",
    "}\n",
    "\n",
    "\n",
    "# Bear, Brown Bear, Bull, Butterfly, Camel, Canary, Caterpillar, Cattle, Centipede, Cheetah, Chicken, Crab, Crocodile, Deer, Duck, Eagle, Elephant, Fish, Fox, Frog, Giraffe, Goat, Goldfish, Goose, Hamster, Harbor Seal, Hedgehog, Hippopotamus, Horse, Jaguar, Jellyfish, Kangaroo, Koala, Ladybug, Leopard, Lion, Lizard, Lynx, Magpie, Monkey, Moths and butterflies, Mouse, Mule, Ostrich, Otter, Owl, Panda, Parrot, Penguin, Pig, Polar Bear, Rabbit, Raccoon, Raven, Red panda, Rhinoceros, Scorpion, Seahorse, Sea Lion, Sea Turtle, Shark, Sheep, Shrimp, Snail, Snake, Sparrow, Spider, Squid, Squirrel, Starfish, Swan, Tick, Tiger, Tortoise, Turkey, Turtle, Whale, Woodpecker, Worm, Zebra\n",
    "\n",
    "\n",
    "\n",
    "dict_size(a80)\n",
    "print(aOcheck_accuracy('animal80/base.csv', a80))"
   ]
  },
  {
   "cell_type": "code",
   "execution_count": 9,
   "metadata": {},
   "outputs": [
    {
     "name": "stdout",
     "output_type": "stream",
     "text": [
      "80\n",
      "78.24\n"
     ]
    }
   ],
   "source": [
    "a160 = {\n",
    "    \"Bear\": [\"Bear\", \"Image of Bear\"],\n",
    "    \"Brown Bear\": [\"Brown Bear\", \"Image of Brown Bear\"],\n",
    "    \"Bull\": [\"Bull\", \"Image of Bull\"],\n",
    "    \"Butterfly\": [\"Butterfly\", \"Image of Butterfly\"],\n",
    "    \"Camel\": [\"Camel\", \"Image of Camel\"],\n",
    "    \"Canary\": [\"Canary\", \"Image of Canary\"],\n",
    "    \"Caterpillar\": [\"Caterpillar\", \"Image of Caterpillar\"],\n",
    "    \"Cattle\": [\"Cattle\", \"Image of Cattle\"],\n",
    "    \"Centipede\": [\"Centipede\", \"Image of Centipede\"],\n",
    "    \"Cheetah\": [\"Cheetah\", \"Image of Cheetah\"],\n",
    "    \"Chicken\": [\"Chicken\", \"Image of Chicken\"],\n",
    "    \"Crab\": [\"Crab\", \"Image of Crab\"],\n",
    "    \"Crocodile\": [\"Crocodile\", \"Image of Crocodile\"],\n",
    "    \"Deer\": [\"Deer\", \"Image of Deer\"],\n",
    "    \"Duck\": [\"Duck\", \"Image of Duck\"],\n",
    "    \"Eagle\": [\"Eagle\", \"Image of Eagle\"],\n",
    "    \"Elephant\": [\"Elephant\", \"Image of Elephant\"],\n",
    "    \"Fish\": [\"Fish\", \"Image of Fish\"],\n",
    "    \"Fox\": [\"Fox\", \"Image of Fox\"],\n",
    "    \"Frog\": [\"Frog\", \"Image of Frog\"],\n",
    "    \"Giraffe\": [\"Giraffe\", \"Image of Giraffe\"],\n",
    "    \"Goat\": [\"Goat\", \"Image of Goat\"],\n",
    "    \"Goldfish\": [\"Goldfish\", \"Image of Goldfish\"],\n",
    "    \"Goose\": [\"Goose\", \"Image of Goose\"],\n",
    "    \"Hamster\": [\"Hamster\", \"Image of Hamster\"],\n",
    "    \"Harbor Seal\": [\"Harbor Seal\", \"Image of Harbor Seal\"],\n",
    "    \"Hedgehog\": [\"Hedgehog\", \"Image of Hedgehog\"],\n",
    "    \"Hippopotamus\": [\"Hippopotamus\", \"Image of Hippopotamus\"],\n",
    "    \"Horse\": [\"Horse\", \"Image of Horse\"],\n",
    "    \"Jaguar\": [\"Jaguar\", \"Image of Jaguar\"],\n",
    "    \"Jellyfish\": [\"Jellyfish\", \"Image of Jellyfish\"],\n",
    "    \"Kangaroo\": [\"Kangaroo\", \"Image of Kangaroo\"],\n",
    "    \"Koala\": [\"Koala\", \"Image of Koala\"],\n",
    "    \"Ladybug\": [\"Ladybug\", \"Image of Ladybug\"],\n",
    "    \"Leopard\": [\"Leopard\", \"Image of Leopard\"],\n",
    "    \"Lion\": [\"Lion\", \"Image of Lion\"],\n",
    "    \"Lizard\": [\"Lizard\", \"Image of Lizard\"],\n",
    "    \"Lynx\": [\"Lynx\", \"Image of Lynx\"],\n",
    "    \"Magpie\": [\"Magpie\", \"Image of Magpie\"],\n",
    "    \"Monkey\": [\"Monkey\", \"Image of Monkey\"],\n",
    "    \"Moths and butterflies\": [\"Moths and butterflies\", \"Image of Moths and butterflies\"],\n",
    "    \"Mouse\": [\"Mouse\", \"Image of Mouse\"],\n",
    "    \"Mule\": [\"Mule\", \"Image of Mule\"],\n",
    "    \"Ostrich\": [\"Ostrich\", \"Image of Ostrich\"],\n",
    "    \"Otter\": [\"Otter\", \"Image of Otter\"],\n",
    "    \"Owl\": [\"Owl\", \"Image of Owl\"],\n",
    "    \"Panda\": [\"Panda\", \"Image of Panda\"],\n",
    "    \"Parrot\": [\"Parrot\", \"Image of Parrot\"],\n",
    "    \"Penguin\": [\"Penguin\", \"Image of Penguin\"],\n",
    "    \"Pig\": [\"Pig\", \"Image of Pig\"],\n",
    "    \"Polar Bear\": [\"Polar Bear\", \"Image of Polar Bear\"],\n",
    "    \"Rabbit\": [\"Rabbit\", \"Image of Rabbit\"],\n",
    "    \"Raccoon\": [\"Raccoon\", \"Image of Raccoon\"],\n",
    "    \"Raven\": [\"Raven\", \"Image of Raven\"],\n",
    "    \"Red panda\": [\"Red panda\", \"Image of Red panda\"],\n",
    "    \"Rhinoceros\": [\"Rhinoceros\", \"Image of Rhinoceros\"],\n",
    "    \"Scorpion\": [\"Scorpion\", \"Image of Scorpion\"],\n",
    "    \"Seahorse\": [\"Seahorse\", \"Image of Seahorse\"],\n",
    "    \"Sea Lion\": [\"Sea Lion\", \"Image of Sea Lion\"],\n",
    "    \"Sea Turtle\": [\"Sea Turtle\", \"Image of Sea Turtle\"],\n",
    "    \"Shark\": [\"Shark\", \"Image of Shark\"],\n",
    "    \"Sheep\": [\"Sheep\", \"Image of Sheep\"],\n",
    "    \"Shrimp\": [\"Shrimp\", \"Image of Shrimp\"],\n",
    "    \"Snail\": [\"Snail\", \"Image of Snail\"],\n",
    "    \"Snake\": [\"Snake\", \"Image of Snake\"],\n",
    "    \"Sparrow\": [\"Sparrow\", \"Image of Sparrow\"],\n",
    "    \"Spider\": [\"Spider\", \"Image of Spider\"],\n",
    "    \"Squid\": [\"Squid\", \"Image of Squid\"],\n",
    "    \"Squirrel\": [\"Squirrel\", \"Image of Squirrel\"],\n",
    "    \"Starfish\": [\"Starfish\", \"Image of Starfish\"],\n",
    "    \"Swan\": [\"Swan\", \"Image of Swan\"],\n",
    "    \"Tick\": [\"Tick\", \"Image of Tick\"],\n",
    "    \"Tiger\": [\"Tiger\", \"Image of Tiger\"],\n",
    "    \"Tortoise\": [\"Tortoise\", \"Image of Tortoise\"],\n",
    "    \"Turkey\": [\"Turkey\", \"Image of Turkey\"],\n",
    "    \"Turtle\": [\"Turtle\", \"Image of Turtle\"],\n",
    "    \"Whale\": [\"Whale\", \"Image of Whale\"],\n",
    "    \"Woodpecker\": [\"Woodpecker\", \"Image of Woodpecker\"],\n",
    "    \"Worm\": [\"Worm\", \"Image of Worm\"],\n",
    "    \"Zebra\": [\"Zebra\", \"Image of Zebra\"]\n",
    "}\n",
    "\n",
    "# Bear, Image of Bear, Brown Bear, Image of Brown Bear, Bull, Image of Bull, Butterfly, Image of Butterfly, Camel, Image of Camel, Canary, Image of Canary, Caterpillar, Image of Caterpillar, Cattle, Image of Cattle, Centipede, Image of Centipede, Cheetah, Image of Cheetah, Chicken, Image of Chicken, Crab, Image of Crab, Crocodile, Image of Crocodile, Deer, Image of Deer, Duck, Image of Duck, Eagle, Image of Eagle, Elephant, Image of Elephant, Fish, Image of Fish, Fox, Image of Fox, Frog, Image of Frog, Giraffe, Image of Giraffe, Goat, Image of Goat, Goldfish, Image of Goldfish, Goose, Image of Goose, Hamster, Image of Hamster, Harbor Seal, Image of Harbor Seal, Hedgehog, Image of Hedgehog, Hippopotamus, Image of Hippopotamus, Horse, Image of Horse, Jaguar, Image of Jaguar, Jellyfish, Image of Jellyfish, Kangaroo, Image of Kangaroo, Koala, Image of Koala, Ladybug, Image of Ladybug, Leopard, Image of Leopard, Lion, Image of Lion, Lizard, Image of Lizard, Lynx, Image of Lynx, Magpie, Image of Magpie, Monkey, Image of Monkey, Moths and butterflies, Image of Moths and butterflies, Mouse, Image of Mouse, Mule, Image of Mule, Ostrich, Image of Ostrich, Otter, Image of Otter, Owl, Image of Owl, Panda, Image of Panda, Parrot, Image of Parrot, Penguin, Image of Penguin, Pig, Image of Pig, Polar Bear, Image of Polar Bear, Rabbit, Image of Rabbit, Raccoon, Image of Raccoon, Raven, Image of Raven, Red panda, Image of Red panda, Rhinoceros, Image of Rhinoceros, Scorpion, Image of Scorpion, Seahorse, Image of Seahorse, Sea Lion, Image of Sea Lion, Sea Turtle, Image of Sea Turtle, Shark, Image of Shark, Sheep, Image of Sheep, Shrimp, Image of Shrimp, Snail, Image of Snail, Snake, Image of Snake, Sparrow, Image of Sparrow, Spider, Image of Spider, Squid, Image of Squid, Squirrel, Image of Squirrel, Starfish, Image of Starfish, Swan, Image of Swan, Tick, Image of Tick, Tiger, Image of Tiger, Tortoise, Image of Tortoise, Turkey, Image of Turkey, Turtle, Image of Turtle, Whale, Image of Whale, Woodpecker, Image of Woodpecker, Worm, Image of Worm, Zebra, Image of Zebra\n",
    "\n",
    "dict_size(a80)\n",
    "print(aOcheck_accuracy('animal80/a160.csv', a160))\n"
   ]
  },
  {
   "cell_type": "code",
   "execution_count": 11,
   "metadata": {},
   "outputs": [
    {
     "name": "stdout",
     "output_type": "stream",
     "text": [
      "240\n",
      "78.25\n"
     ]
    }
   ],
   "source": [
    "a240 = {\n",
    "    \"Bear\": [\"Bear\", \"Image of Bear\", \"Picture of Bear\"],\n",
    "    \"Brown Bear\": [\"Brown Bear\", \"Image of Brown Bear\", \"Picture of Brown Bear\"],\n",
    "    \"Bull\": [\"Bull\", \"Image of Bull\", \"Picture of Bull\"],\n",
    "    \"Butterfly\": [\"Butterfly\", \"Image of Butterfly\", \"Picture of Butterfly\"],\n",
    "    \"Camel\": [\"Camel\", \"Image of Camel\", \"Picture of Camel\"],\n",
    "    \"Canary\": [\"Canary\", \"Image of Canary\", \"Picture of Canary\"],\n",
    "    \"Caterpillar\": [\"Caterpillar\", \"Image of Caterpillar\", \"Picture of Caterpillar\"],\n",
    "    \"Cattle\": [\"Cattle\", \"Image of Cattle\", \"Picture of Cattle\"],\n",
    "    \"Centipede\": [\"Centipede\", \"Image of Centipede\", \"Picture of Centipede\"],\n",
    "    \"Cheetah\": [\"Cheetah\", \"Image of Cheetah\", \"Picture of Cheetah\"],\n",
    "    \"Chicken\": [\"Chicken\", \"Image of Chicken\", \"Picture of Chicken\"],\n",
    "    \"Crab\": [\"Crab\", \"Image of Crab\", \"Picture of Crab\"],\n",
    "    \"Crocodile\": [\"Crocodile\", \"Image of Crocodile\", \"Picture of Crocodile\"],\n",
    "    \"Deer\": [\"Deer\", \"Image of Deer\", \"Picture of Deer\"],\n",
    "    \"Duck\": [\"Duck\", \"Image of Duck\", \"Picture of Duck\"],\n",
    "    \"Eagle\": [\"Eagle\", \"Image of Eagle\", \"Picture of Eagle\"],\n",
    "    \"Elephant\": [\"Elephant\", \"Image of Elephant\", \"Picture of Elephant\"],\n",
    "    \"Fish\": [\"Fish\", \"Image of Fish\", \"Picture of Fish\"],\n",
    "    \"Fox\": [\"Fox\", \"Image of Fox\", \"Picture of Fox\"],\n",
    "    \"Frog\": [\"Frog\", \"Image of Frog\", \"Picture of Frog\"],\n",
    "    \"Giraffe\": [\"Giraffe\", \"Image of Giraffe\", \"Picture of Giraffe\"],\n",
    "    \"Goat\": [\"Goat\", \"Image of Goat\", \"Picture of Goat\"],\n",
    "    \"Goldfish\": [\"Goldfish\", \"Image of Goldfish\", \"Picture of Goldfish\"],\n",
    "    \"Goose\": [\"Goose\", \"Image of Goose\", \"Picture of Goose\"],\n",
    "    \"Hamster\": [\"Hamster\", \"Image of Hamster\", \"Picture of Hamster\"],\n",
    "    \"Harbor Seal\": [\"Harbor Seal\", \"Image of Harbor Seal\", \"Picture of Harbor Seal\"],\n",
    "    \"Hedgehog\": [\"Hedgehog\", \"Image of Hedgehog\", \"Picture of Hedgehog\"],\n",
    "    \"Hippopotamus\": [\"Hippopotamus\", \"Image of Hippopotamus\", \"Picture of Hippopotamus\"],\n",
    "    \"Horse\": [\"Horse\", \"Image of Horse\", \"Picture of Horse\"],\n",
    "    \"Jaguar\": [\"Jaguar\", \"Image of Jaguar\", \"Picture of Jaguar\"],\n",
    "    \"Jellyfish\": [\"Jellyfish\", \"Image of Jellyfish\", \"Picture of Jellyfish\"],\n",
    "    \"Kangaroo\": [\"Kangaroo\", \"Image of Kangaroo\", \"Picture of Kangaroo\"],\n",
    "    \"Koala\": [\"Koala\", \"Image of Koala\", \"Picture of Koala\"],\n",
    "    \"Ladybug\": [\"Ladybug\", \"Image of Ladybug\", \"Picture of Ladybug\"],\n",
    "    \"Leopard\": [\"Leopard\", \"Image of Leopard\", \"Picture of Leopard\"],\n",
    "    \"Lion\": [\"Lion\", \"Image of Lion\", \"Picture of Lion\"],\n",
    "    \"Lizard\": [\"Lizard\", \"Image of Lizard\", \"Picture of Lizard\"],\n",
    "    \"Lynx\": [\"Lynx\", \"Image of Lynx\", \"Picture of Lynx\"],\n",
    "    \"Magpie\": [\"Magpie\", \"Image of Magpie\", \"Picture of Magpie\"],\n",
    "    \"Monkey\": [\"Monkey\", \"Image of Monkey\", \"Picture of Monkey\"],\n",
    "    \"Moths and butterflies\": [\"Moths and butterflies\", \"Image of Moths and butterflies\", \"Picture of Moths and butterflies\"],\n",
    "    \"Mouse\": [\"Mouse\", \"Image of Mouse\", \"Picture of Mouse\"],\n",
    "    \"Mule\": [\"Mule\", \"Image of Mule\", \"Picture of Mule\"],\n",
    "    \"Ostrich\": [\"Ostrich\", \"Image of Ostrich\", \"Picture of Ostrich\"],\n",
    "    \"Otter\": [\"Otter\", \"Image of Otter\", \"Picture of Otter\"],\n",
    "    \"Owl\": [\"Owl\", \"Image of Owl\", \"Picture of Owl\"],\n",
    "    \"Panda\": [\"Panda\", \"Image of Panda\", \"Picture of Panda\"],\n",
    "    \"Parrot\": [\"Parrot\", \"Image of Parrot\", \"Picture of Parrot\"],\n",
    "    \"Penguin\": [\"Penguin\", \"Image of Penguin\", \"Picture of Penguin\"],\n",
    "    \"Pig\": [\"Pig\", \"Image of Pig\", \"Picture of Pig\"],\n",
    "    \"Polar Bear\": [\"Polar Bear\", \"Image of Polar Bear\", \"Picture of Polar Bear\"],\n",
    "    \"Rabbit\": [\"Rabbit\", \"Image of Rabbit\", \"Picture of Rabbit\"],\n",
    "    \"Raccoon\": [\"Raccoon\", \"Image of Raccoon\", \"Picture of Raccoon\"],\n",
    "    \"Raven\": [\"Raven\", \"Image of Raven\", \"Picture of Raven\"],\n",
    "    \"Red panda\": [\"Red panda\", \"Image of Red panda\", \"Picture of Red panda\"],\n",
    "    \"Rhinoceros\": [\"Rhinoceros\", \"Image of Rhinoceros\", \"Picture of Rhinoceros\"],\n",
    "    \"Scorpion\": [\"Scorpion\", \"Image of Scorpion\", \"Picture of Scorpion\"],\n",
    "    \"Seahorse\": [\"Seahorse\", \"Image of Seahorse\", \"Picture of Seahorse\"],\n",
    "    \"Sea Lion\": [\"Sea Lion\", \"Image of Sea Lion\", \"Picture of Sea Lion\"],\n",
    "    \"Sea Turtle\": [\"Sea Turtle\", \"Image of Sea Turtle\", \"Picture of Sea Turtle\"],\n",
    "    \"Shark\": [\"Shark\", \"Image of Shark\", \"Picture of Shark\"],\n",
    "    \"Sheep\": [\"Sheep\", \"Image of Sheep\", \"Picture of Sheep\"],\n",
    "    \"Shrimp\": [\"Shrimp\", \"Image of Shrimp\", \"Picture of Shrimp\"],\n",
    "    \"Snail\": [\"Snail\", \"Image of Snail\", \"Picture of Snail\"],\n",
    "    \"Snake\": [\"Snake\", \"Image of Snake\", \"Picture of Snake\"],\n",
    "    \"Sparrow\": [\"Sparrow\", \"Image of Sparrow\", \"Picture of Sparrow\"],\n",
    "    \"Spider\": [\"Spider\", \"Image of Spider\", \"Picture of Spider\"],\n",
    "    \"Squid\": [\"Squid\", \"Image of Squid\", \"Picture of Squid\"],\n",
    "    \"Squirrel\": [\"Squirrel\", \"Image of Squirrel\", \"Picture of Squirrel\"],\n",
    "    \"Starfish\": [\"Starfish\", \"Image of Starfish\", \"Picture of Starfish\"],\n",
    "    \"Swan\": [\"Swan\", \"Image of Swan\", \"Picture of Swan\"],\n",
    "    \"Tick\": [\"Tick\", \"Image of Tick\", \"Picture of Tick\"],\n",
    "    \"Tiger\": [\"Tiger\", \"Image of Tiger\", \"Picture of Tiger\"],\n",
    "    \"Tortoise\": [\"Tortoise\", \"Image of Tortoise\", \"Picture of Tortoise\"],\n",
    "    \"Turkey\": [\"Turkey\", \"Image of Turkey\", \"Picture of Turkey\"],\n",
    "    \"Turtle\": [\"Turtle\", \"Image of Turtle\", \"Picture of Turtle\"],\n",
    "    \"Whale\": [\"Whale\", \"Image of Whale\", \"Picture of Whale\"],\n",
    "    \"Woodpecker\": [\"Woodpecker\", \"Image of Woodpecker\", \"Picture of Woodpecker\"],\n",
    "    \"Worm\": [\"Worm\", \"Image of Worm\", \"Picture of Worm\"],\n",
    "    \"Zebra\": [\"Zebra\", \"Image of Zebra\", \"Picture of Zebra\"]\n",
    "}\n",
    "\n",
    "#Bear, Image of Bear, Picture of Bear, Brown Bear, Image of Brown Bear, Picture of Brown Bear, Bull, Image of Bull, Picture of Bull, Butterfly, Image of Butterfly, Picture of Butterfly, Camel, Image of Camel, Picture of Camel, Canary, Image of Canary, Picture of Canary, Caterpillar, Image of Caterpillar, Picture of Caterpillar, Cattle, Image of Cattle, Picture of Cattle, Centipede, Image of Centipede, Picture of Centipede, Cheetah, Image of Cheetah, Picture of Cheetah, Chicken, Image of Chicken, Picture of Chicken, Crab, Image of Crab, Picture of Crab, Crocodile, Image of Crocodile, Picture of Crocodile, Deer, Image of Deer, Picture of Deer, Duck, Image of Duck, Picture of Duck, Eagle, Image of Eagle, Picture of Eagle, Elephant, Image of Elephant, Picture of Elephant, Fish, Image of Fish, Picture of Fish, Fox, Image of Fox, Picture of Fox, Frog, Image of Frog, Picture of Frog, Giraffe, Image of Giraffe, Picture of Giraffe, Goat, Image of Goat, Picture of Goat, Goldfish, Image of Goldfish, Picture of Goldfish, Goose, Image of Goose, Picture of Goose, Hamster, Image of Hamster, Picture of Hamster, Harbor Seal, Image of Harbor Seal, Picture of Harbor Seal, Hedgehog, Image of Hedgehog, Picture of Hedgehog, Hippopotamus, Image of Hippopotamus, Picture of Hippopotamus, Horse, Image of Horse, Picture of Horse, Jaguar, Image of Jaguar, Picture of Jaguar, Jellyfish, Image of Jellyfish, Picture of Jellyfish, Kangaroo, Image of Kangaroo, Picture of Kangaroo, Koala, Image of Koala, Picture of Koala, Ladybug, Image of Ladybug, Picture of Ladybug, Leopard, Image of Leopard, Picture of Leopard, Lion, Image of Lion, Picture of Lion, Lizard, Image of Lizard, Picture of Lizard, Lynx, Image of Lynx, Picture of Lynx, Magpie, Image of Magpie, Picture of Magpie, Monkey, Image of Monkey, Picture of Monkey, Moths and butterflies, Image of Moths and butterflies, Picture of Moths and butterflies, Mouse, Image of Mouse, Picture of Mouse, Mule, Image of Mule, Picture of Mule, Ostrich, Image of Ostrich, Picture of Ostrich, Otter, Image of Otter, Picture of Otter, Owl, Image of Owl, Picture of Owl, Panda, Image of Panda, Picture of Panda, Parrot, Image of Parrot, Picture of Parrot, Penguin, Image of Penguin, Picture of Penguin, Pig, Image of Pig, Picture of Pig, Polar Bear, Image of Polar Bear, Picture of Polar Bear, Rabbit, Image of Rabbit, Picture of Rabbit, Raccoon, Image of Raccoon, Picture of Raccoon, Raven, Image of Raven, Picture of Raven, Red panda, Image of Red panda, Picture of Red panda, Rhinoceros, Image of Rhinoceros, Picture of Rhinoceros, Scorpion, Image of Scorpion, Picture of Scorpion, Seahorse, Image of Seahorse, Picture of Seahorse, Sea Lion, Image of Sea Lion, Picture of Sea Lion, Sea Turtle, Image of Sea Turtle, Picture of Sea Turtle, Shark, Image of Shark, Picture of Shark, Sheep, Image of Sheep, Picture of Sheep, Shrimp, Image of Shrimp, Picture of Shrimp, Snail, Image of Snail, Picture of Snail, Snake, Image of Snake, Picture of Snake, Sparrow, Image of Sparrow, Picture of Sparrow, Spider, Image of Spider, Picture of Spider, Squid, Image of Squid, Picture of Squid, Squirrel, Image of Squirrel, Picture of Squirrel, Starfish, Image of Starfish, Picture of Starfish, Swan, Image of Swan, Picture of Swan, Tick, Image of Tick, Picture of Tick, Tiger, Image of Tiger, Picture of Tiger, Tortoise, Image of Tortoise, Picture of Tortoise, Turkey, Image of Turkey, Picture of Turkey, Turtle, Image of Turtle, Picture of Turtle, Whale, Image of Whale, Picture of Whale, Woodpecker, Image of Woodpecker, Picture of Woodpecker, Worm, Image of Worm, Picture of Worm, Zebra, Image of Zebra, Picture of Zebra\n",
    "\n",
    "dict_size(a240)\n",
    "print(aOcheck_accuracy('animal80/a240csv', a240))\n"
   ]
  },
  {
   "cell_type": "code",
   "execution_count": 12,
   "metadata": {},
   "outputs": [
    {
     "name": "stdout",
     "output_type": "stream",
     "text": [
      "320\n",
      "dict_values([['Bear', 'Image of Bear', 'Picture of Bear', 'Bears'], ['Brown Bear', 'Image of Brown Bear', 'Picture of Brown Bear', 'Brown Bears'], ['Bull', 'Image of Bull', 'Picture of Bull', 'Bulls'], ['Butterfly', 'Image of Butterfly', 'Picture of Butterfly', 'Butterflies'], ['Camel', 'Image of Camel', 'Picture of Camel', 'Camels'], ['Canary', 'Image of Canary', 'Picture of Canary', 'Canaries'], ['Caterpillar', 'Image of Caterpillar', 'Picture of Caterpillar', 'Caterpillars'], ['Cattle', 'Image of Cattle', 'Picture of Cattle', 'Cattle'], ['Centipede', 'Image of Centipede', 'Picture of Centipede', 'Centipedes'], ['Cheetah', 'Image of Cheetah', 'Picture of Cheetah', 'Cheetahs'], ['Chicken', 'Image of Chicken', 'Picture of Chicken', 'Chickens'], ['Crab', 'Image of Crab', 'Picture of Crab', 'Crabs'], ['Crocodile', 'Image of Crocodile', 'Picture of Crocodile', 'Crocodiles'], ['Deer', 'Image of Deer', 'Picture of Deer', 'Deer'], ['Duck', 'Image of Duck', 'Picture of Duck', 'Ducks'], ['Eagle', 'Image of Eagle', 'Picture of Eagle', 'Eagles'], ['Elephant', 'Image of Elephant', 'Picture of Elephant', 'Elephants'], ['Fish', 'Image of Fish', 'Picture of Fish', 'Fish'], ['Fox', 'Image of Fox', 'Picture of Fox', 'Foxes'], ['Frog', 'Image of Frog', 'Picture of Frog', 'Frogs'], ['Giraffe', 'Image of Giraffe', 'Picture of Giraffe', 'Giraffes'], ['Goat', 'Image of Goat', 'Picture of Goat', 'Goats'], ['Goldfish', 'Image of Goldfish', 'Picture of Goldfish', 'Goldfish'], ['Goose', 'Image of Goose', 'Picture of Goose', 'Geese'], ['Hamster', 'Image of Hamster', 'Picture of Hamster', 'Hamsters'], ['Harbor Seal', 'Image of Harbor Seal', 'Picture of Harbor Seal', 'Harbor Seals'], ['Hedgehog', 'Image of Hedgehog', 'Picture of Hedgehog', 'Hedgehogs'], ['Hippopotamus', 'Image of Hippopotamus', 'Picture of Hippopotamus', 'Hippopotamuses'], ['Horse', 'Image of Horse', 'Picture of Horse', 'Horses'], ['Jaguar', 'Image of Jaguar', 'Picture of Jaguar', 'Jaguars'], ['Jellyfish', 'Image of Jellyfish', 'Picture of Jellyfish', 'Jellyfish'], ['Kangaroo', 'Image of Kangaroo', 'Picture of Kangaroo', 'Kangaroos'], ['Koala', 'Image of Koala', 'Picture of Koala', 'Koalas'], ['Ladybug', 'Image of Ladybug', 'Picture of Ladybug', 'Ladybugs'], ['Leopard', 'Image of Leopard', 'Picture of Leopard', 'Leopards'], ['Lion', 'Image of Lion', 'Picture of Lion', 'Lions'], ['Lizard', 'Image of Lizard', 'Picture of Lizard', 'Lizards'], ['Lynx', 'Image of Lynx', 'Picture of Lynx', 'Lynxes'], ['Magpie', 'Image of Magpie', 'Picture of Magpie', 'Magpies'], ['Monkey', 'Image of Monkey', 'Picture of Monkey', 'Monkeys'], ['Moths and Butterflies', 'Image of Moths and Butterflies', 'Picture of Moths and Butterflies', 'Moths and Butterflies'], ['Mouse', 'Image of Mouse', 'Picture of Mouse', 'Mice'], ['Mule', 'Image of Mule', 'Picture of Mule', 'Mules'], ['Ostrich', 'Image of Ostrich', 'Picture of Ostrich', 'Ostriches'], ['Otter', 'Image of Otter', 'Picture of Otter', 'Otters'], ['Owl', 'Image of Owl', 'Picture of Owl', 'Owls'], ['Panda', 'Image of Panda', 'Picture of Panda', 'Pandas'], ['Parrot', 'Image of Parrot', 'Picture of Parrot', 'Parrots'], ['Penguin', 'Image of Penguin', 'Picture of Penguin', 'Penguins'], ['Pig', 'Image of Pig', 'Picture of Pig', 'Pigs'], ['Polar Bear', 'Image of Polar Bear', 'Picture of Polar Bear', 'Polar Bears'], ['Rabbit', 'Image of Rabbit', 'Picture of Rabbit', 'Rabbits'], ['Raccoon', 'Image of Raccoon', 'Picture of Raccoon', 'Raccoons'], ['Raven', 'Image of Raven', 'Picture of Raven', 'Ravens'], ['Red Panda', 'Image of Red Panda', 'Picture of Red Panda', 'Red Pandas'], ['Rhinoceros', 'Image of Rhinoceros', 'Picture of Rhinoceros', 'Rhinoceroses'], ['Scorpion', 'Image of Scorpion', 'Picture of Scorpion', 'Scorpions'], ['Seahorse', 'Image of Seahorse', 'Picture of Seahorse', 'Seahorses'], ['Sea Lion', 'Image of Sea Lion', 'Picture of Sea Lion', 'Sea Lions'], ['Sea Turtle', 'Image of Sea Turtle', 'Picture of Sea Turtle', 'Sea Turtles'], ['Shark', 'Image of Shark', 'Picture of Shark', 'Sharks'], ['Sheep', 'Image of Sheep', 'Picture of Sheep', 'Sheep'], ['Shrimp', 'Image of Shrimp', 'Picture of Shrimp', 'Shrimp'], ['Snail', 'Image of Snail', 'Picture of Snail', 'Snails'], ['Snake', 'Image of Snake', 'Picture of Snake', 'Snakes'], ['Sparrow', 'Image of Sparrow', 'Picture of Sparrow', 'Sparrows'], ['Spider', 'Image of Spider', 'Picture of Spider', 'Spiders'], ['Squid', 'Image of Squid', 'Picture of Squid', 'Squid'], ['Squirrel', 'Image of Squirrel', 'Picture of Squirrel', 'Squirrels'], ['Starfish', 'Image of Starfish', 'Picture of Starfish', 'Starfish'], ['Swan', 'Image of Swan', 'Picture of Swan', 'Swans'], ['Tick', 'Image of Tick', 'Picture of Tick', 'Ticks'], ['Tiger', 'Image of Tiger', 'Picture of Tiger', 'Tigers'], ['Tortoise', 'Image of Tortoise', 'Picture of Tortoise', 'Tortoises'], ['Turkey', 'Image of Turkey', 'Picture of Turkey', 'Turkeys'], ['Turtle', 'Image of Turtle', 'Picture of Turtle', 'Turtles'], ['Whale', 'Image of Whale', 'Picture of Whale', 'Whales'], ['Woodpecker', 'Image of Woodpecker', 'Picture of Woodpecker', 'Woodpeckers'], ['Worm', 'Image of Worm', 'Picture of Worm', 'Worms'], ['Zebra', 'Image of Zebra', 'Picture of Zebra', 'Zebras']])\n",
      "78.35\n"
     ]
    }
   ],
   "source": [
    "a320 = {\n",
    "    \"Bear\": [\"Bear\", \"Image of Bear\", \"Picture of Bear\", \"Bears\"],\n",
    "    \"Brown Bear\": [\"Brown Bear\", \"Image of Brown Bear\", \"Picture of Brown Bear\", \"Brown Bears\"],\n",
    "    \"Bull\": [\"Bull\", \"Image of Bull\", \"Picture of Bull\", \"Bulls\"],\n",
    "    \"Butterfly\": [\"Butterfly\", \"Image of Butterfly\", \"Picture of Butterfly\", \"Butterflies\"],\n",
    "    \"Camel\": [\"Camel\", \"Image of Camel\", \"Picture of Camel\", \"Camels\"],\n",
    "    \"Canary\": [\"Canary\", \"Image of Canary\", \"Picture of Canary\", \"Canaries\"],\n",
    "    \"Caterpillar\": [\"Caterpillar\", \"Image of Caterpillar\", \"Picture of Caterpillar\", \"Caterpillars\"],\n",
    "    \"Cattle\": [\"Cattle\", \"Image of Cattle\", \"Picture of Cattle\", \"Cattle\"],\n",
    "    \"Centipede\": [\"Centipede\", \"Image of Centipede\", \"Picture of Centipede\", \"Centipedes\"],\n",
    "    \"Cheetah\": [\"Cheetah\", \"Image of Cheetah\", \"Picture of Cheetah\", \"Cheetahs\"],\n",
    "    \"Chicken\": [\"Chicken\", \"Image of Chicken\", \"Picture of Chicken\", \"Chickens\"],\n",
    "    \"Crab\": [\"Crab\", \"Image of Crab\", \"Picture of Crab\", \"Crabs\"],\n",
    "    \"Crocodile\": [\"Crocodile\", \"Image of Crocodile\", \"Picture of Crocodile\", \"Crocodiles\"],\n",
    "    \"Deer\": [\"Deer\", \"Image of Deer\", \"Picture of Deer\", \"Deer\"],\n",
    "    \"Duck\": [\"Duck\", \"Image of Duck\", \"Picture of Duck\", \"Ducks\"],\n",
    "    \"Eagle\": [\"Eagle\", \"Image of Eagle\", \"Picture of Eagle\", \"Eagles\"],\n",
    "    \"Elephant\": [\"Elephant\", \"Image of Elephant\", \"Picture of Elephant\", \"Elephants\"],\n",
    "    \"Fish\": [\"Fish\", \"Image of Fish\", \"Picture of Fish\", \"Fish\"],\n",
    "    \"Fox\": [\"Fox\", \"Image of Fox\", \"Picture of Fox\", \"Foxes\"],\n",
    "    \"Frog\": [\"Frog\", \"Image of Frog\", \"Picture of Frog\", \"Frogs\"],\n",
    "    \"Giraffe\": [\"Giraffe\", \"Image of Giraffe\", \"Picture of Giraffe\", \"Giraffes\"],\n",
    "    \"Goat\": [\"Goat\", \"Image of Goat\", \"Picture of Goat\", \"Goats\"],\n",
    "    \"Goldfish\": [\"Goldfish\", \"Image of Goldfish\", \"Picture of Goldfish\", \"Goldfish\"],\n",
    "    \"Goose\": [\"Goose\", \"Image of Goose\", \"Picture of Goose\", \"Geese\"],\n",
    "    \"Hamster\": [\"Hamster\", \"Image of Hamster\", \"Picture of Hamster\", \"Hamsters\"],\n",
    "    \"Harbor Seal\": [\"Harbor Seal\", \"Image of Harbor Seal\", \"Picture of Harbor Seal\", \"Harbor Seals\"],\n",
    "    \"Hedgehog\": [\"Hedgehog\", \"Image of Hedgehog\", \"Picture of Hedgehog\", \"Hedgehogs\"],\n",
    "    \"Hippopotamus\": [\"Hippopotamus\", \"Image of Hippopotamus\", \"Picture of Hippopotamus\", \"Hippopotamuses\"],\n",
    "    \"Horse\": [\"Horse\", \"Image of Horse\", \"Picture of Horse\", \"Horses\"],\n",
    "    \"Jaguar\": [\"Jaguar\", \"Image of Jaguar\", \"Picture of Jaguar\", \"Jaguars\"],\n",
    "    \"Jellyfish\": [\"Jellyfish\", \"Image of Jellyfish\", \"Picture of Jellyfish\", \"Jellyfish\"],\n",
    "    \"Kangaroo\": [\"Kangaroo\", \"Image of Kangaroo\", \"Picture of Kangaroo\", \"Kangaroos\"],\n",
    "    \"Koala\": [\"Koala\", \"Image of Koala\", \"Picture of Koala\", \"Koalas\"],\n",
    "    \"Ladybug\": [\"Ladybug\", \"Image of Ladybug\", \"Picture of Ladybug\", \"Ladybugs\"],\n",
    "    \"Leopard\": [\"Leopard\", \"Image of Leopard\", \"Picture of Leopard\", \"Leopards\"],\n",
    "    \"Lion\": [\"Lion\", \"Image of Lion\", \"Picture of Lion\", \"Lions\"],\n",
    "    \"Lizard\": [\"Lizard\", \"Image of Lizard\", \"Picture of Lizard\", \"Lizards\"],\n",
    "    \"Lynx\": [\"Lynx\", \"Image of Lynx\", \"Picture of Lynx\", \"Lynxes\"],\n",
    "    \"Magpie\": [\"Magpie\", \"Image of Magpie\", \"Picture of Magpie\", \"Magpies\"],\n",
    "    \"Monkey\": [\"Monkey\", \"Image of Monkey\", \"Picture of Monkey\", \"Monkeys\"],\n",
    "    \"Moths and Butterflies\": [\"Moths and Butterflies\", \"Image of Moths and Butterflies\", \"Picture of Moths and Butterflies\", \"Moths and Butterflies\"],\n",
    "    \"Mouse\": [\"Mouse\", \"Image of Mouse\", \"Picture of Mouse\", \"Mice\"],\n",
    "    \"Mule\": [\"Mule\", \"Image of Mule\", \"Picture of Mule\", \"Mules\"],\n",
    "    \"Ostrich\": [\"Ostrich\", \"Image of Ostrich\", \"Picture of Ostrich\", \"Ostriches\"],\n",
    "    \"Otter\": [\"Otter\", \"Image of Otter\", \"Picture of Otter\", \"Otters\"],\n",
    "    \"Owl\": [\"Owl\", \"Image of Owl\", \"Picture of Owl\", \"Owls\"],\n",
    "    \"Panda\": [\"Panda\", \"Image of Panda\", \"Picture of Panda\", \"Pandas\"],\n",
    "    \"Parrot\": [\"Parrot\", \"Image of Parrot\", \"Picture of Parrot\", \"Parrots\"],\n",
    "    \"Penguin\": [\"Penguin\", \"Image of Penguin\", \"Picture of Penguin\", \"Penguins\"],\n",
    "    \"Pig\": [\"Pig\", \"Image of Pig\", \"Picture of Pig\", \"Pigs\"],\n",
    "    \"Polar Bear\": [\"Polar Bear\", \"Image of Polar Bear\", \"Picture of Polar Bear\", \"Polar Bears\"],\n",
    "    \"Rabbit\": [\"Rabbit\", \"Image of Rabbit\", \"Picture of Rabbit\", \"Rabbits\"],\n",
    "    \"Raccoon\": [\"Raccoon\", \"Image of Raccoon\", \"Picture of Raccoon\", \"Raccoons\"],\n",
    "    \"Raven\": [\"Raven\", \"Image of Raven\", \"Picture of Raven\", \"Ravens\"],\n",
    "    \"Red Panda\": [\"Red Panda\", \"Image of Red Panda\", \"Picture of Red Panda\", \"Red Pandas\"],\n",
    "    \"Rhinoceros\": [\"Rhinoceros\", \"Image of Rhinoceros\", \"Picture of Rhinoceros\", \"Rhinoceroses\"],\n",
    "    \"Scorpion\": [\"Scorpion\", \"Image of Scorpion\", \"Picture of Scorpion\", \"Scorpions\"],\n",
    "    \"Seahorse\": [\"Seahorse\", \"Image of Seahorse\", \"Picture of Seahorse\", \"Seahorses\"],\n",
    "    \"Sea Lion\": [\"Sea Lion\", \"Image of Sea Lion\", \"Picture of Sea Lion\", \"Sea Lions\"],\n",
    "    \"Sea Turtle\": [\"Sea Turtle\", \"Image of Sea Turtle\", \"Picture of Sea Turtle\", \"Sea Turtles\"],\n",
    "    \"Shark\": [\"Shark\", \"Image of Shark\", \"Picture of Shark\", \"Sharks\"],\n",
    "    \"Sheep\": [\"Sheep\", \"Image of Sheep\", \"Picture of Sheep\", \"Sheep\"],\n",
    "    \"Shrimp\": [\"Shrimp\", \"Image of Shrimp\", \"Picture of Shrimp\", \"Shrimp\"],\n",
    "    \"Snail\": [\"Snail\", \"Image of Snail\", \"Picture of Snail\", \"Snails\"],\n",
    "    \"Snake\": [\"Snake\", \"Image of Snake\", \"Picture of Snake\", \"Snakes\"],\n",
    "    \"Sparrow\": [\"Sparrow\", \"Image of Sparrow\", \"Picture of Sparrow\", \"Sparrows\"],\n",
    "    \"Spider\": [\"Spider\", \"Image of Spider\", \"Picture of Spider\", \"Spiders\"],\n",
    "    \"Squid\": [\"Squid\", \"Image of Squid\", \"Picture of Squid\", \"Squid\"],\n",
    "    \"Squirrel\": [\"Squirrel\", \"Image of Squirrel\", \"Picture of Squirrel\", \"Squirrels\"],\n",
    "    \"Starfish\": [\"Starfish\", \"Image of Starfish\", \"Picture of Starfish\", \"Starfish\"],\n",
    "    \"Swan\": [\"Swan\", \"Image of Swan\", \"Picture of Swan\", \"Swans\"],\n",
    "    \"Tick\": [\"Tick\", \"Image of Tick\", \"Picture of Tick\", \"Ticks\"],\n",
    "    \"Tiger\": [\"Tiger\", \"Image of Tiger\", \"Picture of Tiger\", \"Tigers\"],\n",
    "    \"Tortoise\": [\"Tortoise\", \"Image of Tortoise\", \"Picture of Tortoise\", \"Tortoises\"],\n",
    "    \"Turkey\": [\"Turkey\", \"Image of Turkey\", \"Picture of Turkey\", \"Turkeys\"],\n",
    "    \"Turtle\": [\"Turtle\", \"Image of Turtle\", \"Picture of Turtle\", \"Turtles\"],\n",
    "    \"Whale\": [\"Whale\", \"Image of Whale\", \"Picture of Whale\", \"Whales\"],\n",
    "    \"Woodpecker\": [\"Woodpecker\", \"Image of Woodpecker\", \"Picture of Woodpecker\", \"Woodpeckers\"],\n",
    "    \"Worm\": [\"Worm\", \"Image of Worm\", \"Picture of Worm\", \"Worms\"],\n",
    "    \"Zebra\": [\"Zebra\", \"Image of Zebra\", \"Picture of Zebra\", \"Zebras\"]\n",
    "}\n",
    "\n",
    "#Bear, Image of Bear, Picture of Bear, Bears, Brown Bear, Image of Brown Bear, Picture of Brown Bear, Brown Bears, Bull, Image of Bull, Picture of Bull, Bulls, Butterfly, Image of Butterfly, Picture of Butterfly, Butterflies, Camel, Image of Camel, Picture of Camel, Camels, Canary, Image of Canary, Picture of Canary, Canaries, Caterpillar, Image of Caterpillar, Picture of Caterpillar, Caterpillars, Cattle, Image of Cattle, Picture of Cattle, Cattle, Centipede, Image of Centipede, Picture of Centipede, Centipedes, Cheetah, Image of Cheetah, Picture of Cheetah, Cheetahs, Chicken, Image of Chicken, Picture of Chicken, Chickens, Crab, Image of Crab, Picture of Crab, Crabs, Crocodile, Image of Crocodile, Picture of Crocodile, Crocodiles, Deer, Image of Deer, Picture of Deer, Deer, Duck, Image of Duck, Picture of Duck, Ducks, Eagle, Image of Eagle, Picture of Eagle, Eagles, Elephant, Image of Elephant, Picture of Elephant, Elephants, Fish, Image of Fish, Picture of Fish, Fish, Fox, Image of Fox, Picture of Fox, Foxes, Frog, Image of Frog, Picture of Frog, Frogs, Giraffe, Image of Giraffe, Picture of Giraffe, Giraffes, Goat, Image of Goat, Picture of Goat, Goats, Goldfish, Image of Goldfish, Picture of Goldfish, Goldfish, Goose, Image of Goose, Picture of Goose, Geese, Hamster, Image of Hamster, Picture of Hamster, Hamsters, Harbor Seal, Image of Harbor Seal, Picture of Harbor Seal, Harbor Seals, Hedgehog, Image of Hedgehog, Picture of Hedgehog, Hedgehogs, Hippopotamus, Image of Hippopotamus, Picture of Hippopotamus, Hippopotamuses, Horse, Image of Horse, Picture of Horse, Horses, Jaguar, Image of Jaguar, Picture of Jaguar, Jaguars, Jellyfish, Image of Jellyfish, Picture of Jellyfish, Jellyfish, Kangaroo, Image of Kangaroo, Picture of Kangaroo, Kangaroos, Koala, Image of Koala, Picture of Koala, Koalas, Ladybug, Image of Ladybug, Picture of Ladybug, Ladybugs, Leopard, Image of Leopard, Picture of Leopard, Leopards, Lion, Image of Lion, Picture of Lion, Lions, Lizard, Image of Lizard, Picture of Lizard, Lizards, Lynx, Image of Lynx, Picture of Lynx, Lynxes, Magpie, Image of Magpie, Picture of Magpie, Magpies, Monkey, Image of Monkey, Picture of Monkey, Monkeys, Moths and Butterflies, Image of Moths and Butterflies, Picture of Moths and Butterflies, Moths and Butterflies, Mouse, Image of Mouse, Picture of Mouse, Mice, Mule, Image of Mule, Picture of Mule, Mules, Ostrich, Image of Ostrich, Picture of Ostrich, Ostriches, Otter, Image of Otter, Picture of Otter, Otters, Owl, Image of Owl, Picture of Owl, Owls, Panda, Image of Panda, Picture of Panda, Pandas, Parrot, Image of Parrot, Picture of Parrot, Parrots, Penguin, Image of Penguin, Picture of Penguin, Penguins, Pig, Image of Pig, Picture of Pig, Pigs, Polar Bear, Image of Polar Bear, Picture of Polar Bear, Polar Bears, Rabbit, Image of Rabbit, Picture of Rabbit, Rabbits, Raccoon, Image of Raccoon, Picture of Raccoon, Raccoons, Raven, Image of Raven, Picture of Raven, Ravens, Red Panda, Image of Red Panda, Picture of Red Panda, Red Pandas, Rhinoceros, Image of Rhinoceros, Picture of Rhinoceros, Rhinoceroses, Scorpion, Image of Scorpion, Picture of Scorpion, Scorpions, Seahorse, Image of Seahorse, Picture of Seahorse, Seahorses, Sea Lion, Image of Sea Lion, Picture of Sea Lion, Sea Lions, Sea Turtle, Image of Sea Turtle, Picture of Sea Turtle, Sea Turtles, Shark, Image of Shark, Picture of Shark, Sharks, Sheep, Image of Sheep, Picture of Sheep, Sheep, Shrimp, Image of Shrimp, Picture of Shrimp, Shrimp, Snail, Image of Snail, Picture of Snail, Snails, Snake, Image of Snake, Picture of Snake, Snakes, Sparrow, Image of Sparrow, Picture of Sparrow, Sparrows, Spider, Image of Spider, Picture of Spider, Spiders, Squid, Image of Squid, Picture of Squid, Squid, Squirrel, Image of Squirrel, Picture of Squirrel, Squirrels, Starfish, Image of Starfish, Picture of Starfish, Starfish, Swan, Image of Swan, Picture of Swan, Swans, Tick, Image of Tick, Picture of Tick, Ticks, Tiger, Image of Tiger, Picture of Tiger, Tigers, Tortoise, Image of Tortoise, Picture of Tortoise, Tortoises, Turkey, Image of Turkey, Picture of Turkey, Turkeys, Turtle, Image of Turtle, Picture of Turtle, Turtles, Whale, Image of Whale, Picture of Whale, Whales, Woodpecker, Image of Woodpecker, Picture of Woodpecker, Woodpeckers, Worm, Image of Worm, Picture of Worm, Worms, Zebra, Image of Zebra, Picture of Zebra, Zebras\n",
    "\n",
    "dict_size(a320)\n",
    "print(a320.values())\n",
    "print(aOcheck_accuracy('animal80/a320.csv', a320))\n"
   ]
  },
  {
   "cell_type": "code",
   "execution_count": 13,
   "metadata": {},
   "outputs": [
    {
     "name": "stdout",
     "output_type": "stream",
     "text": [
      "400\n",
      "dict_values([['Bear', 'Image of Bear', 'Picture of Bear', 'Bears', 'Bear in the Wild'], ['Brown Bear', 'Image of Brown Bear', 'Picture of Brown Bear', 'Brown Bears', 'Brown Bear in the Wild'], ['Bull', 'Image of Bull', 'Picture of Bull', 'Bulls', 'Bull in the Wild'], ['Butterfly', 'Image of Butterfly', 'Picture of Butterfly', 'Butterflies', 'Butterfly in the Wild'], ['Camel', 'Image of Camel', 'Picture of Camel', 'Camels', 'Camel in the Wild'], ['Canary', 'Image of Canary', 'Picture of Canary', 'Canaries', 'Canary in the Wild'], ['Caterpillar', 'Image of Caterpillar', 'Picture of Caterpillar', 'Caterpillars', 'Caterpillar in the Wild'], ['Cattle', 'Image of Cattle', 'Picture of Cattle', 'Cattle', 'Cattle in the Wild'], ['Centipede', 'Image of Centipede', 'Picture of Centipede', 'Centipedes', 'Centipede in the Wild'], ['Cheetah', 'Image of Cheetah', 'Picture of Cheetah', 'Cheetahs', 'Cheetah in the Wild'], ['Chicken', 'Image of Chicken', 'Picture of Chicken', 'Chickens', 'Chicken in the Wild'], ['Crab', 'Image of Crab', 'Picture of Crab', 'Crabs', 'Crab in the Wild'], ['Crocodile', 'Image of Crocodile', 'Picture of Crocodile', 'Crocodiles', 'Crocodile in the Wild'], ['Deer', 'Image of Deer', 'Picture of Deer', 'Deer', 'Deer in the Wild'], ['Duck', 'Image of Duck', 'Picture of Duck', 'Ducks', 'Duck in the Wild'], ['Eagle', 'Image of Eagle', 'Picture of Eagle', 'Eagles', 'Eagle in the Wild'], ['Elephant', 'Image of Elephant', 'Picture of Elephant', 'Elephants', 'Elephant in the Wild'], ['Fish', 'Image of Fish', 'Picture of Fish', 'Fish', 'Fish in the Wild'], ['Fox', 'Image of Fox', 'Picture of Fox', 'Foxes', 'Fox in the Wild'], ['Frog', 'Image of Frog', 'Picture of Frog', 'Frogs', 'Frog in the Wild'], ['Giraffe', 'Image of Giraffe', 'Picture of Giraffe', 'Giraffes', 'Giraffe in the Wild'], ['Goat', 'Image of Goat', 'Picture of Goat', 'Goats', 'Goat in the Wild'], ['Goldfish', 'Image of Goldfish', 'Picture of Goldfish', 'Goldfish', 'Goldfish in the Wild'], ['Goose', 'Image of Goose', 'Picture of Goose', 'Geese', 'Goose in the Wild'], ['Hamster', 'Image of Hamster', 'Picture of Hamster', 'Hamsters', 'Hamster in the Wild'], ['Harbor Seal', 'Image of Harbor Seal', 'Picture of Harbor Seal', 'Harbor Seals', 'Harbor Seal in the Wild'], ['Hedgehog', 'Image of Hedgehog', 'Picture of Hedgehog', 'Hedgehogs', 'Hedgehog in the Wild'], ['Hippopotamus', 'Image of Hippopotamus', 'Picture of Hippopotamus', 'Hippopotamuses', 'Hippopotamus in the Wild'], ['Horse', 'Image of Horse', 'Picture of Horse', 'Horses', 'Horse in the Wild'], ['Jaguar', 'Image of Jaguar', 'Picture of Jaguar', 'Jaguars', 'Jaguar in the Wild'], ['Jellyfish', 'Image of Jellyfish', 'Picture of Jellyfish', 'Jellyfish', 'Jellyfish in the Wild'], ['Kangaroo', 'Image of Kangaroo', 'Picture of Kangaroo', 'Kangaroos', 'Kangaroo in the Wild'], ['Koala', 'Image of Koala', 'Picture of Koala', 'Koalas', 'Koala in the Wild'], ['Ladybug', 'Image of Ladybug', 'Picture of Ladybug', 'Ladybugs', 'Ladybug in the Wild'], ['Leopard', 'Image of Leopard', 'Picture of Leopard', 'Leopards', 'Leopard in the Wild'], ['Lion', 'Image of Lion', 'Picture of Lion', 'Lions', 'Lion in the Wild'], ['Lizard', 'Image of Lizard', 'Picture of Lizard', 'Lizards', 'Lizard in the Wild'], ['Lynx', 'Image of Lynx', 'Picture of Lynx', 'Lynxes', 'Lynx in the Wild'], ['Magpie', 'Image of Magpie', 'Picture of Magpie', 'Magpies', 'Magpie in the Wild'], ['Monkey', 'Image of Monkey', 'Picture of Monkey', 'Monkeys', 'Monkey in the Wild'], ['Moths and Butterflies', 'Image of Moths and Butterflies', 'Picture of Moths and Butterflies', 'Moths and Butterflies', 'Moths and Butterflies in the Wild'], ['Mouse', 'Image of Mouse', 'Picture of Mouse', 'Mice', 'Mouse in the Wild'], ['Mule', 'Image of Mule', 'Picture of Mule', 'Mules', 'Mule in the Wild'], ['Ostrich', 'Image of Ostrich', 'Picture of Ostrich', 'Ostriches', 'Ostrich in the Wild'], ['Otter', 'Image of Otter', 'Picture of Otter', 'Otters', 'Otter in the Wild'], ['Owl', 'Image of Owl', 'Picture of Owl', 'Owls', 'Owl in the Wild'], ['Panda', 'Image of Panda', 'Picture of Panda', 'Pandas', 'Panda in the Wild'], ['Parrot', 'Image of Parrot', 'Picture of Parrot', 'Parrots', 'Parrot in the Wild'], ['Penguin', 'Image of Penguin', 'Picture of Penguin', 'Penguins', 'Penguin in the Wild'], ['Pig', 'Image of Pig', 'Picture of Pig', 'Pigs', 'Pig in the Wild'], ['Polar Bear', 'Image of Polar Bear', 'Picture of Polar Bear', 'Polar Bears', 'Polar Bear in the Wild'], ['Rabbit', 'Image of Rabbit', 'Picture of Rabbit', 'Rabbits', 'Rabbit in the Wild'], ['Raccoon', 'Image of Raccoon', 'Picture of Raccoon', 'Raccoons', 'Raccoon in the Wild'], ['Raven', 'Image of Raven', 'Picture of Raven', 'Ravens', 'Raven in the Wild'], ['Red Panda', 'Image of Red Panda', 'Picture of Red Panda', 'Red Pandas', 'Red Panda in the Wild'], ['Rhinoceros', 'Image of Rhinoceros', 'Picture of Rhinoceros', 'Rhinoceroses', 'Rhinoceros in the Wild'], ['Scorpion', 'Image of Scorpion', 'Picture of Scorpion', 'Scorpions', 'Scorpion in the Wild'], ['Seahorse', 'Image of Seahorse', 'Picture of Seahorse', 'Seahorses', 'Seahorse in the Wild'], ['Sea Lion', 'Image of Sea Lion', 'Picture of Sea Lion', 'Sea Lions', 'Sea Lion in the Wild'], ['Sea Turtle', 'Image of Sea Turtle', 'Picture of Sea Turtle', 'Sea Turtles', 'Sea Turtle in the Wild'], ['Shark', 'Image of Shark', 'Picture of Shark', 'Sharks', 'Shark in the Wild'], ['Sheep', 'Image of Sheep', 'Picture of Sheep', 'Sheep', 'Sheep in the Wild'], ['Shrimp', 'Image of Shrimp', 'Picture of Shrimp', 'Shrimp', 'Shrimp in the Wild'], ['Snail', 'Image of Snail', 'Picture of Snail', 'Snails', 'Snail in the Wild'], ['Snake', 'Image of Snake', 'Picture of Snake', 'Snakes', 'Snake in the Wild'], ['Sparrow', 'Image of Sparrow', 'Picture of Sparrow', 'Sparrows', 'Sparrow in the Wild'], ['Spider', 'Image of Spider', 'Picture of Spider', 'Spiders', 'Spider in the Wild'], ['Squid', 'Image of Squid', 'Picture of Squid', 'Squid', 'Squid in the Wild'], ['Squirrel', 'Image of Squirrel', 'Picture of Squirrel', 'Squirrels', 'Squirrel in the Wild'], ['Starfish', 'Image of Starfish', 'Picture of Starfish', 'Starfish', 'Starfish in the Wild'], ['Swan', 'Image of Swan', 'Picture of Swan', 'Swans', 'Swan in the Wild'], ['Tick', 'Image of Tick', 'Picture of Tick', 'Ticks', 'Tick in the Wild'], ['Tiger', 'Image of Tiger', 'Picture of Tiger', 'Tigers', 'Tiger in the Wild'], ['Tortoise', 'Image of Tortoise', 'Picture of Tortoise', 'Tortoises', 'Tortoise in the Wild'], ['Turkey', 'Image of Turkey', 'Picture of Turkey', 'Turkeys', 'Turkey in the Wild'], ['Turtle', 'Image of Turtle', 'Picture of Turtle', 'Turtles', 'Turtle in the Wild'], ['Whale', 'Image of Whale', 'Picture of Whale', 'Whales', 'Whale in the Wild'], ['Woodpecker', 'Image of Woodpecker', 'Picture of Woodpecker', 'Woodpeckers', 'Woodpecker in the Wild'], ['Worm', 'Image of Worm', 'Picture of Worm', 'Worms', 'Worm in the Wild'], ['Zebra', 'Image of Zebra', 'Picture of Zebra', 'Zebras', 'Zebra in the Wild']])\n",
      "78.45\n"
     ]
    }
   ],
   "source": [
    "a400 = {\n",
    "    \"Bear\": [\"Bear\", \"Image of Bear\", \"Picture of Bear\", \"Bears\", \"Bear in the Wild\"],\n",
    "    \"Brown Bear\": [\"Brown Bear\", \"Image of Brown Bear\", \"Picture of Brown Bear\", \"Brown Bears\", \"Brown Bear in the Wild\"],\n",
    "    \"Bull\": [\"Bull\", \"Image of Bull\", \"Picture of Bull\", \"Bulls\", \"Bull in the Wild\"],\n",
    "    \"Butterfly\": [\"Butterfly\", \"Image of Butterfly\", \"Picture of Butterfly\", \"Butterflies\", \"Butterfly in the Wild\"],\n",
    "    \"Camel\": [\"Camel\", \"Image of Camel\", \"Picture of Camel\", \"Camels\", \"Camel in the Wild\"],\n",
    "    \"Canary\": [\"Canary\", \"Image of Canary\", \"Picture of Canary\", \"Canaries\", \"Canary in the Wild\"],\n",
    "    \"Caterpillar\": [\"Caterpillar\", \"Image of Caterpillar\", \"Picture of Caterpillar\", \"Caterpillars\", \"Caterpillar in the Wild\"],\n",
    "    \"Cattle\": [\"Cattle\", \"Image of Cattle\", \"Picture of Cattle\", \"Cattle\", \"Cattle in the Wild\"],\n",
    "    \"Centipede\": [\"Centipede\", \"Image of Centipede\", \"Picture of Centipede\", \"Centipedes\", \"Centipede in the Wild\"],\n",
    "    \"Cheetah\": [\"Cheetah\", \"Image of Cheetah\", \"Picture of Cheetah\", \"Cheetahs\", \"Cheetah in the Wild\"],\n",
    "    \"Chicken\": [\"Chicken\", \"Image of Chicken\", \"Picture of Chicken\", \"Chickens\", \"Chicken in the Wild\"],\n",
    "    \"Crab\": [\"Crab\", \"Image of Crab\", \"Picture of Crab\", \"Crabs\", \"Crab in the Wild\"],\n",
    "    \"Crocodile\": [\"Crocodile\", \"Image of Crocodile\", \"Picture of Crocodile\", \"Crocodiles\", \"Crocodile in the Wild\"],\n",
    "    \"Deer\": [\"Deer\", \"Image of Deer\", \"Picture of Deer\", \"Deer\", \"Deer in the Wild\"],\n",
    "    \"Duck\": [\"Duck\", \"Image of Duck\", \"Picture of Duck\", \"Ducks\", \"Duck in the Wild\"],\n",
    "    \"Eagle\": [\"Eagle\", \"Image of Eagle\", \"Picture of Eagle\", \"Eagles\", \"Eagle in the Wild\"],\n",
    "    \"Elephant\": [\"Elephant\", \"Image of Elephant\", \"Picture of Elephant\", \"Elephants\", \"Elephant in the Wild\"],\n",
    "    \"Fish\": [\"Fish\", \"Image of Fish\", \"Picture of Fish\", \"Fish\", \"Fish in the Wild\"],\n",
    "    \"Fox\": [\"Fox\", \"Image of Fox\", \"Picture of Fox\", \"Foxes\", \"Fox in the Wild\"],\n",
    "    \"Frog\": [\"Frog\", \"Image of Frog\", \"Picture of Frog\", \"Frogs\", \"Frog in the Wild\"],\n",
    "    \"Giraffe\": [\"Giraffe\", \"Image of Giraffe\", \"Picture of Giraffe\", \"Giraffes\", \"Giraffe in the Wild\"],\n",
    "    \"Goat\": [\"Goat\", \"Image of Goat\", \"Picture of Goat\", \"Goats\", \"Goat in the Wild\"],\n",
    "    \"Goldfish\": [\"Goldfish\", \"Image of Goldfish\", \"Picture of Goldfish\", \"Goldfish\", \"Goldfish in the Wild\"],\n",
    "    \"Goose\": [\"Goose\", \"Image of Goose\", \"Picture of Goose\", \"Geese\", \"Goose in the Wild\"],\n",
    "    \"Hamster\": [\"Hamster\", \"Image of Hamster\", \"Picture of Hamster\", \"Hamsters\", \"Hamster in the Wild\"],\n",
    "    \"Harbor Seal\": [\"Harbor Seal\", \"Image of Harbor Seal\", \"Picture of Harbor Seal\", \"Harbor Seals\", \"Harbor Seal in the Wild\"],\n",
    "    \"Hedgehog\": [\"Hedgehog\", \"Image of Hedgehog\", \"Picture of Hedgehog\", \"Hedgehogs\", \"Hedgehog in the Wild\"],\n",
    "    \"Hippopotamus\": [\"Hippopotamus\", \"Image of Hippopotamus\", \"Picture of Hippopotamus\", \"Hippopotamuses\", \"Hippopotamus in the Wild\"],\n",
    "    \"Horse\": [\"Horse\", \"Image of Horse\", \"Picture of Horse\", \"Horses\", \"Horse in the Wild\"],\n",
    "    \"Jaguar\": [\"Jaguar\", \"Image of Jaguar\", \"Picture of Jaguar\", \"Jaguars\", \"Jaguar in the Wild\"],\n",
    "    \"Jellyfish\": [\"Jellyfish\", \"Image of Jellyfish\", \"Picture of Jellyfish\", \"Jellyfish\", \"Jellyfish in the Wild\"],\n",
    "    \"Kangaroo\": [\"Kangaroo\", \"Image of Kangaroo\", \"Picture of Kangaroo\", \"Kangaroos\", \"Kangaroo in the Wild\"],\n",
    "    \"Koala\": [\"Koala\", \"Image of Koala\", \"Picture of Koala\", \"Koalas\", \"Koala in the Wild\"],\n",
    "    \"Ladybug\": [\"Ladybug\", \"Image of Ladybug\", \"Picture of Ladybug\", \"Ladybugs\", \"Ladybug in the Wild\"],\n",
    "    \"Leopard\": [\"Leopard\", \"Image of Leopard\", \"Picture of Leopard\", \"Leopards\", \"Leopard in the Wild\"],\n",
    "    \"Lion\": [\"Lion\", \"Image of Lion\", \"Picture of Lion\", \"Lions\", \"Lion in the Wild\"],\n",
    "    \"Lizard\": [\"Lizard\", \"Image of Lizard\", \"Picture of Lizard\", \"Lizards\", \"Lizard in the Wild\"],\n",
    "    \"Lynx\": [\"Lynx\", \"Image of Lynx\", \"Picture of Lynx\", \"Lynxes\", \"Lynx in the Wild\"],\n",
    "    \"Magpie\": [\"Magpie\", \"Image of Magpie\", \"Picture of Magpie\", \"Magpies\", \"Magpie in the Wild\"],\n",
    "    \"Monkey\": [\"Monkey\", \"Image of Monkey\", \"Picture of Monkey\", \"Monkeys\", \"Monkey in the Wild\"],\n",
    "    \"Moths and Butterflies\": [\"Moths and Butterflies\", \"Image of Moths and Butterflies\", \"Picture of Moths and Butterflies\", \"Moths and Butterflies\", \"Moths and Butterflies in the Wild\"],\n",
    "    \"Mouse\": [\"Mouse\", \"Image of Mouse\", \"Picture of Mouse\", \"Mice\", \"Mouse in the Wild\"],\n",
    "    \"Mule\": [\"Mule\", \"Image of Mule\", \"Picture of Mule\", \"Mules\", \"Mule in the Wild\"],\n",
    "    \"Ostrich\": [\"Ostrich\", \"Image of Ostrich\", \"Picture of Ostrich\", \"Ostriches\", \"Ostrich in the Wild\"],\n",
    "    \"Otter\": [\"Otter\", \"Image of Otter\", \"Picture of Otter\", \"Otters\", \"Otter in the Wild\"],\n",
    "    \"Owl\": [\"Owl\", \"Image of Owl\", \"Picture of Owl\", \"Owls\", \"Owl in the Wild\"],\n",
    "    \"Panda\": [\"Panda\", \"Image of Panda\", \"Picture of Panda\", \"Pandas\", \"Panda in the Wild\"],\n",
    "    \"Parrot\": [\"Parrot\", \"Image of Parrot\", \"Picture of Parrot\", \"Parrots\", \"Parrot in the Wild\"],\n",
    "    \"Penguin\": [\"Penguin\", \"Image of Penguin\", \"Picture of Penguin\", \"Penguins\", \"Penguin in the Wild\"],\n",
    "    \"Pig\": [\"Pig\", \"Image of Pig\", \"Picture of Pig\", \"Pigs\", \"Pig in the Wild\"],\n",
    "    \"Polar Bear\": [\"Polar Bear\", \"Image of Polar Bear\", \"Picture of Polar Bear\", \"Polar Bears\", \"Polar Bear in the Wild\"],\n",
    "    \"Rabbit\": [\"Rabbit\", \"Image of Rabbit\", \"Picture of Rabbit\", \"Rabbits\", \"Rabbit in the Wild\"],\n",
    "    \"Raccoon\": [\"Raccoon\", \"Image of Raccoon\", \"Picture of Raccoon\", \"Raccoons\", \"Raccoon in the Wild\"],\n",
    "    \"Raven\": [\"Raven\", \"Image of Raven\", \"Picture of Raven\", \"Ravens\", \"Raven in the Wild\"],\n",
    "    \"Red Panda\": [\"Red Panda\", \"Image of Red Panda\", \"Picture of Red Panda\", \"Red Pandas\", \"Red Panda in the Wild\"],\n",
    "    \"Rhinoceros\": [\"Rhinoceros\", \"Image of Rhinoceros\", \"Picture of Rhinoceros\", \"Rhinoceroses\", \"Rhinoceros in the Wild\"],\n",
    "    \"Scorpion\": [\"Scorpion\", \"Image of Scorpion\", \"Picture of Scorpion\", \"Scorpions\", \"Scorpion in the Wild\"],\n",
    "    \"Seahorse\": [\"Seahorse\", \"Image of Seahorse\", \"Picture of Seahorse\", \"Seahorses\", \"Seahorse in the Wild\"],\n",
    "    \"Sea Lion\": [\"Sea Lion\", \"Image of Sea Lion\", \"Picture of Sea Lion\", \"Sea Lions\", \"Sea Lion in the Wild\"],\n",
    "    \"Sea Turtle\": [\"Sea Turtle\", \"Image of Sea Turtle\", \"Picture of Sea Turtle\", \"Sea Turtles\", \"Sea Turtle in the Wild\"],\n",
    "    \"Shark\": [\"Shark\", \"Image of Shark\", \"Picture of Shark\", \"Sharks\", \"Shark in the Wild\"],\n",
    "    \"Sheep\": [\"Sheep\", \"Image of Sheep\", \"Picture of Sheep\", \"Sheep\", \"Sheep in the Wild\"],\n",
    "    \"Shrimp\": [\"Shrimp\", \"Image of Shrimp\", \"Picture of Shrimp\", \"Shrimp\", \"Shrimp in the Wild\"],\n",
    "    \"Snail\": [\"Snail\", \"Image of Snail\", \"Picture of Snail\", \"Snails\", \"Snail in the Wild\"],\n",
    "    \"Snake\": [\"Snake\", \"Image of Snake\", \"Picture of Snake\", \"Snakes\", \"Snake in the Wild\"],\n",
    "    \"Sparrow\": [\"Sparrow\", \"Image of Sparrow\", \"Picture of Sparrow\", \"Sparrows\", \"Sparrow in the Wild\"],\n",
    "    \"Spider\": [\"Spider\", \"Image of Spider\", \"Picture of Spider\", \"Spiders\", \"Spider in the Wild\"],\n",
    "    \"Squid\": [\"Squid\", \"Image of Squid\", \"Picture of Squid\", \"Squid\", \"Squid in the Wild\"],\n",
    "    \"Squirrel\": [\"Squirrel\", \"Image of Squirrel\", \"Picture of Squirrel\", \"Squirrels\", \"Squirrel in the Wild\"],\n",
    "    \"Starfish\": [\"Starfish\", \"Image of Starfish\", \"Picture of Starfish\", \"Starfish\", \"Starfish in the Wild\"],\n",
    "    \"Swan\": [\"Swan\", \"Image of Swan\", \"Picture of Swan\", \"Swans\", \"Swan in the Wild\"],\n",
    "    \"Tick\": [\"Tick\", \"Image of Tick\", \"Picture of Tick\", \"Ticks\", \"Tick in the Wild\"],\n",
    "    \"Tiger\": [\"Tiger\", \"Image of Tiger\", \"Picture of Tiger\", \"Tigers\", \"Tiger in the Wild\"],\n",
    "    \"Tortoise\": [\"Tortoise\", \"Image of Tortoise\", \"Picture of Tortoise\", \"Tortoises\", \"Tortoise in the Wild\"],\n",
    "    \"Turkey\": [\"Turkey\", \"Image of Turkey\", \"Picture of Turkey\", \"Turkeys\", \"Turkey in the Wild\"],\n",
    "    \"Turtle\": [\"Turtle\", \"Image of Turtle\", \"Picture of Turtle\", \"Turtles\", \"Turtle in the Wild\"],\n",
    "    \"Whale\": [\"Whale\", \"Image of Whale\", \"Picture of Whale\", \"Whales\", \"Whale in the Wild\"],\n",
    "    \"Woodpecker\": [\"Woodpecker\", \"Image of Woodpecker\", \"Picture of Woodpecker\", \"Woodpeckers\", \"Woodpecker in the Wild\"],\n",
    "    \"Worm\": [\"Worm\", \"Image of Worm\", \"Picture of Worm\", \"Worms\", \"Worm in the Wild\"],\n",
    "    \"Zebra\": [\"Zebra\", \"Image of Zebra\", \"Picture of Zebra\", \"Zebras\", \"Zebra in the Wild\"]\n",
    "}\n",
    "\n",
    "\n",
    "# Bear, Image of Bear, Picture of Bear, Bears, Bear in the Wild, Brown Bear, Image of Brown Bear, Picture of Brown Bear, Brown Bears, Brown Bear in the Wild, Bull, Image of Bull, Picture of Bull, Bulls, Bull in the Wild, Butterfly, Image of Butterfly, Picture of Butterfly, Butterflies, Butterfly in the Wild, Camel, Image of Camel, Picture of Camel, Camels, Camel in the Wild, Canary, Image of Canary, Picture of Canary, Canaries, Canary in the Wild, Caterpillar, Image of Caterpillar, Picture of Caterpillar, Caterpillars, Caterpillar in the Wild, Cattle, Image of Cattle, Picture of Cattle, Cattle, Cattle in the Wild, Centipede, Image of Centipede, Picture of Centipede, Centipedes, Centipede in the Wild, Cheetah, Image of Cheetah, Picture of Cheetah, Cheetahs, Cheetah in the Wild, Chicken, Image of Chicken, Picture of Chicken, Chickens, Chicken in the Wild, Crab, Image of Crab, Picture of Crab, Crabs, Crab in the Wild, Crocodile, Image of Crocodile, Picture of Crocodile, Crocodiles, Crocodile in the Wild, Deer, Image of Deer, Picture of Deer, Deer, Deer in the Wild, Duck, Image of Duck, Picture of Duck, Ducks, Duck in the Wild, Eagle, Image of Eagle, Picture of Eagle, Eagles, Eagle in the Wild, Elephant, Image of Elephant, Picture of Elephant, Elephants, Elephant in the Wild, Fish, Image of Fish, Picture of Fish, Fish, Fish in the Wild, Fox, Image of Fox, Picture of Fox, Foxes, Fox in the Wild, Frog, Image of Frog, Picture of Frog, Frogs, Frog in the Wild, Giraffe, Image of Giraffe, Picture of Giraffe, Giraffes, Giraffe in the Wild, Goat, Image of Goat, Picture of Goat, Goats, Goat in the Wild, Goldfish, Image of Goldfish, Picture of Goldfish, Goldfish, Goldfish in the Wild, Goose, Image of Goose, Picture of Goose, Geese, Goose in the Wild, Hamster, Image of Hamster, Picture of Hamster, Hamsters, Hamster in the Wild, Harbor Seal, Image of Harbor Seal, Picture of Harbor Seal, Harbor Seals, Harbor Seal in the Wild, Hedgehog, Image of Hedgehog, Picture of Hedgehog, Hedgehogs, Hedgehog in the Wild, Hippopotamus, Image of Hippopotamus, Picture of Hippopotamus, Hippopotamuses, Hippopotamus in the Wild, Horse, Image of Horse, Picture of Horse, Horses, Horse in the Wild, Jaguar, Image of Jaguar, Picture of Jaguar, Jaguars, Jaguar in the Wild, Jellyfish, Image of Jellyfish, Picture of Jellyfish, Jellyfish, Jellyfish in the Wild, Kangaroo, Image of Kangaroo, Picture of Kangaroo, Kangaroos, Kangaroo in the Wild, Koala, Image of Koala, Picture of Koala, Koalas, Koala in the Wild, Ladybug, Image of Ladybug, Picture of Ladybug, Ladybugs, Ladybug in the Wild, Leopard, Image of Leopard, Picture of Leopard, Leopards, Leopard in the Wild, Lion, Image of Lion, Picture of Lion, Lions, Lion in the Wild, Lizard, Image of Lizard, Picture of Lizard, Lizards, Lizard in the Wild, Lynx, Image of Lynx, Picture of Lynx, Lynxes, Lynx in the Wild, Magpie, Image of Magpie, Picture of Magpie, Magpies, Magpie in the Wild, Monkey, Image of Monkey, Picture of Monkey, Monkeys, Monkey in the Wild, Moths and Butterflies, Image of Moths and Butterflies, Picture of Moths and Butterflies, Moths and Butterflies, Moths and Butterflies in the Wild, Mouse, Image of Mouse, Picture of Mouse, Mice, Mouse in the Wild, Mule, Image of Mule, Picture of Mule, Mules, Mule in the Wild, Ostrich, Image of Ostrich, Picture of Ostrich, Ostriches, Ostrich in the Wild, Otter, Image of Otter, Picture of Otter, Otters, Otter in the Wild, Owl, Image of Owl, Picture of Owl, Owls, Owl in the Wild, Panda, Image of Panda, Picture of Panda, Pandas, Panda in the Wild, Parrot, Image of Parrot, Picture of Parrot, Parrots, Parrot in the Wild, Penguin, Image of Penguin, Picture of Penguin, Penguins, Penguin in the Wild, Pig, Image of Pig, Picture of Pig, Pigs, Pig in the Wild, Polar Bear, Image of Polar Bear, Picture of Polar Bear, Polar Bears, Polar Bear in the Wild, Rabbit, Image of Rabbit, Picture of Rabbit, Rabbits, Rabbit in the Wild, Raccoon, Image of Raccoon, Picture of Raccoon, Raccoons, Raccoon in the Wild, Raven, Image of Raven, Picture of Raven, Ravens, Raven in the Wild, Red Panda, Image of Red Panda, Picture of Red Panda, Red Pandas, Red Panda in the Wild, Rhinoceros, Image of Rhinoceros, Picture of Rhinoceros, Rhinoceroses, Rhinoceros in the Wild, Scorpion, Image of Scorpion, Picture of Scorpion, Scorpions, Scorpion in the Wild, Seahorse, Image of Seahorse, Picture of Seahorse, Seahorses, Seahorse in the Wild, Sea Lion, Image of Sea Lion, Picture of Sea Lion, Sea Lions, Sea Lion in the Wild, Sea Turtle, Image of Sea Turtle, Picture of Sea Turtle, Sea Turtles, Sea Turtle in the Wild, Shark, Image of Shark, Picture of Shark, Sharks, Shark in the Wild, Sheep, Image of Sheep, Picture of Sheep, Sheep, Sheep in the Wild, Shrimp, Image of Shrimp, Picture of Shrimp, Shrimp, Shrimp in the Wild, Snail, Image of Snail, Picture of Snail, Snails, Snail in the Wild, Snake, Image of Snake, Picture of Snake, Snakes, Snake in the Wild, Sparrow, Image of Sparrow, Picture of Sparrow, Sparrows, Sparrow in the Wild, Spider, Image of Spider, Picture of Spider, Spiders, Spider in the Wild, Squid, Image of Squid, Picture of Squid, Squid, Squid in the Wild, Squirrel, Image of Squirrel, Picture of Squirrel, Squirrels, Squirrel in the Wild, Starfish, Image of Starfish, Picture of Starfish, Starfish, Starfish in the Wild, Swan, Image of Swan, Picture of Swan, Swans, Swan in the Wild, Tick, Image of Tick, Picture of Tick, Ticks, Tick in the Wild, Tiger, Image of Tiger, Picture of Tiger, Tigers, Tiger in the Wild, Tortoise, Image of Tortoise, Picture of Tortoise, Tortoises, Tortoise in the Wild, Turkey, Image of Turkey, Picture of Turkey, Turkeys, Turkey in the Wild, Turtle, Image of Turtle, Picture of Turtle, Turtles, Turtle in the Wild, Whale, Image of Whale, Picture of Whale, Whales, Whale in the Wild, Woodpecker, Image of Woodpecker, Picture of Woodpecker, Woodpeckers, Woodpecker in the Wild, Worm, Image of Worm, Picture of Worm, Worms, Worm in the Wild, Zebra, Image of Zebra, Picture of Zebra, Zebras, Zebra in the Wild\n",
    "\n",
    "dict_size(a400)\n",
    "print(a400.values())\n",
    "print(aOcheck_accuracy('animal80/a400.csv', a400))\n"
   ]
  },
  {
   "cell_type": "markdown",
   "metadata": {},
   "source": [
    "## Animal 4"
   ]
  },
  {
   "cell_type": "code",
   "execution_count": 14,
   "metadata": {},
   "outputs": [
    {
     "name": "stdout",
     "output_type": "stream",
     "text": [
      "8\n",
      "96.73\n"
     ]
    }
   ],
   "source": [
    "dict_8 = {\n",
    "    \"Buffalo\": [\"Buffalo\", \"Buffaloes\"],\n",
    "    \"Elephant\": [\"Elephant\", \"Elephants\"],\n",
    "    \"Rhino\": [\"Rhino\", \"Rhinoceros\"],\n",
    "    \"Zebra\": [\"Zebra\", \"Zebras\"],\n",
    "}\n",
    "\n",
    "#Buffalo,Buffaloes,Elephant,Elephants,Rhino,Rhinoceros,Zebra,Zebras\n",
    "\n",
    "dict_size(dict_8)\n",
    "print(aOcheck_accuracy(\"animalOther/AO8.csv\", dict_8))"
   ]
  },
  {
   "cell_type": "code",
   "execution_count": 15,
   "metadata": {},
   "outputs": [
    {
     "name": "stdout",
     "output_type": "stream",
     "text": [
      "12\n",
      "95.53\n"
     ]
    }
   ],
   "source": [
    "dict_12 = {\n",
    "    \"Buffalo\": [\"Buffalo\", \"Buffaloes\", \"Picture of Buffalo\"],\n",
    "    \"Elephant\": [\"Elephant\", \"Elephants\", \"Picture of Elephant\"],\n",
    "    \"Rhino\": [\"Rhino\", \"Rhinoceros\", \"Picture of Rhino\"],\n",
    "    \"Zebra\": [\"Zebra\", \"Zebras\", \"Picture of Zebra\"],\n",
    "}\n",
    "\n",
    "# Buffalo, Buffaloes, Picture of Buffalo, Elephant, Elephants, Picture of Elephant, Rhino, Rhinoceros, Picture of Rhino, Zebra, Zebras, Picture of Zebra\n",
    "\n",
    "dict_size(dict_12)\n",
    "print(aOcheck_accuracy(\"animalOther/AO12.csv\", dict_12))\n"
   ]
  },
  {
   "cell_type": "code",
   "execution_count": 16,
   "metadata": {},
   "outputs": [
    {
     "name": "stdout",
     "output_type": "stream",
     "text": [
      "16\n",
      "96.45\n"
     ]
    }
   ],
   "source": [
    "dict_16 = {\n",
    "    \"Buffalo\": [\"Buffalo\", \"Buffaloes\", \"Picture of Buffalo\", \"Image of Buffalo\"],\n",
    "    \"Elephant\": [\"Elephant\", \"Elephants\", \"Picture of Elephant\", \"Image of Elephant\"],\n",
    "    \"Rhino\": [\"Rhino\", \"Rhinoceros\", \"Picture of Rhino\", \"Image of Rhino\"],\n",
    "    \"Zebra\": [\"Zebra\", \"Zebras\", \"Picture of Zebra\", \"Image of Zebra\"],\n",
    "}\n",
    "\n",
    "# Buffalo, Buffaloes, Picture of Buffalo, Image of Buffalo, Elephant, Elephants, Picture of Elephant, Image of Elephant, Rhino, Rhinoceros, Picture of Rhino, Image of Rhino, Zebra, Zebras, Picture of Zebra, Image of Zebra\n",
    "\n",
    "dict_size(dict_16)\n",
    "print(aOcheck_accuracy(\"animalOther/AO16.csv\", dict_16))\n"
   ]
  },
  {
   "cell_type": "code",
   "execution_count": 17,
   "metadata": {},
   "outputs": [
    {
     "name": "stdout",
     "output_type": "stream",
     "text": [
      "20\n",
      "96.93\n"
     ]
    }
   ],
   "source": [
    "dict_20 = {\n",
    "    \"Buffalo\": [\"Buffalo\", \"Buffaloes\", \"Picture of Buffalo\", \"Image of Buffalo\", \"Wild Buffalo\"],\n",
    "    \"Elephant\": [\"Elephant\", \"Elephants\", \"Picture of Elephant\", \"Image of Elephant\", \"Wild Elephant\"],\n",
    "    \"Rhino\": [\"Rhino\", \"Rhinoceros\", \"Picture of Rhino\", \"Image of Rhino\", \"Wild Rhino\"],\n",
    "    \"Zebra\": [\"Zebra\", \"Zebras\", \"Picture of Zebra\", \"Image of Zebra\", \"Wild Zebra\"],\n",
    "}\n",
    "\n",
    "# Buffalo, Buffaloes, Picture of Buffalo, Image of Buffalo, Wild Buffalo, Elephant, Elephants, Picture of Elephant, Image of Elephant, Wild Elephant, Rhino, Rhinoceros, Picture of Rhino, Image of Rhino, Wild Rhino, Zebra, Zebras, Picture of Zebra, Image of Zebra, Wild Zebra\n",
    "\n",
    "dict_size(dict_20)\n",
    "print(aOcheck_accuracy(\"animalOther/AO20.csv\", dict_20))\n"
   ]
  },
  {
   "cell_type": "code",
   "execution_count": 18,
   "metadata": {},
   "outputs": [
    {
     "name": "stdout",
     "output_type": "stream",
     "text": [
      "24\n",
      "96.93\n"
     ]
    }
   ],
   "source": [
    "dict_24 = {\n",
    "    \"Buffalo\": [\"Buffalo\", \"Buffaloes\", \"Picture of Buffalo\", \"Image of Buffalo\", \"Wild Buffalo\", \"Buffalo Herd\"],\n",
    "    \"Elephant\": [\"Elephant\", \"Elephants\", \"Picture of Elephant\", \"Image of Elephant\", \"Wild Elephant\", \"Elephant Herd\"],\n",
    "    \"Rhino\": [\"Rhino\", \"Rhinoceros\", \"Picture of Rhino\", \"Image of Rhino\", \"Wild Rhino\", \"Rhino Herd\"],\n",
    "    \"Zebra\": [\"Zebra\", \"Zebras\", \"Picture of Zebra\", \"Image of Zebra\", \"Wild Zebra\", \"Zebra Herd\"],\n",
    "}\n",
    "\n",
    "# Buffalo, Buffaloes, Picture of Buffalo, Image of Buffalo, Wild Buffalo, Buffalo Herd, Elephant, Elephants, Picture of Elephant, Image of Elephant, Wild Elephant, Elephant Herd, Rhino, Rhinoceros, Picture of Rhino, Image of Rhino, Wild Rhino, Rhino Herd, Zebra, Zebras, Picture of Zebra, Image of Zebra, Wild Zebra, Zebra Herd\n",
    "\n",
    "dict_size(dict_24)\n",
    "print(aOcheck_accuracy(\"animalOther/AO24.csv\", dict_24))\n"
   ]
  },
  {
   "cell_type": "code",
   "execution_count": 19,
   "metadata": {},
   "outputs": [
    {
     "name": "stdout",
     "output_type": "stream",
     "text": [
      "32\n",
      "98.88\n"
     ]
    }
   ],
   "source": [
    "dict_32 = {\n",
    "    \"Buffalo\": [\"Buffalo\", \"Buffaloes\", \"Picture of Buffalo\", \"Image of Buffalo\", \"Wild Buffalo\", \"Buffalo Herd\", \"African Buffalo\", \"Buffalo in the Wild\"],\n",
    "    \"Elephant\": [\"Elephant\", \"Elephants\", \"Picture of Elephant\", \"Image of Elephant\", \"Wild Elephant\", \"Elephant Herd\", \"African Elephant\", \"Elephant in the Wild\"],\n",
    "    \"Rhino\": [\"Rhino\", \"Rhinoceros\", \"Picture of Rhino\", \"Image of Rhino\", \"Wild Rhino\", \"Rhino Herd\", \"African Rhino\", \"Rhino in the Wild\"],\n",
    "    \"Zebra\": [\"Zebra\", \"Zebras\", \"Picture of Zebra\", \"Image of Zebra\", \"Wild Zebra\", \"Zebra Herd\", \"African Zebra\", \"Zebra in the Wild\"],\n",
    "}\n",
    "\n",
    "# Buffalo, Buffaloes, Picture of Buffalo, Image of Buffalo, Wild Buffalo, Buffalo Herd, African Buffalo, Buffalo in the Wild, Elephant, Elephants, Picture of Elephant, Image of Elephant, Wild Elephant, Elephant Herd, African Elephant, Elephant in the Wild, Rhino, Rhinoceros, Picture of Rhino, Image of Rhino, Wild Rhino, Rhino Herd, African Rhino, Rhino in the Wild, Zebra, Zebras, Picture of Zebra, Image of Zebra, Wild Zebra, Zebra Herd, African Zebra, Zebra in the Wild\n",
    "\n",
    "dict_size(dict_32)\n",
    "print(aOcheck_accuracy(\"animalOther/AO32.csv\", dict_32))\n"
   ]
  },
  {
   "cell_type": "code",
   "execution_count": 20,
   "metadata": {},
   "outputs": [
    {
     "name": "stdout",
     "output_type": "stream",
     "text": [
      "36\n",
      "98.9\n"
     ]
    }
   ],
   "source": [
    "dict_36 = {\n",
    "    \"Buffalo\": [\"Buffalo\", \"Buffaloes\", \"Picture of Buffalo\", \"Image of Buffalo\", \"Wild Buffalo\", \"Buffalo Herd\", \"African Buffalo\", \"Buffalo in the Wild\", \"Large Buffalo\"],\n",
    "    \"Elephant\": [\"Elephant\", \"Elephants\", \"Picture of Elephant\", \"Image of Elephant\", \"Wild Elephant\", \"Elephant Herd\", \"African Elephant\", \"Elephant in the Wild\", \"Large Elephant\"],\n",
    "    \"Rhino\": [\"Rhino\", \"Rhinoceros\", \"Picture of Rhino\", \"Image of Rhino\", \"Wild Rhino\", \"Rhino Herd\", \"African Rhino\", \"Rhino in the Wild\", \"Large Rhino\"],\n",
    "    \"Zebra\": [\"Zebra\", \"Zebras\", \"Picture of Zebra\", \"Image of Zebra\", \"Wild Zebra\", \"Zebra Herd\", \"African Zebra\", \"Zebra in the Wild\", \"Large Zebra\"],\n",
    "}\n",
    "\n",
    "# Buffalo, Buffaloes, Picture of Buffalo, Image of Buffalo, Wild Buffalo, Buffalo Herd, African Buffalo, Buffalo in the Wild, Large Buffalo, Elephant, Elephants, Picture of Elephant, Image of Elephant, Wild Elephant, Elephant Herd, African Elephant, Elephant in the Wild, Large Elephant, Rhino, Rhinoceros, Picture of Rhino, Image of Rhino, Wild Rhino, Rhino Herd, African Rhino, Rhino in the Wild, Large Rhino, Zebra, Zebras, Picture of Zebra, Image of Zebra, Wild Zebra, Zebra Herd, African Zebra, Zebra in the Wild, Large Zebra\n",
    "\n",
    "dict_size(dict_36)\n",
    "print(aOcheck_accuracy(\"animalOther/AO36.csv\", dict_36))\n"
   ]
  },
  {
   "cell_type": "code",
   "execution_count": 21,
   "metadata": {},
   "outputs": [
    {
     "name": "stdout",
     "output_type": "stream",
     "text": [
      "40\n",
      "98.9\n"
     ]
    }
   ],
   "source": [
    "dict_40 = {\n",
    "    \"Buffalo\": [\"Buffalo\", \"Buffaloes\", \"Picture of Buffalo\", \"Image of Buffalo\", \"Wild Buffalo\", \"Buffalo Herd\", \"African Buffalo\", \"Buffalo in the Wild\", \"Large Buffalo\", \"Buffalo Plains\"],\n",
    "    \"Elephant\": [\"Elephant\", \"Elephants\", \"Picture of Elephant\", \"Image of Elephant\", \"Wild Elephant\", \"Elephant Herd\", \"African Elephant\", \"Elephant in the Wild\", \"Large Elephant\", \"Elephant Plains\"],\n",
    "    \"Rhino\": [\"Rhino\", \"Rhinoceros\", \"Picture of Rhino\", \"Image of Rhino\", \"Wild Rhino\", \"Rhino Herd\", \"African Rhino\", \"Rhino in the Wild\", \"Large Rhino\", \"Rhino Plains\"],\n",
    "    \"Zebra\": [\"Zebra\", \"Zebras\", \"Picture of Zebra\", \"Image of Zebra\", \"Wild Zebra\", \"Zebra Herd\", \"African Zebra\", \"Zebra in the Wild\", \"Large Zebra\", \"Zebra Plains\"],\n",
    "}\n",
    "\n",
    "# Buffalo, Buffaloes, Picture of Buffalo, Image of Buffalo, Wild Buffalo, Buffalo Herd, African Buffalo, Buffalo in the Wild, Large Buffalo, Buffalo Plains, Elephant, Elephants, Picture of Elephant, Image of Elephant, Wild Elephant, Elephant Herd, African Elephant, Elephant in the Wild, Large Elephant, Elephant Plains, Rhino, Rhinoceros, Picture of Rhino, Image of Rhino, Wild Rhino, Rhino Herd, African Rhino, Rhino in the Wild, Large Rhino, Rhino Plains, Zebra, Zebras, Picture of Zebra, Image of Zebra, Wild Zebra, Zebra Herd, African Zebra, Zebra in the Wild, Large Zebra, Zebra Plains\n",
    "\n",
    "dict_size(dict_40)\n",
    "print(aOcheck_accuracy(\"animalOther/AO40.csv\", dict_40))\n"
   ]
  },
  {
   "cell_type": "code",
   "execution_count": 22,
   "metadata": {},
   "outputs": [
    {
     "name": "stdout",
     "output_type": "stream",
     "text": [
      "44\n",
      "98.9\n"
     ]
    }
   ],
   "source": [
    "dict_44 = {#problem\n",
    "    \"Buffalo\": [\"Buffalo\", \"Buffaloes\", \"Picture of Buffalo\", \"Image of Buffalo\", \"Wild Buffalo\", \"Buffalo Herd\", \"African Buffalo\", \"Buffalo in the Wild\", \"Large Buffalo\", \"Buffalo Plains\", \"Moving Buffalo\"],\n",
    "    \"Elephant\": [\"Elephant\", \"Elephants\", \"Picture of Elephant\", \"Image of Elephant\", \"Wild Elephant\", \"Elephant Herd\", \"African Elephant\", \"Elephant in the Wild\", \"Large Elephant\", \"Elephant Plains\", \"Moving Elephant\"],\n",
    "    \"Rhino\": [\"Rhino\", \"Rhinoceros\", \"Picture of Rhino\", \"Image of Rhino\", \"Wild Rhino\", \"Rhino Herd\", \"African Rhino\", \"Rhino in the Wild\", \"Large Rhino\", \"Rhino Plains\", \"Moving Rhino\"],\n",
    "    \"Zebra\": [\"Zebra\", \"Zebras\", \"Picture of Zebra\", \"Image of Zebra\", \"Wild Zebra\", \"Zebra Herd\", \"African Zebra\", \"Zebra in the Wild\", \"Large Zebra\", \"Zebra Plains\", \"Moving Zebra\"],\n",
    "}\n",
    "\n",
    "# Buffalo, Buffaloes, Picture of Buffalo, Image of Buffalo, Wild Buffalo, Buffalo Herd, African Buffalo, Buffalo in the Wild, Large Buffalo, Buffalo Plains, Moving Buffalo, Elephant, Elephants, Picture of Elephant, Image of Elephant, Wild Elephant, Elephant Herd, African Elephant, Elephant in the Wild, Large Elephant, Elephant Plains, Moving Elephant, Rhino, Rhinoceros, Picture of Rhino, Image of Rhino, Wild Rhino, Rhino Herd, African Rhino, Rhino in the Wild, Large Rhino, Rhino Plains, Moving Rhino, Zebra, Zebras, Picture of Zebra, Image of Zebra, Wild Zebra, Zebra Herd, African Zebra, Zebra in the Wild, Large Zebra, Zebra Plains, Moving Zebra\n",
    "\n",
    "dict_size(dict_44)\n",
    "print(aOcheck_accuracy(\"animalOther/AO44.csv\", dict_44))\n"
   ]
  },
  {
   "cell_type": "code",
   "execution_count": 23,
   "metadata": {},
   "outputs": [
    {
     "name": "stdout",
     "output_type": "stream",
     "text": [
      "48\n",
      "98.9\n"
     ]
    }
   ],
   "source": [
    "dict_48 = {\n",
    "    \"Buffalo\": [\"Buffalo\", \"Buffaloes\", \"Picture of Buffalo\", \"Image of Buffalo\", \"Wild Buffalo\", \"Buffalo Herd\", \"African Buffalo\", \"Buffalo in the Wild\", \"Large Buffalo\", \"Buffalo Plains\", \"Moving Buffalo\", \"American Buffalo\"],\n",
    "    \"Elephant\": [\"Elephant\", \"Elephants\", \"Picture of Elephant\", \"Image of Elephant\", \"Wild Elephant\", \"Elephant Herd\", \"African Elephant\", \"Elephant in the Wild\", \"Large Elephant\", \"Elephant Plains\", \"Moving Elephant\", \"Asian Elephant\"],\n",
    "    \"Rhino\": [\"Rhino\", \"Rhinoceros\", \"Picture of Rhino\", \"Image of Rhino\", \"Wild Rhino\", \"Rhino Herd\", \"African Rhino\", \"Rhino in the Wild\", \"Large Rhino\", \"Rhino Plains\", \"Moving Rhino\", \"Black Rhino\"],\n",
    "    \"Zebra\": [\"Zebra\", \"Zebras\", \"Picture of Zebra\", \"Image of Zebra\", \"Wild Zebra\", \"Zebra Herd\", \"African Zebra\", \"Zebra in the Wild\", \"Large Zebra\", \"Zebra Plains\", \"Moving Zebra\", \"Wild Plains Zebra\"],\n",
    "}\n",
    "\n",
    "# Buffalo, Buffaloes, Picture of Buffalo, Image of Buffalo, Wild Buffalo, Buffalo Herd, African Buffalo, Buffalo in the Wild, Large Buffalo, Buffalo Plains, Moving Buffalo, American Buffalo, Elephant, Elephants, Picture of Elephant, Image of Elephant, Wild Elephant, Elephant Herd, African Elephant, Elephant in the Wild, Large Elephant, Elephant Plains, Moving Elephant, Asian Elephant, Rhino, Rhinoceros, Picture of Rhino, Image of Rhino, Wild Rhino, Rhino Herd, African Rhino, Rhino in the Wild, Large Rhino, Rhino Plains, Moving Rhino, Black Rhino, Zebra, Zebras, Picture of Zebra, Image of Zebra, Wild Zebra, Zebra Herd, African Zebra, Zebra in the Wild, Large Zebra, Zebra Plains, Moving Zebra, Wild Plains Zebra\n",
    "\n",
    "dict_size(dict_48)\n",
    "print(aOcheck_accuracy(\"animalOther/AO48.csv\", dict_48))\n"
   ]
  },
  {
   "cell_type": "code",
   "execution_count": 24,
   "metadata": {},
   "outputs": [
    {
     "name": "stdout",
     "output_type": "stream",
     "text": [
      "52\n",
      "98.9\n"
     ]
    }
   ],
   "source": [
    "dict_52 = {\n",
    "    \"Buffalo\": [\"Buffalo\", \"Buffaloes\", \"Picture of Buffalo\", \"Image of Buffalo\", \"Wild Buffalo\", \"Buffalo Herd\", \"African Buffalo\", \"Buffalo in the Wild\", \"Large Buffalo\", \"Buffalo Plains\", \"Moving Buffalo\", \"American Buffalo\", \"Buffalo in Herds\"],\n",
    "    \"Elephant\": [\"Elephant\", \"Elephants\", \"Picture of Elephant\", \"Image of Elephant\", \"Wild Elephant\", \"Elephant Herd\", \"African Elephant\", \"Elephant in the Wild\", \"Large Elephant\", \"Elephant Plains\", \"Moving Elephant\", \"Asian Elephant\", \"Elephant in Herds\"],\n",
    "    \"Rhino\": [\"Rhino\", \"Rhinoceros\", \"Picture of Rhino\", \"Image of Rhino\", \"Wild Rhino\", \"Rhino Herd\", \"African Rhino\", \"Rhino in the Wild\", \"Large Rhino\", \"Rhino Plains\", \"Moving Rhino\", \"Black Rhino\", \"Rhino in Herds\"],\n",
    "    \"Zebra\": [\"Zebra\", \"Zebras\", \"Picture of Zebra\", \"Image of Zebra\", \"Wild Zebra\", \"Zebra Herd\", \"African Zebra\", \"Zebra in the Wild\", \"Large Zebra\", \"Zebra Plains\", \"Moving Zebra\", \"Wild Plains Zebra\", \"Zebra in Herds\"],\n",
    "}\n",
    "\n",
    "# Buffalo, Buffaloes, Picture of Buffalo, Image of Buffalo, Wild Buffalo, Buffalo Herd, African Buffalo, Buffalo in the Wild, Large Buffalo, Buffalo Plains, Moving Buffalo, American Buffalo, Buffalo in Herds, Elephant, Elephants, Picture of Elephant, Image of Elephant, Wild Elephant, Elephant Herd, African Elephant, Elephant in the Wild, Large Elephant, Elephant Plains, Moving Elephant, Asian Elephant, Elephant in Herds, Rhino, Rhinoceros, Picture of Rhino, Image of Rhino, Wild Rhino, Rhino Herd, African Rhino, Rhino in the Wild, Large Rhino, Rhino Plains, Moving Rhino, Black Rhino, Rhino in Herds, Zebra, Zebras, Picture of Zebra, Image of Zebra, Wild Zebra, Zebra Herd, African Zebra, Zebra in the Wild, Large Zebra, Zebra Plains, Moving Zebra, Wild Plains Zebra, Zebra in Herds\n",
    "\n",
    "dict_size(dict_52)\n",
    "print(aOcheck_accuracy(\"animalOther/AO52.csv\", dict_52))\n"
   ]
  },
  {
   "cell_type": "code",
   "execution_count": 25,
   "metadata": {},
   "outputs": [
    {
     "name": "stdout",
     "output_type": "stream",
     "text": [
      "56\n",
      "98.93\n"
     ]
    }
   ],
   "source": [
    "dict_56 = {\n",
    "    \"Buffalo\": [\n",
    "        \"Buffalo\", \"Buffaloes\", \"Picture of Buffalo\", \"Image of Buffalo\", \"Wild Buffalo\", \"Buffalo Herd\",\n",
    "        \"African Buffalo\", \"Buffalo in the Wild\", \"Large Buffalo\", \"Buffalo Plains\", \"Moving Buffalo\",\n",
    "        \"American Buffalo\", \"Buffalo in Herds\", \"Savannah Buffalo\"\n",
    "    ],\n",
    "    \"Elephant\": [\n",
    "        \"Elephant\", \"Elephants\", \"Picture of Elephant\", \"Image of Elephant\", \"Wild Elephant\", \"Elephant Herd\",\n",
    "        \"African Elephant\", \"Elephant in the Wild\", \"Large Elephant\", \"Elephant Plains\", \"Moving Elephant\",\n",
    "        \"Asian Elephant\", \"Elephant in Herds\", \"Savannah Elephant\"\n",
    "    ],\n",
    "    \"Rhino\": [\n",
    "        \"Rhino\", \"Rhinoceros\", \"Picture of Rhino\", \"Image of Rhino\", \"Wild Rhino\", \"Rhino Herd\",\n",
    "        \"African Rhino\", \"Rhino in the Wild\", \"Large Rhino\", \"Rhino Plains\", \"Moving Rhino\",\n",
    "        \"Black Rhino\", \"Rhino in Herds\", \"Savannah Rhino\"\n",
    "    ],\n",
    "    \"Zebra\": [\n",
    "        \"Zebra\", \"Zebras\", \"Picture of Zebra\", \"Image of Zebra\", \"Wild Zebra\", \"Zebra Herd\",\n",
    "        \"African Zebra\", \"Zebra in the Wild\", \"Large Zebra\", \"Zebra Plains\", \"Moving Zebra\",\n",
    "        \"Wild Plains Zebra\", \"Zebra in Herds\", \"Savannah Zebra\"\n",
    "    ],\n",
    "}\n",
    "\n",
    "# Buffalo, Buffaloes, Picture of Buffalo, Image of Buffalo, Wild Buffalo, Buffalo Herd, African Buffalo, Buffalo in the Wild, Large Buffalo, Buffalo Plains, Moving Buffalo, American Buffalo, Buffalo in Herds, Savannah Buffalo, Elephant, Elephants, Picture of Elephant, Image of Elephant, Wild Elephant, Elephant Herd, African Elephant, Elephant in the Wild, Large Elephant, Elephant Plains, Moving Elephant, Asian Elephant, Elephant in Herds, Savannah Elephant, Rhino, Rhinoceros, Picture of Rhino, Image of Rhino, Wild Rhino, Rhino Herd, African Rhino, Rhino in the Wild, Large Rhino, Rhino Plains, Moving Rhino, Black Rhino, Rhino in Herds, Savannah Rhino, Zebra, Zebras, Picture of Zebra, Image of Zebra, Wild Zebra, Zebra Herd, African Zebra, Zebra in the Wild, Large Zebra, Zebra Plains, Moving Zebra, Wild Plains Zebra, Zebra in Herds, Savannah Zebra\n",
    "\n",
    "dict_size(dict_56)\n",
    "print(aOcheck_accuracy(\"animalOther/AO56.csv\", dict_56))\n"
   ]
  },
  {
   "cell_type": "code",
   "execution_count": 26,
   "metadata": {},
   "outputs": [
    {
     "name": "stdout",
     "output_type": "stream",
     "text": [
      "60\n",
      "98.95\n"
     ]
    }
   ],
   "source": [
    "dict_60 = {\n",
    "    \"Buffalo\": [\n",
    "        \"Buffalo\", \"Buffaloes\", \"Picture of Buffalo\", \"Image of Buffalo\", \"Wild Buffalo\", \"Buffalo Herd\",\n",
    "        \"African Buffalo\", \"Buffalo in the Wild\", \"Large Buffalo\", \"Buffalo Plains\", \"Moving Buffalo\",\n",
    "        \"American Buffalo\", \"Buffalo in Herds\", \"Savannah Buffalo\", \"Horned Buffalo\"\n",
    "    ],\n",
    "    \"Elephant\": [\n",
    "        \"Elephant\", \"Elephants\", \"Picture of Elephant\", \"Image of Elephant\", \"Wild Elephant\", \"Elephant Herd\",\n",
    "        \"African Elephant\", \"Elephant in the Wild\", \"Large Elephant\", \"Elephant Plains\", \"Moving Elephant\",\n",
    "        \"Asian Elephant\", \"Elephant in Herds\", \"Savannah Elephant\", \"Tusker Elephant\"\n",
    "    ],\n",
    "    \"Rhino\": [\n",
    "        \"Rhino\", \"Rhinoceros\", \"Picture of Rhino\", \"Image of Rhino\", \"Wild Rhino\", \"Rhino Herd\",\n",
    "        \"African Rhino\", \"Rhino in the Wild\", \"Large Rhino\", \"Rhino Plains\", \"Moving Rhino\",\n",
    "        \"Black Rhino\", \"Rhino in Herds\", \"Savannah Rhino\", \"Horned Rhino\"\n",
    "    ],\n",
    "    \"Zebra\": [\n",
    "        \"Zebra\", \"Zebras\", \"Picture of Zebra\", \"Image of Zebra\", \"Wild Zebra\", \"Zebra Herd\",\n",
    "        \"African Zebra\", \"Zebra in the Wild\", \"Large Zebra\", \"Zebra Plains\", \"Moving Zebra\",\n",
    "        \"Wild Plains Zebra\", \"Zebra in Herds\", \"Savannah Zebra\", \"Mountain Zebra\"\n",
    "    ],\n",
    "}\n",
    "\n",
    "# Buffalo, Buffaloes, Picture of Buffalo, Image of Buffalo, Wild Buffalo, Buffalo Herd, African Buffalo, Buffalo in the Wild, Large Buffalo, Buffalo Plains, Moving Buffalo, American Buffalo, Buffalo in Herds, Savannah Buffalo, Horned Buffalo, Elephant, Elephants, Picture of Elephant, Image of Elephant, Wild Elephant, Elephant Herd, African Elephant, Elephant in the Wild, Large Elephant, Elephant Plains, Moving Elephant, Asian Elephant, Elephant in Herds, Savannah Elephant, Tusker Elephant, Rhino, Rhinoceros, Picture of Rhino, Image of Rhino, Wild Rhino, Rhino Herd, African Rhino, Rhino in the Wild, Large Rhino, Rhino Plains, Moving Rhino, Black Rhino, Rhino in Herds, Savannah Rhino, Horned Rhino, Zebra, Zebras, Picture of Zebra, Image of Zebra, Wild Zebra, Zebra Herd, African Zebra, Zebra in the Wild, Large Zebra, Zebra Plains, Moving Zebra, Wild Plains Zebra, Zebra in Herds, Savannah Zebra, Mountain Zebra\n",
    "\n",
    "dict_size(dict_60)\n",
    "print(aOcheck_accuracy(\"animalOther/AO60.csv\", dict_60))\n"
   ]
  },
  {
   "cell_type": "markdown",
   "metadata": {},
   "source": [
    "## CatDog"
   ]
  },
  {
   "cell_type": "code",
   "execution_count": 27,
   "metadata": {},
   "outputs": [],
   "source": [
    "CDdict2 = {\n",
    "        'cat': ['cat'],\n",
    "        'dog': ['dog']\n",
    "    }\n"
   ]
  },
  {
   "cell_type": "code",
   "execution_count": 28,
   "metadata": {},
   "outputs": [],
   "source": [
    "CDdict4 = { \n",
    "    'cat': ['cat', 'picture of cat'],\n",
    "    'dog': ['dog', 'picture of dog']\n",
    "}"
   ]
  },
  {
   "cell_type": "code",
   "execution_count": 29,
   "metadata": {},
   "outputs": [],
   "source": [
    "CDdict6 = { \n",
    "    'cat': ['cat', 'picture of cat', 'cats'],\n",
    "    'dog': ['dog', 'picture of dog', 'dogs']\n",
    "}\n"
   ]
  },
  {
   "cell_type": "code",
   "execution_count": 30,
   "metadata": {},
   "outputs": [],
   "source": [
    "CDdict8 = { \n",
    "    'cat': ['cat', 'picture of cat', 'cats', 'image of cats'],\n",
    "    'dog': ['dog', 'picture of dog', 'dogs', 'image of dogs']\n",
    "}\n"
   ]
  },
  {
   "cell_type": "code",
   "execution_count": 31,
   "metadata": {},
   "outputs": [],
   "source": [
    "CDdict10 = { \n",
    "    'cat': ['cat', 'picture of cat', 'cats', 'image of cats', 'moving cat'],\n",
    "    'dog': ['dog', 'picture of dog', 'dogs', 'image of dogs', 'moving dog']\n",
    "}"
   ]
  },
  {
   "cell_type": "code",
   "execution_count": 32,
   "metadata": {},
   "outputs": [],
   "source": [
    "CDdict12 = { \n",
    "    'cat': ['cat', 'picture of cat', 'cats', 'image of cats', 'moving cat', 'cat picture'],\n",
    "    'dog': ['dog', 'picture of dog', 'dogs', 'image of dogs', 'moving dog', 'dog picture']\n",
    "}"
   ]
  },
  {
   "cell_type": "code",
   "execution_count": 33,
   "metadata": {},
   "outputs": [],
   "source": [
    "CDdict14 = { \n",
    "    'cat': ['cat', 'picture of cat', 'cats', 'image of cats', 'moving cat', 'cat picture', 'cat image'],\n",
    "    'dog': ['dog', 'picture of dog', 'dogs', 'image of dogs', 'moving dog', 'dog picture', 'dog image']\n",
    "}\n"
   ]
  },
  {
   "cell_type": "code",
   "execution_count": 34,
   "metadata": {},
   "outputs": [],
   "source": [
    "CDdict16 = { \n",
    "    'cat': ['cat', 'picture of cat', 'cats', 'image of cats', 'moving cat', 'cat picture', 'cat image', 'cool cat'],\n",
    "    'dog': ['dog', 'picture of dog', 'dogs', 'image of dogs', 'moving dog', 'dog picture', 'dog image', 'cool dog']\n",
    "}\n"
   ]
  },
  {
   "cell_type": "code",
   "execution_count": 35,
   "metadata": {},
   "outputs": [],
   "source": [
    "CDdict18 = { \n",
    "    'cat': ['cat', 'picture of cat', 'cats', 'image of cats', 'moving cat', 'cat picture', 'cat image', 'cool cat', 'sitting cat'],\n",
    "    'dog': ['dog', 'picture of dog', 'dogs', 'image of dogs', 'moving dog', 'dog picture', 'dog image', 'cool dog', 'sitting dog']\n",
    "}\n"
   ]
  },
  {
   "cell_type": "code",
   "execution_count": 36,
   "metadata": {},
   "outputs": [],
   "source": [
    "CDdict20 = { \n",
    "    'cat': ['cat', 'picture of cat', 'cats', 'image of cats', 'moving cat', 'cat picture', 'cat image', 'cool cat', 'sitting cat', 'nice cat'],\n",
    "    'dog': ['dog', 'picture of dog', 'dogs', 'image of dogs', 'moving dog', 'dog picture', 'dog image', 'cool dog', 'sitting dog', 'nice dog']\n",
    "}"
   ]
  },
  {
   "cell_type": "code",
   "execution_count": 37,
   "metadata": {},
   "outputs": [],
   "source": [
    "CDdict22 = { \n",
    "    'cat': ['cat', 'picture of cat', 'cats', 'image of cats', 'moving cat', 'cat picture', 'cat image', 'cool cat', 'sitting cat', 'nice cat', 'image of nice cat'],\n",
    "    'dog': ['dog', 'picture of dog', 'dogs', 'image of dogs', 'moving dog', 'dog picture', 'dog image', 'cool dog', 'sitting dog', 'nice dog', 'image of nice dog']\n",
    "}"
   ]
  },
  {
   "cell_type": "code",
   "execution_count": 38,
   "metadata": {},
   "outputs": [],
   "source": [
    "CDdict24 = { \n",
    "    'cat': ['cat', 'picture of cat', 'cats', 'image of cats', 'moving cat', 'cat picture', 'cat image', 'cool cat', 'sitting cat', 'nice cat', 'image of nice cat', 'image of cool cat'],\n",
    "    'dog': ['dog', 'picture of dog', 'dogs', 'image of dogs', 'moving dog', 'dog picture', 'dog image', 'cool dog', 'sitting dog', 'nice dog', 'image of nice dog', 'image of cool dog']\n",
    "}\n"
   ]
  },
  {
   "cell_type": "code",
   "execution_count": 39,
   "metadata": {},
   "outputs": [],
   "source": [
    "CDdict26 = { \n",
    "    'cat': [\n",
    "        'cat', 'picture of cat', 'cats', 'image of cats', 'moving cat', 'cat picture', 'cat image',\n",
    "        'cool cat', 'sitting cat', 'nice cat', 'image of nice cat', 'image of cool cat', 'image of cat'\n",
    "    ],\n",
    "    'dog': [\n",
    "        'dog', 'picture of dog', 'dogs', 'image of dogs', 'moving dog', 'dog picture', 'dog image',\n",
    "        'cool dog', 'sitting dog', 'nice dog', 'image of nice dog', 'image of cool dog', 'image of dog'\n",
    "    ]\n",
    "}"
   ]
  },
  {
   "cell_type": "code",
   "execution_count": 40,
   "metadata": {},
   "outputs": [],
   "source": [
    "CDdict28 = { \n",
    "    'cat': [\n",
    "        'cat', 'picture of cat', 'cats', 'image of cats', 'moving cat', 'cat picture', 'cat image',\n",
    "        'cool cat', 'sitting cat', 'nice cat', 'image of nice cat', 'image of cool cat', 'image of cat', 'picture of cats'\n",
    "    ],\n",
    "    'dog': [\n",
    "        'dog', 'picture of dog', 'dogs', 'image of dogs', 'moving dog', 'dog picture', 'dog image',\n",
    "        'cool dog', 'sitting dog', 'nice dog', 'image of nice dog', 'image of cool dog', 'image of dog', 'picture of dogs'\n",
    "    ]\n",
    "}"
   ]
  },
  {
   "cell_type": "code",
   "execution_count": 41,
   "metadata": {},
   "outputs": [],
   "source": [
    "CDdict30 = { \n",
    "    'cat': [\n",
    "        'cat', 'picture of cat', 'cats', 'image of cats', 'moving cat', 'cat picture', 'cat image',\n",
    "        'cool cat', 'sitting cat', 'nice cat', 'image of nice cat', 'image of cool cat', 'image of cat',\n",
    "        'picture of cats', 'moving picture of cat'\n",
    "    ],\n",
    "    'dog': [\n",
    "        'dog', 'picture of dog', 'dogs', 'image of dogs', 'moving dog', 'dog picture', 'dog image',\n",
    "        'cool dog', 'sitting dog', 'nice dog', 'image of nice dog', 'image of cool dog', 'image of dog',\n",
    "        'picture of dogs', 'moving picture of dog'\n",
    "    ]\n",
    "}\n"
   ]
  },
  {
   "cell_type": "code",
   "execution_count": 42,
   "metadata": {},
   "outputs": [],
   "source": [
    "CDdict32 = { \n",
    "    'cat': [\n",
    "        'cat', 'picture of cat', 'cats', 'image of cats', 'moving cat', 'cat picture', 'cat image',\n",
    "        'cool cat', 'sitting cat', 'nice cat', 'image of nice cat', 'image of cool cat', 'image of cat',\n",
    "        'picture of cats', 'moving picture of cat', 'cool picture of cat'\n",
    "    ],\n",
    "    'dog': [\n",
    "        'dog', 'picture of dog', 'dogs', 'image of dogs', 'moving dog', 'dog picture', 'dog image',\n",
    "        'cool dog', 'sitting dog', 'nice dog', 'image of nice dog', 'image of cool dog', 'image of dog',\n",
    "        'picture of dogs', 'moving picture of dog', 'cool picture of dog'\n",
    "    ]\n",
    "}\n"
   ]
  },
  {
   "cell_type": "code",
   "execution_count": 43,
   "metadata": {},
   "outputs": [],
   "source": [
    "CDdict36 = { \n",
    "    'cat': [\n",
    "        'cat', 'picture of cat', 'cats', 'image of cats', 'moving cat', 'cat picture', 'cat image',\n",
    "        'cool cat', 'sitting cat', 'nice cat', 'image of nice cat', 'image of cool cat', 'image of cat',\n",
    "        'picture of cats', 'moving picture of cat', 'cool picture of cat',\n",
    "        'funny cat', 'funny image of cat'\n",
    "    ],\n",
    "    'dog': [\n",
    "        'dog', 'picture of dog', 'dogs', 'image of dogs', 'moving dog', 'dog picture', 'dog image',\n",
    "        'cool dog', 'sitting dog', 'nice dog', 'image of nice dog', 'image of cool dog', 'image of dog',\n",
    "        'picture of dogs', 'moving picture of dog', 'cool picture of dog',\n",
    "        'funny dog', 'funny image of dog'\n",
    "    ]\n",
    "}"
   ]
  },
  {
   "cell_type": "code",
   "execution_count": 44,
   "metadata": {},
   "outputs": [],
   "source": [
    "CDdict38 = { \n",
    "    'cat': [\n",
    "        'cat', 'picture of cat', 'cats', 'image of cats', 'moving cat', 'cat picture', 'cat image',\n",
    "        'cool cat', 'sitting cat', 'nice cat', 'image of nice cat', 'image of cool cat', 'image of cat',\n",
    "        'picture of cats', 'moving picture of cat', 'cool picture of cat',\n",
    "        'funny cat', 'funny image of cat', 'funny picture of cat'\n",
    "    ],\n",
    "    'dog': [\n",
    "        'dog', 'picture of dog', 'dogs', 'image of dogs', 'moving dog', 'dog picture', 'dog image',\n",
    "        'cool dog', 'sitting dog', 'nice dog', 'image of nice dog', 'image of cool dog', 'image of dog',\n",
    "        'picture of dogs', 'moving picture of dog', 'cool picture of dog',\n",
    "        'funny dog', 'funny image of dog', 'funny picture of dog'\n",
    "    ]\n",
    "}"
   ]
  },
  {
   "cell_type": "code",
   "execution_count": 45,
   "metadata": {},
   "outputs": [],
   "source": [
    "CDdict42 = { \n",
    "    'cat': [\n",
    "        'cat', 'picture of cat', 'cats', 'image of cats', 'moving cat', 'cat picture', 'cat image',\n",
    "        'cool cat', 'sitting cat', 'nice cat', 'image of nice cat', 'image of cool cat', 'image of cat',\n",
    "        'picture of cats', 'moving picture of cat', 'cool picture of cat',\n",
    "        'funny cat', 'funny image of cat', 'funny picture of cat',\n",
    "        'cute cat', 'cute image of cat'\n",
    "    ],\n",
    "    'dog': [\n",
    "        'dog', 'picture of dog', 'dogs', 'image of dogs', 'moving dog', 'dog picture', 'dog image',\n",
    "        'cool dog', 'sitting dog', 'nice dog', 'image of nice dog', 'image of cool dog', 'image of dog',\n",
    "        'picture of dogs', 'moving picture of dog', 'cool picture of dog',\n",
    "        'funny dog', 'funny image of dog', 'funny picture of dog',\n",
    "        'cute dog', 'cute image of dog'\n",
    "    ]\n",
    "}\n"
   ]
  },
  {
   "cell_type": "code",
   "execution_count": 46,
   "metadata": {},
   "outputs": [],
   "source": [
    "CDdict44 = { \n",
    "    'cat': [\n",
    "        'cat', 'picture of cat', 'cats', 'image of cats', 'moving cat', 'cat picture', 'cat image',\n",
    "        'cool cat', 'sitting cat', 'nice cat', 'image of nice cat', 'image of cool cat', 'image of cat',\n",
    "        'picture of cats', 'moving picture of cat', 'cool picture of cat',\n",
    "        'funny cat', 'funny image of cat', 'funny picture of cat',\n",
    "        'cute cat', 'cute image of cat', 'cute picture of cat'\n",
    "    ],\n",
    "    'dog': [\n",
    "        'dog', 'picture of dog', 'dogs', 'image of dogs', 'moving dog', 'dog picture', 'dog image',\n",
    "        'cool dog', 'sitting dog', 'nice dog', 'image of nice dog', 'image of cool dog', 'image of dog',\n",
    "        'picture of dogs', 'moving picture of dog', 'cool picture of dog',\n",
    "        'funny dog', 'funny image of dog', 'funny picture of dog',\n",
    "        'cute dog', 'cute image of dog', 'cute picture of dog'\n",
    "    ]\n",
    "}"
   ]
  },
  {
   "cell_type": "code",
   "execution_count": 47,
   "metadata": {},
   "outputs": [],
   "source": [
    "CDdict48 = { \n",
    "    'cat': [\n",
    "        'cat', 'picture of cat', 'cats', 'image of cats', 'moving cat', 'cat picture', 'cat image',\n",
    "        'cool cat', 'sitting cat', 'nice cat', 'image of nice cat', 'image of cool cat', 'image of cat',\n",
    "        'picture of cats', 'moving picture of cat', 'cool picture of cat',\n",
    "        'funny cat', 'funny image of cat', 'funny picture of cat',\n",
    "        'cute cat', 'cute image of cat', 'cute picture of cat',\n",
    "        'amazing cat', 'amazing image of cat'\n",
    "    ],\n",
    "    'dog': [\n",
    "        'dog', 'picture of dog', 'dogs', 'image of dogs', 'moving dog', 'dog picture', 'dog image',\n",
    "        'cool dog', 'sitting dog', 'nice dog', 'image of nice dog', 'image of cool dog', 'image of dog',\n",
    "        'picture of dogs', 'moving picture of dog', 'cool picture of dog',\n",
    "        'funny dog', 'funny image of dog', 'funny picture of dog',\n",
    "        'cute dog', 'cute image of dog', 'cute picture of dog',\n",
    "        'amazing dog', 'amazing image of dog'\n",
    "    ]\n",
    "}"
   ]
  },
  {
   "cell_type": "code",
   "execution_count": 48,
   "metadata": {},
   "outputs": [],
   "source": [
    "CDdict50 = { \n",
    "    'cat': [\n",
    "        'cat', 'picture of cat', 'cats', 'image of cats', 'moving cat', 'cat picture', 'cat image',\n",
    "        'cool cat', 'sitting cat', 'nice cat', 'image of nice cat', 'image of cool cat', 'image of cat',\n",
    "        'picture of cats', 'moving picture of cat', 'cool picture of cat',\n",
    "        'funny cat', 'funny image of cat', 'funny picture of cat',\n",
    "        'cute cat', 'cute image of cat', 'cute picture of cat',\n",
    "        'amazing cat', 'amazing image of cat', 'amazing picture of cat'\n",
    "    ],\n",
    "    'dog': [\n",
    "        'dog', 'picture of dog', 'dogs', 'image of dogs', 'moving dog', 'dog picture', 'dog image',\n",
    "        'cool dog', 'sitting dog', 'nice dog', 'image of nice dog', 'image of cool dog', 'image of dog',\n",
    "        'picture of dogs', 'moving picture of dog', 'cool picture of dog',\n",
    "        'funny dog', 'funny image of dog', 'funny picture of dog',\n",
    "        'cute dog', 'cute image of dog', 'cute picture of dog',\n",
    "        'amazing dog', 'amazing image of dog', 'amazing picture of dog'\n",
    "    ]\n",
    "}"
   ]
  },
  {
   "cell_type": "code",
   "execution_count": 49,
   "metadata": {},
   "outputs": [],
   "source": [
    "CDdict52 = { \n",
    "    'cat': [\n",
    "        'cat', 'picture of cat', 'cats', 'image of cats', 'moving cat', 'cat picture', 'cat image',\n",
    "        'cool cat', 'sitting cat', 'nice cat', 'image of nice cat', 'image of cool cat', 'image of cat',\n",
    "        'picture of cats', 'moving picture of cat', 'cool picture of cat',\n",
    "        'funny cat', 'funny image of cat', 'funny picture of cat',\n",
    "        'cute cat', 'cute image of cat', 'cute picture of cat',\n",
    "        'amazing cat', 'amazing image of cat', 'amazing picture of cat',\n",
    "        'adorable cat'\n",
    "    ],\n",
    "    'dog': [\n",
    "        'dog', 'picture of dog', 'dogs', 'image of dogs', 'moving dog', 'dog picture', 'dog image',\n",
    "        'cool dog', 'sitting dog', 'nice dog', 'image of nice dog', 'image of cool dog', 'image of dog',\n",
    "        'picture of dogs', 'moving picture of dog', 'cool picture of dog',\n",
    "        'funny dog', 'funny image of dog', 'funny picture of dog',\n",
    "        'cute dog', 'cute image of dog', 'cute picture of dog',\n",
    "        'amazing dog', 'amazing image of dog', 'amazing picture of dog',\n",
    "        'adorable dog'\n",
    "    ]\n",
    "}"
   ]
  },
  {
   "cell_type": "code",
   "execution_count": 50,
   "metadata": {},
   "outputs": [],
   "source": [
    "CDdict54 = { \n",
    "    'cat': [\n",
    "        'cat', 'picture of cat', 'cats', 'image of cats', 'moving cat', 'cat picture', 'cat image',\n",
    "        'cool cat', 'sitting cat', 'nice cat', 'image of nice cat', 'image of cool cat', 'image of cat',\n",
    "        'picture of cats', 'moving picture of cat', 'cool picture of cat',\n",
    "        'funny cat', 'funny image of cat', 'funny picture of cat',\n",
    "        'cute cat', 'cute image of cat', 'cute picture of cat',\n",
    "        'amazing cat', 'amazing image of cat', 'amazing picture of cat',\n",
    "        'adorable cat', 'adorable image of cat'\n",
    "    ],\n",
    "    'dog': [\n",
    "        'dog', 'picture of dog', 'dogs', 'image of dogs', 'moving dog', 'dog picture', 'dog image',\n",
    "        'cool dog', 'sitting dog', 'nice dog', 'image of nice dog', 'image of cool dog', 'image of dog',\n",
    "        'picture of dogs', 'moving picture of dog', 'cool picture of dog',\n",
    "        'funny dog', 'funny image of dog', 'funny picture of dog',\n",
    "        'cute dog', 'cute image of dog', 'cute picture of dog',\n",
    "        'amazing dog', 'amazing image of dog', 'amazing picture of dog',\n",
    "        'adorable dog', 'adorable image of dog'\n",
    "    ]\n",
    "}\n"
   ]
  },
  {
   "cell_type": "code",
   "execution_count": 51,
   "metadata": {},
   "outputs": [],
   "source": [
    "CDdict56 = { \n",
    "    'cat': [\n",
    "        'cat', 'picture of cat', 'cats', 'image of cats', 'moving cat', 'cat picture', 'cat image',\n",
    "        'cool cat', 'sitting cat', 'nice cat', 'image of nice cat', 'image of cool cat', 'image of cat',\n",
    "        'picture of cats', 'moving picture of cat', 'cool picture of cat',\n",
    "        'funny cat', 'funny image of cat', 'funny picture of cat',\n",
    "        'cute cat', 'cute image of cat', 'cute picture of cat',\n",
    "        'amazing cat', 'amazing image of cat', 'amazing picture of cat',\n",
    "        'adorable cat', 'adorable image of cat', 'adorable picture of cat'\n",
    "    ],\n",
    "    'dog': [\n",
    "        'dog', 'picture of dog', 'dogs', 'image of dogs', 'moving dog', 'dog picture', 'dog image',\n",
    "        'cool dog', 'sitting dog', 'nice dog', 'image of nice dog', 'image of cool dog', 'image of dog',\n",
    "        'picture of dogs', 'moving picture of dog', 'cool picture of dog',\n",
    "        'funny dog', 'funny image of dog', 'funny picture of dog',\n",
    "        'cute dog', 'cute image of dog', 'cute picture of dog',\n",
    "        'amazing dog', 'amazing image of dog', 'amazing picture of dog',\n",
    "        'adorable dog', 'adorable image of dog', 'adorable picture of dog'\n",
    "    ]\n",
    "}"
   ]
  },
  {
   "cell_type": "markdown",
   "metadata": {},
   "source": []
  },
  {
   "cell_type": "markdown",
   "metadata": {},
   "source": [
    "# Vegetables"
   ]
  },
  {
   "cell_type": "code",
   "execution_count": 52,
   "metadata": {},
   "outputs": [
    {
     "name": "stdout",
     "output_type": "stream",
     "text": [
      "15\n",
      "53.6\n"
     ]
    }
   ],
   "source": [
    "veg15 = {\"Bean\" : [\"Bean\"],\n",
    "         \"Bitter Gourd\" : [\"Bitter Gourd\"],\n",
    "         \"Bottle Gourd\" : [\"Bottle Gourd\"],\n",
    "         \"Brinjal\" : [\"Brinjal\"],\n",
    "         \"Cabbage\" : [\"Cabbage\"],\n",
    "         \"Broccoli\" : [\"Broccoli\"],\n",
    "         \"Capsicum\" : [\"Capsicum\"],\n",
    "         \"Carrot\" : [\"Carrot\"],\n",
    "         \"Cauliflower\" : [\"Cauliflower\"],\n",
    "         \"Cucumber\" : [\"Cucumber\"],\n",
    "         \"Papaya\" : [\"Papaya\"],\n",
    "         \"Potato\" : [\"Potato\"],\n",
    "         \"Pumpkin\" : [\"Pumpkin\"],\n",
    "         \"Radish\" : [\"Radish\"],\n",
    "         \"Tomato\" : [\"Tomato\"]}\n",
    "\n",
    "# Bean, Bitter Gourd, Bottle Gourd, Brinjal, Cabbage, Broccoli, Capsicum, Carrot, Cauliflower, Cucumber, Papaya, Potato, Pumpkin, Radish, Tomato\n",
    "\n",
    "dict_size(veg15)\n",
    "print(aOcheck_accuracy(\"Vegetable15/veg15.csv\", veg15))"
   ]
  },
  {
   "cell_type": "code",
   "execution_count": 53,
   "metadata": {},
   "outputs": [
    {
     "name": "stdout",
     "output_type": "stream",
     "text": [
      "30\n",
      "53.6\n"
     ]
    }
   ],
   "source": [
    "veg30 = {\n",
    "    \"Bean\": [\"Bean\", \"Image of Bean\"],\n",
    "    \"Bitter Gourd\": [\"Bitter Gourd\", \"Image of Bitter Gourd\"],\n",
    "    \"Bottle Gourd\": [\"Bottle Gourd\", \"Image of Bottle Gourd\"],\n",
    "    \"Brinjal\": [\"Brinjal\", \"Image of Brinjal\"],\n",
    "    \"Cabbage\": [\"Cabbage\", \"Image of Cabbage\"],\n",
    "    \"Broccoli\": [\"Broccoli\", \"Image of Broccoli\"],\n",
    "    \"Capsicum\": [\"Capsicum\", \"Image of Capsicum\"],\n",
    "    \"Carrot\": [\"Carrot\", \"Image of Carrot\"],\n",
    "    \"Cauliflower\": [\"Cauliflower\", \"Image of Cauliflower\"],\n",
    "    \"Cucumber\": [\"Cucumber\", \"Image of Cucumber\"],\n",
    "    \"Papaya\": [\"Papaya\", \"Image of Papaya\"],\n",
    "    \"Potato\": [\"Potato\", \"Image of Potato\"],\n",
    "    \"Pumpkin\": [\"Pumpkin\", \"Image of Pumpkin\"],\n",
    "    \"Radish\": [\"Radish\", \"Image of Radish\"],\n",
    "    \"Tomato\": [\"Tomato\", \"Image of Tomato\"]\n",
    "}\n",
    "\n",
    "# Bean, Image of Bean, Bitter Gourd, Image of Bitter Gourd, Bottle Gourd, Image of Bottle Gourd, Brinjal, Image of Brinjal, Cabbage, Image of Cabbage, Broccoli, Image of Broccoli, Capsicum, Image of Capsicum, Carrot, Image of Carrot, Cauliflower, Image of Cauliflower, Cucumber, Image of Cucumber, Papaya, Image of Papaya, Potato, Image of Potato, Pumpkin, Image of Pumpkin, Radish, Image of Radish, Tomato, Image of Tomato\n",
    "\n",
    "dict_size(veg30)  # Assuming dict_size is defined elsewhere\n",
    "print(aOcheck_accuracy(\"Vegetable15/veg15.csv\", veg30))\n"
   ]
  },
  {
   "cell_type": "code",
   "execution_count": 54,
   "metadata": {},
   "outputs": [
    {
     "name": "stdout",
     "output_type": "stream",
     "text": [
      "45\n",
      "55.81\n"
     ]
    }
   ],
   "source": [
    "veg45 = {\n",
    "    \"Bean\": [\"Bean\", \"Image of Bean\", \"Picture of Bean\"],\n",
    "    \"Bitter Gourd\": [\"Bitter Gourd\", \"Image of Bitter Gourd\", \"Picture of Bitter Gourd\"],\n",
    "    \"Bottle Gourd\": [\"Bottle Gourd\", \"Image of Bottle Gourd\", \"Picture of Bottle Gourd\"],\n",
    "    \"Brinjal\": [\"Brinjal\", \"Image of Brinjal\", \"Picture of Brinjal\"],\n",
    "    \"Cabbage\": [\"Cabbage\", \"Image of Cabbage\", \"Picture of Cabbage\"],\n",
    "    \"Broccoli\": [\"Broccoli\", \"Image of Broccoli\", \"Picture of Broccoli\"],\n",
    "    \"Capsicum\": [\"Capsicum\", \"Image of Capsicum\", \"Picture of Capsicum\"],\n",
    "    \"Carrot\": [\"Carrot\", \"Image of Carrot\", \"Picture of Carrot\"],\n",
    "    \"Cauliflower\": [\"Cauliflower\", \"Image of Cauliflower\", \"Picture of Cauliflower\"],\n",
    "    \"Cucumber\": [\"Cucumber\", \"Image of Cucumber\", \"Picture of Cucumber\"],\n",
    "    \"Papaya\": [\"Papaya\", \"Image of Papaya\", \"Picture of Papaya\"],\n",
    "    \"Potato\": [\"Potato\", \"Image of Potato\", \"Picture of Potato\"],\n",
    "    \"Pumpkin\": [\"Pumpkin\", \"Image of Pumpkin\", \"Picture of Pumpkin\"],\n",
    "    \"Radish\": [\"Radish\", \"Image of Radish\", \"Picture of Radish\"],\n",
    "    \"Tomato\": [\"Tomato\", \"Image of Tomato\", \"Picture of Tomato\"]\n",
    "}\n",
    "\n",
    "# Bean, Image of Bean, Picture of Bean, Bitter Gourd, Image of Bitter Gourd, Picture of Bitter Gourd, Bottle Gourd, Image of Bottle Gourd, Picture of Bottle Gourd, Brinjal, Image of Brinjal, Picture of Brinjal, Cabbage, Image of Cabbage, Picture of Cabbage, Broccoli, Image of Broccoli, Picture of Broccoli, Capsicum, Image of Capsicum, Picture of Capsicum, Carrot, Image of Carrot, Picture of Carrot, Cauliflower, Image of Cauliflower, Picture of Cauliflower, Cucumber, Image of Cucumber, Picture of Cucumber, Papaya, Image of Papaya, Picture of Papaya, Potato, Image of Potato, Picture of Potato, Pumpkin, Image of Pumpkin, Picture of Pumpkin, Radish, Image of Radish, Picture of Radish, Tomato, Image of Tomato, Picture of Tomato\n",
    "\n",
    "dict_size(veg45)  # Assuming dict_size is defined elsewhere\n",
    "print(aOcheck_accuracy(\"Vegetable15/veg45.csv\", veg45))\n",
    "\n"
   ]
  },
  {
   "cell_type": "code",
   "execution_count": 55,
   "metadata": {},
   "outputs": [
    {
     "name": "stdout",
     "output_type": "stream",
     "text": [
      "60\n",
      "57.77\n"
     ]
    }
   ],
   "source": [
    "veg60 = {\n",
    "    \"Bean\": [\"Bean\", \"Image of Bean\", \"Picture of Bean\", \"Beans\"],\n",
    "    \"Bitter Gourd\": [\"Bitter Gourd\", \"Image of Bitter Gourd\", \"Picture of Bitter Gourd\", \"Bitter Gourds\"],\n",
    "    \"Bottle Gourd\": [\"Bottle Gourd\", \"Image of Bottle Gourd\", \"Picture of Bottle Gourd\", \"Bottle Gourds\"],\n",
    "    \"Brinjal\": [\"Brinjal\", \"Image of Brinjal\", \"Picture of Brinjal\", \"Brinjals\"],\n",
    "    \"Cabbage\": [\"Cabbage\", \"Image of Cabbage\", \"Picture of Cabbage\", \"Cabbages\"],\n",
    "    \"Broccoli\": [\"Broccoli\", \"Image of Broccoli\", \"Picture of Broccoli\", \"Broccolis\"],\n",
    "    \"Capsicum\": [\"Capsicum\", \"Image of Capsicum\", \"Picture of Capsicum\", \"Capsicums\"],\n",
    "    \"Carrot\": [\"Carrot\", \"Image of Carrot\", \"Picture of Carrot\", \"Carrots\"],\n",
    "    \"Cauliflower\": [\"Cauliflower\", \"Image of Cauliflower\", \"Picture of Cauliflower\", \"Cauliflowers\"],\n",
    "    \"Cucumber\": [\"Cucumber\", \"Image of Cucumber\", \"Picture of Cucumber\", \"Cucumbers\"],\n",
    "    \"Papaya\": [\"Papaya\", \"Image of Papaya\", \"Picture of Papaya\", \"Papayas\"],\n",
    "    \"Potato\": [\"Potato\", \"Image of Potato\", \"Picture of Potato\", \"Potatoes\"],\n",
    "    \"Pumpkin\": [\"Pumpkin\", \"Image of Pumpkin\", \"Picture of Pumpkin\", \"Pumpkins\"],\n",
    "    \"Radish\": [\"Radish\", \"Image of Radish\", \"Picture of Radish\", \"Radishes\"],\n",
    "    \"Tomato\": [\"Tomato\", \"Image of Tomato\", \"Picture of Tomato\", \"Tomatoes\"]\n",
    "}\n",
    "\n",
    "# Bean, Image of Bean, Picture of Bean, Beans, Bitter Gourd, Image of Bitter Gourd, Picture of Bitter Gourd, Bitter Gourds, Bottle Gourd, Image of Bottle Gourd, Picture of Bottle Gourd, Bottle Gourds, Brinjal, Image of Brinjal, Picture of Brinjal, Brinjals, Cabbage, Image of Cabbage, Picture of Cabbage, Cabbages, Broccoli, Image of Broccoli, Picture of Broccoli, Broccolis, Capsicum, Image of Capsicum, Picture of Capsicum, Capsicums, Carrot, Image of Carrot, Picture of Carrot, Carrots, Cauliflower, Image of Cauliflower, Picture of Cauliflower, Cauliflowers, Cucumber, Image of Cucumber, Picture of Cucumber, Cucumbers, Papaya, Image of Papaya, Picture of Papaya, Papayas, Potato, Image of Potato, Picture of Potato, Potatoes, Pumpkin, Image of Pumpkin, Picture of Pumpkin, Pumpkins, Radish, Image of Radish, Picture of Radish, Radishes, Tomato, Image of Tomato, Picture of Tomato, Tomatoes\n",
    "\n",
    "dict_size(veg60)  # Assuming dict_size is defined elsewhere\n",
    "print(aOcheck_accuracy(\"Vegetable15/veg60.csv\", veg60))"
   ]
  },
  {
   "cell_type": "code",
   "execution_count": 56,
   "metadata": {},
   "outputs": [
    {
     "name": "stdout",
     "output_type": "stream",
     "text": [
      "75\n",
      "61.59\n"
     ]
    }
   ],
   "source": [
    "veg75 = {\n",
    "    \"Bean\": [\"Bean\", \"Image of Bean\", \"Picture of Bean\", \"Beans\", \"Vegetable Bean\"],\n",
    "    \"Bitter Gourd\": [\"Bitter Gourd\", \"Image of Bitter Gourd\", \"Picture of Bitter Gourd\", \"Bitter Gourds\", \"Vegetable Bitter Gourd\"],\n",
    "    \"Bottle Gourd\": [\"Bottle Gourd\", \"Image of Bottle Gourd\", \"Picture of Bottle Gourd\", \"Bottle Gourds\", \"Vegetable Bottle Gourd\"],\n",
    "    \"Brinjal\": [\"Brinjal\", \"Image of Brinjal\", \"Picture of Brinjal\", \"Brinjals\", \"Vegetable Brinjal\"],\n",
    "    \"Cabbage\": [\"Cabbage\", \"Image of Cabbage\", \"Picture of Cabbage\", \"Cabbages\", \"Vegetable Cabbage\"],\n",
    "    \"Broccoli\": [\"Broccoli\", \"Image of Broccoli\", \"Picture of Broccoli\", \"Broccolis\", \"Vegetable Broccoli\"],\n",
    "    \"Capsicum\": [\"Capsicum\", \"Image of Capsicum\", \"Picture of Capsicum\", \"Capsicums\", \"Vegetable Capsicum\"],\n",
    "    \"Carrot\": [\"Carrot\", \"Image of Carrot\", \"Picture of Carrot\", \"Carrots\", \"Vegetable Carrot\"],\n",
    "    \"Cauliflower\": [\"Cauliflower\", \"Image of Cauliflower\", \"Picture of Cauliflower\", \"Cauliflowers\", \"Vegetable Cauliflower\"],\n",
    "    \"Cucumber\": [\"Cucumber\", \"Image of Cucumber\", \"Picture of Cucumber\", \"Cucumbers\", \"Vegetable Cucumber\"],\n",
    "    \"Papaya\": [\"Papaya\", \"Image of Papaya\", \"Picture of Papaya\", \"Papayas\", \"Vegetable Papaya\"],\n",
    "    \"Potato\": [\"Potato\", \"Image of Potato\", \"Picture of Potato\", \"Potatoes\", \"Vegetable Potato\"],\n",
    "    \"Pumpkin\": [\"Pumpkin\", \"Image of Pumpkin\", \"Picture of Pumpkin\", \"Pumpkins\", \"Vegetable Pumpkin\"],\n",
    "    \"Radish\": [\"Radish\", \"Image of Radish\", \"Picture of Radish\", \"Radishes\", \"Vegetable Radish\"],\n",
    "    \"Tomato\": [\"Tomato\", \"Image of Tomato\", \"Picture of Tomato\", \"Tomatoes\", \"Vegetable Tomato\"]\n",
    "}\n",
    "\n",
    "# Bean, Image of Bean, Picture of Bean, Beans, Vegetable Bean, Bitter Gourd, Image of Bitter Gourd, Picture of Bitter Gourd, Bitter Gourds, Vegetable Bitter Gourd, Bottle Gourd, Image of Bottle Gourd, Picture of Bottle Gourd, Bottle Gourds, Vegetable Bottle Gourd, Brinjal, Image of Brinjal, Picture of Brinjal, Brinjals, Vegetable Brinjal, Cabbage, Image of Cabbage, Picture of Cabbage, Cabbages, Vegetable Cabbage, Broccoli, Image of Broccoli, Picture of Broccoli, Broccolis, Vegetable Broccoli, Capsicum, Image of Capsicum, Picture of Capsicum, Capsicums, Vegetable Capsicum, Carrot, Image of Carrot, Picture of Carrot, Carrots, Vegetable Carrot, Cauliflower, Image of Cauliflower, Picture of Cauliflower, Cauliflowers, Vegetable Cauliflower, Cucumber, Image of Cucumber, Picture of Cucumber, Cucumbers, Vegetable Cucumber, Papaya, Image of Papaya, Picture of Papaya, Papayas, Vegetable Papaya, Potato, Image of Potato, Picture of Potato, Potatoes, Vegetable Potato, Pumpkin, Image of Pumpkin, Picture of Pumpkin, Pumpkins, Vegetable Pumpkin, Radish, Image of Radish, Picture of Radish, Radishes, Vegetable Radish, Tomato, Image of Tomato, Picture of Tomato, Tomatoes, Vegetable Tomato\n",
    "\n",
    "dict_size(veg75)  # Assuming dict\n",
    "print(aOcheck_accuracy(\"Vegetable15/veg75.csv\", veg75))"
   ]
  },
  {
   "cell_type": "code",
   "execution_count": 57,
   "metadata": {},
   "outputs": [
    {
     "name": "stdout",
     "output_type": "stream",
     "text": [
      "90\n",
      "57.77\n"
     ]
    }
   ],
   "source": [
    "veg90 = {\n",
    "    \"Bean\": [\"Bean\", \"Image of Bean\", \"Picture of Bean\", \"Beans\", \"Vegetable Bean\", \"Fresh Bean\"],\n",
    "    \"Bitter Gourd\": [\"Bitter Gourd\", \"Image of Bitter Gourd\", \"Picture of Bitter Gourd\", \"Bitter Gourds\", \"Vegetable Bitter Gourd\", \"Fresh Bitter Gourd\"],\n",
    "    \"Bottle Gourd\": [\"Bottle Gourd\", \"Image of Bottle Gourd\", \"Picture of Bottle Gourd\", \"Bottle Gourds\", \"Vegetable Bottle Gourd\", \"Fresh Bottle Gourd\"],\n",
    "    \"Brinjal\": [\"Brinjal\", \"Image of Brinjal\", \"Picture of Brinjal\", \"Brinjals\", \"Vegetable Brinjal\", \"Fresh Brinjal\"],\n",
    "    \"Cabbage\": [\"Cabbage\", \"Image of Cabbage\", \"Picture of Cabbage\", \"Cabbages\", \"Vegetable Cabbage\", \"Fresh Cabbage\"],\n",
    "    \"Broccoli\": [\"Broccoli\", \"Image of Broccoli\", \"Picture of Broccoli\", \"Broccolis\", \"Vegetable Broccoli\", \"Fresh Broccoli\"],\n",
    "    \"Capsicum\": [\"Capsicum\", \"Image of Capsicum\", \"Picture of Capsicum\", \"Capsicums\", \"Vegetable Capsicum\", \"Fresh Capsicum\"],\n",
    "    \"Carrot\": [\"Carrot\", \"Image of Carrot\", \"Picture of Carrot\", \"Carrots\", \"Vegetable Carrot\", \"Fresh Carrot\"],\n",
    "    \"Cauliflower\": [\"Cauliflower\", \"Image of Cauliflower\", \"Picture of Cauliflower\", \"Cauliflowers\", \"Vegetable Cauliflower\", \"Fresh Cauliflower\"],\n",
    "    \"Cucumber\": [\"Cucumber\", \"Image of Cucumber\", \"Picture of Cucumber\", \"Cucumbers\", \"Vegetable Cucumber\", \"Fresh Cucumber\"],\n",
    "    \"Papaya\": [\"Papaya\", \"Image of Papaya\", \"Picture of Papaya\", \"Papayas\", \"Vegetable Papaya\", \"Fresh Papaya\"],\n",
    "    \"Potato\": [\"Potato\", \"Image of Potato\", \"Picture of Potato\", \"Potatoes\", \"Vegetable Potato\", \"Fresh Potato\"],\n",
    "    \"Pumpkin\": [\"Pumpkin\", \"Image of Pumpkin\", \"Picture of Pumpkin\", \"Pumpkins\", \"Vegetable Pumpkin\", \"Fresh Pumpkin\"],\n",
    "    \"Radish\": [\"Radish\", \"Image of Radish\", \"Picture of Radish\", \"Radishes\", \"Vegetable Radish\", \"Fresh Radish\"],\n",
    "    \"Tomato\": [\"Tomato\", \"Image of Tomato\", \"Picture of Tomato\", \"Tomatoes\", \"Vegetable Tomato\", \"Fresh Tomato\"]\n",
    "}\n",
    "\n",
    "# Bean, Image of Bean, Picture of Bean, Beans, Vegetable Bean, Fresh Bean, Bitter Gourd, Image of Bitter Gourd, Picture of Bitter Gourd, Bitter Gourds, Vegetable Bitter Gourd, Fresh Bitter Gourd, Bottle Gourd, Image of Bottle Gourd, Picture of Bottle Gourd, Bottle Gourds, Vegetable Bottle Gourd, Fresh Bottle Gourd, Brinjal, Image of Brinjal, Picture of Brinjal, Brinjals, Vegetable Brinjal, Fresh Brinjal, Cabbage, Image of Cabbage, Picture of Cabbage, Cabbages, Vegetable Cabbage, Fresh Cabbage, Broccoli, Image of Broccoli, Picture of Broccoli, Broccolis, Vegetable Broccoli, Fresh Broccoli, Capsicum, Image of Capsicum, Picture of Capsicum, Capsicums, Vegetable Capsicum, Fresh Capsicum, Carrot, Image of Carrot, Picture of Carrot, Carrots, Vegetable Carrot, Fresh Carrot, Cauliflower, Image of Cauliflower, Picture of Cauliflower, Cauliflowers, Vegetable Cauliflower, Fresh Cauliflower, Cucumber, Image of Cucumber, Picture of Cucumber, Cucumbers, Vegetable Cucumber, Fresh Cucumber, Papaya, Image of Papaya, Picture of Papaya, Papayas, Vegetable Papaya, Fresh Papaya, Potato, Image of Potato, Picture of Potato, Potatoes, Vegetable Potato, Fresh Potato, Pumpkin, Image of Pumpkin, Picture of Pumpkin, Pumpkins, Vegetable Pumpkin, Fresh Pumpkin, Radish, Image of Radish, Picture of Radish, Radishes, Vegetable Radish, Fresh Radish, Tomato, Image of Tomato, Picture of Tomato, Tomatoes, Vegetable Tomato, Fresh Tomato\n",
    "\n",
    "dict_size(veg90)\n",
    "print(aOcheck_accuracy(\"Vegetable15/veg90.csv\", veg90))\n"
   ]
  },
  {
   "cell_type": "code",
   "execution_count": 58,
   "metadata": {},
   "outputs": [
    {
     "name": "stdout",
     "output_type": "stream",
     "text": [
      "105\n",
      "61.59\n"
     ]
    }
   ],
   "source": [
    "veg105 = {\n",
    "    \"Bean\": [\"Bean\", \"Image of Bean\", \"Picture of Bean\", \"Beans\", \"Vegetable Bean\", \"Fresh Bean\", \"Organic Bean\"],\n",
    "    \"Bitter Gourd\": [\"Bitter Gourd\", \"Image of Bitter Gourd\", \"Picture of Bitter Gourd\", \"Bitter Gourds\", \"Vegetable Bitter Gourd\", \"Fresh Bitter Gourd\", \"Organic Bitter Gourd\"],\n",
    "    \"Bottle Gourd\": [\"Bottle Gourd\", \"Image of Bottle Gourd\", \"Picture of Bottle Gourd\", \"Bottle Gourds\", \"Vegetable Bottle Gourd\", \"Fresh Bottle Gourd\", \"Organic Bottle Gourd\"],\n",
    "    \"Brinjal\": [\"Brinjal\", \"Image of Brinjal\", \"Picture of Brinjal\", \"Brinjals\", \"Vegetable Brinjal\", \"Fresh Brinjal\", \"Organic Brinjal\"],\n",
    "    \"Cabbage\": [\"Cabbage\", \"Image of Cabbage\", \"Picture of Cabbage\", \"Cabbages\", \"Vegetable Cabbage\", \"Fresh Cabbage\", \"Organic Cabbage\"],\n",
    "    \"Broccoli\": [\"Broccoli\", \"Image of Broccoli\", \"Picture of Broccoli\", \"Broccolis\", \"Vegetable Broccoli\", \"Fresh Broccoli\", \"Organic Broccoli\"],\n",
    "    \"Capsicum\": [\"Capsicum\", \"Image of Capsicum\", \"Picture of Capsicum\", \"Capsicums\", \"Vegetable Capsicum\", \"Fresh Capsicum\", \"Organic Capsicum\"],\n",
    "    \"Carrot\": [\"Carrot\", \"Image of Carrot\", \"Picture of Carrot\", \"Carrots\", \"Vegetable Carrot\", \"Fresh Carrot\", \"Organic Carrot\"],\n",
    "    \"Cauliflower\": [\"Cauliflower\", \"Image of Cauliflower\", \"Picture of Cauliflower\", \"Cauliflowers\", \"Vegetable Cauliflower\", \"Fresh Cauliflower\", \"Organic Cauliflower\"],\n",
    "    \"Cucumber\": [\"Cucumber\", \"Image of Cucumber\", \"Picture of Cucumber\", \"Cucumbers\", \"Vegetable Cucumber\", \"Fresh Cucumber\", \"Organic Cucumber\"],\n",
    "    \"Papaya\": [\"Papaya\", \"Image of Papaya\", \"Picture of Papaya\", \"Papayas\", \"Vegetable Papaya\", \"Fresh Papaya\", \"Organic Papaya\"],\n",
    "    \"Potato\": [\"Potato\", \"Image of Potato\", \"Picture of Potato\", \"Potatoes\", \"Vegetable Potato\", \"Fresh Potato\", \"Organic Potato\"],\n",
    "    \"Pumpkin\": [\"Pumpkin\", \"Image of Pumpkin\", \"Picture of Pumpkin\", \"Pumpkins\", \"Vegetable Pumpkin\", \"Fresh Pumpkin\", \"Organic Pumpkin\"],\n",
    "    \"Radish\": [\"Radish\", \"Image of Radish\", \"Picture of Radish\", \"Radishes\", \"Vegetable Radish\", \"Fresh Radish\", \"Organic Radish\"],\n",
    "    \"Tomato\": [\"Tomato\", \"Image of Tomato\", \"Picture of Tomato\", \"Tomatoes\", \"Vegetable Tomato\", \"Fresh Tomato\", \"Organic Tomato\"]\n",
    "}\n",
    "\n",
    "# Bean, Image of Bean, Picture of Bean, Beans, Vegetable Bean, Fresh Bean, Organic Bean, Bitter Gourd, Image of Bitter Gourd, Picture of Bitter Gourd, Bitter Gourds, Vegetable Bitter Gourd, Fresh Bitter Gourd, Organic Bitter Gourd, Bottle Gourd, Image of Bottle Gourd, Picture of Bottle Gourd, Bottle Gourds, Vegetable Bottle Gourd, Fresh Bottle Gourd, Organic Bottle Gourd, Brinjal, Image of Brinjal, Picture of Brinjal, Brinjals, Vegetable Brinjal, Fresh Brinjal, Organic Brinjal, Cabbage, Image of Cabbage, Picture of Cabbage, Cabbages, Vegetable Cabbage, Fresh Cabbage, Organic Cabbage, Broccoli, Image of Broccoli, Picture of Broccoli, Broccolis, Vegetable Broccoli, Fresh Broccoli, Organic Broccoli, Capsicum, Image of Capsicum, Picture of Capsicum, Capsicums, Vegetable Capsicum, Fresh Capsicum, Organic Capsicum, Carrot, Image of Carrot, Picture of Carrot, Carrots, Vegetable Carrot, Fresh Carrot, Organic Carrot, Cauliflower, Image of Cauliflower, Picture of Cauliflower, Cauliflowers, Vegetable Cauliflower, Fresh Cauliflower, Organic Cauliflower, Cucumber, Image of Cucumber, Picture of Cucumber, Cucumbers, Vegetable Cucumber, Fresh Cucumber, Organic Cucumber, Papaya, Image of Papaya, Picture of Papaya, Papayas, Vegetable Papaya, Fresh Papaya, Organic Papaya, Potato, Image of Potato, Picture of Potato, Potatoes, Vegetable Potato, Fresh Potato, Organic Potato, Pumpkin, Image of Pumpkin, Picture of Pumpkin, Pumpkins, Vegetable Pumpkin, Fresh Pumpkin, Organic Pumpkin, Radish, Image of Radish, Picture of Radish, Radishes, Vegetable Radish, Fresh Radish, Organic Radish, Tomato, Image of Tomato, Picture of Tomato, Tomatoes, Vegetable Tomato, Fresh Tomato, Organic Tomato\n",
    "\n",
    "dict_size(veg105)\n",
    "print(aOcheck_accuracy(\"Vegetable15/veg105.csv\", veg105))"
   ]
  },
  {
   "cell_type": "markdown",
   "metadata": {},
   "source": [
    "# Deck of Cards"
   ]
  },
  {
   "cell_type": "code",
   "execution_count": 59,
   "metadata": {},
   "outputs": [
    {
     "name": "stdout",
     "output_type": "stream",
     "text": [
      "4\n",
      "51.06\n"
     ]
    }
   ],
   "source": [
    "cards4 = {\n",
    "    \"Clubs\" : [\"Card of Clubs\"],\n",
    "    \"Diamonds\" : [\"Card of Diamonds\"],\n",
    "    \"Hearts\" : [\"Card of Hearts\"],\n",
    "    \"Spades\" : [\"Card of Spades\"]\n",
    "}\n",
    "\n",
    "# Card of Clubs, Card of Diamonds, Card of Hearts, Card of Spades\n",
    "\n",
    "dict_size(cards4) \n",
    "print(card_accuracy(\"Card15/cards4.csv\", cards4))"
   ]
  },
  {
   "cell_type": "code",
   "execution_count": 60,
   "metadata": {},
   "outputs": [
    {
     "name": "stdout",
     "output_type": "stream",
     "text": [
      "8\n",
      "46.22\n"
     ]
    }
   ],
   "source": [
    "cards8 = {\n",
    "    \"Clubs\": [\"Card of Clubs\", \"Image of Card of Clubs\"],\n",
    "    \"Diamonds\": [\"Card of Diamonds\", \"Image of Card of Diamonds\"],\n",
    "    \"Hearts\": [\"Card of Hearts\", \"Image of Card of Hearts\"],\n",
    "    \"Spades\": [\"Card of Spades\", \"Image of Card of Spades\"]\n",
    "}\n",
    "\n",
    "# Card of Clubs, Image of Card of Clubs, Card of Diamonds, Image of Card of Diamonds, Card of Hearts, Image of Card of Hearts, Card of Spades, Image of Card of Spades\n",
    "\n",
    "dict_size(cards8)\n",
    "print(card_accuracy(\"Card15/cards8.csv\", cards8))\n"
   ]
  },
  {
   "cell_type": "code",
   "execution_count": 61,
   "metadata": {},
   "outputs": [
    {
     "name": "stdout",
     "output_type": "stream",
     "text": [
      "12\n",
      "46.4\n"
     ]
    }
   ],
   "source": [
    "cards12 = {\n",
    "    \"Clubs\": [\"Card of Clubs\", \"Image of Card of Clubs\", \"Picture of Card of Clubs\"],\n",
    "    \"Diamonds\": [\"Card of Diamonds\", \"Image of Card of Diamonds\", \"Picture of Card of Diamonds\"],\n",
    "    \"Hearts\": [\"Card of Hearts\", \"Image of Card of Hearts\", \"Picture of Card of Hearts\"],\n",
    "    \"Spades\": [\"Card of Spades\", \"Image of Card of Spades\", \"Picture of Card of Spades\"]\n",
    "}\n",
    "\n",
    "# Card of Clubs, Image of Card of Clubs, Picture of Card of Clubs, Card of Diamonds, Image of Card of Diamonds, Picture of Card of Diamonds, Card of Hearts, Image of Card of Hearts, Picture of Card of Hearts, Card of Spades, Image of Card of Spades, Picture of Card of Spades\n",
    "\n",
    "dict_size(cards12)\n",
    "print(card_accuracy(\"Card15/cards12.csv\", cards12))\n"
   ]
  },
  {
   "cell_type": "code",
   "execution_count": 62,
   "metadata": {},
   "outputs": [
    {
     "name": "stdout",
     "output_type": "stream",
     "text": [
      "16\n",
      "47.32\n"
     ]
    }
   ],
   "source": [
    "cards16 = {\n",
    "    \"Clubs\": [\"Card of Clubs\", \"Image of Card of Clubs\", \"Picture of Card of Clubs\", \"Poker Card of Clubs\"],\n",
    "    \"Diamonds\": [\"Card of Diamonds\", \"Image of Card of Diamonds\", \"Picture of Card of Diamonds\", \"Poker Card of Diamonds\"],\n",
    "    \"Hearts\": [\"Card of Hearts\", \"Image of Card of Hearts\", \"Picture of Card of Hearts\", \"Poker Card of Hearts\"],\n",
    "    \"Spades\": [\"Card of Spades\", \"Image of Card of Spades\", \"Picture of Card of Spades\", \"Poker Card of Spades\"]\n",
    "}\n",
    "\n",
    "# Card of Clubs, Image of Card of Clubs, Picture of Card of Clubs, Poker Card of Clubs, Card of Diamonds, Image of Card of Diamonds, Picture of Card of Diamonds, Poker Card of Diamonds, Card of Hearts, Image of Card of Hearts, Picture of Card of Hearts, Poker Card of Hearts, Card of Spades, Image of Card of Spades, Picture of Card of Spades, Poker Card of Spades\n",
    "\n",
    "dict_size(cards16)\n",
    "print(card_accuracy(\"Card15/cards16.csv\", cards16))\n"
   ]
  },
  {
   "cell_type": "code",
   "execution_count": 63,
   "metadata": {},
   "outputs": [
    {
     "name": "stdout",
     "output_type": "stream",
     "text": [
      "20\n",
      "47.32\n"
     ]
    }
   ],
   "source": [
    "cards20 = {\n",
    "    \"Clubs\": [\"Card of Clubs\", \"Image of Card of Clubs\", \"Picture of Card of Clubs\", \"Poker Card of Clubs\", \"Classic Card of Clubs\"],\n",
    "    \"Diamonds\": [\"Card of Diamonds\", \"Image of Card of Diamonds\", \"Picture of Card of Diamonds\", \"Poker Card of Diamonds\", \"Classic Card of Diamonds\"],\n",
    "    \"Hearts\": [\"Card of Hearts\", \"Image of Card of Hearts\", \"Picture of Card of Hearts\", \"Poker Card of Hearts\", \"Classic Card of Hearts\"],\n",
    "    \"Spades\": [\"Card of Spades\", \"Image of Card of Spades\", \"Picture of Card of Spades\", \"Poker Card of Spades\", \"Classic Card of Spades\"]\n",
    "}\n",
    "\n",
    "# Card of Clubs, Image of Card of Clubs, Picture of Card of Clubs, Poker Card of Clubs, Classic Card of Clubs, Card of Diamonds, Image of Card of Diamonds, Picture of Card of Diamonds, Poker Card of Diamonds, Classic Card of Diamonds, Card of Hearts, Image of Card of Hearts, Picture of Card of Hearts, Poker Card of Hearts, Classic Card of Hearts, Card of Spades, Image of Card of Spades, Picture of Card of Spades, Poker Card of Spades, Classic Card of Spades\n",
    "\n",
    "dict_size(cards20)\n",
    "print(card_accuracy(\"Card15/cards20.csv\", cards20))\n"
   ]
  },
  {
   "cell_type": "code",
   "execution_count": 64,
   "metadata": {},
   "outputs": [
    {
     "name": "stdout",
     "output_type": "stream",
     "text": [
      "24\n",
      "47.26\n"
     ]
    }
   ],
   "source": [
    "cards24 = {\n",
    "    \"Clubs\": [\"Card of Clubs\", \"Image of Card of Clubs\", \"Picture of Card of Clubs\", \"Poker Card of Clubs\", \"Classic Card of Clubs\", \"Vintage Card of Clubs\"],\n",
    "    \"Diamonds\": [\"Card of Diamonds\", \"Image of Card of Diamonds\", \"Picture of Card of Diamonds\", \"Poker Card of Diamonds\", \"Classic Card of Diamonds\", \"Vintage Card of Diamonds\"],\n",
    "    \"Hearts\": [\"Card of Hearts\", \"Image of Card of Hearts\", \"Picture of Card of Hearts\", \"Poker Card of Hearts\", \"Classic Card of Hearts\", \"Vintage Card of Hearts\"],\n",
    "    \"Spades\": [\"Card of Spades\", \"Image of Card of Spades\", \"Picture of Card of Spades\", \"Poker Card of Spades\", \"Classic Card of Spades\", \"Vintage Card of Spades\"]\n",
    "}\n",
    "\n",
    "# Card of Clubs, Image of Card of Clubs, Picture of Card of Clubs, Poker Card of Clubs, Classic Card of Clubs, Vintage Card of Clubs, Card of Diamonds, Image of Card of Diamonds, Picture of Card of Diamonds, Poker Card of Diamonds, Classic Card of Diamonds, Vintage Card of Diamonds, Card of Hearts, Image of Card of Hearts, Picture of Card of Hearts, Poker Card of Hearts, Classic Card of Hearts, Vintage Card of Hearts, Card of Spades, Image of Card of Spades, Picture of Card of Spades, Poker Card of Spades, Classic Card of Spades, Vintage Card of Spades\n",
    "\n",
    "dict_size(cards24)\n",
    "print(card_accuracy(\"Card15/cards24.csv\", cards24))\n"
   ]
  },
  {
   "cell_type": "code",
   "execution_count": 65,
   "metadata": {},
   "outputs": [
    {
     "name": "stdout",
     "output_type": "stream",
     "text": [
      "28\n",
      "47.3\n"
     ]
    }
   ],
   "source": [
    "cards28 = {\n",
    "    \"Clubs\": [\"Card of Clubs\", \"Image of Card of Clubs\", \"Picture of Card of Clubs\", \"Poker Card of Clubs\", \"Classic Card of Clubs\", \"Vintage Card of Clubs\", \"Royal Card of Clubs\"],\n",
    "    \"Diamonds\": [\"Card of Diamonds\", \"Image of Card of Diamonds\", \"Picture of Card of Diamonds\", \"Poker Card of Diamonds\", \"Classic Card of Diamonds\", \"Vintage Card of Diamonds\", \"Royal Card of Diamonds\"],\n",
    "    \"Hearts\": [\"Card of Hearts\", \"Image of Card of Hearts\", \"Picture of Card of Hearts\", \"Poker Card of Hearts\", \"Classic Card of Hearts\", \"Vintage Card of Hearts\", \"Royal Card of Hearts\"],\n",
    "    \"Spades\": [\"Card of Spades\", \"Image of Card of Spades\", \"Picture of Card of Spades\", \"Poker Card of Spades\", \"Classic Card of Spades\", \"Vintage Card of Spades\", \"Royal Card of Spades\"]\n",
    "}\n",
    "\n",
    "# Card of Clubs, Image of Card of Clubs, Picture of Card of Clubs, Poker Card of Clubs, Classic Card of Clubs, Vintage Card of Clubs, Royal Card of Clubs, Card of Diamonds, Image of Card of Diamonds, Picture of Card of Diamonds, Poker Card of Diamonds, Classic Card of Diamonds, Vintage Card of Diamonds, Royal Card of Diamonds, Card of Hearts, Image of Card of Hearts, Picture of Card of Hearts, Poker Card of Hearts, Classic Card of Hearts, Vintage Card of Hearts, Royal Card of Hearts, Card of Spades, Image of Card of Spades, Picture of Card of Spades, Poker Card of Spades, Classic Card of Spades, Vintage Card of Spades, Royal Card of Spades\n",
    "\n",
    "dict_size(cards28)\n",
    "print(card_accuracy(\"Card15/cards28.csv\", cards28))\n"
   ]
  },
  {
   "cell_type": "code",
   "execution_count": 66,
   "metadata": {},
   "outputs": [
    {
     "name": "stdout",
     "output_type": "stream",
     "text": [
      "32\n",
      "47.32\n"
     ]
    }
   ],
   "source": [
    "cards32 = {\n",
    "    \"Clubs\": [\"Card of Clubs\", \"Image of Card of Clubs\", \"Picture of Card of Clubs\", \"Poker Card of Clubs\", \"Classic Card of Clubs\", \"Vintage Card of Clubs\", \"Royal Card of Clubs\", \"Deluxe Card of Clubs\"],\n",
    "    \"Diamonds\": [\"Card of Diamonds\", \"Image of Card of Diamonds\", \"Picture of Card of Diamonds\", \"Poker Card of Diamonds\", \"Classic Card of Diamonds\", \"Vintage Card of Diamonds\", \"Royal Card of Diamonds\", \"Deluxe Card of Diamonds\"],\n",
    "    \"Hearts\": [\"Card of Hearts\", \"Image of Card of Hearts\", \"Picture of Card of Hearts\", \"Poker Card of Hearts\", \"Classic Card of Hearts\", \"Vintage Card of Hearts\", \"Royal Card of Hearts\", \"Deluxe Card of Hearts\"],\n",
    "    \"Spades\": [\"Card of Spades\", \"Image of Card of Spades\", \"Picture of Card of Spades\", \"Poker Card of Spades\", \"Classic Card of Spades\", \"Vintage Card of Spades\", \"Royal Card of Spades\", \"Deluxe Card of Spades\"]\n",
    "}\n",
    "\n",
    "# Card of Clubs, Image of Card of Clubs, Picture of Card of Clubs, Poker Card of Clubs, Classic Card of Clubs, Vintage Card of Clubs, Royal Card of Clubs, Deluxe Card of Clubs, Card of Diamonds, Image of Card of Diamonds, Picture of Card of Diamonds, Poker Card of Diamonds, Classic Card of Diamonds, Vintage Card of Diamonds, Royal Card of Diamonds, Deluxe Card of Diamonds, Card of Hearts, Image of Card of Hearts, Picture of Card of Hearts, Poker Card of Hearts, Classic Card of Hearts, Vintage Card of Hearts, Royal Card of Hearts, Deluxe Card of Hearts, Card of Spades, Image of Card of Spades, Picture of Card of Spades, Poker Card of Spades, Classic Card of Spades, Vintage Card of Spades, Royal Card of Spades, Deluxe Card of Spades\n",
    "\n",
    "dict_size(cards32)\n",
    "print(card_accuracy(\"Card15/cards32.csv\", cards32))\n"
   ]
  },
  {
   "cell_type": "code",
   "execution_count": 67,
   "metadata": {},
   "outputs": [
    {
     "name": "stdout",
     "output_type": "stream",
     "text": [
      "36\n",
      "47.32\n"
     ]
    }
   ],
   "source": [
    "cards36 = {\n",
    "    \"Clubs\": [\"Card of Clubs\", \"Image of Card of Clubs\", \"Picture of Card of Clubs\", \"Poker Card of Clubs\", \"Classic Card of Clubs\", \"Vintage Card of Clubs\", \"Royal Card of Clubs\", \"Deluxe Card of Clubs\", \"Exclusive Card of Clubs\"],\n",
    "    \"Diamonds\": [\"Card of Diamonds\", \"Image of Card of Diamonds\", \"Picture of Card of Diamonds\", \"Poker Card of Diamonds\", \"Classic Card of Diamonds\", \"Vintage Card of Diamonds\", \"Royal Card of Diamonds\", \"Deluxe Card of Diamonds\", \"Exclusive Card of Diamonds\"],\n",
    "    \"Hearts\": [\"Card of Hearts\", \"Image of Card of Hearts\", \"Picture of Card of Hearts\", \"Poker Card of Hearts\", \"Classic Card of Hearts\", \"Vintage Card of Hearts\", \"Royal Card of Hearts\", \"Deluxe Card of Hearts\", \"Exclusive Card of Hearts\"],\n",
    "    \"Spades\": [\"Card of Spades\", \"Image of Card of Spades\", \"Picture of Card of Spades\", \"Poker Card of Spades\", \"Classic Card of Spades\", \"Vintage Card of Spades\", \"Royal Card of Spades\", \"Deluxe Card of Spades\", \"Exclusive Card of Spades\"]\n",
    "}\n",
    "\n",
    "# Card of Clubs, Image of Card of Clubs, Picture of Card of Clubs, Poker Card of Clubs, Classic Card of Clubs, Vintage Card of Clubs, Royal Card of Clubs, Deluxe Card of Clubs, Exclusive Card of Clubs, Card of Diamonds, Image of Card of Diamonds, Picture of Card of Diamonds, Poker Card of Diamonds, Classic Card of Diamonds, Vintage Card of Diamonds, Royal Card of Diamonds, Deluxe Card of Diamonds, Exclusive Card of Diamonds, Card of Hearts, Image of Card of Hearts, Picture of Card of Hearts, Poker Card of Hearts, Classic Card of Hearts, Vintage Card of Hearts, Royal Card of Hearts, Deluxe Card of Hearts, Exclusive Card of Hearts, Card of Spades, Image of Card of Spades, Picture of Card of Spades, Poker Card of Spades, Classic Card of Spades, Vintage Card of Spades, Royal Card of Spades, Deluxe Card of Spades, Exclusive Card of Spades\n",
    "\n",
    "dict_size(cards36)\n",
    "print(card_accuracy(\"Card15/cards36.csv\", cards36))\n"
   ]
  },
  {
   "cell_type": "code",
   "execution_count": 68,
   "metadata": {},
   "outputs": [
    {
     "name": "stdout",
     "output_type": "stream",
     "text": [
      "40\n"
     ]
    }
   ],
   "source": [
    "cards40 = {\n",
    "    \"Clubs\": [\"Card of Clubs\", \"Image of Card of Clubs\", \"Picture of Card of Clubs\", \"Poker Card of Clubs\", \"Classic Card of Clubs\", \"Vintage Card of Clubs\", \"Royal Card of Clubs\", \"Deluxe Card of Clubs\", \"Exclusive Card of Clubs\", \"Premium Card of Clubs\"],\n",
    "    \"Diamonds\": [\"Card of Diamonds\", \"Image of Card of Diamonds\", \"Picture of Card of Diamonds\", \"Poker Card of Diamonds\", \"Classic Card of Diamonds\", \"Vintage Card of Diamonds\", \"Royal Card of Diamonds\", \"Deluxe Card of Diamonds\", \"Exclusive Card of Diamonds\", \"Premium Card of Diamonds\"],\n",
    "    \"Hearts\": [\"Card of Hearts\", \"Image of Card of Hearts\", \"Picture of Card of Hearts\", \"Poker Card of Hearts\", \"Classic Card of Hearts\", \"Vintage Card of Hearts\", \"Royal Card of Hearts\", \"Deluxe Card of Hearts\", \"Exclusive Card of Hearts\", \"Premium Card of Hearts\"],\n",
    "    \"Spades\": [\"Card of Spades\", \"Image of Card of Spades\", \"Picture of Card of Spades\", \"Poker Card of Spades\", \"Classic Card of Spades\", \"Vintage Card of Spades\", \"Royal Card of Spades\", \"Deluxe Card of Spades\", \"Exclusive Card of Spades\", \"Premium Card of Spades\"]\n",
    "}\n",
    "\n",
    "# Card of Clubs, Image of Card of Clubs, Picture of Card of Clubs, Poker Card of Clubs, Classic Card of Clubs, Vintage Card of Clubs, Royal Card of Clubs, Deluxe Card of Clubs, Exclusive Card of Clubs, Premium Card of Clubs, Card of Diamonds, Image of Card of Diamonds, Picture of Card of Diamonds, Poker Card of Diamonds, Classic Card of Diamonds, Vintage Card of Diamonds, Royal Card of Diamonds, Deluxe Card of Diamonds, Exclusive Card of Diamonds, Premium Card of Diamonds, Card of Hearts, Image of Card of Hearts, Picture of Card of Hearts, Poker Card of Hearts, Classic Card of Hearts, Vintage Card of Hearts, Royal Card of Hearts, Deluxe Card of Hearts, Exclusive Card of Hearts, Premium Card of Hearts, Card of Spades, Image of Card of Spades, Picture of Card of Spades, Poker Card of Spades, Classic Card of Spades, Vintage Card of Spades, Royal Card of Spades, Deluxe Card of Spades, Exclusive Card of Spades, Premium Card of Spades\n",
    "\n",
    "dict_size(cards40)\n",
    "# print(card_accuracy(\"Card15/cards40.csv\", cards40))\n"
   ]
  },
  {
   "cell_type": "code",
   "execution_count": 69,
   "metadata": {},
   "outputs": [
    {
     "name": "stdout",
     "output_type": "stream",
     "text": [
      "44\n",
      "47.38\n"
     ]
    }
   ],
   "source": [
    "cards44 = {\n",
    "    \"Clubs\": [\"Card of Clubs\", \"Image of Card of Clubs\", \"Picture of Card of Clubs\", \"Poker Card of Clubs\", \"Classic Card of Clubs\", \"Vintage Card of Clubs\", \"Royal Card of Clubs\", \"Deluxe Card of Clubs\", \"Exclusive Card of Clubs\", \"Premium Card of Clubs\", \"Elegant Card of Clubs\"],\n",
    "    \"Diamonds\": [\"Card of Diamonds\", \"Image of Card of Diamonds\", \"Picture of Card of Diamonds\", \"Poker Card of Diamonds\", \"Classic Card of Diamonds\", \"Vintage Card of Diamonds\", \"Royal Card of Diamonds\", \"Deluxe Card of Diamonds\", \"Exclusive Card of Diamonds\", \"Premium Card of Diamonds\", \"Elegant Card of Diamonds\"],\n",
    "    \"Hearts\": [\"Card of Hearts\", \"Image of Card of Hearts\", \"Picture of Card of Hearts\", \"Poker Card of Hearts\", \"Classic Card of Hearts\", \"Vintage Card of Hearts\", \"Royal Card of Hearts\", \"Deluxe Card of Hearts\", \"Exclusive Card of Hearts\", \"Premium Card of Hearts\", \"Elegant Card of Hearts\"],\n",
    "    \"Spades\": [\"Card of Spades\", \"Image of Card of Spades\", \"Picture of Card of Spades\", \"Poker Card of Spades\", \"Classic Card of Spades\", \"Vintage Card of Spades\", \"Royal Card of Spades\", \"Deluxe Card of Spades\", \"Exclusive Card of Spades\", \"Premium Card of Spades\", \"Elegant Card of Spades\"]\n",
    "}\n",
    "\n",
    "# Card of Clubs, Image of Card of Clubs, Picture of Card of Clubs, Poker Card of Clubs, Classic Card of Clubs, Vintage Card of Clubs, Royal Card of Clubs, Deluxe Card of Clubs, Exclusive Card of Clubs, Premium Card of Clubs, Elegant Card of Clubs, Card of Diamonds, Image of Card of Diamonds, Picture of Card of Diamonds, Poker Card of Diamonds, Classic Card of Diamonds, Vintage Card of Diamonds, Royal Card of Diamonds, Deluxe Card of Diamonds, Exclusive Card of Diamonds, Premium Card of Diamonds, Elegant Card of Diamonds, Card of Hearts, Image of Card of Hearts, Picture of Card of Hearts, Poker Card of Hearts, Classic Card of Hearts, Vintage Card of Hearts, Royal Card of Hearts, Deluxe Card of Hearts, Exclusive Card of Hearts, Premium Card of Hearts, Elegant Card of Hearts, Card of Spades, Image of Card of Spades, Picture of Card of Spades, Poker Card of Spades, Classic Card of Spades, Vintage Card of Spades, Royal Card of Spades, Deluxe Card of Spades, Exclusive Card of Spades, Premium Card of Spades, Elegant Card of Spades\n",
    "\n",
    "dict_size(cards44)\n",
    "print(card_accuracy(\"Card15/cards44.csv\", cards44))\n"
   ]
  },
  {
   "cell_type": "code",
   "execution_count": 70,
   "metadata": {},
   "outputs": [
    {
     "name": "stdout",
     "output_type": "stream",
     "text": [
      "48\n",
      "47.38\n"
     ]
    }
   ],
   "source": [
    "cards48 = {\n",
    "    \"Clubs\": [\"Card of Clubs\", \"Image of Card of Clubs\", \"Picture of Card of Clubs\", \"Poker Card of Clubs\", \"Classic Card of Clubs\", \"Vintage Card of Clubs\", \"Royal Card of Clubs\", \"Deluxe Card of Clubs\", \"Exclusive Card of Clubs\", \"Premium Card of Clubs\", \"Elegant Card of Clubs\", \"Prestige Card of Clubs\"],\n",
    "    \"Diamonds\": [\"Card of Diamonds\", \"Image of Card of Diamonds\", \"Picture of Card of Diamonds\", \"Poker Card of Diamonds\", \"Classic Card of Diamonds\", \"Vintage Card of Diamonds\", \"Royal Card of Diamonds\", \"Deluxe Card of Diamonds\", \"Exclusive Card of Diamonds\", \"Premium Card of Diamonds\", \"Elegant Card of Diamonds\", \"Prestige Card of Diamonds\"],\n",
    "    \"Hearts\": [\"Card of Hearts\", \"Image of Card of Hearts\", \"Picture of Card of Hearts\", \"Poker Card of Hearts\", \"Classic Card of Hearts\", \"Vintage Card of Hearts\", \"Royal Card of Hearts\", \"Deluxe Card of Hearts\", \"Exclusive Card of Hearts\", \"Premium Card of Hearts\", \"Elegant Card of Hearts\", \"Prestige Card of Hearts\"],\n",
    "    \"Spades\": [\"Card of Spades\", \"Image of Card of Spades\", \"Picture of Card of Spades\", \"Poker Card of Spades\", \"Classic Card of Spades\", \"Vintage Card of Spades\", \"Royal Card of Spades\", \"Deluxe Card of Spades\", \"Exclusive Card of Spades\", \"Premium Card of Spades\", \"Elegant Card of Spades\", \"Prestige Card of Spades\"]\n",
    "}\n",
    "\n",
    "# Card of Clubs, Image of Card of Clubs, Picture of Card of Clubs, Poker Card of Clubs, Classic Card of Clubs, Vintage Card of Clubs, Royal Card of Clubs, Deluxe Card of Clubs, Exclusive Card of Clubs, Premium Card of Clubs, Elegant Card of Clubs, Prestige Card of Clubs, Card of Diamonds, Image of Card of Diamonds, Picture of Card of Diamonds, Poker Card of Diamonds, Classic Card of Diamonds, Vintage Card of Diamonds, Royal Card of Diamonds, Deluxe Card of Diamonds, Exclusive Card of Diamonds, Premium Card of Diamonds, Elegant Card of Diamonds, Prestige Card of Diamonds, Card of Hearts, Image of Card of Hearts, Picture of Card of Hearts, Poker Card of Hearts, Classic Card of Hearts, Vintage Card of Hearts, Royal Card of Hearts, Deluxe Card of Hearts, Exclusive Card of Hearts, Premium Card of Hearts, Elegant Card of Hearts, Prestige Card of Hearts, Card of Spades, Image of Card of Spades, Picture of Card of Spades, Poker Card of Spades, Classic Card of Spades, Vintage Card of Spades, Royal Card of Spades, Deluxe Card of Spades, Exclusive Card of Spades, Premium Card of Spades, Elegant Card of Spades, Prestige Card of Spades\n",
    "\n",
    "dict_size(cards48)\n",
    "print(card_accuracy(\"Card15/cards48.csv\", cards48))\n"
   ]
  },
  {
   "cell_type": "markdown",
   "metadata": {},
   "source": [
    "# Points to Plot"
   ]
  },
  {
   "cell_type": "markdown",
   "metadata": {},
   "source": [
    "## Part 1"
   ]
  },
  {
   "cell_type": "code",
   "execution_count": 71,
   "metadata": {},
   "outputs": [],
   "source": [
    "aO_counts = {\n",
    "    4 : [aObase_accuracy(\"animalOther/AO.csv\")],\n",
    "    8 : [aOcheck_accuracy(\"animalOther/AO8.csv\", dict_8)],\n",
    "    12 : [aOcheck_accuracy(\"animalOther/AO12.csv\", dict_12)],\n",
    "    16 : [aOcheck_accuracy(\"animalOther/AO16.csv\", dict_16)],\n",
    "    20 : [aOcheck_accuracy(\"animalOther/AO20.csv\", dict_20)],\n",
    "    24 : [aOcheck_accuracy(\"animalOther/AO24.csv\", dict_24)],\n",
    "    32 : [aOcheck_accuracy(\"animalOther/AO32.csv\", dict_32)],\n",
    "    36 : [aOcheck_accuracy(\"animalOther/AO36.csv\", dict_36)],\n",
    "    40 : [aOcheck_accuracy(\"animalOther/AO40.csv\", dict_40)],\n",
    "    44 : [aOcheck_accuracy(\"animalOther/AO44.csv\", dict_44)],\n",
    "    48 : [aOcheck_accuracy(\"animalOther/AO48.csv\", dict_48)],\n",
    "    52 : [aOcheck_accuracy(\"animalOther/AO52.csv\", dict_52)],\n",
    "    56 : [aOcheck_accuracy(\"animalOther/AO56.csv\", dict_56)],\n",
    "    60 : [aOcheck_accuracy(\"animalOther/AO60.csv\", dict_60)]\n",
    "}\n",
    "\n",
    "v7_counts = {\n",
    "    7 : [96.73],\n",
    "    14 : [84.45],\n",
    "    21 : [88.35],  \n",
    "    42 : [93.47],\n",
    "    49 : [93.5],\n",
    "    56 : [95.17],\n",
    "    63 : [93.74],\n",
    "    70 : [95.08]\n",
    "}\n",
    "\n",
    "cd_counts = {\n",
    "    2: [CDcheck_accuracy('Oxford/cats_vs_dogs_base.csv', CDdict2 )],\n",
    "    4: [CDcheck_accuracy('Oxford/cd4.csv', CDdict4)],\n",
    "    6: [CDcheck_accuracy('Oxford/cd6.csv', CDdict6)],\n",
    "    8: [CDcheck_accuracy('Oxford/cd8.csv', CDdict8)],\n",
    "    10: [CDcheck_accuracy('Oxford/cd10.csv', CDdict10)],\n",
    "    12: [CDcheck_accuracy('Oxford/cd12.csv', CDdict12)],\n",
    "    14: [CDcheck_accuracy('Oxford/cd14.csv', CDdict14)],\n",
    "    16: [CDcheck_accuracy('Oxford/cd16.csv', CDdict16)],\n",
    "    18: [CDcheck_accuracy('Oxford/cd18.csv', CDdict18)],\n",
    "    20: [CDcheck_accuracy('Oxford/cd20.csv', CDdict20)],\n",
    "    22: [CDcheck_accuracy('Oxford/cd22.csv', CDdict22)],\n",
    "    24: [CDcheck_accuracy('Oxford/cd24.csv', CDdict24)],\n",
    "    26: [CDcheck_accuracy('Oxford/cd26.csv', CDdict26)],\n",
    "    28: [CDcheck_accuracy('Oxford/cd28.csv', CDdict28)],\n",
    "    30: [CDcheck_accuracy('Oxford/cd30.csv', CDdict30)],\n",
    "    32: [CDcheck_accuracy('Oxford/cd32.csv', CDdict32)],\n",
    "    36: [CDcheck_accuracy('Oxford/cd36.csv', CDdict36)],\n",
    "    38: [CDcheck_accuracy('Oxford/cd38.csv', CDdict38)],\n",
    "    42: [CDcheck_accuracy('Oxford/cd42.csv', CDdict42)],\n",
    "    44: [CDcheck_accuracy('Oxford/cd44.csv', CDdict44)],\n",
    "    48: [CDcheck_accuracy('Oxford/cd48.csv', CDdict48)],\n",
    "    50: [CDcheck_accuracy('Oxford/cd50.csv', CDdict50)],\n",
    "    52: [CDcheck_accuracy('Oxford/cd52.csv', CDdict52)],\n",
    "    54: [CDcheck_accuracy('Oxford/cd54.csv', CDdict54)],\n",
    "    56: [CDcheck_accuracy('Oxford/cd56.csv', CDdict56)]\n",
    "}"
   ]
  },
  {
   "cell_type": "markdown",
   "metadata": {},
   "source": [
    "## Part 2"
   ]
  },
  {
   "cell_type": "code",
   "execution_count": 77,
   "metadata": {},
   "outputs": [],
   "source": [
    "veg_counts = {\n",
    "    15 : [aOcheck_accuracy(\"Vegetable15/veg15.csv\", veg15)],\n",
    "    30 : [aOcheck_accuracy(\"Vegetable15/veg30.csv\", veg30)],\n",
    "    45 : [aOcheck_accuracy(\"Vegetable15/veg45.csv\", veg45)],\n",
    "    60 : [aOcheck_accuracy(\"Vegetable15/veg60.csv\", veg60)],\n",
    "    75 : [aOcheck_accuracy(\"Vegetable15/veg75.csv\", veg75)],\n",
    "    90 : [aOcheck_accuracy(\"Vegetable15/veg90.csv\", veg90)],\n",
    "    105 : [aOcheck_accuracy(\"Vegetable15/veg105.csv\", veg105)]\n",
    "}\n",
    "\n",
    "card_counts = {\n",
    "    4 : card_accuracy(\"Card15/cards4.csv\", cards4),\n",
    "    8 : card_accuracy(\"Card15/cards8.csv\", cards8),\n",
    "    12 : card_accuracy(\"Card15/cards12.csv\", cards12),\n",
    "    16 : card_accuracy(\"Card15/cards16.csv\", cards16),\n",
    "    20 : card_accuracy(\"Card15/cards20.csv\", cards20),\n",
    "    24 : card_accuracy(\"Card15/cards24.csv\", cards24),\n",
    "    28 : card_accuracy(\"Card15/cards28.csv\", cards28),\n",
    "    32 : card_accuracy(\"Card15/cards32.csv\", cards32),\n",
    "    36 : card_accuracy(\"Card15/cards36.csv\", cards36),\n",
    "    40 : card_accuracy(\"Card15/cards40.csv\", cards40),\n",
    "    44 : card_accuracy(\"Card15/cards44.csv\", cards44),\n",
    "    48 : card_accuracy(\"Card15/cards48.csv\", cards48)\n",
    "    \n",
    "}\n",
    "\n",
    "animal80_counts = {\n",
    "    80 : aOcheck_accuracy(\"animal80/base.csv\", a80),\n",
    "    160 : aOcheck_accuracy(\"animal80/a160.csv\", a160),\n",
    "    240 : aOcheck_accuracy(\"animal80/a240csv\", a240),\n",
    "    320 : aOcheck_accuracy(\"animal80/a320.csv\", a320),\n",
    "    400 : aOcheck_accuracy(\"animal80/a400.csv\", a400)\n",
    "}"
   ]
  },
  {
   "cell_type": "markdown",
   "metadata": {},
   "source": [
    "# Graphing"
   ]
  },
  {
   "cell_type": "code",
   "execution_count": 80,
   "metadata": {},
   "outputs": [],
   "source": [
    "def append_accuracies(category_counts, label, color, marker):\n",
    "    amount_categories = []\n",
    "    accuracies = []\n",
    "\n",
    "    # Calculate accuracy for each category count\n",
    "    for count, accuracy in category_counts.items():\n",
    "        if isinstance(accuracy, list):\n",
    "            for each in accuracy:\n",
    "                amount_categories.append(count)\n",
    "                accuracies.append(each)\n",
    "        else:\n",
    "            amount_categories.append(count)\n",
    "            accuracies.append(accuracy)\n",
    "\n",
    "    # Debug print\n",
    "    print(len(amount_categories), len(accuracies))\n",
    "    \n",
    "    # Plot data with the specified label and color\n",
    "    plt.plot(amount_categories, accuracies, marker=marker, linestyle='None', color=color, label=label)\n"
   ]
  },
  {
   "cell_type": "code",
   "execution_count": 83,
   "metadata": {},
   "outputs": [
    {
     "name": "stderr",
     "output_type": "stream",
     "text": [
      "/tmp/ipykernel_4251/2639054260.py:6: UserWarning: No artists with labels found to put in legend.  Note that artists whose label start with an underscore are ignored when legend() is called with no argument.\n",
      "  plt.legend()\n"
     ]
    },
    {
     "name": "stdout",
     "output_type": "stream",
     "text": [
      "14 14\n",
      "8 8\n",
      "25 25\n",
      "7 7\n",
      "12 12\n",
      "5 5\n"
     ]
    },
    {
     "data": {
      "image/png": "[encoded data removed]",
      "text/plain": [
       "<Figure size 1000x600 with 1 Axes>"
      ]
     },
     "metadata": {},
     "output_type": "display_data"
    }
   ],
   "source": [
    "plt.figure(figsize=(10, 6))\n",
    "plt.xlabel('Number of Categories')\n",
    "plt.ylabel('Accuracy (%)')\n",
    "plt.title('Accuracy vs. Number of Categories')\n",
    "plt.grid()\n",
    "plt.legend()\n",
    "\n",
    "#Calling function\n",
    "append_accuracies(aO_counts,\"Animals4\", \"blue\", \"o\")\n",
    "append_accuracies(v7_counts,\"Vehicles7\", \"green\", \"^\")\n",
    "append_accuracies(cd_counts,\"Cats vs Dogs\", \"red\", \"s\")\n",
    "append_accuracies(veg_counts,\"Vegetables15\", \"purple\", \"D\")\n",
    "append_accuracies(card_counts,\"Cards4\", \"orange\", \"P\")\n",
    "append_accuracies(animal80_counts,\"Animal80\", \"black\", \"X\")\n",
    "\n",
    "a4_patch = mpatches.Patch(color='blue', label='4 Animals')\n",
    "v7_patch = mpatches.Patch(color='green', label='7 Vehicles')\n",
    "cd_patch = mpatches.Patch(color='red', label='Cats vs Dogs')\n",
    "veg_patch = mpatches.Patch(color='purple', label='15 Vegetables')\n",
    "card_patch = mpatches.Patch(color='orange', label='4 Suits of Cards')\n",
    "a80_patch = mpatches.Patch(color='black', label='80 Animals')\n",
    "\n",
    "\n",
    "plt.legend(handles=[a4_patch, v7_patch, cd_patch, veg_patch, card_patch, a80_patch])\n",
    "\n",
    "#Axis ranges\n",
    "\n",
    "# plt.xlim(0, 80)  \n",
    "# plt.ylim(0, 100)\n",
    "\n",
    "plt.show()"
   ]
  }
 ],
 "metadata": {
  "kernelspec": {
   "display_name": ".venv",
   "language": "python",
   "name": "python3"
  },
  "language_info": {
   "codemirror_mode": {
    "name": "ipython",
    "version": 3
   },
   "file_extension": ".py",
   "mimetype": "text/x-python",
   "name": "python",
   "nbconvert_exporter": "python",
   "pygments_lexer": "ipython3",
   "version": "3.12.3"
  }
 },
 "nbformat": 4,
 "nbformat_minor": 2
}
