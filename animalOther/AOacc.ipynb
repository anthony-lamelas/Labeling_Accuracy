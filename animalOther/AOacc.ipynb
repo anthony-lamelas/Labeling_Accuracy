{
 "cells": [
  {
   "cell_type": "code",
   "execution_count": 1,
   "metadata": {},
   "outputs": [],
   "source": [
    "import pandas as pd\n",
    "import matplotlib.pyplot as plt\n",
    "import matplotlib.patches as mpatches"
   ]
  },
  {
   "cell_type": "code",
   "execution_count": 2,
   "metadata": {},
   "outputs": [],
   "source": [
    "def dict_size(dict):\n",
    "    total_count = sum(len(values) for values in dict.values())\n",
    "    print(total_count)"
   ]
  },
  {
   "cell_type": "code",
   "execution_count": 3,
   "metadata": {},
   "outputs": [],
   "source": [
    "def base_accuracy(csv_path):\n",
    "\n",
    "    data = pd.read_csv(csv_path, header=None, names=['file_path', 'label'])\n",
    "\n",
    "    # Strip and convert labels to lowercase\n",
    "    data['label'] = data['label'].str.strip().str.lower()\n",
    "\n",
    "    count = 0\n",
    "    total = 0\n",
    "\n",
    "    for index, row in data.iterrows():\n",
    "\n",
    "        path_parts = row['file_path'].split('/')\n",
    "        if len(path_parts) > 2:\n",
    "            vehicle_name = path_parts[-2].strip().lower()  \n",
    "\n",
    "            # Check if the label and vehicle name match in the dictionary\n",
    "            if row['label'] == vehicle_name:\n",
    "                count += 1\n",
    "        total += 1\n",
    "\n",
    "    accuracy = count / total if total > 0 else 0\n",
    "    return round(accuracy * 100, 2)"
   ]
  },
  {
   "cell_type": "code",
   "execution_count": 4,
   "metadata": {},
   "outputs": [],
   "source": [
    "def check_accuracy(csv_path, dictionary):\n",
    "\n",
    "    normalized_dict = {key.lower(): [value.lower() for value in values] for key, values in dictionary.items()}\n",
    "\n",
    "    # Create a reverse lookup dictionary\n",
    "    reverse_dict = {}\n",
    "    for key, values in normalized_dict.items():\n",
    "        for value in values:\n",
    "            reverse_dict[value] = key  # Map all variations to the primary key\n",
    "\n",
    "    data = pd.read_csv(csv_path, header=None, names=['file_path', 'label'])\n",
    "\n",
    "    data['label'] = data['label'].str.strip().str.lower()\n",
    "\n",
    "    count = 0\n",
    "    total = 0\n",
    "\n",
    "    for index, row in data.iterrows():\n",
    "\n",
    "        path_parts = row['file_path'].split('/')\n",
    "        if len(path_parts) > 2:\n",
    "            name = path_parts[-2].strip().lower()  # Normalize name\n",
    "\n",
    "            # Find the primary key for the label using the reverse lookup dictionary\n",
    "            primary_key = reverse_dict.get(row['label'], None)\n",
    "\n",
    "            if primary_key and name in normalized_dict[primary_key]:\n",
    "                count += 1\n",
    "        total += 1\n",
    "\n",
    "    accuracy = count / total if total > 0 else 0\n",
    "    return round(accuracy * 100, 2)"
   ]
  },
  {
   "cell_type": "code",
   "execution_count": 5,
   "metadata": {},
   "outputs": [
    {
     "name": "stdout",
     "output_type": "stream",
     "text": [
      "97.58\n"
     ]
    }
   ],
   "source": [
    "print(base_accuracy(\"AO.csv\"))"
   ]
  },
  {
   "cell_type": "code",
   "execution_count": 6,
   "metadata": {},
   "outputs": [
    {
     "name": "stdout",
     "output_type": "stream",
     "text": [
      "8\n",
      "96.73\n"
     ]
    }
   ],
   "source": [
    "dict_8 = {\n",
    "    \"Buffalo\": [\"Buffalo\", \"Buffaloes\"],\n",
    "    \"Elephant\": [\"Elephant\", \"Elephants\"],\n",
    "    \"Rhino\": [\"Rhino\", \"Rhinoceros\"],\n",
    "    \"Zebra\": [\"Zebra\", \"Zebras\"],\n",
    "}\n",
    "\n",
    "#Buffalo,Buffaloes,Elephant,Elephants,Rhino,Rhinoceros,Zebra,Zebras\n",
    "\n",
    "dict_size(dict_8)\n",
    "print(check_accuracy(\"AO8.csv\", dict_8))"
   ]
  },
  {
   "cell_type": "code",
   "execution_count": 7,
   "metadata": {},
   "outputs": [
    {
     "name": "stdout",
     "output_type": "stream",
     "text": [
      "12\n",
      "95.53\n"
     ]
    }
   ],
   "source": [
    "dict_12 = {\n",
    "    \"Buffalo\": [\"Buffalo\", \"Buffaloes\", \"Picture of Buffalo\"],\n",
    "    \"Elephant\": [\"Elephant\", \"Elephants\", \"Picture of Elephant\"],\n",
    "    \"Rhino\": [\"Rhino\", \"Rhinoceros\", \"Picture of Rhino\"],\n",
    "    \"Zebra\": [\"Zebra\", \"Zebras\", \"Picture of Zebra\"],\n",
    "}\n",
    "\n",
    "# Buffalo, Buffaloes, Picture of Buffalo, Elephant, Elephants, Picture of Elephant, Rhino, Rhinoceros, Picture of Rhino, Zebra, Zebras, Picture of Zebra\n",
    "\n",
    "dict_size(dict_12)\n",
    "print(check_accuracy(\"AO12.csv\", dict_12))\n"
   ]
  },
  {
   "cell_type": "code",
   "execution_count": 8,
   "metadata": {},
   "outputs": [
    {
     "name": "stdout",
     "output_type": "stream",
     "text": [
      "16\n",
      "96.45\n"
     ]
    }
   ],
   "source": [
    "dict_16 = {\n",
    "    \"Buffalo\": [\"Buffalo\", \"Buffaloes\", \"Picture of Buffalo\", \"Image of Buffalo\"],\n",
    "    \"Elephant\": [\"Elephant\", \"Elephants\", \"Picture of Elephant\", \"Image of Elephant\"],\n",
    "    \"Rhino\": [\"Rhino\", \"Rhinoceros\", \"Picture of Rhino\", \"Image of Rhino\"],\n",
    "    \"Zebra\": [\"Zebra\", \"Zebras\", \"Picture of Zebra\", \"Image of Zebra\"],\n",
    "}\n",
    "\n",
    "# Buffalo, Buffaloes, Picture of Buffalo, Image of Buffalo, Elephant, Elephants, Picture of Elephant, Image of Elephant, Rhino, Rhinoceros, Picture of Rhino, Image of Rhino, Zebra, Zebras, Picture of Zebra, Image of Zebra\n",
    "\n",
    "dict_size(dict_16)\n",
    "print(check_accuracy(\"AO16.csv\", dict_16))\n"
   ]
  },
  {
   "cell_type": "code",
   "execution_count": 9,
   "metadata": {},
   "outputs": [
    {
     "name": "stdout",
     "output_type": "stream",
     "text": [
      "20\n",
      "96.93\n"
     ]
    }
   ],
   "source": [
    "dict_20 = {\n",
    "    \"Buffalo\": [\"Buffalo\", \"Buffaloes\", \"Picture of Buffalo\", \"Image of Buffalo\", \"Wild Buffalo\"],\n",
    "    \"Elephant\": [\"Elephant\", \"Elephants\", \"Picture of Elephant\", \"Image of Elephant\", \"Wild Elephant\"],\n",
    "    \"Rhino\": [\"Rhino\", \"Rhinoceros\", \"Picture of Rhino\", \"Image of Rhino\", \"Wild Rhino\"],\n",
    "    \"Zebra\": [\"Zebra\", \"Zebras\", \"Picture of Zebra\", \"Image of Zebra\", \"Wild Zebra\"],\n",
    "}\n",
    "\n",
    "# Buffalo, Buffaloes, Picture of Buffalo, Image of Buffalo, Wild Buffalo, Elephant, Elephants, Picture of Elephant, Image of Elephant, Wild Elephant, Rhino, Rhinoceros, Picture of Rhino, Image of Rhino, Wild Rhino, Zebra, Zebras, Picture of Zebra, Image of Zebra, Wild Zebra\n",
    "\n",
    "dict_size(dict_20)\n",
    "print(check_accuracy(\"AO20.csv\", dict_20))\n"
   ]
  },
  {
   "cell_type": "code",
   "execution_count": 10,
   "metadata": {},
   "outputs": [
    {
     "name": "stdout",
     "output_type": "stream",
     "text": [
      "24\n",
      "96.93\n"
     ]
    }
   ],
   "source": [
    "dict_24 = {\n",
    "    \"Buffalo\": [\"Buffalo\", \"Buffaloes\", \"Picture of Buffalo\", \"Image of Buffalo\", \"Wild Buffalo\", \"Buffalo Herd\"],\n",
    "    \"Elephant\": [\"Elephant\", \"Elephants\", \"Picture of Elephant\", \"Image of Elephant\", \"Wild Elephant\", \"Elephant Herd\"],\n",
    "    \"Rhino\": [\"Rhino\", \"Rhinoceros\", \"Picture of Rhino\", \"Image of Rhino\", \"Wild Rhino\", \"Rhino Herd\"],\n",
    "    \"Zebra\": [\"Zebra\", \"Zebras\", \"Picture of Zebra\", \"Image of Zebra\", \"Wild Zebra\", \"Zebra Herd\"],\n",
    "}\n",
    "\n",
    "# Buffalo, Buffaloes, Picture of Buffalo, Image of Buffalo, Wild Buffalo, Buffalo Herd, Elephant, Elephants, Picture of Elephant, Image of Elephant, Wild Elephant, Elephant Herd, Rhino, Rhinoceros, Picture of Rhino, Image of Rhino, Wild Rhino, Rhino Herd, Zebra, Zebras, Picture of Zebra, Image of Zebra, Wild Zebra, Zebra Herd\n",
    "\n",
    "dict_size(dict_24)\n",
    "print(check_accuracy(\"AO24.csv\", dict_24))\n"
   ]
  },
  {
   "cell_type": "code",
   "execution_count": 11,
   "metadata": {},
   "outputs": [
    {
     "name": "stdout",
     "output_type": "stream",
     "text": [
      "32\n",
      "98.88\n"
     ]
    }
   ],
   "source": [
    "dict_32 = {\n",
    "    \"Buffalo\": [\"Buffalo\", \"Buffaloes\", \"Picture of Buffalo\", \"Image of Buffalo\", \"Wild Buffalo\", \"Buffalo Herd\", \"African Buffalo\", \"Buffalo in the Wild\"],\n",
    "    \"Elephant\": [\"Elephant\", \"Elephants\", \"Picture of Elephant\", \"Image of Elephant\", \"Wild Elephant\", \"Elephant Herd\", \"African Elephant\", \"Elephant in the Wild\"],\n",
    "    \"Rhino\": [\"Rhino\", \"Rhinoceros\", \"Picture of Rhino\", \"Image of Rhino\", \"Wild Rhino\", \"Rhino Herd\", \"African Rhino\", \"Rhino in the Wild\"],\n",
    "    \"Zebra\": [\"Zebra\", \"Zebras\", \"Picture of Zebra\", \"Image of Zebra\", \"Wild Zebra\", \"Zebra Herd\", \"African Zebra\", \"Zebra in the Wild\"],\n",
    "}\n",
    "\n",
    "# Buffalo, Buffaloes, Picture of Buffalo, Image of Buffalo, Wild Buffalo, Buffalo Herd, African Buffalo, Buffalo in the Wild, Elephant, Elephants, Picture of Elephant, Image of Elephant, Wild Elephant, Elephant Herd, African Elephant, Elephant in the Wild, Rhino, Rhinoceros, Picture of Rhino, Image of Rhino, Wild Rhino, Rhino Herd, African Rhino, Rhino in the Wild, Zebra, Zebras, Picture of Zebra, Image of Zebra, Wild Zebra, Zebra Herd, African Zebra, Zebra in the Wild\n",
    "\n",
    "dict_size(dict_32)\n",
    "print(check_accuracy(\"AO32.csv\", dict_32))\n"
   ]
  },
  {
   "cell_type": "code",
   "execution_count": 12,
   "metadata": {},
   "outputs": [
    {
     "name": "stdout",
     "output_type": "stream",
     "text": [
      "36\n",
      "98.9\n"
     ]
    }
   ],
   "source": [
    "dict_36 = {\n",
    "    \"Buffalo\": [\"Buffalo\", \"Buffaloes\", \"Picture of Buffalo\", \"Image of Buffalo\", \"Wild Buffalo\", \"Buffalo Herd\", \"African Buffalo\", \"Buffalo in the Wild\", \"Large Buffalo\"],\n",
    "    \"Elephant\": [\"Elephant\", \"Elephants\", \"Picture of Elephant\", \"Image of Elephant\", \"Wild Elephant\", \"Elephant Herd\", \"African Elephant\", \"Elephant in the Wild\", \"Large Elephant\"],\n",
    "    \"Rhino\": [\"Rhino\", \"Rhinoceros\", \"Picture of Rhino\", \"Image of Rhino\", \"Wild Rhino\", \"Rhino Herd\", \"African Rhino\", \"Rhino in the Wild\", \"Large Rhino\"],\n",
    "    \"Zebra\": [\"Zebra\", \"Zebras\", \"Picture of Zebra\", \"Image of Zebra\", \"Wild Zebra\", \"Zebra Herd\", \"African Zebra\", \"Zebra in the Wild\", \"Large Zebra\"],\n",
    "}\n",
    "\n",
    "# Buffalo, Buffaloes, Picture of Buffalo, Image of Buffalo, Wild Buffalo, Buffalo Herd, African Buffalo, Buffalo in the Wild, Large Buffalo, Elephant, Elephants, Picture of Elephant, Image of Elephant, Wild Elephant, Elephant Herd, African Elephant, Elephant in the Wild, Large Elephant, Rhino, Rhinoceros, Picture of Rhino, Image of Rhino, Wild Rhino, Rhino Herd, African Rhino, Rhino in the Wild, Large Rhino, Zebra, Zebras, Picture of Zebra, Image of Zebra, Wild Zebra, Zebra Herd, African Zebra, Zebra in the Wild, Large Zebra\n",
    "\n",
    "dict_size(dict_36)\n",
    "print(check_accuracy(\"AO36.csv\", dict_36))\n"
   ]
  },
  {
   "cell_type": "code",
   "execution_count": 13,
   "metadata": {},
   "outputs": [
    {
     "name": "stdout",
     "output_type": "stream",
     "text": [
      "40\n",
      "98.9\n"
     ]
    }
   ],
   "source": [
    "dict_40 = {\n",
    "    \"Buffalo\": [\"Buffalo\", \"Buffaloes\", \"Picture of Buffalo\", \"Image of Buffalo\", \"Wild Buffalo\", \"Buffalo Herd\", \"African Buffalo\", \"Buffalo in the Wild\", \"Large Buffalo\", \"Buffalo Plains\"],\n",
    "    \"Elephant\": [\"Elephant\", \"Elephants\", \"Picture of Elephant\", \"Image of Elephant\", \"Wild Elephant\", \"Elephant Herd\", \"African Elephant\", \"Elephant in the Wild\", \"Large Elephant\", \"Elephant Plains\"],\n",
    "    \"Rhino\": [\"Rhino\", \"Rhinoceros\", \"Picture of Rhino\", \"Image of Rhino\", \"Wild Rhino\", \"Rhino Herd\", \"African Rhino\", \"Rhino in the Wild\", \"Large Rhino\", \"Rhino Plains\"],\n",
    "    \"Zebra\": [\"Zebra\", \"Zebras\", \"Picture of Zebra\", \"Image of Zebra\", \"Wild Zebra\", \"Zebra Herd\", \"African Zebra\", \"Zebra in the Wild\", \"Large Zebra\", \"Zebra Plains\"],\n",
    "}\n",
    "\n",
    "# Buffalo, Buffaloes, Picture of Buffalo, Image of Buffalo, Wild Buffalo, Buffalo Herd, African Buffalo, Buffalo in the Wild, Large Buffalo, Buffalo Plains, Elephant, Elephants, Picture of Elephant, Image of Elephant, Wild Elephant, Elephant Herd, African Elephant, Elephant in the Wild, Large Elephant, Elephant Plains, Rhino, Rhinoceros, Picture of Rhino, Image of Rhino, Wild Rhino, Rhino Herd, African Rhino, Rhino in the Wild, Large Rhino, Rhino Plains, Zebra, Zebras, Picture of Zebra, Image of Zebra, Wild Zebra, Zebra Herd, African Zebra, Zebra in the Wild, Large Zebra, Zebra Plains\n",
    "\n",
    "dict_size(dict_40)\n",
    "print(check_accuracy(\"AO40.csv\", dict_40))\n"
   ]
  },
  {
   "cell_type": "code",
   "execution_count": 14,
   "metadata": {},
   "outputs": [
    {
     "name": "stdout",
     "output_type": "stream",
     "text": [
      "44\n",
      "98.9\n"
     ]
    }
   ],
   "source": [
    "dict_44 = {#problem\n",
    "    \"Buffalo\": [\"Buffalo\", \"Buffaloes\", \"Picture of Buffalo\", \"Image of Buffalo\", \"Wild Buffalo\", \"Buffalo Herd\", \"African Buffalo\", \"Buffalo in the Wild\", \"Large Buffalo\", \"Buffalo Plains\", \"Moving Buffalo\"],\n",
    "    \"Elephant\": [\"Elephant\", \"Elephants\", \"Picture of Elephant\", \"Image of Elephant\", \"Wild Elephant\", \"Elephant Herd\", \"African Elephant\", \"Elephant in the Wild\", \"Large Elephant\", \"Elephant Plains\", \"Moving Elephant\"],\n",
    "    \"Rhino\": [\"Rhino\", \"Rhinoceros\", \"Picture of Rhino\", \"Image of Rhino\", \"Wild Rhino\", \"Rhino Herd\", \"African Rhino\", \"Rhino in the Wild\", \"Large Rhino\", \"Rhino Plains\", \"Moving Rhino\"],\n",
    "    \"Zebra\": [\"Zebra\", \"Zebras\", \"Picture of Zebra\", \"Image of Zebra\", \"Wild Zebra\", \"Zebra Herd\", \"African Zebra\", \"Zebra in the Wild\", \"Large Zebra\", \"Zebra Plains\", \"Moving Zebra\"],\n",
    "}\n",
    "\n",
    "# Buffalo, Buffaloes, Picture of Buffalo, Image of Buffalo, Wild Buffalo, Buffalo Herd, African Buffalo, Buffalo in the Wild, Large Buffalo, Buffalo Plains, Moving Buffalo, Elephant, Elephants, Picture of Elephant, Image of Elephant, Wild Elephant, Elephant Herd, African Elephant, Elephant in the Wild, Large Elephant, Elephant Plains, Moving Elephant, Rhino, Rhinoceros, Picture of Rhino, Image of Rhino, Wild Rhino, Rhino Herd, African Rhino, Rhino in the Wild, Large Rhino, Rhino Plains, Moving Rhino, Zebra, Zebras, Picture of Zebra, Image of Zebra, Wild Zebra, Zebra Herd, African Zebra, Zebra in the Wild, Large Zebra, Zebra Plains, Moving Zebra\n",
    "\n",
    "dict_size(dict_44)\n",
    "print(check_accuracy(\"AO44.csv\", dict_44))\n"
   ]
  },
  {
   "cell_type": "code",
   "execution_count": 15,
   "metadata": {},
   "outputs": [
    {
     "name": "stdout",
     "output_type": "stream",
     "text": [
      "48\n",
      "98.9\n"
     ]
    }
   ],
   "source": [
    "dict_48 = {\n",
    "    \"Buffalo\": [\"Buffalo\", \"Buffaloes\", \"Picture of Buffalo\", \"Image of Buffalo\", \"Wild Buffalo\", \"Buffalo Herd\", \"African Buffalo\", \"Buffalo in the Wild\", \"Large Buffalo\", \"Buffalo Plains\", \"Moving Buffalo\", \"American Buffalo\"],\n",
    "    \"Elephant\": [\"Elephant\", \"Elephants\", \"Picture of Elephant\", \"Image of Elephant\", \"Wild Elephant\", \"Elephant Herd\", \"African Elephant\", \"Elephant in the Wild\", \"Large Elephant\", \"Elephant Plains\", \"Moving Elephant\", \"Asian Elephant\"],\n",
    "    \"Rhino\": [\"Rhino\", \"Rhinoceros\", \"Picture of Rhino\", \"Image of Rhino\", \"Wild Rhino\", \"Rhino Herd\", \"African Rhino\", \"Rhino in the Wild\", \"Large Rhino\", \"Rhino Plains\", \"Moving Rhino\", \"Black Rhino\"],\n",
    "    \"Zebra\": [\"Zebra\", \"Zebras\", \"Picture of Zebra\", \"Image of Zebra\", \"Wild Zebra\", \"Zebra Herd\", \"African Zebra\", \"Zebra in the Wild\", \"Large Zebra\", \"Zebra Plains\", \"Moving Zebra\", \"Wild Plains Zebra\"],\n",
    "}\n",
    "\n",
    "# Buffalo, Buffaloes, Picture of Buffalo, Image of Buffalo, Wild Buffalo, Buffalo Herd, African Buffalo, Buffalo in the Wild, Large Buffalo, Buffalo Plains, Moving Buffalo, American Buffalo, Elephant, Elephants, Picture of Elephant, Image of Elephant, Wild Elephant, Elephant Herd, African Elephant, Elephant in the Wild, Large Elephant, Elephant Plains, Moving Elephant, Asian Elephant, Rhino, Rhinoceros, Picture of Rhino, Image of Rhino, Wild Rhino, Rhino Herd, African Rhino, Rhino in the Wild, Large Rhino, Rhino Plains, Moving Rhino, Black Rhino, Zebra, Zebras, Picture of Zebra, Image of Zebra, Wild Zebra, Zebra Herd, African Zebra, Zebra in the Wild, Large Zebra, Zebra Plains, Moving Zebra, Wild Plains Zebra\n",
    "\n",
    "dict_size(dict_48)\n",
    "print(check_accuracy(\"AO48.csv\", dict_48))\n"
   ]
  },
  {
   "cell_type": "code",
   "execution_count": 16,
   "metadata": {},
   "outputs": [
    {
     "name": "stdout",
     "output_type": "stream",
     "text": [
      "52\n",
      "98.9\n"
     ]
    }
   ],
   "source": [
    "dict_52 = {\n",
    "    \"Buffalo\": [\"Buffalo\", \"Buffaloes\", \"Picture of Buffalo\", \"Image of Buffalo\", \"Wild Buffalo\", \"Buffalo Herd\", \"African Buffalo\", \"Buffalo in the Wild\", \"Large Buffalo\", \"Buffalo Plains\", \"Moving Buffalo\", \"American Buffalo\", \"Buffalo in Herds\"],\n",
    "    \"Elephant\": [\"Elephant\", \"Elephants\", \"Picture of Elephant\", \"Image of Elephant\", \"Wild Elephant\", \"Elephant Herd\", \"African Elephant\", \"Elephant in the Wild\", \"Large Elephant\", \"Elephant Plains\", \"Moving Elephant\", \"Asian Elephant\", \"Elephant in Herds\"],\n",
    "    \"Rhino\": [\"Rhino\", \"Rhinoceros\", \"Picture of Rhino\", \"Image of Rhino\", \"Wild Rhino\", \"Rhino Herd\", \"African Rhino\", \"Rhino in the Wild\", \"Large Rhino\", \"Rhino Plains\", \"Moving Rhino\", \"Black Rhino\", \"Rhino in Herds\"],\n",
    "    \"Zebra\": [\"Zebra\", \"Zebras\", \"Picture of Zebra\", \"Image of Zebra\", \"Wild Zebra\", \"Zebra Herd\", \"African Zebra\", \"Zebra in the Wild\", \"Large Zebra\", \"Zebra Plains\", \"Moving Zebra\", \"Wild Plains Zebra\", \"Zebra in Herds\"],\n",
    "}\n",
    "\n",
    "# Buffalo, Buffaloes, Picture of Buffalo, Image of Buffalo, Wild Buffalo, Buffalo Herd, African Buffalo, Buffalo in the Wild, Large Buffalo, Buffalo Plains, Moving Buffalo, American Buffalo, Buffalo in Herds, Elephant, Elephants, Picture of Elephant, Image of Elephant, Wild Elephant, Elephant Herd, African Elephant, Elephant in the Wild, Large Elephant, Elephant Plains, Moving Elephant, Asian Elephant, Elephant in Herds, Rhino, Rhinoceros, Picture of Rhino, Image of Rhino, Wild Rhino, Rhino Herd, African Rhino, Rhino in the Wild, Large Rhino, Rhino Plains, Moving Rhino, Black Rhino, Rhino in Herds, Zebra, Zebras, Picture of Zebra, Image of Zebra, Wild Zebra, Zebra Herd, African Zebra, Zebra in the Wild, Large Zebra, Zebra Plains, Moving Zebra, Wild Plains Zebra, Zebra in Herds\n",
    "\n",
    "dict_size(dict_52)\n",
    "print(check_accuracy(\"AO52.csv\", dict_52))\n"
   ]
  },
  {
   "cell_type": "code",
   "execution_count": 17,
   "metadata": {},
   "outputs": [
    {
     "name": "stdout",
     "output_type": "stream",
     "text": [
      "56\n",
      "98.93\n"
     ]
    }
   ],
   "source": [
    "dict_56 = {\n",
    "    \"Buffalo\": [\n",
    "        \"Buffalo\", \"Buffaloes\", \"Picture of Buffalo\", \"Image of Buffalo\", \"Wild Buffalo\", \"Buffalo Herd\",\n",
    "        \"African Buffalo\", \"Buffalo in the Wild\", \"Large Buffalo\", \"Buffalo Plains\", \"Moving Buffalo\",\n",
    "        \"American Buffalo\", \"Buffalo in Herds\", \"Savannah Buffalo\"\n",
    "    ],\n",
    "    \"Elephant\": [\n",
    "        \"Elephant\", \"Elephants\", \"Picture of Elephant\", \"Image of Elephant\", \"Wild Elephant\", \"Elephant Herd\",\n",
    "        \"African Elephant\", \"Elephant in the Wild\", \"Large Elephant\", \"Elephant Plains\", \"Moving Elephant\",\n",
    "        \"Asian Elephant\", \"Elephant in Herds\", \"Savannah Elephant\"\n",
    "    ],\n",
    "    \"Rhino\": [\n",
    "        \"Rhino\", \"Rhinoceros\", \"Picture of Rhino\", \"Image of Rhino\", \"Wild Rhino\", \"Rhino Herd\",\n",
    "        \"African Rhino\", \"Rhino in the Wild\", \"Large Rhino\", \"Rhino Plains\", \"Moving Rhino\",\n",
    "        \"Black Rhino\", \"Rhino in Herds\", \"Savannah Rhino\"\n",
    "    ],\n",
    "    \"Zebra\": [\n",
    "        \"Zebra\", \"Zebras\", \"Picture of Zebra\", \"Image of Zebra\", \"Wild Zebra\", \"Zebra Herd\",\n",
    "        \"African Zebra\", \"Zebra in the Wild\", \"Large Zebra\", \"Zebra Plains\", \"Moving Zebra\",\n",
    "        \"Wild Plains Zebra\", \"Zebra in Herds\", \"Savannah Zebra\"\n",
    "    ],\n",
    "}\n",
    "\n",
    "# Buffalo, Buffaloes, Picture of Buffalo, Image of Buffalo, Wild Buffalo, Buffalo Herd, African Buffalo, Buffalo in the Wild, Large Buffalo, Buffalo Plains, Moving Buffalo, American Buffalo, Buffalo in Herds, Savannah Buffalo, Elephant, Elephants, Picture of Elephant, Image of Elephant, Wild Elephant, Elephant Herd, African Elephant, Elephant in the Wild, Large Elephant, Elephant Plains, Moving Elephant, Asian Elephant, Elephant in Herds, Savannah Elephant, Rhino, Rhinoceros, Picture of Rhino, Image of Rhino, Wild Rhino, Rhino Herd, African Rhino, Rhino in the Wild, Large Rhino, Rhino Plains, Moving Rhino, Black Rhino, Rhino in Herds, Savannah Rhino, Zebra, Zebras, Picture of Zebra, Image of Zebra, Wild Zebra, Zebra Herd, African Zebra, Zebra in the Wild, Large Zebra, Zebra Plains, Moving Zebra, Wild Plains Zebra, Zebra in Herds, Savannah Zebra\n",
    "\n",
    "dict_size(dict_56)\n",
    "print(check_accuracy(\"AO56.csv\", dict_56))\n"
   ]
  },
  {
   "cell_type": "code",
   "execution_count": 18,
   "metadata": {},
   "outputs": [
    {
     "name": "stdout",
     "output_type": "stream",
     "text": [
      "60\n",
      "98.95\n"
     ]
    }
   ],
   "source": [
    "dict_60 = {\n",
    "    \"Buffalo\": [\n",
    "        \"Buffalo\", \"Buffaloes\", \"Picture of Buffalo\", \"Image of Buffalo\", \"Wild Buffalo\", \"Buffalo Herd\",\n",
    "        \"African Buffalo\", \"Buffalo in the Wild\", \"Large Buffalo\", \"Buffalo Plains\", \"Moving Buffalo\",\n",
    "        \"American Buffalo\", \"Buffalo in Herds\", \"Savannah Buffalo\", \"Horned Buffalo\"\n",
    "    ],\n",
    "    \"Elephant\": [\n",
    "        \"Elephant\", \"Elephants\", \"Picture of Elephant\", \"Image of Elephant\", \"Wild Elephant\", \"Elephant Herd\",\n",
    "        \"African Elephant\", \"Elephant in the Wild\", \"Large Elephant\", \"Elephant Plains\", \"Moving Elephant\",\n",
    "        \"Asian Elephant\", \"Elephant in Herds\", \"Savannah Elephant\", \"Tusker Elephant\"\n",
    "    ],\n",
    "    \"Rhino\": [\n",
    "        \"Rhino\", \"Rhinoceros\", \"Picture of Rhino\", \"Image of Rhino\", \"Wild Rhino\", \"Rhino Herd\",\n",
    "        \"African Rhino\", \"Rhino in the Wild\", \"Large Rhino\", \"Rhino Plains\", \"Moving Rhino\",\n",
    "        \"Black Rhino\", \"Rhino in Herds\", \"Savannah Rhino\", \"Horned Rhino\"\n",
    "    ],\n",
    "    \"Zebra\": [\n",
    "        \"Zebra\", \"Zebras\", \"Picture of Zebra\", \"Image of Zebra\", \"Wild Zebra\", \"Zebra Herd\",\n",
    "        \"African Zebra\", \"Zebra in the Wild\", \"Large Zebra\", \"Zebra Plains\", \"Moving Zebra\",\n",
    "        \"Wild Plains Zebra\", \"Zebra in Herds\", \"Savannah Zebra\", \"Mountain Zebra\"\n",
    "    ],\n",
    "}\n",
    "\n",
    "# Buffalo, Buffaloes, Picture of Buffalo, Image of Buffalo, Wild Buffalo, Buffalo Herd, African Buffalo, Buffalo in the Wild, Large Buffalo, Buffalo Plains, Moving Buffalo, American Buffalo, Buffalo in Herds, Savannah Buffalo, Horned Buffalo, Elephant, Elephants, Picture of Elephant, Image of Elephant, Wild Elephant, Elephant Herd, African Elephant, Elephant in the Wild, Large Elephant, Elephant Plains, Moving Elephant, Asian Elephant, Elephant in Herds, Savannah Elephant, Tusker Elephant, Rhino, Rhinoceros, Picture of Rhino, Image of Rhino, Wild Rhino, Rhino Herd, African Rhino, Rhino in the Wild, Large Rhino, Rhino Plains, Moving Rhino, Black Rhino, Rhino in Herds, Savannah Rhino, Horned Rhino, Zebra, Zebras, Picture of Zebra, Image of Zebra, Wild Zebra, Zebra Herd, African Zebra, Zebra in the Wild, Large Zebra, Zebra Plains, Moving Zebra, Wild Plains Zebra, Zebra in Herds, Savannah Zebra, Mountain Zebra\n",
    "\n",
    "dict_size(dict_60)\n",
    "print(check_accuracy(\"AO60.csv\", dict_60))\n"
   ]
  },
  {
   "cell_type": "markdown",
   "metadata": {},
   "source": [
    "# Graphing"
   ]
  },
  {
   "cell_type": "code",
   "execution_count": 19,
   "metadata": {},
   "outputs": [],
   "source": [
    "aO_counts = {\n",
    "    4 : [base_accuracy(\"AO.csv\")],\n",
    "    8 : [check_accuracy(\"AO8.csv\", dict_8)],\n",
    "    12 : [check_accuracy(\"AO12.csv\", dict_12)],\n",
    "    16 : [check_accuracy(\"AO16.csv\", dict_16)],\n",
    "    20 : [check_accuracy(\"AO20.csv\", dict_20)],\n",
    "    24 : [check_accuracy(\"AO24.csv\", dict_24)],\n",
    "    32 : [check_accuracy(\"AO32.csv\", dict_32)],\n",
    "    36 : [check_accuracy(\"AO36.csv\", dict_36)],\n",
    "    40 : [check_accuracy(\"AO40.csv\", dict_40)],\n",
    "    44 : [check_accuracy(\"AO44.csv\", dict_44)],\n",
    "    48 : [check_accuracy(\"AO48.csv\", dict_48)],\n",
    "    52 : [check_accuracy(\"AO52.csv\", dict_52)],\n",
    "    56 : [check_accuracy(\"AO56.csv\", dict_56)],\n",
    "    60 : [check_accuracy(\"AO60.csv\", dict_60)]\n",
    "}\n",
    "\n",
    "v7_counts = {\n",
    "    7 : [96.73],\n",
    "    14 : [84.45],\n",
    "    21 : [88.35],  \n",
    "    42 : [93.47],\n",
    "    49 : [93.5],\n",
    "    56 : [95.17],\n",
    "    63 : [93.74],\n",
    "    70 : [95.08]\n",
    "}\n"
   ]
  },
  {
   "cell_type": "code",
<<<<<<< HEAD
   "execution_count": null,
   "metadata": {},
   "outputs": [],
   "source": []
  },
  {
   "cell_type": "code",
   "execution_count": 22,
=======
   "execution_count": 156,
>>>>>>> ea101d4193c1d315330e74b0f14132fd2bee3ef2
   "metadata": {},
   "outputs": [],
   "source": [
    "def append_accuracies(category_counts, label, color, marker):\n",
    "    amount_categories = []\n",
    "    accuracies = []\n",
    "\n",
    "    # Calculate accuracy for each category count\n",
    "    for count, accuracy in category_counts.items():\n",
    "        if isinstance(accuracy, list):\n",
    "            for each in accuracy:\n",
    "                amount_categories.append(count)\n",
    "                accuracies.append(each)\n",
    "        else:\n",
    "            amount_categories.append(count)\n",
    "            accuracies.append(accuracy)\n",
    "\n",
    "    # Debug print\n",
    "    print(len(amount_categories), len(accuracies))\n",
    "    \n",
    "    # Plot data with the specified label and color\n",
    "    plt.plot(amount_categories, accuracies, marker= marker, linestyle='None', color=color, label=label)\n"
   ]
  },
  {
   "cell_type": "code",
   "execution_count": null,
   "metadata": {},
   "outputs": [
    {
     "name": "stdout",
     "output_type": "stream",
     "text": [
      "14 14\n",
      "8 8\n"
     ]
    },
    {
     "data": {
      "image/png": "iVBORw0KGgoAAAANSUhEUgAAA2AAAAI5CAYAAADHZFkvAAAAOXRFWHRTb2Z0d2FyZQBNYXRwbG90bGliIHZlcnNpb24zLjkuMiwgaHR0cHM6Ly9tYXRwbG90bGliLm9yZy8hTgPZAAAACXBIWXMAAA9hAAAPYQGoP6dpAAB5b0lEQVR4nO3dd3wU1f7/8fembRJIAQIpdJDem0gRAghcRAW5ShMFYkEBFfErFizBKyCoXARUrICFIldEvYASkCIiEpEuiNICoYSaAIHU8/uD3+5lySYkIdlNwuv5eOShOXNm5jNzNmHfmdkzFmOMEQAAAACg0Hm4uwAAAAAAuFEQwAAAAADARQhgAAAAAOAiBDAAAAAAcBECGAAAAAC4CAEMAAAAAFyEAAYAAAAALkIAAwAAAAAXIYABAAAAgIsQwAAAyKPVq1fLYrEoMjLS3aUUuoyMDE2YMEF16tSRj4/PDXPcxUG1atVksVh04MABd5cCIA8IYAByrVGjRrJYLPLz81NSUpK7y0ExYgssFotF4eHhunjxotN+hw8ftvdD0fDyyy9r7NixOnDggBo2bKh27dqpUaNGedrGuXPnNGXKFHXp0kXh4eHy8fFRUFCQmjZtqieeeEK///57gdR64MABRUdHa/bs2QWyPQAoDAQwALmyZcsW7dixQ5J06dIl/ec//3FzRSiujh07pvfee8/dZSAXjDGaOXOmLBaLfv75Z/3+++9at26dpk+fnuttLFu2TDVq1NDTTz+tH3/8UZ6enmrSpIkqVqyoP//8U9OnT1eLFi00cuTI6673wIEDGjdu3A0TwGrWrKk6derI29vb3aUAyAMCGIBc+eyzzyRJwcHBDt8DeeHp6SlJmjRpkpKTk91cDa7lxIkTOn36tMqXL6+WLVvmef3vvvtOd955p06ePKn+/ftr9+7dOnz4sGJjY/XHH3/o5MmT+uKLL1SnTh2tW7euEI6gZFu5cqV2796tihUrursUAHlAAANwTRkZGZo3b54kacaMGfL09NSaNWsUFxfn5spQ3FSrVk1t2rRRQkKC3nnnHXeXg2uw3Srq5+eX53UTEhI0ePBgZWRkaMyYMZo3b57q1Knj0KdUqVIaOHCgtm7dqqFDhxZIzQBQ1BHAAFzTihUrdPToUYWFhal///7q3LmzjDH64osvclwvOTlZb775pm655RYFBwfL399ftWrV0v333681a9Zk6W+M0cKFC3X77berQoUKslqtqlKlinr06JHllqLIyEhZLBatXr3a6b6HDBkii8WSZb0r2/fv368hQ4aoYsWK8vLyUnR0tKTLgfObb75RVFSUGjRooKCgIPn7+6tevXoaM2aMTp48meNxx8TEqE+fPoqIiJDValVERIQ6deqkd955RykpKZKk/v37y2Kx6K233sp2O//5z39ksVjUqlWrHPcnXQ7GFotFd9xxR7Z9Tp8+LR8fH3l7e+vUqVP29h07dui+++5T5cqV5ePjo+DgYNWqVUsDBw7U999/f81959W4ceMkSZMnT9b58+dzvd61PhuW3YQEV7avWbNGt912m4KDg1W2bFndfffd+uuvv+x9v/32W916660KDAxUmTJlNGDAAB05ciTHutLS0jRu3DjVrl1bvr6+qlixokaMGKHTp09nu05ycrImTZqkli1bKjAwUP7+/mratKneeOMN+2vkStHR0bJYLIqOjtaJEyc0cuRIVatWTd7e3hoyZEiO9V0pLi5Ojz32mKpXry6r1aqQkBD16NFDy5Yty9LXYrGoWrVqkqSDBw/az39OP3dXmjFjhs6cOaMGDRpo/PjxOfa1Wq168sknHdp27NihV155RW3atLF/biw8PFx9+vTR+vXrs2wjMjJSnTp1kiStWbPGoV7bcVxp48aN6t+/vypWrCgfHx+Fhobq3nvv1ebNm7Otc+/evRowYIDKly9vH7OZM2dKynlCjAsXLui1115T48aNVapUKQUGBqp169Z65513lJ6enqX/lZO8pKena/LkyWrUqJH8/f0djuVak3D88MMPuuuuuxQaGiqr1apKlSpp6NCh2rt3r9P+rv5dANywDABcw8CBA40k8+STTxpjjJk9e7aRZOrVq5ftOgcPHjT16tUzkowkU6tWLdO8eXNTtmxZI8l07NjRoX9KSoq5++677f3Dw8NNq1atTMWKFY3FYjFX/7rq2LGjkWRWrVrldP+DBw82ksysWbOctj/33HMmODjYWK1W07x5c1O3bl0THR1tjDHm0KFDRpLx8PAw4eHh9uW+vr5GkqlWrZo5duyY0/2OGDHCfgzlypUzLVu2NFWrVjUeHh5Gktm/f78xxpgffvjBSDKNGjXK9hzecccdRpKZMWNGtn1sEhISjJeXl/H29janTp1y2uf99983ksztt99ub/v111+Nn5+fkWSCgoJMkyZNTMOGDU1QUJCRZHr16nXNfefGqlWrjCRTs2ZNY4wx7du3N5LMhAkTHPrZzr2zf56ya7epWrWqwzm+un3KlCnG09PTVKhQwTRv3tyUKlXK/lo7evSomTJlipFkKlWqZJo0aWKsVquRZOrUqWMuXrzo9Hg6dOhgevbsaX+NN23a1Hh5eRlJ5qabbjLHjx/PUufhw4dN/fr1jSTj5eVlbrrpJlOvXj37eu3btzfJyckO67zyyitGkhk+fLipUqWK8fT0NI0bNzaNGzc2UVFROZ57mw0bNpjg4GAjyZQqVcq0aNHCVKpUyX5eX3rpJYf+7dq1My1btjSSjNVqNe3atbN//f7779fcX61atYwk8/bbb+eqvqt16dLFSDLBwcGmXr16pnnz5iYkJMRIMp6enuaLL75w6D9y5EjTsGFDI8kEBgY61HvPPfc49J0yZYr990rZsmVNs2bNTLly5Ywk4+3tbb766qss9WzdutV+/vz8/EyLFi3sr60nnngi29dfQkKCadSokf13SuPGjR1+N3bt2jVXr6+aNWuaFi1amAYNGtj7ZbdPY4x58skn7fuoUKGCadasmQkMDLSfn59//tmhv6t+FwAwhgAGIEfnzp0z/v7+RpLZuHGjMcaYpKQk+z/Uv/32W5Z10tPTTYsWLYwk07JlS/PHH384LN+8ebN59913HdpGjRplJJmQkBCzbNkyh2Xx8fHmlVdecWi73gDm6elp7rrrLoewYnsTdPbsWTN79uwsQebMmTNm5MiRRpIZMmRIln1OnTrVSDL+/v7ms88+MxkZGfZlp06dMm+99ZZJSEgwxhiTkZFhqlSpYiQ5fTN7/Phx4+XlZXx8fLINVFfr3r27kWTef/99p8sjIyONJPP555/b22wh74UXXjApKSkO/WNjY7O8yc2vqwPYypUr7W9+k5KS7P0KM4B5e3ubt956yz4uZ86cMbfccouRZHr27Gn8/f0djjcuLs7UqFHDSMryerUdj5eXlwkMDDQ//vijfdnBgwdNkyZNjKQsb/wzMjJM27ZtjSTTv39/hyB/6NAhc+uttxpJ5v/+7/8c1rMFME9PT9OmTRtz6NAh+7Kr37w7c+HCBfvrrW/fvg7nfPbs2cbT09NIMkuXLnVYb//+/UaSqVq16jX3caUTJ07Yx2vLli15Wtdm4cKFZtu2bQ5tmZmZZvHixaZ06dImMDDQ4TiM+d+4XP0HnistW7bMWCwWExISkiVoffTRR8bLy8sEBASYI0eO2NszMjLsIapHjx7m9OnT9mX/+c9/jNVqNd7e3k5ff//85z+NJNOgQQPz999/29tjY2NNaGiokWTGjBnj9DhsfzBYv369fdmV453da37mzJlGkqlevbrD78j09HTz2muv2f/QcOW2XPW7AAABDMA12K523XTTTQ7t9957r8NVsSt9+eWX9r+6njx58pr7iI+Pt795Wbt2ba7qut4AFhYWZs6fP5+rfV2tcuXKxt/f36SlpdnbkpOT7X9B//TTT3O1nZdeeinbc2i7GnP1G/iczJkzx0gykZGRWZbFx8cbDw8P4+/vb86dO2dvr1OnjpFkEhMTc72f/Lg6gBnzvzH817/+ZW8rzADm7C/4tiuR2Y2D7Y3sXXfd5fR4bFfWrrZ161YjyVgsFrN37157+7fffmskmVatWjm8fmyOHDliSpcubUqXLu1wFcwWwKxWq4mPj8/2HGTnww8/NJJMaGio08A2fPhwI8nceuutDu35DWBbtmyxn5/CeG29+OKLRlKWUJCbANa8eXMjyXzzzTdOlz/99NNGknn11Vftbd9//739qvbZs2ezrGMbn6tff3v27LFfaXP2hxbb78pSpUo5hMkrX1/OrsbZOHvNp6SkmLCwMOPp6ZntlUpbKLzyd5WrfhcAMIbPgAHIkW22w4EDBzq033fffZKkefPmZfkMwzfffCNJioqKUrly5a65j6VLlyotLU233HKLbr311oIo+5r++c9/qlSpUjn2+fHHH/XUU0+pZ8+e6tChg9q3b6/27dsrMTFRycnJDp8d+vnnn3Xq1ClFRETYz821DB06VBaLRXPnzlVaWprDsjlz5khSnj7fc/fdd8vPz09r167N8rmlBQsWKDMzU3feeadKly5tb69cubIk6csvv8z1fgqK7bNgU6ZMUWJiYqHv78EHH8zS1rRp0xyXN2vWTJK0b98+p9v08fHRQw89lKW9cePGat++vYwxWr58ub190aJFki6Pq5eXV5b1wsPD1apVK50/f16bNm3Ksvy2225TRESE01pyYqvh4Ycflq+vb5blts9frV+/XhcuXMjz9q927tw5+/9f6+csJ3FxcXr99dfVt29fde7c2f4zuGDBAknS1q1b87S9gwcP6vfff1eFChV01113Oe1ja7/yc6oxMTGSpD59+igoKCjLOtlNIBITEyNjjNq3b29/LV3pn//8pypVqqQLFy7o559/zrI8KChIvXr1uvaBXeGXX37RsWPH1Lx5c6f7lJwfozt/FwA3mqy//QHg/4uPj9eqVaskZQ1gPXr0UJkyZZSQkKDly5fr9ttvty/btWuXJOmWW27J1X7y2r8g1KtXL9tlqamp6tevnxYvXpzjNq6cZMF2DDfffLM8PHL3t63q1asrMjJSq1at0rJly+xvirZu3aqtW7cqLCxM//jHP3K1LUkKCAjQHXfcoYULF2rBggV66qmn7Mtss1gOGDDAYZ1Ro0ZpxYoVevjhh/XWW2+pe/fuat++vTp16pSr8Hw9OnbsqM6dO+vHH3/U1KlT9corrxTq/mrWrJmlrXz58rlant1kIZUqVVJAQIDTZfXq1dO6deu0Z88ee9v27dslSe+9957mzp3rdD1b//j4eKfbzA/bNuvXr+90ea1ateTj46PU1FTt3btXjRs3ztd+bK48JxcuXFBgYGCetzFnzhw9+uijunTpUrZ9cproxBnb+b906ZLat2/vtI9tf1eef9sfW7I7L1WrVlVgYGCWB9Rf67x7eHiobt26Onz4sPbs2ZPl571WrVr2Rzfklu0YDxw4kO0xnj17VpLjMbrzdwFwo+EKGIBsffHFF8rMzFTz5s2zTB/t4+Oje++9V1LWZ4LZ3oTYnhl2LXntXxBy+qv866+/rsWLFyssLEyffvqpDhw4oEuXLslcvm1b7dq1kySHq1b5PYaoqChJ/7videX/Dxo0KM9vvmxB2Ra4pMszt8XGxio4OFg9evRw6N+zZ08tWbJEbdu21Z49e/T222/r3nvvVVhYmPr27es0BBSkV199VZL073//2/6msLD4+/tnabtyVsWclhtjnG6zQoUK2e4vNDRUkuPVINuVvh07dujnn392+nXixAlJ/5sC/kr5vZpkC5DZ1WuxWOxh88p68+vK51Lt378/z+vv3btXDz/8sC5duqSnn35amzdvVlJSkjIzM2WM0YcffihJWa4cX4vt/CclJWV7/m1XHq88/7argtmF7eyWXeu8S85fJzb5GW/bMZ44cSLbY9y5c6ckx2N09+8C4EZCAAOQLVuw+v333x2mdLZ9ffDBB5Iu33J45V9+bW9EcvuGOq/9pWu/Mb6e26hs0+vPnj1b999/v6pWrSqr1WpffujQoSzr5OcYpMu3IAUFBem///2vTp06pfT0dPuVkbzcfmjTo0cPBQcHKzY2Vn///bek/4Wxf/7zn/Lx8cmyzu23325/47948WI9/vjjCg4O1sKFC3XnnXfm+U1uXrRr105du3ZVYmJijlPyX6kwxjy/bGHJmYSEBEmOb8xtt3/abk3L6Ss/458d235tNV3NGGM/lpxCRm6FhISoVq1akuT0kRPX8uWXXyotLU39+/fXm2++qaZNmyogIMD+c+/sZzA3bOehXbt21zz/V07tbgtCOT02wVmAutZ5l6Tjx49LKpjzfuU+77vvvmse49WPE3Dn7wLgRkIAA+DU5s2btWPHDlksFoWGhmb75ePjo4sXL+qrr76yr9ugQQNJ0oYNG3K1r7z2l/73hii7N8C28JEftjdebdu2zbLs1KlTTv8SbDuG2NhYZWZm5npffn5+6t+/v1JTUzVv3jwtW7ZMx48fV8uWLe3bzAur1ao+ffpI+l/wsv336ttIr1a2bFn16tVL06ZN044dOxQUFKTNmzfrt99+y3MdeWG7Cvb222/neEtZTmOemJh4zeezFYZDhw5l+6bcdltq7dq17W22W9F27NhR+MVdwVbDH3/84XT5X3/9pdTUVHl6ejq9FTM/+vXrJ0n64IMPlJGRkad1c/oZlLL/7FdOz4mT/nf+d+3alaefU9v527Ztm9PlcXFxWW4/vHK97M57Zmamdu/e7dD3ehXEa8xdvwuAGwUBDIBTtqtfHTp00LFjx7L9evrppx36S1Lv3r0lSZ988kmuPqNx++23y9vbWxs2bHD6QXRnatSoIely4Lnab7/9lucP51/Jz89P0v/+Mn2lt956y+mbyXbt2ikkJETx8fEOt//lxpW3IeZn8o2rXXkb4tatW/XHH38oPDxckZGRud5GaGioqlevLknXfBDx9brlllvUo0cPnTt3Tm+++Wa2/XIa848++qjQ6stJamqqPv744yztO3bs0E8//SSLxaKuXbva223h+P3338/xs00FrXv37pKkDz/80Ol+p02bJuny6/h6Js240siRIxUcHKydO3dq7NixOfZNSUmx1yDl/DO4e/dufffdd063Y1vP2e2b0uXPVDVs2FCnT5/Wp59+mqvjkGQfw0WLFjm90nX1A99tunXrJovFonXr1jl9wPOiRYt0+PBhlSpVyn5r8/W69dZbFRISoq1bt+bqgdnX4srfBcANo9DnWQRQ7KSnp5uwsDAjyXz00Uc59t25c6d9uu24uDj7+rYHuLZu3drs3r3bYZ0tW7Zkea7SU089ZZ+6/ocffnBYFh8fb8aNG+fQtnTpUvsDQ3/99Vd7+549e0z9+vXt09pnNw391e1Xsj349K677rJP2Z6ZmWnmzJljvL297Q9kvnoK/Lfffts+pfTcuXNNZmamfdnp06fNlClT7M8Bu5rtAbJ5ffaXMxkZGSY8PNxIMv/4xz+MJDNq1Cinffv162f++9//Znnuz8KFC42np2eWadQPHTpkqlataqpWrerwLKprcTYN/ZU2btxof+6RsplufsyYMUaSadq0qcPzs5YtW2YCAwPtDzLObhp6Zw+rNSbn6e2zm4b9yueABQUFmdWrV9uXHTp0yDRr1sxIMv/85z8d1svIyLA/e+y2224zf/31l8PyS5cumf/+979m6NChDu22ac6vfh5ebl35HLB+/fo5PIrgs88+s5+7gnoOmM3XX39tH9MBAwZk+V2QnJxsFixYYOrVq2eaNGlib1+4cKGRZMqUKWM2b95sb//zzz9Nw4YN7T+DgwcPdtheQkKCkWRKly6d7c/akiVLjMViMf7+/ubDDz/M8jiAvXv3mtdee81h+veMjAzTuHFjI8nccccd5syZMw7H6Ovre83ngDVs2NDhZ2nTpk32n9Nnn33WYZ3cTKdvTPav7XfffddIl5+ruGjRIoffRcYYs337djNmzBizbt06e1tefxcAyD8CGIAsli1bZiQZX19fp8+8uZrtzebEiRPtbQcPHrQ/V0aSqV27tmnRooX9WVlXv7G4dOmS6dWrl71/RESEadWqlalUqZL9OTpXyszMNLfddpuRZDw8PEydOnVMw4YNjYeHh+nQoYMZOHBgvgPYb7/9ZqxWq5FkAgMDTYsWLUxERISRZO6///5sn0GWmZlpHnvsMfsxhISEmFatWplq1arZ34RmFwLeeust+3p5efZXdmwPtrZ9XRlSrxQUFGR/vlTDhg1Nq1at7G8KJZmXXnrJob/tDXlOx+LMtQKYMf97EGx2gSghIcH+hwGr1WqaNm1qqlWrZiSZ55577prPASuMANahQwd7YK9du7Zp1qyZPczUqFHDHD16NMs2jxw5Yv+ZkS4/Y69169amfv36xsfHx/68ritdbwAzxpgNGzbYx7tUqVKmZcuWpnLlyvY6XnzxxVwff15899139p97SaZy5cqmVatWpn79+vYgZbFYzBNPPGFfJy0tzR5UPT09Tb169UzDhg2NxWIx4eHh9ocJXx3AjDGmc+fORpIJCAgwrVu3Nh07djT9+vVz6DNjxgz7z2RAQIBp0aKFadmypf3ByJLMe++957DO1q1bTXBwsJEuP2y9ZcuW9tff448/bn+d2f4QZZOQkGB/iLOnp6dp0qSJqV+/vn0/t912W5Zns11vADPGmOeee86+j7Jly5pWrVqZ5s2bm7Jly9rbr3zofV5/FwDIPwIYgCxs4eXee+/NVX9beKhfv75D+/nz583EiRNN8+bNTenSpY2/v7+pVauWGTx4sNMHLmdmZpovvvjCdOnSxZQtW9b4+PiYKlWqmJ49ezp9uPG5c+fM6NGjTaVKlYyPj4+pXr26GTt2rLl06dI1H8ScUwAzxphff/3VdO3a1ZQuXdqUKlXKNG3a1EybNs1kZmZe8yHQS5YsMXfccYcpX7688fHxMRUrVjSdO3c27777bpa/LtskJCTY3xD+97//zbG23LBdUbpW6Fm8eLF55JFHTMOGDU3ZsmWN1Wo1NWvWNHfffbdZs2ZNlv6FGcA2bdqUYwAz5vLViXvvvdeUKVPG+Pn5mWbNmtnH0h0BrGPHjiY1NdVER0ebm266yVitVhMeHm4ee+wxc+LEiWyP9dKlS+bdd981HTp0MGXKlDE+Pj6mcuXKpn379mbcuHHmjz/+cOhfEAHMGGMOHDhghg0bZqpWrWp8fHxMmTJlTLdu3cySJUvydPx5lZiYaN544w3TqVMnExoaary9vU1AQIBp2rSpefLJJ83WrVudrvP444+biIgI4+3tbSpVqmQeeughc+TIETNr1qxsA9ixY8fMkCFDTMWKFe1h2Fn927dvNw899JCpUaOG8fX1NUFBQaZBgwZmwIABZuHChebChQtZ1vn7779N//79Tbly5Yyvr69p1KiRmTFjhjHGmJCQECPJ4eqYzfnz582rr75qGjZsaPz8/EypUqVMq1atzPTp001qamqW/gURwIwx5ueffzYDBw40lStXNj4+PqZs2bKmcePGJioqyixZssRh33n9XQAg/yzGZDOdFADAZXbv3q169eopLCxMhw8fzvP08wDc59SpUwoJCVFwcLDOnDnj7nIAFHFMwgEARYBtIof777+f8AUUM7NmzZKU/ayNAHAlAhgAuNn+/fv1/vvvy9PTU8OGDXN3OQCc2L59uz744AOHxw4YY/T555/rpZdekiQ9+uij7ioPQDHi5e4CAOBGNWrUKG3cuFFbt25VcnKyHnnkkQJ7BhOAgnXq1CkNGzZMw4cPV9WqVVWuXDnt27dPp06dkiQNGzZMd955p5urBFAccAUMANxky5Yt+uWXXxQQEKAnnnhCU6dOdXdJALJRv359jRkzRo0aNVJiYqI2b94sY4y6dOmi+fPna+bMme4uEUAxwSQcAAAAAOAiXAEDAAAAABchgAEAAACAixDAAAAAAMBFCGAAAAAA4CIEMAAAAABwEQIYAAAAALgIAQwAAAAAXIQABgAAAAAuQgADAAAAABchgAEAAACAixS5ALZ27VrdeeedioiIkMVi0eLFix2WG2MUHR2tiIgI+fn5KTIyUjt37nTok5KSoscff1whISEqVaqU7rrrLh0+fNiFRwEAAAAAWRW5AHbhwgU1adJEM2bMcLp88uTJmjJlimbMmKHY2FiFhYWpa9euOnfunL3PqFGj9PXXX2v+/Plat26dzp8/rzvuuEMZGRmuOgwAAAAAyMJijDHuLiI7FotFX3/9tXr37i3p8tWviIgIjRo1Ss8++6yky1e7QkNDNWnSJA0bNkyJiYkqX768PvvsM/Xr10+SdOTIEVWuXFlLly5V9+7d3XU4AAAAAG5wRe4KWE7279+vY8eOqVu3bvY2q9Wqjh07av369ZKkTZs2KS0tzaFPRESEGjZsaO8DAAAAAO7g5e4C8uLYsWOSpNDQUIf20NBQHTx40N7Hx8dHZcqUydLHtr4zKSkpSklJsX+fmZmp06dPq1y5crJYLAV1CAAAAACKGWOMzp07p4iICHl4XN81rGIVwGyuDkTGmGuGpGv1mThxosaNG1cg9QEAAAAoeQ4dOqRKlSpd1zaKVQALCwuTdPkqV3h4uL09ISHBflUsLCxMqampOnPmjMNVsISEBLVt2zbbbT///PMaPXq0/fvExERVqVJFe/bsUdmyZQv6UJALaWlpWrVqlTp16iRvb293l3NDYgzcryDG4LvvLHrhBU8dPfq/P0KFhxtNmJChO+9078eAi2ptRbUu6carraB+DxXV81ZU65KKdm03Gv49dr/Tp0+rdu3aCggIuP6NmSJMkvn666/t32dmZpqwsDAzadIke1tKSooJCgoyM2fONMYYc/bsWePt7W0WLFhg73PkyBHj4eFhvv/++1zvOzEx0UgyJ0+evP4DQb6kpqaaxYsXm9TUVHeXcsNiDNzvesfgq6+MsViMkRy/LJbLX199VcAFl4DaimpdN2ptBfF7qKiet6JaV1Gv7UbEv8fud/LkSSPJJCYmXve2itwkHOfPn9eWLVu0ZcsWSZcn3tiyZYvi4uJksVg0atQoTZgwQV9//bV27NihIUOGyN/fXwMHDpQkBQUF6cEHH9TTTz+tlStXavPmzRo0aJAaNWqk2267zY1HBgCulZEhPfnk5bdNV7O1jRp1uZ+rFdXaimpdErXlV1GtrajWJRXt2oCSoMgFsN9++03NmjVTs2bNJEmjR49Ws2bN9PLLL0uSxowZo1GjRmn48OFq2bKl4uPjtXz5cofLgf/+97/Vu3dv9e3bV+3atZO/v7++++47eXp6uuWYAMAdfvpJyukZ9MZIhw5d7udqRbW2olqXRG35VVRrK6p1SUW7NqAkKHKfAYuMjJTJ4dFkFotF0dHRio6OzraPr6+vpk+frunTpxdChQBQPBw9WrD9ClJRra2o1pWXfVJb/vbJay3v+3RHbUBJUOQCGHKWkXH5L05Hj0rh4dKtt0pc2APgzBVzFRVIv4JUVGsrqnXlZZ/Ulr998lrL+z7dURtQEhS5WxCRvUWLpGrVpE6dpIEDL/+3WrXL7QBwtVtvlSpVkrJ7AofFIlWufLmfqxXV2opqXRK15VdRra2o1iUV7dqAkoAAVkwsWiTdc0/We7Lj4y+3E8IAXM3TU3r77cv/f/UbKdv3U6e65yp6Ua2tqNYlUVt+FdXaimpdUtGuDSgJCGDFALMRwR0yMqQ1ayxau7ai1qyxFJnXV0aGtHq1NG/e5f8WlbqKqj59pP/8R6pY0bG9UqXL7X36uKcuqejWVlTrkqgtv4pqbUW1Lqlo1wYUdxaT04wXN7CkpCQFBQXp5MmTKleunFtrWb368u2G17JqlRQZWdjVOFcYn01LS0vT0qVLdfvtt/PQQRdbtOhy6L/yimulSpf/IurOf3SLal2FqaB+Dory50eLam0ZGdKqVelatmyLevRoqk6dvIpEXVLRPWdSwddWkP8WFNXzVlTrkor2z8GNhPdE7nfq1CmFhIQoMTFRgYGB17UtJuEoBorCbEQr9q3QE8ue0LQe03RbDcfnqd2Ib4oLSlH8R9d2u+vVf5qx3e7qrr98FtW6igtPT/f9geZaimptnp5Sx45GFy7Eq2PHJm7/2bxSUT1nErXlR1GtSyraPwdAccUtiMWAu2cjMsbohZUvaNfJXXph5QsOjwngs2n5VxQnVSmqt7sW1boAAADyigBWDLh7NqLle5cr9kisJCn2SKyW710uiTfF16OoBtei+vDNoloXAABAXhHAigF3zkZkjNFLq16Sp+Xyxj0tnnpp1UsyxvCmOJ+KcnAtCre7Xs/+eCgoAAAo6ghgxYS7ZiOyXf3KMJfTQIbJsF8FKy5viovarHlFObi6+3bX690fDwUFAABFHQGsGOnTRzpw4PJsh3PnXv7v/v2FF76uvvplY7sKFhaWuwk03fmmuCh+zqooB1d33+5a3OoCAADIKwJYMWObKWnAgMv/LczZiK6++mVjuwp2seLyIv2muKh+zqooX80pqg/fLKp1AQAA5BUBDE7Zrn55ZPMS8ZCHote8pKlTL18FK2pviovy56yK+tWcovrwzaJaFwAUhBX7Vqj+O/W1Yt8Kd5eCImjl/pUauWukVu5f6e5SUAAIYHAqNSNVcYlxylSm0+WZytShpEO6o1dqkXxTXJQ/Z1UcrubYbneNiUnX6NG/KSYmvVBvd81rXa66DRcAXCGnx70Axhi9uPpFHU45rBdXv8jrowTgQcxwyuplVezDsTqRfCLbPhVKVZDVy6o+faRevYrWA4WL8uespP9dzXH2AOupU4tGoCiqD98syg8sBYD8cPa4l+43dXdzVSgqlu9drk1HN0mSNh3dxOujBCCAIVuVgyqrclDlXPUtam+Ki/LnrGyKYnAFALjWlRNeZZgM+0RX3Wp2kyW7e9Vxw+D1UTJxCyJKpKL+OSsbV06qAgAoenJ63AvA66NkIoChRCoOn7MCANzYrvW4Fz7rc2Pj9VFyEcBQYjFrHgCgKLvW4164ynFj4/VRchHAUKIxax4AoCjKzeNebuSrHDf6tPy8Pko2AhhKPD5nBaCouNHfVF7tRj4fuX3cS2pGqosrcz+m5ef1UdIxCyIAAC5w9ZvKLtW73NCzmN3o5yMvj3u50TAtf9bXR3p6utatW6f27dvLy+vy2/cb9fVREhDAAABwAd5UOuJ85O1xLzcKpl3/nytfH2lpaTrqf1TNwprJ29vbzZXhenELIgAAhezq2cxu9FnMOB/IDtOu40ZAAAMAoJDxptIR5wPOMO06bhQEMAAAChFvKh1xPpAdpl3HjYIABgBAIeJNpSPOB5xh2nXcSAhgAAAUEt5UOuJ8IDtMu44bCbMgAgBQSPLypvJGmE6a84HsMC0/biQEMAAACglvKh1xPpATpuXHjYIABgBAIeJNpSPOB4AbHZ8BAwAAAAAXIYABAAAAgIsQwAAAAADARQhgAAAAAOAiBDAAAAAAcBECGAAAAAC4CAEMAAAAAFyEAAYAAAAALkIAAwAAAAAXIYABAAAAgIsQwAAAAADARQhgAAAAAOAiBDAAAAAAcBECGIDrsmLfCtV/p75W7Fvh7lIAAACKPAIYgHwzxuiFlS9o18ldemHlCzLGuLskAACAIo0ABiDflu9drtgjsZKk2COxWr53uZsrAgAAKNoIYADyxRijl1a9JE+LpyTJ0+Kpl1a9xFUwAACAHBDAAOSL7epXhsmQJGWYDK6CAQAAXAMBDECeXX31y4arYAAAADkjgAHIs6uvftlwFQwAACBnBDAAeWK7+uWRza8PD3lwFQwAACAbBDAAeZKakaq4xDhlKtPp8kxl6lDSIaVmpLq4MgAAgKLPy90FACherF5WxT4cqxPJJ7LtU6FUBVm9rC6sCgAAoHgggAHIs8pBlVU5qLK7ywAAACh2uAURAAAAAFyEAAYAAAAALkIAAwAAAAAXIYABAAAAgIsQwAAAAADARQhgAAAAAOAiBDAAAAAAcBECGJAPK/atUP136mvFvhXuLgUAAADFCAEMyCNjjF5Y+YJ2ndylF1a+IGOMu0sCAABAMUEAA/Jo+d7lij0SK0mKPRKr5XuXu7kiAAAAFBcEMCAPjDF6adVL8rR4SpI8LZ56adVLXAUDAABArhDAgDywXf3KMBmSpAyTwVUwAAAA5BoBDMilq69+2XAVDAAAALlFAANy6eqrXzZcBQMAAEBuEcCAXLBd/fLI5kfGQx5cBQMAAMA1EcCAXEjNSFVcYpwylel0eaYydSjpkFIzUl1cGQAAAIoTL3cXABQHVi+rYh+O1YnkE9n2qVCqgqxeVhdWBQAAgOKGAAbkUuWgyqocVNndZQAAAKAY4xZEAAAAAHARAhgAAAAAuAgBDAAAAABchAAGAAAAAC5CAAMAAAAAFyGAAQAAAICLEMAAAAAAwEUIYAAAAADgIgQwAAAAAHCRYhfA0tPT9eKLL6p69ery8/NTjRo19OqrryozM9Pexxij6OhoRUREyM/PT5GRkdq5c6cbqwYAAACAYhjAJk2apJkzZ2rGjBnatWuXJk+erDfeeEPTp0+395k8ebKmTJmiGTNmKDY2VmFhYeratavOnTvnxsoBAAAA3OiKXQD75Zdf1KtXL/Xs2VPVqlXTPffco27duum3336TdPnq19SpUzV27Fj16dNHDRs21Jw5c5ScnKy5c+e6uXoAAAAANzIvdxeQV+3bt9fMmTO1Z88e1a5dW1u3btW6des0depUSdL+/ft17NgxdevWzb6O1WpVx44dtX79eg0bNszpdlNSUpSSkmL/PikpSZKUlpamtLS0wjsgZMt23jn/7sMYuB9j4F6cf/djDNyPMXA/xsD9CvLcF7sA9uyzzyoxMVF169aVp6enMjIyNH78eA0YMECSdOzYMUlSaGiow3qhoaE6ePBgttudOHGixo0bl6V91apV8vf3L8AjQF7FxMS4u4QbHmPgfoyBe3H+3Y8xcD/GwP0YA/dJTk4usG0VuwC2YMECff7555o7d64aNGigLVu2aNSoUYqIiNDgwYPt/SwWi8N6xpgsbVd6/vnnNXr0aPv3SUlJqly5sjp16qRy5coV/IHgmtLS0hQTE6OuXbvK29vb3eXckBgD92MM3Ivz736MgfsxBu7HGLjfqVOnCmxbxS6APfPMM3ruuefUv39/SVKjRo108OBBTZw4UYMHD1ZYWJiky1fCwsPD7eslJCRkuSp2JavVKqvVmqXd29ubF7qbMQbuxxi4H2PgXpx/92MM3I8xcD/GwH0K8rwXu0k4kpOT5eHhWLanp6d9Gvrq1asrLCzM4RJtamqq1qxZo7Zt27q0VgAAAAC4UrG7AnbnnXdq/PjxqlKliho0aKDNmzdrypQpioqKknT51sNRo0ZpwoQJqlWrlmrVqqUJEybI399fAwcOdHP1AAAAAG5kxS6ATZ8+XS+99JKGDx+uhIQERUREaNiwYXr55ZftfcaMGaOLFy9q+PDhOnPmjFq3bq3ly5crICDAjZUDAAAAuNEVuwAWEBCgqVOn2qedd8ZisSg6OlrR0dEuqwsAAAAArqXYfQYMAAAAAIorAhgAAAAAuAgBDAAAAABchAAGAAAAAC5CAAMAAAAAFyGAAQAAAICLEMAAAAAAwEUIYAAAAADgIgQwAAAAAHARAhgAAAAAuAgBDAAAAABchAAGAAAAAC5CAAMAAAAAFyGAAQAAAICLEMAAAAAAwEUIYAAAAADgIgQwAAAAAHARAhgAAAAAuAgBDAAAAABchAAGAAAAAC5CAAMAAAAAFyGAAQAAAICLEMAAAAAAwEUIYAAAAADgIgQwAAAAAHARAhgAAAAAuAgBDAAAAABchAAGAAAAAC5CAAMAAAAAFyGAAQAAAICLEMAAAAAAwEUIYAAAAADgIgQwAAAAAHARAhgAAAAAuAgBDAAAAABchAAGAAAAAC5CAAMAAAAAFyGAAQAAAICLEMAAAAAAwEUIYAAAAADgIgQwAAAAAHARAhgAAAAAuAgBDAAAAABchAAGAAAAAC5CAAMAAAAAFyGAAQAAAICLEMAAAAAAwEUIYAAAAADgIgQwAAAAAHARAhgAAAAAuAgBDAAAAABchAAGAAAAAC5CAAMAAAAAFyGAAQAAAICLEMAAAAAAwEUIYAAAAADgIgQwAAAAAHARAhgAAAAAuAgBDAAAAABchAAGAAAAAC5CAAMAAAAAFyGAAQAAAICLEMAAAAAAwEUIYAAAAADgIgQwAAAAAHARAhgAAAAAuAgBDAAAAABchAAGAAAAAC5CAAMAAAAAFymQAJaYmKi0tLSC2BQAAAAAlFheeV3h3Llz+vLLL/Xjjz9q/fr1io+PV0ZGhiQpICBAjRo1UmRkpHr16qWWLVsWeMEAAAAAUFzlOoDFxcXptdde07x583ThwgVJUtmyZXXTTTepbNmyunjxok6fPq0NGzbo559/1oQJE9S0aVONHj1a9913X6EdAAAAAAAUF7kKYM8995ymTZumzMxM9ejRQ3379lWbNm1UrVq1LH0vXryo3377TcuXL9e8efN0//3369///rc+/PBDNWvWrKDrBwAAAIBiI1efAXv//fc1ZswYHT16VF9//bUGDBjgNHxJkp+fn2699Vb961//0t9//60VK1YoICBA3333XUHWDQAAAADFTq6ugB04cEBBQUH52kHnzp3VuXNnJSYm5mt9AAAAACgpcnUFLL/hq6C3AQAAAADFGc8BAwAAAAAXKZAAtmjRIrVv314hISEqX768OnTowGe+AAAAAOAq1x3A/v3vf+uee+6Rr6+vHnzwQQ0cOFDHjx9X79699c477xREjQAAAABQIuT5QcxXe/PNNzVu3Di99NJL9rb09HR16NBBkydP1ogRI653FwAAAABQIuT6Ctg999yj48ePZ2k/ceKE2rZt69Dm5eWl1q1bKyEh4forBAAAAIASItcBbPv27apbt64+/PBDh/bmzZtrwoQJOnLkiL1t3bp1+uKLL9SyZcuCq/QK8fHxGjRokMqVKyd/f381bdpUmzZtsi83xig6OloRERHy8/NTZGSkdu7cWSi1AAAAAEBu5SmAjRgxQiNHjlTHjh21Z88eSdI777yjHTt2qEqVKgoLC1OZMmXUsWNHeXp6avr06QVe8JkzZ9SuXTt5e3tr2bJl+uOPP/TWW28pODjY3mfy5MmaMmWKZsyYodjYWIWFhalr1646d+5cgdcDAAAAALmV68+A+fj46LXXXtOAAQP0yCOPqEmTJho7dqyee+457du3T59//rn+/PNPSVK9evV03333yd/fv8ALnjRpkipXrqxZs2bZ26pVq2b/f2OMpk6dqrFjx6pPnz6SpDlz5ig0NFRz587VsGHDCrwmAAAAAMiNPE/C0aBBA/38889699139cILL2jBggX68MMPXRZsvv32W3Xv3l333nuv1qxZo4oVK2r48OF6+OGHJUn79+/XsWPH1K1bN/s6VqtVHTt21Pr16wlgAAAAANwm37MgDh8+XL1799bIkSPVvn17Pfroo5o4caICAgIKsr4s9u3bp/fee0+jR4/WCy+8oI0bN+qJJ56Q1WrVAw88oGPHjkmSQkNDHdYLDQ3VwYMHs91uSkqKUlJS7N8nJSVJktLS0pSWllYIR4JrsZ13zr/7MAbuxxi4F+ff/RgD92MM3I8xcL+CPPcWY4zJ60onT55USEiI/ftvvvlGjz/+uIwxeuedd3TXXXcVWIFX8/HxUcuWLbV+/Xp72xNPPKHY2Fj98ssvWr9+vdq1a6cjR44oPDzc3ufhhx/WoUOH9P333zvdbnR0tMaNG5elfe7cuYVyKyUAAACA4iE5OVkDBw5UYmKiAgMDr2tbub4Clpqaqueee04ffPCBLl68KD8/Pz388MOaNGmSevXqpS5duui5555Tnz59dPfdd2vGjBlZrkIVhPDwcNWvX9+hrV69evrqq68kSWFhYZKkY8eOOQSwhISEHOt5/vnnNXr0aPv3SUlJqly5sjp16qRy5coV5CEgl9LS0hQTE6OuXbvK29vb3eXckBgD92MM3Ivz736MgfsxBu7HGLjfqVOnCmxbuQ5gL774oqZOnaqoqCi1bNlSv//+u6ZNmyYvLy+98cYbKl26tGbMmKH7779fDz/8sOrWratJkybpkUceKbBiJaldu3b2yT5s9uzZo6pVq0qSqlevrrCwMMXExKhZs2aSLofHNWvWaNKkSdlu12q1ymq1Zmn39vbmhe5mjIH7MQbuxxi4F+ff/RgD92MM3I8xcJ+CPO+5DmDz589Xv3799NFHH9nbzp8/rwULFuiNN96wt7Vu3Vq///67Jk+erKeeeqrAA9hTTz2ltm3basKECerbt682btyoDz74QB988IEkyWKxaNSoUZowYYJq1aqlWrVqacKECfL399fAgQMLtBYAAAAAyItcB7ALFy6ofPnyDm3ly5dXcnJy1o16eemFF15Q//79r7/Cq7Rq1Upff/21nn/+eb366quqXr26pk6dqvvuu8/eZ8yYMbp48aKGDx+uM2fOqHXr1lq+fHmhTxACAAAAADnJdQDr2LGjZs2apTZt2qhFixbasmWL5syZo86dO2e7To0aNQqkyKvdcccduuOOO7JdbrFYFB0drejo6ELZPwAAAADkR64D2PTp09WzZ0/dd999slgsMsaocePGmjZtWmHWBwAAAAAlRq4DWMWKFfX7779r48aNOnTokCpXrqybb75ZHh4ehVkfAAAAAJQYeXoQs4eHh2655RbdcssthVUPAAAAAJRYXL4CAAAAABfJVQC74447tGnTpnzt4OLFi3rzzTf13nvv5Wt9AAAAACgpchXADh06pJtvvlldunTR7NmzlZSUdM11fvvtN40aNUpVq1bVyy+/rJCQkOsuFgAAAACKs1x9BmzLli2aNWuWXn31VUVFRemhhx5S3bp11bx5c4WGhqpMmTK6ePGiTp8+rb/++ku//fabEhMT5eHhob59+2r8+PGqVq1aIR8KAAAAABRtuQpgFotFUVFRGjJkiJYsWaLZs2drzZo1+vzzz7P09fDwUOPGjdW7d2899NBDioiIKPCiAQAAAKA4yvMsiHfeeafuvPNOSdKuXbt0+PBhnTp1Sn5+fipfvrwaNGigoKCgQikWAAAAAIqzPAWwq9WrV0/16tUrqFoAAAAAoERjGnoAAAAAcBECGAAAAAC4CAEMAAAAAFyEAAYAAAAALkIAAwAAAAAXIYABAAAAgIvkK4CdPHmyoOsAAAAAgBIvXwGsUqVK6tevn2JiYgq6HgAAAAAosfIVwBo3bqyFCxfqH//4h6pXr67XXntN8fHxBV0bAAAAAJQo+QpgGzdu1LZt2zRy5EidO3dOL7/8sqpVq6a77rpL3377rTIzMwu6TgAAAAAo9vI9CUfDhg319ttv68iRI5o7d646duyoJUuW6O6771blypU1duxY7du3ryBrBQAAAIBi7bpnQfTx8VH//v21YsUK7d27V2PHjlVGRoZef/111a5dW127dtVXX30lY0xB1AsAAAAAxVaBTUNvjNGOHTu0bds2nTp1SsYYhYeHa82aNerbt6+aNm2qv/76q6B2BwAAAADFznUHsP379+vFF19U5cqV1atXLy1btky9e/fW8uXLdejQIR08eFBPP/20/vjjDz322GMFUTMAAAAAFEte+VkpLS1NX331lT766COtXr1amZmZql69usaPH6+oqChVqFDB3jc8PFyTJ0/WuXPn9NlnnxVY4QAAAABQ3OQrgEVEROj06dPy9PRU7969NWzYMHXt2jXHdapWrark5OR8FQkAAAAAJUG+Aljp0qU1evRoRUVFKTQ0NFfrDB8+XAMGDMjP7gAAAACgRMhXANu3b58sFkue1gkMDFRgYGB+dgcAAAAAJUK+JuFISkrStm3bsr2l8MKFC9q2bZuSkpKuqzgAAAAAKEnyFcBeffVVtW3bVhkZGU6XZ2RkqF27dho/fvx1FQcAAAAAJUm+Atj333+vbt26KSAgwOnywMBAde/eXUuXLr2u4gAAAACgJMlXAIuLi1OtWrVy7FOzZk3FxcXlqygAAAAAKInyFcAsFotSUlJy7JOSkpLtLYoAAAAAcCPKVwCrV6+evv/+exljnC7PzMzUsmXLVKdOnesqDgAAAABKknwFsIEDB2rPnj2KiopSYmKiw7LExERFRUXp77//1qBBgwqkSAAAAAAoCfL1HLDhw4dr0aJFmjNnjr755hu1atVKFStWVHx8vGJjY3X27Fl16NBBI0eOLOh6AQAAAKDYytcVMG9vby1fvlz/93//p8zMTMXExGj27NmKiYlRZmamnnnmGf3www/y9vYu6HoBAAAAoNjK1xUwSbJarZo8ebJef/117d69W2fPnlVwcLDq1KkjT0/PgqwRAAAAAEqEfAcwGw8PD9WvX78gagEAAACAEi1ftyACAAAAAPIu31fAzp07pxkzZmjFihU6cuSI0+eCWSwW7d2797oKBAAAAICSIl8B7MSJE2rbtq327t2rwMBAJSUlKSgoSKmpqbp48aIkKSIigkk4AAAAAOAK+boFMTo6Wnv37tWnn36qM2fOSJKeeuopXbhwQb/++qtuvvlmVatWTTt37izQYgEAAACgOMtXAFu6dKm6dOmiQYMGyWKxOCxr1aqVli1bpgMHDig6OrogagQAAACAEiFfAezo0aNq1qyZ/XtPT0/7rYeSVKZMGfXo0UMLFy68/goBAAAAoITIVwALCgpSWlqa/fsyZcro8OHDDn0CAwN1/Pjx66sOAAAAAEqQfAWwGjVq6MCBA/bvmzVrppiYGJ0+fVqSdPHiRX333XeqUqVKgRQJAAAAACVBvgJYt27dtHLlSiUnJ0uShg0bpoSEBDVp0kT33nuvGjZsqL1792rIkCEFWSsAAAAAFGv5CmCPPvqoPvzwQ3sA69Onj9544w2dP39eX331lY4dO6bRo0frmWeeKdBiAQAAAKA4y9dzwMLDw9WvXz+HtqefflqjRo3SyZMnVaFChSyzIwIAAADAjS5fV8CioqI0derULO2enp4KDQ0lfAEAAACAE/kKYHPnzmWGQwAAAADIo3wFsJtuuklHjx4t6FoAAAAAoETLVwB78MEHtWTJEsXHxxd0PQAAAABQYuVrEo67775bK1euVNu2bTVmzBi1atUq289+8SwwAAAAALgsXwGsRo0aslgsMsboiSeeyLafxWJRenp6vosDAAAAgJIkXwHsgQceYKZDAAAAAMijfAWw2bNnF3AZAAAAAFDy5WsSDgAAAABA3hHAAAAAAMBF8j0JR25YLBbt3bs3P7sAAAAAgBInXwEsMzPT6SQciYmJOnv2rCQpPDxcPj4+11UcAAAAAJQk+QpgBw4cyHHZ6NGjdfz4ccXExOS3LgAAAAAocQr8M2DVqlXTggULdObMGY0dO7agNw8AAAAAxVahTMLh7e2trl276ssvvyyMzQMAAABAsVRosyAmJyfr9OnThbV5AAAAACh2CiWArV27VvPmzVOdOnUKY/MAAAAAUCzlaxKOzp07O21PT09XfHy8Dhw4IGOMXnzxxesqDgAAAABKknwFsNWrVzttt1gsKlOmjLp27aqnnnpK3bt3v57aAAAAAKBEyfdzwAAAAAAAeVNok3AAAAAAABzlK4AlJiZq27ZtSk5Odrr8woUL2rZtm5KSkq6rOAAAAAAoSfIVwF599VW1bdtWGRkZTpdnZGSoXbt2Gj9+/HUVBwAAAAAlSb4C2Pfff69u3bopICDA6fLAwEB1795dS5cuva7iAAAAAKAkyVcAi4uLU61atXLsU7NmTcXFxeWrKAAAAAAoifIVwCwWi1JSUnLsk5KSku0tigAAAABwI8pXAKtXr56+//57GWOcLs/MzNSyZctUp06d6yoOAAAAAEqSfAWwgQMHas+ePYqKilJiYqLDssTEREVFRenvv//WoEGDCqRIAAAAACgJ8vUg5uHDh2vRokWaM2eOvvnmG7Vq1UoVK1ZUfHy8YmNjdfbsWXXo0EEjR44s6HoBAAAAoNjK1xUwb29vLV++XP/3f/+nzMxMxcTEaPbs2YqJiVFmZqaeeeYZ/fDDD/L29i7oegEAAACg2MrXFTBJslqtmjx5sl5//XXt3r1bZ8+eVXBwsOrUqSNPT8+CrBEAAAAASoR8BzAbDw8P1a9fvyBqAQAAAIASLV+3IP7xxx+aNm2aTpw44XR5QkKCpk2bpl27dl1XcbkxceJEWSwWjRo1yt5mjFF0dLQiIiLk5+enyMhI7dy5s9BrAQAAAICc5CuAvf7665o0aZLKlSvndHm5cuX0xhtvaPLkyddV3LXExsbqgw8+UOPGjR3aJ0+erClTpmjGjBmKjY1VWFiYunbtqnPnzhVqPQAAAACQk3wFsJ9++kldunSRh4fz1T09PdWlSxetXbv2uorLyfnz53Xffffpww8/VJkyZeztxhhNnTpVY8eOVZ8+fdSwYUPNmTNHycnJmjt3bqHVAwAAAADXkq/PgB07dkyVK1fOsU/FihV19OjRfBWVGyNGjFDPnj1122236bXXXrO379+/X8eOHVO3bt3sbVarVR07dtT69es1bNgwp9tLSUlRSkqK/fukpCRJUlpamtLS0grpKJAT23nn/LsPY+B+jIF7cf7djzFwP8bA/RgD9yvIc5+vAFaqVCklJCTk2CchIUG+vr75Kupa5s+fr99//12xsbFZlh07dkySFBoa6tAeGhqqgwcPZrvNiRMnaty4cVnaV61aJX9//+usGNcjJibG3SXc8BgD92MM3Ivz736MgfsxBu7HGLhPcnJygW0rXwGsRYsWWrx4sd544w0FBwdnWX7mzBl9/fXXat68+fXWl8WhQ4f05JNPavny5TkGPIvF4vC9MSZL25Wef/55jR492v59UlKSKleurE6dOmX7WTcUrrS0NMXExKhr1648U85NGAP3Ywzci/PvfoyB+zEG7scYuN+pU6cKbFv5CmAjRoxQ79691alTJ7399tvq0KGDfdmaNWv05JNP6syZMxo5cmSBFWqzadMmJSQkqEWLFva2jIwMrV27VjNmzNCff/4p6fKVsPDwcHufhISELFfFrmS1WmW1WrO0e3t780J3M8bA/RgD92MM3Ivz736MgfsxBu7HGLhPQZ73fAWwu+66S//3f/+nN998U506dZLValVYWJiOHTumlJQUGWP0zDPPqHfv3gVWqE2XLl20fft2h7ahQ4eqbt26evbZZ1WjRg2FhYUpJiZGzZo1kySlpqZqzZo1mjRpUoHXAwAAAAC5le8HMU+ePFmRkZF65513FBsbq8OHDys4OFidO3fWiBEj1KNHj4Ks0y4gIEANGzZ0aCtVqpTKlStnbx81apQmTJigWrVqqVatWpowYYL8/f01cODAQqkJAAAAAHIj3wFMkm6//Xbdfvvt2S5PT0+Xl9d17SJfxowZo4sXL2r48OE6c+aMWrdureXLlysgIMDltQAAAACATaGkoz/++EMff/yxvvjiC/ushIVp9erVDt9bLBZFR0crOjq60PcNAAAAALlVYAHs/Pnzmj9/vj7++GNt3LhRxhj5+PgU1OYBAAAAoNi77gC2bt06ffLJJ1q4cKGSk5NljFGzZs00dOhQPnMFAAAAAFfIVwA7fvy45syZo08++UR//fWXjDEKCwvThQsX9MADD2j27NkFXCYAAAAAFH+5DmCZmZlasmSJPv74Yy1dulTp6eny9fVV37599cADD6hbt27y9vbmtkMAAAAAyEauA1ilSpV0/PhxSVK7du30wAMPqG/fvgoMDCy04gAAAACgJMl1ADt27Jg8PDz09NNP6/nnn1dwcHAhlgUAAAAAJY9HbjsOGjRIvr6+evPNNxUeHq57771X3377rdLT0wuzPgAAAAAoMXIdwD799FMdPXpU7777rho1aqSvvvpKd999t8LCwjRy5Eht2LChMOsEAAAAgGIv1wFMkgICAjRs2DBt3LhR27Zt0+OPPy6LxaJ3331X7dq1k8Vi0Z9//qm4uLjCqhcAAAAAiq08BbArNWzYUFOnTtWRI0c0f/58de3aVRaLRT/99JNq1Kihrl27at68eQVZKwAAAAAUa/kOYDbe3t7q27evvv/+ex04cEDR0dGqUqWKVq5cqUGDBhVEjQAAAABQIlx3ALtSpUqV9PLLL2vfvn1avny5+vXrV5CbBwAAAIBiLdfT0OfVbbfdpttuu62wNg8AAAAAxU6BXgEDAAAAAGSPAAYAAAAALkIAAwAAAAAXIYABAAAAgIsQwAAAAADARQhgAAAAAOAiBDAAAAAAcBECGAAAAAC4CAEMAAAAAFyEAAYAAAAALkIAAwAAAAAXIYABAAAAgIsQwAAAAADARQhgAAAAAOAiBDAAAAAAcBECGAAAAAC4CAEMAAAAAFyEAAYAAAAALkIAAwAAAAAXIYABAAAAgIsQwAAAAADARQhgAAAAAOAiBDAAAAAAcBECGAAAAAC4CAEMAAAAAFyEAAYAAAAALkIAAwAAAAAXIYABAAAAgIsQwAAAAADARQhgAAAAAOAiBDAAAAAAcBECGAAAAAC4CAEMAAAAAFyEAAYAAAAALkIAAwAAAAAXIYABAAAAgIsQwAAAAADARQhgAAAAAOAiBDAAAAAAcBECGAAAAAC4CAEMAAAAAFyEAAYAAAAALkIAAwAAAAAXIYABAAAAgIsQwAAAAADARQhgAAAAAOAiBDAAAAAAcBECGAAAAAC4CAEMAAAAAFyEAAYAAAAALkIAAwAAAAAXIYABAAAAgIsQwAAAAADARQhgAAAAAOAiBDAAAAAAcBECGAAAAAC4CAEMAAAAAFyEAAYAAAAALkIAAwAAAAAXIYABAAAAgIsQwAAAAADARQhgAAAAAOAiBDAAAAAAcBECGAAAAAC4CAEMAAAAAFyEAAYAAAAALkIAAwAAAAAXIYABAAAAgIsUuwA2ceJEtWrVSgEBAapQoYJ69+6tP//806GPMUbR0dGKiIiQn5+fIiMjtXPnTjdVDAAAAACXFbsAtmbNGo0YMUIbNmxQTEyM0tPT1a1bN124cMHeZ/LkyZoyZYpmzJih2NhYhYWFqWvXrjp37pwbKwcAAABwo/NydwF59f333zt8P2vWLFWoUEGbNm1Shw4dZIzR1KlTNXbsWPXp00eSNGfOHIWGhmru3LkaNmyYO8oGAAAAgOIXwK6WmJgoSSpbtqwkaf/+/Tp27Ji6detm72O1WtWxY0etX78+2wCWkpKilJQU+/dJSUmSpLS0NKWlpRVW+ciB7bxz/t2HMXA/xsC9OP/uxxi4H2PgfoyB+xXkubcYY0yBbc3FjDHq1auXzpw5o59++kmStH79erVr107x8fGKiIiw933kkUd08OBB/fDDD063FR0drXHjxmVpnzt3rvz9/QvnAAAAAAAUecnJyRo4cKASExMVGBh4Xdsq1lfARo4cqW3btmndunVZllksFofvjTFZ2q70/PPPa/To0fbvk5KSVLlyZXXq1EnlypUruKKRa2lpaYqJiVHXrl3l7e3t7nJuSIyB+zEG7sX5dz/GwP0YA/djDNzv1KlTBbatYhvAHn/8cX377bdau3atKlWqZG8PCwuTJB07dkzh4eH29oSEBIWGhma7PavVKqvVmqXd29ubF7qbMQbuxxi4H2PgXpx/92MM3I8xcD/GwH0K8rwXu1kQjTEaOXKkFi1apB9//FHVq1d3WF69enWFhYUpJibG3paamqo1a9aobdu2ri4XAAAAAOyK3RWwESNGaO7cufrmm28UEBCgY8eOSZKCgoLk5+cni8WiUaNGacKECapVq5Zq1aqlCRMmyN/fXwMHDnRz9QAAAABuZMUugL333nuSpMjISIf2WbNmaciQIZKkMWPG6OLFixo+fLjOnDmj1q1ba/ny5QoICHBxtQAAAADwP8UugOVm0kaLxaLo6GhFR0cXfkEAAAAAkEvF7jNgAAAAAFBcEcAAAAAAwEUIYAAAAADgIgQwAAAAAHARAhgAAAAAuAgBDAAAAABchAAGAAAAAC5CAAMAAAAAFyGAAQAAAICLEMAAAAAAwEUIYAAAAADgIgQwAAAAAHARL3cXUNKkpaUpIyPD3WWUCGlpafLy8tKlS5c4p9nw9PSUt7e3u8sAAABALhHACkhSUpJOnjyplJQUd5dSYhhjFBYWpkOHDslisbi7nCLLarUqJCREgYGB7i4FAAAA10AAKwBJSUmKj49X6dKlFRISIm9vbwJDAcjMzNT58+dVunRpeXhwt+zVjDFKS0tTYmKi4uPjJYkQBgAAUMQRwArAyZMnVbp0aVWqVIngVYAyMzOVmpoqX19fAlg2/Pz8FBAQoMOHD+vkyZMEMAAAgCKOd7XXKS0tTSkpKQoKCiJ8wS0sFouCgoKUkpKitLQ0d5cDAACAHBDArpNtcggmQoA72V5/TFYCAABQtBHACghXv+BOvP4AAACKBwIYAAAAALgIAQwAAAAAXIRZEAtZXJx08qS7q3AuJESqUsXdVVzb0KFD9emnn2r//v2qVq2au8vR7NmzNXToUM2aNUtDhgxxdzkAAAAoRghghSguTqpTR7p0yd2VOOfrK/35Z8GGsAceeECfffaZQkNDdfjwYXl58RK7lv3796tRo0a6cOGChg0bppkzZ7q7JAAAABQSbkEsRCdPFt3wJV2urSCvziUlJemrr76SxWLR8ePHtWTJkgLZ7oQJE7Rr1y5VrFixQLZXlBhjNHToUHeXAQAAABchgKHAzJs3T8nJyXr66adlsVj08ccfF8h2w8PDVbdu3RI51f/06dP1888/61//+pe7SwEAAIALEMBQYD7++GP5+Pjo+eefV7t27bR06VIdPXo0Sz+LxaLIyEidOHFCUVFRqlChgvz8/HTLLbdo9erVWfoPHTpUFotFBw4csLetXr1aFotF0dHRWr9+vTp16qSAgACVL19ew4cP18WLFyVJ33//vdq1a6dSpUopNDRUzz77bJZnZSUmJmrSpEnq2LGjIiIi5OPjo4iICD3wwAPau3dvro//999/1z333KMqVarIarUqNDRUbdq00euvv+60/99//63nn39eY8aMUbNmzXK9HwAAABRfBDAUiO3btys2NlY9e/ZU2bJl9cADDygjI0Nz5sxx2v/s2bNq166dtm3bpvvuu099+vTRb7/9pu7du2vHjh253u+vv/6qLl26KCgoSMOGDVOVKlX03nvv6eGHH9bChQvVp08fVa5cWcOGDVNwcLAmT56cJRDt2rVLL7/8svz8/HT33Xdr1KhRatmypebOnaubb75ZBw8evGYdW7ZsUdu2bbVs2TK1b99eo0ePVp8+feTt7a0PP/wwS//MzEwNHTpUVatW1csvv5zr4wUAAEDxxgwJKBC22w3vv/9+SVLfvn31xBNP6JNPPtFzzz2Xpf/WrVs1fPhwTZ8+XR4el/8O0LlzZz300EOaMWNGriei+P7777V48WL16tVLkpSWlmYPTz/88IPWrFmjVq1aSZLGjRunm266Sf/+97/17LPP2icIqVevno4ePaqyZcs6bHvVqlW67bbb9NprrzkNUVf67LPPlJKSom+++UZ33XWXw7JTp05l6T916lStX79e69atk9VqzdWxAgAAoPjjChiuW2pqqj7//HOVKVNGPXv2lCQFBQWpV69e+uuvv7R27dos65QqVUqTJk2yhy9JGjx4sLy8vBQbG5vrfUdGRtrDlyR5e3vrnnvukTFGd955pz18SVJAQIDuuOMOnTp1SocPH7a3BwUFZQlfktSpUyc1aNBAK1asyHU9fn5+WdrKlSvn8P2ePXv04osv6sknn1SbNm1yvW0AAAAUfwQwXLfFixfr1KlT6tevn3x8fOztDzzwgCTpk08+ybJOrVq1VLp0aYc2Ly8vhYaG6uzZs7net7PPToWHh0uSmjZtmu2y+Ph4h/bVq1erd+/eCg8Pl7e3tywWiywWi7Zv364jR45cs4577rlHHh4e6t27t4YOHaq5c+cqLi4uS7/MzEwNGTJEEREReu2113JziAAAAChBuAUR180WsGy3H9p0795dYWFhWrhwoaZNm6bAwED7sqCgIKfb8vLyyjJJRk6u3OaV27jWsrS0NHvbwoUL1a9fP5UuXVrdu3dXtWrV5O/vL4vFotmzZ+fqM2Bt2rTRjz/+qIkTJ2revHmaPXu2JKlFixZ644031KlTJ0nStGnTtGHDBv3444/y9/fP9XECAACgZCCA4bocOnRIMTExkqR27dpl22/+/Pl65JFHXFVWnkRHR8vX11ebNm1SrVq1HJbNnz8/19vp2LGjOnbsqIsXL+rXX3/Vd999p3fffVc9e/bU9u3bVbNmTW3ZskXGGHsgu9r777+v999/X7169dLixYuv57AAAABQBBHAcF1mzZqlzMxMtW/fXnXq1MmyPDU1VZ999pk+/vjjIhvA9u7dqwYNGmQJX0eOHMnTNPQ2fn5+ioyMVGRkpIKDg/Xyyy9rxYoVqlmzpjp27Gi/Cnelo0ePaunSpapbt67atWvHtPQAAAAlFAEM+WaM0axZs2SxWPTpp5+qevXqTvvt2LFDGzdu1I4dO9SwYUMXV3ltVatW1d9//63jx48rNDRUknTp0iU99thjSk9Pz9U2fvrpJzVp0iTLbY/Hjx+X9L/JOYYOHaqhQ4dmWX/16tVaunSpOnbsmOsZIAEAAFD8EMCQbytXrtSBAwfUqVOnbMOXdDl0bN68WR9//LH+/e9/u7DC3Hn88cf1+OOPq1mzZrrnnnuUnp6umJgYGWPUpEkTbd269ZrbeOuttxQTE6NOnTqpRo0a8vX11e+//66VK1fqpptu0t133+2CIwEAAEBRxyyIyDfbs7+ioqJy7Ddw4ED5+Pjo888/V2pqqitKy5MRI0Zo5syZKlu2rD788EN9/fXX6tixo9avX6/g4OBcbeOxxx7TPffco7///luzZ8/We++9p6NHj+rFF1/Uhg0bFBAQULgHAQAAgGLBYowx7i6iKEpKSlJQUJBOnjyZ5TlOV7p06ZL279+v6tWry9fX12FZXJxUp4506VJhV5s/vr7Sn39KVaq4uxLnMjMzlZSUpMDAQIfnhSGrnF6H1yMtLU1Lly7V7bffLm9v7wLbLnKPMXAvzr/7MQbuxxi4H2PgfqdOnVJISIgSExOdzrSdF9yCWIiqVLkccE6edHclzoWEFN3wBQAAAJREBLBCVqUKIQcAAADAZdzXBQAAAAAuQgADAAAAABchgAEAAACAixDAAAAAAMBFCGAAAAAA4CIEMAAAAABwEQIYAAAAALgIAQwAAAAAXIQABgAAAAAuQgADAAAAABchgKHIGjdunMqUKaPVq1fnqv+BAwdksVg0ZMiQfO+zWrVqqlatWr7XBwAAAHLi5e4CSrq4xDidTD7p7jKcCvEPUZWgKvlef8CAAZo/f77mzZun/v37Z9vv1KlTioiIUEBAgI4cOSIfH59877MkiY6O1rhx43LsExUVpY8//thFFQEAAKCwEcAKUVxinOrMqKNL6ZfcXYpTvl6++nPkn/kOYQ8++KDmz5+vWbNm5RjAPv/8c6Wmpur+++8v1PBVsWJF7dq1S0FBQYW2j4IUGRmZ7bKPPvpI8fHx6t69u+sKAgAAQKEjgBWik8kni2z4kqRL6Zd0MvlkvgNYly5dVK1aNa1YsUKHDh1S5cqVnfabNWuWpMuBrTB5e3urbt26hbqPghQZGek0hB0/flzjx49XuXLl1Lt3b5fXBQAAgMLDZ8CQbxaLRUOHDlVmZqbmzJnjtM+mTZu0detW3XzzzWrYsKGMMfrkk0/Url07BQYGyt/fXy1bttQnn3yS476+/PJLNW/eXH5+fgoPD9cTTzyhixcvOvTJ6TNg586d06uvvqrGjRurVKlSCgoKUrNmzfTSSy8pLS3tmseal7ovXbqkt956S02aNFFQUJBKly6tmjVrasCAAdq+ffs19zV79mylp6cX+hVDAAAAuB4BDNdl6NCh8vDw0OzZs2WMybL8yqtfxhgNGjRIDz74oE6ePKmBAwfqoYce0oULF/Tggw/q//7v/5zu491331VUVJTq1aunxx57TGXKlNH06dP10EMP5arGkydP6pZbbtErr7wiT09PPfroo4qKilJYWJgmTZqkCxcu5Lh+XusePHiwvW3o0KEaMWKEbr75Zq1atUqbNm26Zr22UJfb4wMAAEDxwS2IuC6VK1dW165d9cMPP2jt2rXq2LGjfVlKSormzp0rf39/9e/fXx999JHmzp2rBx98UDNnzpSX1+WXX2pqqu655x699dZbGjBggFq0aOGwjxUrVmjTpk2qU6eOJGn8+PFq2rSp5s2bpzfeeEMRERE51jh8+HD98ccfeuGFFzR+/HiHZcePH1fp0qVzXD8vdScmJmrhwoVq2bKlNmzYIE9PT/t2MjIydO7cuRz39dNPP2nPnj265ZZb1KBBgxz7AgAAoPjhChiuW1RUlCRluR3v66+/1pkzZ3TvvfcqMDBQM2bMUKlSpTRjxgx7iJEkHx8fezCaN29elu0/8cQT9vAlSX5+fhowYICMMde8onT8+HH95z//Uc2aNRUdHZ1leWhoqEMtzuSlbovFImOMrFarQ/iSJE9PTwUHB+e4L9uMh1z9AgAAKJm4Aobr1rt3b5UrV07/+c9/NGPGDAUEBEj6XyCLiopScnKytm/froiICL3++utZtmH7HNbu3buzLGvWrFmWtkqVKkmSzp49m2Ntv/32m4wx6tSpk7y9vfN0XJLyXHdgYKD+8Y9/6Pvvv1fz5s11zz336NZbb1Xr1q2v+XmupKQkLVy4UKVLl1a/fv3yXCsAAACKPgIYrpuPj48GDRqkt99+W19++aUefPBBHTp0SCtXrlStWrXUoUMHxcfHyxij+Pj4HJ995ezzWM6mlbddicrIyMixNltAq1ixYh6O6H/OnDmT57r/85//aMKECZo3b57Gjh0rSQoICFBUVJQmTJggf39/p9uYN2+ekpOT9eCDD17ztkgAAAAUT9yCiAJhm2LedtVr9uzZyszMtN+eGBgYKElq0aKFjDHZfq1atapA67Ld8hcfH5+v9fNTd6lSpTR+/Hjt27dP+/bt08cff6y6devq7bff1lNPPZXtvrj9EAAAoOQjgKFANGrUSK1atdL69eu1e/duzZ49W56enho8eLCky1eA6tWrp127dl3ztsGC1LJlS3l4eGjVqlW5mm7+atdbd/Xq1RUVFaU1a9aodOnS+vbbb5322759u2JjY9WgQQPdcssted4PAAAAigcCGAqM7SrYQw89pH379un2229XeHi4ffkTTzyh5ORkPfzww05vNdy/f78OHDhQoDWFhobqn//8p/bu3ev0FsKEhASlp6fnuI281H3ixAlt3LgxS58zZ84oJSVFfn5+Tvdhu/pV2A+rBgAAgHvxGTAUmAEDBmj06NH6+eefJWUNE8OGDdOGDRs0Z84c/fzzz7rtttsUERGh48ePa/fu3fr11181d+5cVatWrUDrevfdd7Vjxw6NHz9eS5cuVefOnWWM0Z49e7R8+XIdP348x9kJ81J3fHy8WrdurQYNGqh58+aqWLGiTp06pW+++UZpaWkaM2ZMlu2npqbq888/l4+Pj+6///4CPXYAAAAULQQwFJjAwEDdc889+vTTTxUaGqqePXs6LLdYLJo9e7Zuv/12ffjhh/rvf/+r8+fPq0KFCqpVq5befPNN3XbbbQVeV0hIiDZs2KA333xTCxcu1IwZM+Tr66vq1avrueeeU6lSpXJcPy91V6tWTdHR0frxxx+1YsUKnTp1SiEhIWrevLmeeuopdevWLcv2Fy9erFOnTqlv374KCQkp8OMHAABA0WExxhh3F1EUJSUlKSgoSCdPnlS5cuWy7Xfp0iXt379f1atXl6+vr8OyuMQ41ZlRR5fSLxV2ufni6+WrP0f+qSpBVdxdilOZmZlKSkpSYGCgPDy4WzYnOb0Or0daWpqWLl2q22+/PV/T+OP6MQbuxfl3P8bA/RgD92MM3M/2R/XExET7JG35xRWwQlQlqIr+HPmnTiafdHcpToX4hxTZ8AUAAACURASwQlYlqAohBwAAAIAkZkEEAAAAAJchgAEAAACAixDAAAAAAMBFCGAAAAAA4CIEMAAAAABwEQJYAeFxanAnXn8AAADFAwHsOnl6ekq6/IA8wF1srz/b6xEAAABFEwHsOnl7e8tqtSoxMZGrEHALY4wSExNltVrl7e3t7nIAAACQAx7EXABCQkIUHx+vw4cPKygoSN7e3rJYLO4uq9jLzMxUamqqLl26JA8P/lZwNWOM0tLSlJiYqPPnz6tixYruLgkAAADXQAArAIGBgZKkkydPKj4+3s3VlBzGGF28eFF+fn4E2hxYrVZVrFjR/joEAABA0UUAKyCBgYEKDAxUWlqaMjIy3F1OiZCWlqa1a9eqQ4cO3FqXDU9PT84NAABAMUIAK2De3t68IS4gnp6eSk9Pl6+vL+cUAAAAJQIfrAEAAAAAFyGAAQAAAICLlOgA9u6776p69ery9fVVixYt9NNPP7m7JAAAAAA3sBIbwBYsWKBRo0Zp7Nix2rx5s2699Vb16NFDcXFx7i4NAAAAwA2qxAawKVOm6MEHH9RDDz2kevXqaerUqapcubLee+89d5cGAAAA4AZVIgNYamqqNm3apG7dujm0d+vWTevXr3dTVQAAAABudCVyGvqTJ08qIyNDoaGhDu2hoaE6duyY03VSUlKUkpJi/z4xMVGSdPr06cIrFDlKS0tTcnKyTp06xTT0bsIYuB9j4F6cf/djDNyPMXA/xsD9bJnAGHPd2yqRAczGYrE4fG+MydJmM3HiRI0bNy5Le+3atQulNgAAAADFy6lTpxQUFHRd2yiRASwkJESenp5ZrnYlJCRkuSpm8/zzz2v06NH278+ePauqVasqLi7uuk8y8icpKUmVK1fWoUOHFBgY6O5ybkiMgfsxBu7F+Xc/xsD9GAP3YwzcLzExUVWqVFHZsmWve1slMoD5+PioRYsWiomJ0d13321vj4mJUa9evZyuY7VaZbVas7QHBQXxQnezwMBAxsDNGAP3Ywzci/PvfoyB+zEG7scYuJ+Hx/VPoVEiA5gkjR49Wvfff79atmypNm3a6IMPPlBcXJweffRRd5cGAAAA4AZVYgNYv379dOrUKb366qs6evSoGjZsqKVLl6pq1aruLg0AAADADarEBjBJGj58uIYPH56vda1Wq1555RWntyXCNRgD92MM3I8xcC/Ov/sxBu7HGLgfY+B+BTkGFlMQcykCAAAAAK6pRD6IGQAAAACKIgIYAAAAALgIAQwAAAAAXIQABgAAAAAuQgBz4t1331X16tXl6+urFi1a6KeffnJ3SSXW2rVrdeeddyoiIkIWi0WLFy92WG6MUXR0tCIiIuTn56fIyEjt3LnTPcWWUBMnTlSrVq0UEBCgChUqqHfv3vrzzz8d+jAOheu9995T48aN7Q/YbNOmjZYtW2Zfzvl3rYkTJ8pisWjUqFH2NsagcEVHR8tisTh8hYWF2Zdz/l0jPj5egwYNUrly5eTv76+mTZtq06ZN9uWMQ+GqVq1alp8Di8WiESNGSOL8u0J6erpefPFFVa9eXX5+fqpRo4ZeffVVZWZm2vsUxDgQwK6yYMECjRo1SmPHjtXmzZt16623qkePHoqLi3N3aSXShQsX1KRJE82YMcPp8smTJ2vKlCmaMWOGYmNjFRYWpq5du+rcuXMurrTkWrNmjUaMGKENGzYoJiZG6enp6tatmy5cuGDvwzgUrkqVKun111/Xb7/9pt9++02dO3dWr1697L/QOf+uExsbqw8++ECNGzd2aGcMCl+DBg109OhR+9f27dvtyzj/he/MmTNq166dvL29tWzZMv3xxx966623FBwcbO/DOBSu2NhYh5+BmJgYSdK9994rifPvCpMmTdLMmTM1Y8YM7dq1S5MnT9Ybb7yh6dOn2/sUyDgYOLj55pvNo48+6tBWt25d89xzz7mpohuHJPP111/bv8/MzDRhYWHm9ddft7ddunTJBAUFmZkzZ7qhwhtDQkKCkWTWrFljjGEc3KVMmTLmo48+4vy70Llz50ytWrVMTEyM6dixo3nyySeNMfwMuMIrr7ximjRp4nQZ5981nn32WdO+fftslzMOrvfkk0+amjVrmszMTM6/i/Ts2dNERUU5tPXp08cMGjTIGFNwPwdcAbtCamqqNm3apG7dujm0d+vWTevXr3dTVTeu/fv369ixYw7jYbVa1bFjR8ajECUmJkqSypYtK4lxcLWMjAzNnz9fFy5cUJs2bTj/LjRixAj17NlTt912m0M7Y+Aaf/31lyIiIlS9enX1799f+/btk8T5d5Vvv/1WLVu21L333qsKFSqoWbNm+vDDD+3LGQfXSk1N1eeff66oqChZLBbOv4u0b99eK1eu1J49eyRJW7du1bp163T77bdLKrifA6+CLbt4O3nypDIyMhQaGurQHhoaqmPHjrmpqhuX7Zw7G4+DBw+6o6QSzxij0aNHq3379mrYsKEkxsFVtm/frjZt2ujSpUsqXbq0vv76a9WvX9/+C53zX7jmz5+v33//XbGxsVmW8TNQ+Fq3bq1PP/1UtWvX1vHjx/Xaa6+pbdu22rlzJ+ffRfbt26f33ntPo0eP1gsvvKCNGzfqiSeekNVq1QMPPMA4uNjixYt19uxZDRkyRBK/h1zl2WefVWJiourWrStPT09lZGRo/PjxGjBggKSCGwcCmBMWi8Xhe2NMlja4DuPhOiNHjtS2bdu0bt26LMsYh8JVp04dbdmyRWfPntVXX32lwYMHa82aNfblnP/Cc+jQIT355JNavny5fH19s+3HGBSeHj162P+/UaNGatOmjWrWrKk5c+bolltukcT5L2yZmZlq2bKlJkyYIElq1qyZdu7cqffee08PPPCAvR/j4Boff/yxevTooYiICId2zn/hWrBggT7//HPNnTtXDRo00JYtWzRq1ChFRERo8ODB9n7XOw7cgniFkJAQeXp6ZrnalZCQkCXpovDZZsBiPFzj8ccf17fffqtVq1apUqVK9nbGwTV8fHx00003qWXLlpo4caKaNGmit99+m/PvAps2bVJCQoJatGghLy8veXl5ac2aNZo2bZq8vLzs55kxcJ1SpUqpUaNG+uuvv/gZcJHw8HDVr1/foa1evXr2ScgYB9c5ePCgVqxYoYceesjexvl3jWeeeUbPPfec+vfvr0aNGun+++/XU089pYkTJ0oquHEggF3Bx8dHLVq0sM86YxMTE6O2bdu6qaobV/Xq1RUWFuYwHqmpqVqzZg3jUYCMMRo5cqQWLVqkH3/8UdWrV3dYzji4hzFGKSkpnH8X6NKli7Zv364tW7bYv1q2bKn77rtPW7ZsUY0aNRgDF0tJSdGuXbsUHh7Oz4CLtGvXLssjSPbs2aOqVatK4t8CV5o1a5YqVKignj172ts4/66RnJwsDw/HeOTp6Wmfhr7AxiH/84SUTPPnzzfe3t7m448/Nn/88YcZNWqUKVWqlDlw4IC7SyuRzp07ZzZv3mw2b95sJJkpU6aYzZs3m4MHDxpjjHn99ddNUFCQWbRokdm+fbsZMGCACQ8PN0lJSW6uvOR47LHHTFBQkFm9erU5evSo/Ss5Odneh3EoXM8//7xZu3at2b9/v9m2bZt54YUXjIeHh1m+fLkxhvPvDlfOgmgMY1DYnn76abN69Wqzb98+s2HDBnPHHXeYgIAA+7+9nP/Ct3HjRuPl5WXGjx9v/vrrL/PFF18Yf39/8/nnn9v7MA6FLyMjw1SpUsU8++yzWZZx/gvf4MGDTcWKFc1///tfs3//frNo0SITEhJixowZY+9TEONAAHPinXfeMVWrVjU+Pj6mefPm9um4UfBWrVplJGX5Gjx4sDHm8nSfr7zyigkLCzNWq9V06NDBbN++3b1FlzDOzr8kM2vWLHsfxqFwRUVF2X/nlC9f3nTp0sUevozh/LvD1QGMMShc/fr1M+Hh4cbb29tERESYPn36mJ07d9qXc/5d47vvvjMNGzY0VqvV1K1b13zwwQcOyxmHwvfDDz8YSebPP//MsozzX/iSkpLMk08+aapUqWJ8fX1NjRo1zNixY01KSoq9T0GMg8UYY/J7mQ4AAAAAkHt8BgwAAAAAXIQABgAAAAAuQgADAAAAABchgAEAAACAixDAAAAAAMBFCGAAAAAA4CIEMAAAAABwEQIYACBPhgwZIovFogMHDri7lALx+eefq2nTpipdurQsFouio6PdXVKJs3r1as4tAPx/BDAAcJMDBw7IYrHIYrHojjvucNrH9sb10UcfdXF1N4b169fr/vvvV3JyskaMGKFXXnlFkZGRuVo3Pj5ezz//vJo3b67g4GD5+PgoPDxcPXv21OzZs5WamprvuqKjo2WxWLR69ep8bwMAUDR5ubsAAIC0ZMkSrV27Vh06dHB3KTeUpUuXSpI+/fRT3XLLLbleb968eXrwwQd18eJFtWjRQoMGDVJQUJCOHTumH3/8UUOHDtVnn32mlStXFlbpxcrNN9+sXbt2KSQkxN2lAIDbEcAAwM2qVaumuLg4Pfvss/rll1/cXc4N5ciRI5KksLCwXK/z/fffa9CgQQoODtY333yjrl27Oiw3xmjx4sX66KOPCrTW4szf319169Z1dxkAUCRwCyIAuFmdOnV0//33a8OGDVq0aFGu1qlWrZqqVavmdFlkZKQsFotD25W3tM2aNUuNGjWSn5+fqlevrmnTpkm6HBzefvtt1a1bV76+vqpdu7Y+++yzbGvIyMjQxIkTddNNN8nX11e1atXSG2+8oczMTKf9165dqzvvvFMhISGyWq2qVauWXnzxRSUnJzv0u/LzQr/88ou6d++u4ODgLMeUnfXr16tnz54qW7asfH19VbduXUVHRzvsx7aPWbNmSZKqV69uvx00JxkZGRoxYoQyMzP15ZdfZglfkmSxWHT33Xc7jGViYqImTZqkjh07KiIiQj4+PoqIiNADDzygvXv3OqwfGRmpcePGSZI6depkr+vq8U5ISNBTTz2lm266SVarVSEhIfrnP/+pHTt2OK19zZo16tChg0qVKqVy5cqpX79+OnTokNPXiyQlJycrOjra/nooW7asevbsqfXr12fpe+Xra86cOWrRooX8/f3tt3Pm9BmwvBzHX3/9paFDh6p69ery9fVVSEiImjdvrqefftrpMQNAUcQVMAAoAl599VXNnz9fL7zwgnr16iVPT89C2c/UqVO1evVq9erVS507d9ZXX32lJ598Uv7+/tq6dasWLlyoO+64Q507d9b8+fP1wAMPqHr16mrfvn2WbY0aNUobNmxQ37595evrq0WLFmnMmDH6+++/9f777zv0nTlzpoYPH64yZcrozjvvVPny5RUbG6vx48dr1apVWrVqlXx8fBzWWb9+vSZMmKBOnTrpkUceUVxc3DWP76uvvlL//v3l4+Ojfv36qUKFClqxYoXGjRun5cuXa9WqVbJarapWrZpeeeUVLV68WFu3btWTTz6p4ODga25/1apV2rdvn9q2basuXbrk2Ndqtdr/f9euXXr55ZfVqVMn3X333SpVqpR2796tuXPnasmSJfr9999VtWpVSZcnOZEuB6bBgwfbg9eV9e3du1eRkZGKj49Xt27d1Lt3byUkJOirr77SDz/8oJUrV6p169b2/suXL1fPnj3l5eWlfv36KTw8XKtXr1b79u1VpkyZLLWnpKSoS5cu2rBhg5o3b65Ro0YpISFBCxYs0PLly7VgwQL16dMny3pvvPGGVq1apbvuuktdu3aVl1fObzPychxHjhzRzTffrAsXLqhnz57q16+fzp8/r7/++kvTp0/XW2+9leO+AKDIMAAAt9i/f7+RZLp3726MMWb06NFGknn//fftfVatWmUkmWHDhjmsW7VqVVO1alWn2+3YsaO5+tf7K6+8YiSZsmXLmr1799rb4+LijI+PjwkKCjK1a9c2CQkJ9mW//vqrkWTuuusuh20NHjzYSDKhoaEmPj7e3n7u3DnTqFEjI8msXbvW3r5z507j5eVlmjVrZk6dOuWwrYkTJxpJ5s0338xyzJLMxx9/7PQYnUlKSjLBwcHGarWarVu32tszMzPNwIEDjSTzr3/9y+mx7N+/P1f7iI6ONpLMiy++mOu6jDHm7NmzWY7dGGN+/PFH4+HhYR566CGHdtt4rVq1yun22rZta7y8vMzy5csd2v/8808TEBBgGjVqZG9LT083VatWNR4eHmbDhg0O/YcMGWI/11d69dVXjSRz3333mczMTHv71q1bjdVqNWXKlDFJSUlZ6i1VqpTZtm1blnptY/rKK6/k+zimTZtmJJm33347y/ZPnDiRpQ0AiipuQQSAImLs2LEKCgrSuHHjstyWV1CeeOIJ1ahRw/595cqV1b59eyUmJmrs2LEqX768fdnNN9+sGjVqaOvWrdluKyIiwv596dKl9fLLL0uS5syZY29///33lZ6ermnTpqls2bIO2xgzZozKly+vefPmZdl+s2bNFBUVletjW7x4sc6ePauoqCg1btzY3m6xWPT666/Ly8tLs2fPzvX2nDl27JgkqVKlSnlaLygoKMuxS5dvMWzQoIFWrFiR621t3rxZ69ev1+DBg7PcAlm7dm09/PDD2r59u/0WvnXr1ungwYPq1auXw1UxSfrXv/7l9Grr7Nmz5e3trddff93h9sTGjRtryJAhOnPmjL755pss6z3yyCNq1KhRoRyHjZ+fX5ZtMbkHgOKEWxABoIgoW7asnn32Wb3wwguaOnWqXnjhhQLfR7NmzbK0hYeHS5KaNm3qdNmvv/7qdFu33nprtm1btmyxt23YsEHS5ckrnAUNb29v7d69O0v7zTff7HS/2dm8ebMkOZ1GvnLlyqpZs6b+/PNPnTt3TgEBAXnadkFYvXq1pk6dql9//VUnT55Uenq6fdnVt1/mxHY+jx075vQzVbZzuXv3bjVs2NAeoNu2bZulb6VKlVSlShXt37/f3paUlKR9+/apXr16ToNmZGSk3n//fW3ZskWDBg1yWJaXMcvrcdxxxx167rnnNGLECMXExOgf//iH2rdvr9q1a+d6nwBQFBDAAKAIGTVqlGbMmKHJkydr2LBhBb79wMDALG22z+lkt+zKoHClChUqOG3z8PBQYmKive306dOSpPHjx+ep1tDQ0Dz1T0pKynG9sLAw/fnnn0pKSsp3ALPNlhgfH5+n9RYuXKh+/fqpdOnS6t69u6pVqyZ/f39ZLBbNnj1bBw8ezPW2bOdzyZIlWrJkSbb9Lly4IOl/5+XKq5tXCg0NzRLAbO3O2M7BlWN85bZyK6/HUb16df3yyy8aN26cli1bpoULF0q6PInNv/71L91777253jcAuBO3IAJAEeLn56fo6GglJiZqwoQJ2fbz8PDINhg5e2NcGBISEpy2ZWZmKigoyN5mC3ZJSUkyxmT7dbXcznp49X6OHz/udLmt3VnQzK127dpJUp6f7xUdHS1fX19t2rRJCxcu1BtvvKFx48bZ2/PCVv/06dNzPJ+DBw926H/ixAmn27v6fF3PeczLmOX1OKTLt0B+9dVXOn36tH755Re9/PLLOn78uPr166eff/451/sGAHcigAFAERMVFaW6devqnXfeyXbmvzJlyighISFLCLtw4YL++usvV5Spn376Kdu2K29ntH3uyHbLWWGx3V65evXqLMvi4+O1d+9e1ahR47puP+zUqZNq1Kih9evXa9WqVTn2TUlJsf//3r17Va9ePdWqVcuhz5EjR7JMQy/J/rmsjIyMLMts5zO3z4xr0qSJJDmdPv7w4cM6dOiQQ1tgYKBq1Kihv//+2+mVvjVr1khyfstqXuT1OK7k7e2tW265RePGjdO0adNkjNF///vf66oHAFyFAAYARYynp6cmTJiglJQUvfrqq077tGzZUmlpafriiy/sbcYYPf/88/ZbtgrbtGnT7A8ylqTz58/b633ggQfs7cOHD5eXl5cef/zxLG/2Jens2bP2z29dj169eikoKEizZs3Szp077e2285KWlmaf4j2/PD099c4778jDw0N9+/bVjz/+6LTfd999p3vuucf+fdWqVfX33387XFW6dOmSHnvsMadXMm0Tdhw+fDjLsptvvlmtW7fWvHnztGDBgizLMzMz7SFJktq3b68qVarom2++0caNGx36vvTSS073P3jwYKWlpen55593uDq5Y8cOzZo1S0FBQerdu7fTY8+tvB5HbGys06uutnPqbHIOACiK+AwYABRBd999t9q0aZPt1YGRI0dq1qxZeuihhxQTE6Py5cvrp59+0tmzZ9WkSZNsZy4sSK1atVKTJk3Ur18/Wa1WLVq0SAcOHNDDDz+sDh062Ps1bNhQ7777rh577DHVqVNHt99+u2rWrGmf7GHNmjUaMmSIZs6ceV31BAYG6sMPP9SAAQPUunVr9evXT+XLl9fKlSv122+/6eabb9YzzzxzvYetf/zjH/rss8/00EMPqUuXLmrZsqXatGmjgIAAHT9+XKtXr9bevXt122232dd5/PHH9fjjj6tZs2a65557lJ6erpiYGBljnI6X7QHMY8eO1e7duxUUFKSgoCA99thjkqR58+apU6dO6t+/v6ZOnaoWLVrI19dXcXFx+uWXX3TixAldunRJ0uXQOHPmTN11113q2LGj+vfvr7CwMK1Zs0bx8fFq0qSJtm3b5rD/MWPGaMmSJfrss8+0a9cudenSRSdOnNCCBQuUlpamTz/9tEAmMsnLcXzxxRd69913FRkZqZtuukmBgYH6448/tHTpUoWEhORpxkwAcCtXzXcPAHB09XPArrZ27Vr7M5qufg6YMcasXLnStG7d2litVlOuXDlz//33m2PHjuX4HDBnz5XK6VlYzrZl6//333+bCRMmmBo1ahgfHx9Ts2ZNM2nSJJOenu70eDZu3Gj69+9vIiIijLe3twkJCTHNmzc3zz33nNm1a5e9X3bPjMqttWvXmh49epjg4GDj4+NjateubV566SVz/vz5PB37tRw+fNg8++yzplmzZiYwMNB4eXmZ0NBQ849//MN88sknJjU11d43MzPTzJw50zRo0MD4+vqasLAw8+CDD5rjx487PcfGGDN79mzTqFEjY7VajaQsz307ffq0efHFF03Dhg2Nn5+fKV26tKlVq5YZOHCgWbRoUZbt/fjjj6Z9+/bGz8/PlC1b1tx7770mLi7ONGzY0AQFBWXpf/78efPSSy+Z2rVrGx8fHxMcHGx69Ohhfvrppyx9r/XcspzGNLfHsWHDBjNs2DDTsGFDExwcbPz8/EytWrXME088YeLi4pzuFwCKIosxTj75DAAASrxz584pNDRUjRo1yvZxAwCAgsVnwAAAKOEuXLigc+fOObRlZGTomWee0cWLF6/781wAgNzjChgAACXcli1b1L59e3Xv3l01atTQuXPn9NNPP+mPP/5QgwYN9Ouvv6pUqVLuLhMAbggEMAAASrgTJ05ozJgxWrNmjY4fP6709HRVqVJFvXv31tixYxUcHOzuEgHghkEAAwAAAAAX4TNgAAAAAOAiBDAAAAAAcBECGAAAAAC4CAEMAAAAAFyEAAYAAAAALkIAAwAAAAAXIYABAAAAgIsQwAAAAADARQhgAAAAAOAi/w/X4BLKwqeTmgAAAABJRU5ErkJggg==",
      "text/plain": [
       "<Figure size 1000x600 with 1 Axes>"
      ]
     },
     "metadata": {},
     "output_type": "display_data"
    }
   ],
   "source": [
    "plt.figure(figsize=(10, 6))\n",
    "plt.xlabel('Number of Categories', fontsize=14)\n",
    "plt.ylabel('Accuracy (%)', fontsize=14)\n",
    "plt.title('Accuracy vs. Number of Categories', fontsize=16, pad=15)\n",
    "plt.grid()\n",
    "\n",
    "#Calling function\n",
    "append_accuracies(aO_counts,\"Animals4\", \"blue\", 'o')\n",
    "append_accuracies(v7_counts,\"Vehicles7\", \"green\", '^')\n",
    "\n",
    "blue_patch = mpatches.Patch(color='blue', label='Animals4')\n",
    "red_patch = mpatches.Patch(color='green', label='Vehicles7')\n",
    "plt.legend(handles=[blue_patch, red_patch], fontsize=14)\n",
    "\n",
    "#Axis ranges\n",
    "\n",
    "plt.xlim(0, 80)  \n",
    "plt.ylim(0, 100)\n",
    "\n",
    "plt.show()"
   ]
  }
 ],
 "metadata": {
  "kernelspec": {
   "display_name": "NBAML",
   "language": "python",
   "name": "python3"
  },
  "language_info": {
   "codemirror_mode": {
    "name": "ipython",
    "version": 3
   },
   "file_extension": ".py",
   "mimetype": "text/x-python",
   "name": "python",
   "nbconvert_exporter": "python",
   "pygments_lexer": "ipython3",
   "version": "3.10.13"
  }
 },
 "nbformat": 4,
 "nbformat_minor": 2
}
