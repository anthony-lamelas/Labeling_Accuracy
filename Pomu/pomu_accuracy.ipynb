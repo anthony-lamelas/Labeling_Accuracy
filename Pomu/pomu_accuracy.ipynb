{
 "cells": [
  {
   "cell_type": "code",
   "execution_count": 1,
   "metadata": {},
   "outputs": [],
   "source": [
    "import pandas as pd\n",
    "import matplotlib.pyplot as plt"
   ]
  },
  {
   "cell_type": "code",
   "execution_count": 2,
   "metadata": {},
   "outputs": [],
   "source": [
    "def dict_size(dict):\n",
    "    total_count = sum(len(values) for values in dict.values())\n",
    "    print(total_count)  "
   ]
  },
  {
   "cell_type": "code",
   "execution_count": 3,
   "metadata": {},
   "outputs": [],
   "source": [
    "def base_accuracy(csv_path, dict):\n",
    "    # Convert dictionary keys and values to lowercase\n",
    "    dict = {key.lower(): [item.lower() for item in items] for key, items in dict.items()}\n",
    "    \n",
    "    data = pd.read_csv(csv_path, header=None, names=['file_path', 'label'])\n",
    "    data['label'] = data['label'].str.strip().str.lower()\n",
    "\n",
    "    count = 0\n",
    "    total = 0\n",
    "\n",
    "    for index, row in data.iterrows():\n",
    "        path_parts = row['file_path'].split('/')\n",
    "        \n",
    "        if len(path_parts) > 2:\n",
    "            # Extract the second-to-last part of the path and split by \"_\"\n",
    "            name_parts = path_parts[-2].strip().lower().split('_')\n",
    "\n",
    "            if row['label'] in dict and row['label'] in name_parts:\n",
    "                count += 1\n",
    "\n",
    "        total += 1\n",
    "\n",
    "    accuracy = count / total if total > 0 else 0\n",
    "    return round(accuracy * 100, 2)\n"
   ]
  },
  {
   "cell_type": "code",
   "execution_count": 4,
   "metadata": {},
   "outputs": [],
   "source": [
    "def check_accuracy(csv_path, dict):\n",
    "\n",
    "    dict = {key.lower(): [item.lower() for item in items] for key, items in dict.items()}\n",
    "    data = pd.read_csv(csv_path, header=None, names=['file_path', 'label'])\n",
    "    data['label'] = data['label'].str.strip().str.lower()\n",
    "\n",
    "    count = 0\n",
    "    total = 0\n",
    "\n",
    "    for index, row in data.iterrows():\n",
    "\n",
    "        path_parts = row['file_path'].split('/')\n",
    "        \n",
    "        if len(path_parts) > 2:\n",
    "            name = path_parts[-2].strip().lower()  \n",
    "\n",
    "            # Check if the label and item name match in the dictionary\n",
    "            if row['label'] in dict and any(item in name for item in dict[row['label']]):\n",
    "                count += 1\n",
    "\n",
    "        total += 1\n",
    "\n",
    "    accuracy = count / total if total > 0 else 0\n",
    "    return round(accuracy * 100, 2)"
   ]
  },
  {
   "cell_type": "markdown",
   "metadata": {},
   "source": [
    "# Debug Function"
   ]
  },
  {
   "cell_type": "code",
   "execution_count": 5,
   "metadata": {},
   "outputs": [],
   "source": [
    "# def debug_check_accuracy(csv_path, category_dict):\n",
    "#     # Convert dictionary to lowercase for case-insensitive matching\n",
    "#     category_dict = {key.lower(): [item.lower() for item in items] for key, items in category_dict.items()}\n",
    "    \n",
    "#     # Read CSV\n",
    "#     data = pd.read_csv(csv_path, header=None, names=['file_path', 'label'])\n",
    "#     data['label'] = data['label'].str.strip().str.lower()\n",
    "\n",
    "#     count = 0\n",
    "#     total = 0\n",
    "\n",
    "#     for index, row in data.iterrows():\n",
    "#         # Extract the folder name, assuming it's the part just before the file name\n",
    "#         path_parts = row['file_path'].split('/')\n",
    "        \n",
    "#         if len(path_parts) > 2:\n",
    "#             name = path_parts[-2].strip().lower()\n",
    "\n",
    "#             # Debug: print the name and label to see if they match with the dictionary\n",
    "#             if row['label'] in category_dict:\n",
    "#                 print(f\"Checking: Name = {name}, Label = {row['label']}, Dictionary Values = {category_dict[row['label']]}\")\n",
    "            \n",
    "#             # Check if the label and item name match in the dictionary\n",
    "#             if row['label'] in category_dict and name in category_dict[row['label']]:\n",
    "#                 count += 1\n",
    "#             else:\n",
    "#                 print(f\"Mismatch: Name = {name}, Label = {row['label']}\")\n",
    "        \n",
    "#         total += 1\n",
    "\n",
    "#     accuracy = count / total if total > 0 else 0\n",
    "#     return round(accuracy * 100, 2)"
   ]
  },
  {
   "cell_type": "markdown",
   "metadata": {},
   "source": [
    "# Base Category"
   ]
  },
  {
   "cell_type": "code",
   "execution_count": 6,
   "metadata": {},
   "outputs": [
    {
     "name": "stdout",
     "output_type": "stream",
     "text": [
      "59.97\n"
     ]
    }
   ],
   "source": [
    "bodyCategory_dict = {\n",
    "    \"upper-body clothes\": [\n",
    "        \"Anorak\", \"Blazer\", \"Blouse\", \"Bomber\", \"Button-Down\", \"Cardigan\",\n",
    "        \"Flannel\", \"Halter\", \"Henley\", \"Hoodie\", \"Jacket\", \"Jersey\", \"Parka\",\n",
    "        \"Peacoat\", \"Poncho\", \"Sweater\", \"Tank\", \"Tee\", \"Top\", \"Turtleneck\"\n",
    "    ],\n",
    "    \"lower-body clothes\": [\n",
    "        \"Capris\", \"Chinos\", \"Culottes\", \"Cutoffs\", \"Gauchos\", \"Jeans\", \"Jeggings\",\n",
    "        \"Jodhpurs\", \"Joggers\", \"Leggings\", \"Sarong\", \"Shorts\", \"Skirt\", \"Sweatpants\",\n",
    "        \"Sweatshorts\", \"Trunks\"\n",
    "    ],\n",
    "    \"full-body clothes\": [\n",
    "        \"Caftan\", \"Cape\", \"Coat\", \"Coverup\", \"Dress\", \"Jumpsuit\", \"Kaftan\", \"Kimono\",\n",
    "        \"Nightdress\", \"Onesie\", \"Robe\", \"Romper\", \"Shirtdress\", \"Sundress\"\n",
    "    ]\n",
    "}\n",
    "\n",
    "# dict_size(bodyCategory_dict)\n",
    "\n",
    "print(check_accuracy('BodyCategory.csv', bodyCategory_dict))  "
   ]
  },
  {
   "cell_type": "markdown",
   "metadata": {},
   "source": [
    "# Base Items"
   ]
  },
  {
   "cell_type": "code",
   "execution_count": 8,
   "metadata": {},
   "outputs": [
    {
     "name": "stdout",
     "output_type": "stream",
     "text": [
      "50\n",
      "29.33\n"
     ]
    }
   ],
   "source": [
    "items_dict = {\n",
    "    \"Anorak\": \"Anorak\", \"Blazer\": \"Blazer\", \"Blouse\": \"Blouse\", \"Bomber\": \"Bomber\",\n",
    "    \"Button-Down\": \"Button-Down\", \"Cardigan\": \"Cardigan\", \"Flannel\": \"Flannel\",\n",
    "    \"Halter\": \"Halter\", \"Henley\": \"Henley\", \"Hoodie\": \"Hoodie\", \"Jacket\": \"Jacket\",\n",
    "    \"Jersey\": \"Jersey\", \"Parka\": \"Parka\", \"Peacoat\": \"Peacoat\", \"Poncho\": \"Poncho\",\n",
    "    \"Sweater\": \"Sweater\", \"Tank\": \"Tank\", \"Tee\": \"Tee\", \"Top\": \"Top\",\n",
    "    \"Turtleneck\": \"Turtleneck\", \"Capris\": \"Capris\", \"Chinos\": \"Chinos\",\n",
    "    \"Culottes\": \"Culottes\", \"Cutoffs\": \"Cutoffs\", \"Gauchos\": \"Gauchos\",\n",
    "    \"Jeans\": \"Jeans\", \"Jeggings\": \"Jeggings\", \"Jodhpurs\": \"Jodhpurs\",\n",
    "    \"Joggers\": \"Joggers\", \"Leggings\": \"Leggings\", \"Sarong\": \"Sarong\",\n",
    "    \"Shorts\": \"Shorts\", \"Skirt\": \"Skirt\", \"Sweatpants\": \"Sweatpants\",\n",
    "    \"Sweatshorts\": \"Sweatshorts\", \"Trunks\": \"Trunks\", \"Caftan\": \"Caftan\",\n",
    "    \"Cape\": \"Cape\", \"Coat\": \"Coat\", \"Coverup\": \"Coverup\", \"Dress\": \"Dress\",\n",
    "    \"Jumpsuit\": \"Jumpsuit\", \"Kaftan\": \"Kaftan\", \"Kimono\": \"Kimono\",\n",
    "    \"Nightdress\": \"Nightdress\", \"Onesie\": \"Onesie\", \"Robe\": \"Robe\",\n",
    "    \"Romper\": \"Romper\", \"Shirtdress\": \"Shirtdress\", \"Sundress\": \"Sundress\"\n",
    "}\n",
    "\n",
    "print(len(items_dict.keys()))\n",
    "print(base_accuracy('categories.csv', items_dict))"
   ]
  }
 ],
 "metadata": {
  "kernelspec": {
   "display_name": "NBAML",
   "language": "python",
   "name": "python3"
  },
  "language_info": {
   "codemirror_mode": {
    "name": "ipython",
    "version": 3
   },
   "file_extension": ".py",
   "mimetype": "text/x-python",
   "name": "python",
   "nbconvert_exporter": "python",
   "pygments_lexer": "ipython3",
   "version": "3.10.13"
  }
 },
 "nbformat": 4,
 "nbformat_minor": 2
}
